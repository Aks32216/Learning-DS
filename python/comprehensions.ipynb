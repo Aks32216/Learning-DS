{
 "cells": [
  {
   "cell_type": "code",
   "execution_count": 1,
   "id": "15644594-82c2-473c-93d9-1d0c3d172130",
   "metadata": {},
   "outputs": [],
   "source": [
    "l=[1,2,3,4,5,55,554,33]"
   ]
  },
  {
   "cell_type": "code",
   "execution_count": 5,
   "id": "79594982-502d-4455-9d3d-f28810545ac8",
   "metadata": {},
   "outputs": [
    {
     "data": {
      "text/plain": [
       "[2, 4, 6, 8, 10, 110, 1108, 66]"
      ]
     },
     "execution_count": 5,
     "metadata": {},
     "output_type": "execute_result"
    }
   ],
   "source": [
    "[i*2 for i in l]"
   ]
  },
  {
   "cell_type": "code",
   "execution_count": 6,
   "id": "7b0814bb-992b-4e3c-9c37-25268c5017aa",
   "metadata": {},
   "outputs": [
    {
     "data": {
      "text/plain": [
       "[False, True, False, True, False, False, True, False]"
      ]
     },
     "execution_count": 6,
     "metadata": {},
     "output_type": "execute_result"
    }
   ],
   "source": [
    "[i%2==0 for i in l]"
   ]
  },
  {
   "cell_type": "code",
   "execution_count": 8,
   "id": "d7abc0ea-535e-4c7a-8add-b2aa0d08009d",
   "metadata": {},
   "outputs": [
    {
     "data": {
      "text/plain": [
       "[2, 4, 554]"
      ]
     },
     "execution_count": 8,
     "metadata": {},
     "output_type": "execute_result"
    }
   ],
   "source": [
    "[i for i in l if i%2==0]"
   ]
  },
  {
   "cell_type": "code",
   "execution_count": 10,
   "id": "4b2b205e-94b0-4783-83d3-230bd47ba4f2",
   "metadata": {},
   "outputs": [],
   "source": [
    "l1=['amish','kumar','singh','ashish','ritesh','suraj']"
   ]
  },
  {
   "cell_type": "code",
   "execution_count": 11,
   "id": "f5bfb798-16c3-4279-8d1f-7e6834d42377",
   "metadata": {},
   "outputs": [
    {
     "data": {
      "text/plain": [
       "['Amish', 'Kumar', 'Singh', 'Ashish', 'Ritesh', 'Suraj']"
      ]
     },
     "execution_count": 11,
     "metadata": {},
     "output_type": "execute_result"
    }
   ],
   "source": [
    "[i.capitalize() for i in l1]"
   ]
  },
  {
   "cell_type": "code",
   "execution_count": 12,
   "id": "fbc045a1-5e64-490d-b26f-701401edd776",
   "metadata": {},
   "outputs": [
    {
     "data": {
      "text/plain": [
       "['Amish', 'Kumar', 'Singh', 'Ashish', 'Ritesh', 'Suraj']"
      ]
     },
     "execution_count": 12,
     "metadata": {},
     "output_type": "execute_result"
    }
   ],
   "source": [
    "[i.title() for i in l1]"
   ]
  },
  {
   "cell_type": "code",
   "execution_count": 13,
   "id": "6d7846f3-6931-489d-8f24-945b08a48c21",
   "metadata": {},
   "outputs": [
    {
     "data": {
      "text/plain": [
       "['amish', 'kumar', 'singh', 'ashish', 'ritesh', 'suraj']"
      ]
     },
     "execution_count": 13,
     "metadata": {},
     "output_type": "execute_result"
    }
   ],
   "source": [
    "[i for i in l1]"
   ]
  },
  {
   "cell_type": "code",
   "execution_count": 15,
   "id": "ed806428-6f11-40a5-8855-136d43a5dfe0",
   "metadata": {},
   "outputs": [
    {
     "data": {
      "text/plain": [
       "['AMISH', 'KUMAR', 'SINGH', 'ASHISH', 'RITESH', 'SURAJ']"
      ]
     },
     "execution_count": 15,
     "metadata": {},
     "output_type": "execute_result"
    }
   ],
   "source": [
    "[i.upper() for i in l1]"
   ]
  },
  {
   "cell_type": "code",
   "execution_count": 24,
   "id": "f4997493-3fe2-4e74-9189-72c63a282e58",
   "metadata": {},
   "outputs": [],
   "source": [
    "d={'name':1,'email':2,'class':12,'neg':-22,'pos':-222}"
   ]
  },
  {
   "cell_type": "code",
   "execution_count": 22,
   "id": "86f4ad57-feee-4039-ada3-1c411c36b784",
   "metadata": {},
   "outputs": [
    {
     "data": {
      "text/plain": [
       "{'name': 1, 'email': 4, 'class': 144}"
      ]
     },
     "execution_count": 22,
     "metadata": {},
     "output_type": "execute_result"
    }
   ],
   "source": [
    "{k:v**2 for k,v in d.items()}"
   ]
  },
  {
   "cell_type": "code",
   "execution_count": 23,
   "id": "50ff28c6-091a-4c28-9367-83bba2da27ff",
   "metadata": {},
   "outputs": [
    {
     "data": {
      "text/plain": [
       "{1, 4, 144}"
      ]
     },
     "execution_count": 23,
     "metadata": {},
     "output_type": "execute_result"
    }
   ],
   "source": [
    "{i**2 for i in d.values()}"
   ]
  },
  {
   "cell_type": "code",
   "execution_count": 25,
   "id": "0a04bf94-16bc-44a6-995d-518b568194ed",
   "metadata": {},
   "outputs": [
    {
     "data": {
      "text/plain": [
       "{'name': 1, 'email': 2, 'class': 12}"
      ]
     },
     "execution_count": 25,
     "metadata": {},
     "output_type": "execute_result"
    }
   ],
   "source": [
    "{k:v for k,v in d.items() if v>0}"
   ]
  },
  {
   "cell_type": "code",
   "execution_count": null,
   "id": "8f44d9ba-dd52-4095-bbc5-c10679d597df",
   "metadata": {},
   "outputs": [],
   "source": []
  }
 ],
 "metadata": {
  "kernelspec": {
   "display_name": "Python 3 (ipykernel)",
   "language": "python",
   "name": "python3"
  },
  "language_info": {
   "codemirror_mode": {
    "name": "ipython",
    "version": 3
   },
   "file_extension": ".py",
   "mimetype": "text/x-python",
   "name": "python",
   "nbconvert_exporter": "python",
   "pygments_lexer": "ipython3",
   "version": "3.10.8"
  }
 },
 "nbformat": 4,
 "nbformat_minor": 5
}
