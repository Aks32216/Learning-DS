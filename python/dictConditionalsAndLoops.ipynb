{
 "cells": [
  {
   "cell_type": "code",
   "execution_count": 1,
   "id": "2535bf09-d05f-4682-b5dd-af3c60e66a1f",
   "metadata": {},
   "outputs": [],
   "source": [
    "## dictionary"
   ]
  },
  {
   "cell_type": "code",
   "execution_count": 3,
   "id": "9a0d6744-2a3e-455e-a06a-fc3d005413c9",
   "metadata": {},
   "outputs": [],
   "source": [
    "a={1,2,3,4,(1,2,3)}"
   ]
  },
  {
   "cell_type": "code",
   "execution_count": 4,
   "id": "efbc0da0-6eed-4660-9c24-428b15e1b602",
   "metadata": {},
   "outputs": [
    {
     "data": {
      "text/plain": [
       "{(1, 2, 3), 1, 2, 3, 4}"
      ]
     },
     "execution_count": 4,
     "metadata": {},
     "output_type": "execute_result"
    }
   ],
   "source": [
    "a"
   ]
  },
  {
   "cell_type": "code",
   "execution_count": 5,
   "id": "f70d5226-58ae-46e5-9d2f-599fb5485788",
   "metadata": {},
   "outputs": [
    {
     "data": {
      "text/plain": [
       "140680849430496"
      ]
     },
     "execution_count": 5,
     "metadata": {},
     "output_type": "execute_result"
    }
   ],
   "source": [
    "id(a)"
   ]
  },
  {
   "cell_type": "code",
   "execution_count": 6,
   "id": "039f4186-4039-47cd-b7ee-eee6ddc185a2",
   "metadata": {},
   "outputs": [
    {
     "data": {
      "text/plain": [
       "set"
      ]
     },
     "execution_count": 6,
     "metadata": {},
     "output_type": "execute_result"
    }
   ],
   "source": [
    "type(a)"
   ]
  },
  {
   "cell_type": "code",
   "execution_count": 7,
   "id": "552099ee-3e3b-492d-ae5e-885b38d6db67",
   "metadata": {},
   "outputs": [],
   "source": [
    "del(a)"
   ]
  },
  {
   "cell_type": "code",
   "execution_count": 8,
   "id": "340cb510-46ed-46fe-99bd-204fe6466af7",
   "metadata": {},
   "outputs": [
    {
     "ename": "NameError",
     "evalue": "name 'a' is not defined",
     "output_type": "error",
     "traceback": [
      "\u001b[0;31m---------------------------------------------------------------------------\u001b[0m",
      "\u001b[0;31mNameError\u001b[0m                                 Traceback (most recent call last)",
      "Cell \u001b[0;32mIn[8], line 1\u001b[0m\n\u001b[0;32m----> 1\u001b[0m \u001b[43ma\u001b[49m\n",
      "\u001b[0;31mNameError\u001b[0m: name 'a' is not defined"
     ]
    }
   ],
   "source": [
    "a"
   ]
  },
  {
   "cell_type": "code",
   "execution_count": 9,
   "id": "a55f4bcd-28ea-4d2b-b66c-c22d6de7fd5f",
   "metadata": {},
   "outputs": [],
   "source": [
    "d={}"
   ]
  },
  {
   "cell_type": "code",
   "execution_count": 10,
   "id": "93e1d317-c7bf-41f9-a2f7-d616c657ef2e",
   "metadata": {},
   "outputs": [
    {
     "data": {
      "text/plain": [
       "dict"
      ]
     },
     "execution_count": 10,
     "metadata": {},
     "output_type": "execute_result"
    }
   ],
   "source": [
    "type(d)"
   ]
  },
  {
   "cell_type": "code",
   "execution_count": 11,
   "id": "6e8129c6-918d-4cd7-8e75-140a6b306134",
   "metadata": {},
   "outputs": [],
   "source": [
    "d1={\"key\":\"amish\"}"
   ]
  },
  {
   "cell_type": "code",
   "execution_count": 12,
   "id": "34e06c11-c086-4e0a-a25c-3f55fb333915",
   "metadata": {},
   "outputs": [
    {
     "data": {
      "text/plain": [
       "{'key': 'amish'}"
      ]
     },
     "execution_count": 12,
     "metadata": {},
     "output_type": "execute_result"
    }
   ],
   "source": [
    "d1"
   ]
  },
  {
   "cell_type": "code",
   "execution_count": 13,
   "id": "5ec08cf9-9c5d-485d-bec4-8591b839c835",
   "metadata": {},
   "outputs": [
    {
     "ename": "AttributeError",
     "evalue": "'dict' object has no attribute 'key'",
     "output_type": "error",
     "traceback": [
      "\u001b[0;31m---------------------------------------------------------------------------\u001b[0m",
      "\u001b[0;31mAttributeError\u001b[0m                            Traceback (most recent call last)",
      "Cell \u001b[0;32mIn[13], line 1\u001b[0m\n\u001b[0;32m----> 1\u001b[0m \u001b[43md1\u001b[49m\u001b[38;5;241;43m.\u001b[39;49m\u001b[43mkey\u001b[49m\n",
      "\u001b[0;31mAttributeError\u001b[0m: 'dict' object has no attribute 'key'"
     ]
    }
   ],
   "source": [
    "d1.key"
   ]
  },
  {
   "cell_type": "code",
   "execution_count": 14,
   "id": "c99cf263-80b0-4eb0-a4a3-110918545367",
   "metadata": {},
   "outputs": [
    {
     "data": {
      "text/plain": [
       "'amish'"
      ]
     },
     "execution_count": 14,
     "metadata": {},
     "output_type": "execute_result"
    }
   ],
   "source": [
    "d1['key']"
   ]
  },
  {
   "cell_type": "code",
   "execution_count": 15,
   "id": "dd64f188-0504-4f46-b7c7-db9cde16905a",
   "metadata": {},
   "outputs": [],
   "source": [
    "d2={'name':\"amish\",'email':'amish@gmail.com','number':12345,'symbol':54+45j,'age':[1,2,3,4,5]}"
   ]
  },
  {
   "cell_type": "code",
   "execution_count": 16,
   "id": "63d44e69-c5ce-4878-93c4-5dc695b01513",
   "metadata": {},
   "outputs": [
    {
     "data": {
      "text/plain": [
       "{'name': 'amish',\n",
       " 'email': 'amish@gmail.com',\n",
       " 'number': 12345,\n",
       " 'symbol': (54+45j),\n",
       " 'age': [1, 2, 3, 4, 5]}"
      ]
     },
     "execution_count": 16,
     "metadata": {},
     "output_type": "execute_result"
    }
   ],
   "source": [
    "d2"
   ]
  },
  {
   "cell_type": "code",
   "execution_count": 18,
   "id": "c7e866f4-799d-460c-b96b-c8e71f6c6763",
   "metadata": {},
   "outputs": [],
   "source": [
    "d3={243:'amihs',(1,2,3,4):\"anshu\"}"
   ]
  },
  {
   "cell_type": "code",
   "execution_count": 19,
   "id": "7f841cc3-2d09-4f40-a92b-3bb666279ba6",
   "metadata": {},
   "outputs": [
    {
     "data": {
      "text/plain": [
       "{243: 'amihs', (1, 2, 3, 4): 'anshu'}"
      ]
     },
     "execution_count": 19,
     "metadata": {},
     "output_type": "execute_result"
    }
   ],
   "source": [
    "d3"
   ]
  },
  {
   "cell_type": "code",
   "execution_count": 20,
   "id": "41150d5d-efa9-436f-9ff9-b02a882655cc",
   "metadata": {},
   "outputs": [
    {
     "ename": "TypeError",
     "evalue": "unhashable type: 'set'",
     "output_type": "error",
     "traceback": [
      "\u001b[0;31m---------------------------------------------------------------------------\u001b[0m",
      "\u001b[0;31mTypeError\u001b[0m                                 Traceback (most recent call last)",
      "Cell \u001b[0;32mIn[20], line 1\u001b[0m\n\u001b[0;32m----> 1\u001b[0m d4\u001b[38;5;241m=\u001b[39m{{\u001b[38;5;241m1\u001b[39m,\u001b[38;5;241m2\u001b[39m,\u001b[38;5;241m3\u001b[39m,\u001b[38;5;241m4\u001b[39m}:\u001b[38;5;124m\"\u001b[39m\u001b[38;5;124mamihs\u001b[39m\u001b[38;5;124m\"\u001b[39m}\n",
      "\u001b[0;31mTypeError\u001b[0m: unhashable type: 'set'"
     ]
    }
   ],
   "source": [
    "d4={{1,2,3,4}:\"amihs\"}"
   ]
  },
  {
   "cell_type": "code",
   "execution_count": 21,
   "id": "12e57ebd-023e-4140-8997-4dbce1e4c957",
   "metadata": {},
   "outputs": [
    {
     "data": {
      "text/plain": [
       "{'key': 'amish'}"
      ]
     },
     "execution_count": 21,
     "metadata": {},
     "output_type": "execute_result"
    }
   ],
   "source": [
    "d1"
   ]
  },
  {
   "cell_type": "code",
   "execution_count": 22,
   "id": "21d61f4c-8a80-495a-9f62-fdb731b3f06e",
   "metadata": {},
   "outputs": [
    {
     "data": {
      "text/plain": [
       "{'name': 'amish',\n",
       " 'email': 'amish@gmail.com',\n",
       " 'number': 12345,\n",
       " 'symbol': (54+45j),\n",
       " 'age': [1, 2, 3, 4, 5]}"
      ]
     },
     "execution_count": 22,
     "metadata": {},
     "output_type": "execute_result"
    }
   ],
   "source": [
    "d2"
   ]
  },
  {
   "cell_type": "code",
   "execution_count": 23,
   "id": "b38d0177-084a-4d97-b7bf-292b915bcd19",
   "metadata": {},
   "outputs": [
    {
     "data": {
      "text/plain": [
       "{243: 'amihs', (1, 2, 3, 4): 'anshu'}"
      ]
     },
     "execution_count": 23,
     "metadata": {},
     "output_type": "execute_result"
    }
   ],
   "source": [
    "d3"
   ]
  },
  {
   "cell_type": "code",
   "execution_count": 24,
   "id": "389d4bdf-8408-48ed-9031-67a1fc850a9a",
   "metadata": {},
   "outputs": [
    {
     "data": {
      "text/plain": [
       "'amihs'"
      ]
     },
     "execution_count": 24,
     "metadata": {},
     "output_type": "execute_result"
    }
   ],
   "source": [
    "d3[243]"
   ]
  },
  {
   "cell_type": "code",
   "execution_count": 25,
   "id": "5a9f932d-f142-4f60-91a4-eb74b364e843",
   "metadata": {},
   "outputs": [
    {
     "data": {
      "text/plain": [
       "'anshu'"
      ]
     },
     "execution_count": 25,
     "metadata": {},
     "output_type": "execute_result"
    }
   ],
   "source": [
    "d3[(1,2,3,4)]"
   ]
  },
  {
   "cell_type": "code",
   "execution_count": 26,
   "id": "35497452-8779-4a28-a0ad-3ada1dfd4718",
   "metadata": {},
   "outputs": [
    {
     "ename": "KeyError",
     "evalue": "1234",
     "output_type": "error",
     "traceback": [
      "\u001b[0;31m---------------------------------------------------------------------------\u001b[0m",
      "\u001b[0;31mKeyError\u001b[0m                                  Traceback (most recent call last)",
      "Cell \u001b[0;32mIn[26], line 1\u001b[0m\n\u001b[0;32m----> 1\u001b[0m \u001b[43md3\u001b[49m\u001b[43m[\u001b[49m\u001b[38;5;241;43m1234\u001b[39;49m\u001b[43m]\u001b[49m\n",
      "\u001b[0;31mKeyError\u001b[0m: 1234"
     ]
    }
   ],
   "source": [
    "d3[1234]"
   ]
  },
  {
   "cell_type": "code",
   "execution_count": 27,
   "id": "eb180177-5b21-4ea5-b907-1bda91240de1",
   "metadata": {},
   "outputs": [],
   "source": [
    "d3[243]='anshu'"
   ]
  },
  {
   "cell_type": "code",
   "execution_count": 28,
   "id": "d3d73aa4-0762-49fd-ba8a-9a28e25f2767",
   "metadata": {},
   "outputs": [
    {
     "data": {
      "text/plain": [
       "{243: 'anshu', (1, 2, 3, 4): 'anshu'}"
      ]
     },
     "execution_count": 28,
     "metadata": {},
     "output_type": "execute_result"
    }
   ],
   "source": [
    "d3"
   ]
  },
  {
   "cell_type": "code",
   "execution_count": 29,
   "id": "435be968-20e2-47b8-8e1d-95d86d89e380",
   "metadata": {},
   "outputs": [],
   "source": [
    "d4={'name':'amish','mail_id':'amish@gmail.com','name':'golu'}\n"
   ]
  },
  {
   "cell_type": "code",
   "execution_count": 30,
   "id": "3326bb89-2083-4181-b94c-36633c706cee",
   "metadata": {},
   "outputs": [
    {
     "data": {
      "text/plain": [
       "{'name': 'golu', 'mail_id': 'amish@gmail.com'}"
      ]
     },
     "execution_count": 30,
     "metadata": {},
     "output_type": "execute_result"
    }
   ],
   "source": [
    "d4"
   ]
  },
  {
   "cell_type": "code",
   "execution_count": 32,
   "id": "0c38efcc-6c8c-4966-ac6c-8086607168ea",
   "metadata": {},
   "outputs": [],
   "source": [
    "d5={'number':[1,2,3,4,5],'assignment':(1,3,4,5),'l_d':{1,2,3,4}} "
   ]
  },
  {
   "cell_type": "markdown",
   "id": "84ecce62-1459-45f8-8afb-9e2841cd35f1",
   "metadata": {},
   "source": [
    "d5"
   ]
  },
  {
   "cell_type": "code",
   "execution_count": 33,
   "id": "53d0f011-e5ef-41ce-967c-0c4da8aca704",
   "metadata": {},
   "outputs": [
    {
     "data": {
      "text/plain": [
       "{'number': [1, 2, 3, 4, 5], 'assignment': (1, 3, 4, 5), 'l_d': {1, 2, 3, 4}}"
      ]
     },
     "execution_count": 33,
     "metadata": {},
     "output_type": "execute_result"
    }
   ],
   "source": [
    "d5"
   ]
  },
  {
   "cell_type": "code",
   "execution_count": 38,
   "id": "1409c2e3-6793-45a1-9316-b09582e52ecb",
   "metadata": {},
   "outputs": [
    {
     "ename": "TypeError",
     "evalue": "unhashable type: 'dict'",
     "output_type": "error",
     "traceback": [
      "\u001b[0;31m---------------------------------------------------------------------------\u001b[0m",
      "\u001b[0;31mTypeError\u001b[0m                                 Traceback (most recent call last)",
      "Cell \u001b[0;32mIn[38], line 1\u001b[0m\n\u001b[0;32m----> 1\u001b[0m d6\u001b[38;5;241m=\u001b[39m{{\u001b[38;5;241m1\u001b[39m:\u001b[38;5;241m2\u001b[39m,\u001b[38;5;241m3\u001b[39m:\u001b[38;5;241m4\u001b[39m}:\u001b[38;5;124m'\u001b[39m\u001b[38;5;124mamihs\u001b[39m\u001b[38;5;124m'\u001b[39m}\n",
      "\u001b[0;31mTypeError\u001b[0m: unhashable type: 'dict'"
     ]
    }
   ],
   "source": [
    "d6={{1:2,3:4}:'amihs'}"
   ]
  },
  {
   "cell_type": "code",
   "execution_count": 36,
   "id": "635efc21-9136-4f1e-bc23-cbc5254bd92f",
   "metadata": {},
   "outputs": [
    {
     "data": {
      "text/plain": [
       "{(1, 2, 3, 4): 'amihs'}"
      ]
     },
     "execution_count": 36,
     "metadata": {},
     "output_type": "execute_result"
    }
   ],
   "source": [
    "d6"
   ]
  },
  {
   "cell_type": "code",
   "execution_count": 39,
   "id": "373cef46-9154-4eaf-ab8d-ad85ab1111df",
   "metadata": {},
   "outputs": [
    {
     "data": {
      "text/plain": [
       "{'number': [1, 2, 3, 4, 5], 'assignment': (1, 3, 4, 5), 'l_d': {1, 2, 3, 4}}"
      ]
     },
     "execution_count": 39,
     "metadata": {},
     "output_type": "execute_result"
    }
   ],
   "source": [
    "d5"
   ]
  },
  {
   "cell_type": "code",
   "execution_count": 40,
   "id": "2926bb9d-d74c-4da9-88ac-0c8b35ad6cdb",
   "metadata": {},
   "outputs": [],
   "source": [
    "d5['mentor']=['sudh','krish','anurag','hayder']"
   ]
  },
  {
   "cell_type": "code",
   "execution_count": 41,
   "id": "7a97c437-c2f7-4c69-866d-bd4be395eff9",
   "metadata": {},
   "outputs": [
    {
     "data": {
      "text/plain": [
       "{'number': [1, 2, 3, 4, 5],\n",
       " 'assignment': (1, 3, 4, 5),\n",
       " 'l_d': {1, 2, 3, 4},\n",
       " 'mentor': ['sudh', 'krish', 'anurag', 'hayder']}"
      ]
     },
     "execution_count": 41,
     "metadata": {},
     "output_type": "execute_result"
    }
   ],
   "source": [
    "d5"
   ]
  },
  {
   "cell_type": "code",
   "execution_count": 42,
   "id": "0fc9b9dd-686e-40dc-8d34-7d3d8d07b6ca",
   "metadata": {},
   "outputs": [
    {
     "ename": "KeyError",
     "evalue": "'amish'",
     "output_type": "error",
     "traceback": [
      "\u001b[0;31m---------------------------------------------------------------------------\u001b[0m",
      "\u001b[0;31mKeyError\u001b[0m                                  Traceback (most recent call last)",
      "Cell \u001b[0;32mIn[42], line 1\u001b[0m\n\u001b[0;32m----> 1\u001b[0m \u001b[43md5\u001b[49m\u001b[43m[\u001b[49m\u001b[38;5;124;43m'\u001b[39;49m\u001b[38;5;124;43mamish\u001b[39;49m\u001b[38;5;124;43m'\u001b[39;49m\u001b[43m]\u001b[49m\n",
      "\u001b[0;31mKeyError\u001b[0m: 'amish'"
     ]
    }
   ],
   "source": [
    "d5['amish']"
   ]
  },
  {
   "cell_type": "code",
   "execution_count": 43,
   "id": "b6d5dd74-7cab-41d9-b626-0b729e060ec0",
   "metadata": {},
   "outputs": [
    {
     "data": {
      "text/plain": [
       "{'number': [1, 2, 3, 4, 5],\n",
       " 'assignment': (1, 3, 4, 5),\n",
       " 'l_d': {1, 2, 3, 4},\n",
       " 'mentor': ['sudh', 'krish', 'anurag', 'hayder']}"
      ]
     },
     "execution_count": 43,
     "metadata": {},
     "output_type": "execute_result"
    }
   ],
   "source": [
    "d5"
   ]
  },
  {
   "cell_type": "code",
   "execution_count": 44,
   "id": "c2b1c749-5296-4673-9ae4-ef29b8698f3d",
   "metadata": {},
   "outputs": [],
   "source": [
    "del d5['number']"
   ]
  },
  {
   "cell_type": "code",
   "execution_count": 45,
   "id": "0f0a65a5-ab72-4d6c-b45e-8ee64e07830b",
   "metadata": {},
   "outputs": [
    {
     "data": {
      "text/plain": [
       "{'assignment': (1, 3, 4, 5),\n",
       " 'l_d': {1, 2, 3, 4},\n",
       " 'mentor': ['sudh', 'krish', 'anurag', 'hayder']}"
      ]
     },
     "execution_count": 45,
     "metadata": {},
     "output_type": "execute_result"
    }
   ],
   "source": [
    "d5"
   ]
  },
  {
   "cell_type": "code",
   "execution_count": 46,
   "id": "04f7145e-7e55-4317-b07f-2f880e792c41",
   "metadata": {},
   "outputs": [],
   "source": [
    "a=12"
   ]
  },
  {
   "cell_type": "code",
   "execution_count": 47,
   "id": "1b002e5b-5fcb-4ee2-84db-40db576a4245",
   "metadata": {},
   "outputs": [
    {
     "data": {
      "text/plain": [
       "12"
      ]
     },
     "execution_count": 47,
     "metadata": {},
     "output_type": "execute_result"
    }
   ],
   "source": [
    "a\n"
   ]
  },
  {
   "cell_type": "code",
   "execution_count": 48,
   "id": "6cb8f38f-8959-4250-8a68-6af389bf42ad",
   "metadata": {},
   "outputs": [],
   "source": [
    "del a"
   ]
  },
  {
   "cell_type": "code",
   "execution_count": 49,
   "id": "11be4941-be0f-4227-987d-4d847128b853",
   "metadata": {},
   "outputs": [
    {
     "ename": "NameError",
     "evalue": "name 'a' is not defined",
     "output_type": "error",
     "traceback": [
      "\u001b[0;31m---------------------------------------------------------------------------\u001b[0m",
      "\u001b[0;31mNameError\u001b[0m                                 Traceback (most recent call last)",
      "Cell \u001b[0;32mIn[49], line 1\u001b[0m\n\u001b[0;32m----> 1\u001b[0m \u001b[43ma\u001b[49m\n",
      "\u001b[0;31mNameError\u001b[0m: name 'a' is not defined"
     ]
    }
   ],
   "source": [
    "a\n"
   ]
  },
  {
   "cell_type": "code",
   "execution_count": 50,
   "id": "b5119201-410b-46b6-8319-d155d01ca9cc",
   "metadata": {},
   "outputs": [
    {
     "data": {
      "text/plain": [
       "{'assignment': (1, 3, 4, 5),\n",
       " 'l_d': {1, 2, 3, 4},\n",
       " 'mentor': ['sudh', 'krish', 'anurag', 'hayder']}"
      ]
     },
     "execution_count": 50,
     "metadata": {},
     "output_type": "execute_result"
    }
   ],
   "source": [
    "d5"
   ]
  },
  {
   "cell_type": "code",
   "execution_count": 51,
   "id": "b9e0ffdb-3f33-4fba-ba2d-9d40d178e1d3",
   "metadata": {},
   "outputs": [
    {
     "data": {
      "text/plain": [
       "dict_keys(['assignment', 'l_d', 'mentor'])"
      ]
     },
     "execution_count": 51,
     "metadata": {},
     "output_type": "execute_result"
    }
   ],
   "source": [
    "d5.keys()"
   ]
  },
  {
   "cell_type": "code",
   "execution_count": 52,
   "id": "3cf2c4d6-c983-479a-941f-a7f2ffbb088d",
   "metadata": {},
   "outputs": [
    {
     "data": {
      "text/plain": [
       "['assignment', 'l_d', 'mentor']"
      ]
     },
     "execution_count": 52,
     "metadata": {},
     "output_type": "execute_result"
    }
   ],
   "source": [
    "list(d5.keys())"
   ]
  },
  {
   "cell_type": "code",
   "execution_count": 53,
   "id": "542f9d1c-e197-4aca-8c00-4efd4b1e87a9",
   "metadata": {},
   "outputs": [
    {
     "data": {
      "text/plain": [
       "[(1, 3, 4, 5), {1, 2, 3, 4}, ['sudh', 'krish', 'anurag', 'hayder']]"
      ]
     },
     "execution_count": 53,
     "metadata": {},
     "output_type": "execute_result"
    }
   ],
   "source": [
    "list(d5.values())"
   ]
  },
  {
   "cell_type": "code",
   "execution_count": 54,
   "id": "2d293241-4aba-4e31-b36d-4008336c1777",
   "metadata": {},
   "outputs": [
    {
     "data": {
      "text/plain": [
       "dict_items([('assignment', (1, 3, 4, 5)), ('l_d', {1, 2, 3, 4}), ('mentor', ['sudh', 'krish', 'anurag', 'hayder'])])"
      ]
     },
     "execution_count": 54,
     "metadata": {},
     "output_type": "execute_result"
    }
   ],
   "source": [
    "d5.items()"
   ]
  },
  {
   "cell_type": "code",
   "execution_count": 55,
   "id": "ce25d15b-7343-40be-98c9-00bcfebbf16e",
   "metadata": {},
   "outputs": [],
   "source": [
    "l=list(d5.items())"
   ]
  },
  {
   "cell_type": "code",
   "execution_count": 56,
   "id": "b435199e-6367-43c4-80a2-3d30459929c1",
   "metadata": {},
   "outputs": [
    {
     "data": {
      "text/plain": [
       "[('assignment', (1, 3, 4, 5)),\n",
       " ('l_d', {1, 2, 3, 4}),\n",
       " ('mentor', ['sudh', 'krish', 'anurag', 'hayder'])]"
      ]
     },
     "execution_count": 56,
     "metadata": {},
     "output_type": "execute_result"
    }
   ],
   "source": [
    "l"
   ]
  },
  {
   "cell_type": "code",
   "execution_count": 57,
   "id": "b97a38d8-db32-4bf8-b24c-f9806f9b021f",
   "metadata": {},
   "outputs": [
    {
     "data": {
      "text/plain": [
       "('assignment', (1, 3, 4, 5))"
      ]
     },
     "execution_count": 57,
     "metadata": {},
     "output_type": "execute_result"
    }
   ],
   "source": [
    "l[0]"
   ]
  },
  {
   "cell_type": "code",
   "execution_count": 58,
   "id": "3c87b37b-60bf-4146-81d3-2f4f1703123f",
   "metadata": {},
   "outputs": [
    {
     "data": {
      "text/plain": [
       "'assignment'"
      ]
     },
     "execution_count": 58,
     "metadata": {},
     "output_type": "execute_result"
    }
   ],
   "source": [
    "l[0][0]"
   ]
  },
  {
   "cell_type": "code",
   "execution_count": 59,
   "id": "8740a104-31e3-48f8-a09a-046a13f334a1",
   "metadata": {},
   "outputs": [
    {
     "data": {
      "text/plain": [
       "(1, 3, 4, 5)"
      ]
     },
     "execution_count": 59,
     "metadata": {},
     "output_type": "execute_result"
    }
   ],
   "source": [
    "l[0][1]"
   ]
  },
  {
   "cell_type": "code",
   "execution_count": 61,
   "id": "fcfc953d-7cc5-4072-9249-2d8a2ebf358d",
   "metadata": {},
   "outputs": [
    {
     "data": {
      "text/plain": [
       "(1, 3, 4, 5)"
      ]
     },
     "execution_count": 61,
     "metadata": {},
     "output_type": "execute_result"
    }
   ],
   "source": [
    "d5.pop('assignment')"
   ]
  },
  {
   "cell_type": "code",
   "execution_count": null,
   "id": "de9019c2-6f57-4aad-b430-5306e1327442",
   "metadata": {},
   "outputs": [],
   "source": []
  },
  {
   "cell_type": "code",
   "execution_count": 62,
   "id": "d48e69de-3a87-4a57-89ef-0b5bb54d0935",
   "metadata": {},
   "outputs": [
    {
     "data": {
      "text/plain": [
       "{'l_d': {1, 2, 3, 4}, 'mentor': ['sudh', 'krish', 'anurag', 'hayder']}"
      ]
     },
     "execution_count": 62,
     "metadata": {},
     "output_type": "execute_result"
    }
   ],
   "source": [
    "d5"
   ]
  },
  {
   "cell_type": "code",
   "execution_count": 63,
   "id": "da7342ca-ecb6-4ae9-87f6-16d0d6db29f8",
   "metadata": {},
   "outputs": [],
   "source": [
    "## control or decision statement"
   ]
  },
  {
   "cell_type": "code",
   "execution_count": 64,
   "id": "c4be6554-2c7a-40b7-847e-cf2c0ee84d51",
   "metadata": {},
   "outputs": [
    {
     "data": {
      "text/plain": [
       "625"
      ]
     },
     "execution_count": 64,
     "metadata": {},
     "output_type": "execute_result"
    }
   ],
   "source": [
    "5**4"
   ]
  },
  {
   "cell_type": "code",
   "execution_count": 65,
   "id": "e82e6d09-1dac-4ccf-a943-4daf229a3cbd",
   "metadata": {},
   "outputs": [
    {
     "data": {
      "text/plain": [
       "1"
      ]
     },
     "execution_count": 65,
     "metadata": {},
     "output_type": "execute_result"
    }
   ],
   "source": [
    "5%4"
   ]
  },
  {
   "cell_type": "code",
   "execution_count": 66,
   "id": "3bd7dc55-6d88-402d-82b5-d3584fbe2269",
   "metadata": {},
   "outputs": [
    {
     "data": {
      "text/plain": [
       "1"
      ]
     },
     "execution_count": 66,
     "metadata": {},
     "output_type": "execute_result"
    }
   ],
   "source": [
    "5^4"
   ]
  },
  {
   "cell_type": "code",
   "execution_count": 67,
   "id": "c459de23-8568-46c9-b3ea-5a31157471fb",
   "metadata": {},
   "outputs": [
    {
     "data": {
      "text/plain": [
       "20"
      ]
     },
     "execution_count": 67,
     "metadata": {},
     "output_type": "execute_result"
    }
   ],
   "source": [
    "5*4"
   ]
  },
  {
   "cell_type": "code",
   "execution_count": 68,
   "id": "79fe759a-f113-451d-b898-289b74bc4cec",
   "metadata": {},
   "outputs": [
    {
     "data": {
      "text/plain": [
       "1.6666666666666667"
      ]
     },
     "execution_count": 68,
     "metadata": {},
     "output_type": "execute_result"
    }
   ],
   "source": [
    "5/3"
   ]
  },
  {
   "cell_type": "code",
   "execution_count": 69,
   "id": "aa9c3a37-8f84-4c66-9082-ca0199757e69",
   "metadata": {},
   "outputs": [
    {
     "data": {
      "text/plain": [
       "1"
      ]
     },
     "execution_count": 69,
     "metadata": {},
     "output_type": "execute_result"
    }
   ],
   "source": [
    "int(5/3)"
   ]
  },
  {
   "cell_type": "code",
   "execution_count": 70,
   "id": "292d7931-8082-4f2a-8f60-961ef651c380",
   "metadata": {},
   "outputs": [
    {
     "data": {
      "text/plain": [
       "(1.6666666666666667+0j)"
      ]
     },
     "execution_count": 70,
     "metadata": {},
     "output_type": "execute_result"
    }
   ],
   "source": [
    "complex(5/3)"
   ]
  },
  {
   "cell_type": "code",
   "execution_count": 71,
   "id": "a82c282d-1ec3-49f1-a69a-8f395f5cb6a1",
   "metadata": {},
   "outputs": [
    {
     "data": {
      "text/plain": [
       "-1"
      ]
     },
     "execution_count": 71,
     "metadata": {},
     "output_type": "execute_result"
    }
   ],
   "source": [
    "4-5"
   ]
  },
  {
   "cell_type": "code",
   "execution_count": 72,
   "id": "f2a31395-7222-4630-a565-1a867abb8297",
   "metadata": {},
   "outputs": [
    {
     "data": {
      "text/plain": [
       "-32"
      ]
     },
     "execution_count": 72,
     "metadata": {},
     "output_type": "execute_result"
    }
   ],
   "source": [
    "12-44"
   ]
  },
  {
   "cell_type": "code",
   "execution_count": 73,
   "id": "7c8994d8-f832-4c99-bf42-ecd87deeb6b4",
   "metadata": {},
   "outputs": [
    {
     "data": {
      "text/plain": [
       "4"
      ]
     },
     "execution_count": 73,
     "metadata": {},
     "output_type": "execute_result"
    }
   ],
   "source": [
    "4&5"
   ]
  },
  {
   "cell_type": "code",
   "execution_count": 74,
   "id": "05c7ef77-b31d-4699-b200-9f80bbd1cf48",
   "metadata": {},
   "outputs": [
    {
     "data": {
      "text/plain": [
       "5"
      ]
     },
     "execution_count": 74,
     "metadata": {},
     "output_type": "execute_result"
    }
   ],
   "source": [
    "4|5"
   ]
  },
  {
   "cell_type": "code",
   "execution_count": 75,
   "id": "1349678a-34fc-484d-988a-c07d666673c6",
   "metadata": {},
   "outputs": [
    {
     "data": {
      "text/plain": [
       "-5"
      ]
     },
     "execution_count": 75,
     "metadata": {},
     "output_type": "execute_result"
    }
   ],
   "source": [
    "~4"
   ]
  },
  {
   "cell_type": "code",
   "execution_count": 82,
   "id": "9eeb8bd2-877a-4fc8-82ca-91301cb7e806",
   "metadata": {},
   "outputs": [
    {
     "name": "stdout",
     "output_type": "stream",
     "text": [
      "A0\n"
     ]
    }
   ],
   "source": [
    "marks=1000\n",
    "if marks>=80 :\n",
    "    print('A0')\n",
    "elif marks>=60 :\n",
    "    print('A1')\n",
    "elif marks>=40:\n",
    "    print('A2')\n",
    "elif marks>100 or marks<0 :\n",
    "    print('wrong mark')\n",
    "else:\n",
    "    print('A3')"
   ]
  },
  {
   "cell_type": "code",
   "execution_count": 83,
   "id": "5cb59bce-6319-4f7c-9d22-ed8a2f686a18",
   "metadata": {},
   "outputs": [
    {
     "data": {
      "text/plain": [
       "4"
      ]
     },
     "execution_count": 83,
     "metadata": {},
     "output_type": "execute_result"
    }
   ],
   "source": [
    "5 and 4"
   ]
  },
  {
   "cell_type": "code",
   "execution_count": 84,
   "id": "1a3cb221-92a6-4583-a8be-b6bd96e8cb43",
   "metadata": {},
   "outputs": [
    {
     "data": {
      "text/plain": [
       "4"
      ]
     },
     "execution_count": 84,
     "metadata": {},
     "output_type": "execute_result"
    }
   ],
   "source": [
    "4 or 5"
   ]
  },
  {
   "cell_type": "code",
   "execution_count": 85,
   "id": "6600ab7b-c290-49a4-a651-c01ed9c40782",
   "metadata": {},
   "outputs": [
    {
     "data": {
      "text/plain": [
       "5"
      ]
     },
     "execution_count": 85,
     "metadata": {},
     "output_type": "execute_result"
    }
   ],
   "source": [
    "5 or 4"
   ]
  },
  {
   "cell_type": "code",
   "execution_count": 86,
   "id": "4d8cd50e-951f-4d73-bc24-9787b6dd2f56",
   "metadata": {},
   "outputs": [
    {
     "data": {
      "text/plain": [
       "False"
      ]
     },
     "execution_count": 86,
     "metadata": {},
     "output_type": "execute_result"
    }
   ],
   "source": [
    "not  5"
   ]
  },
  {
   "cell_type": "code",
   "execution_count": 88,
   "id": "c8ed11e4-f07b-474f-8c46-15354b931860",
   "metadata": {},
   "outputs": [],
   "source": [
    "## enter value from input"
   ]
  },
  {
   "cell_type": "code",
   "execution_count": 90,
   "id": "592eccef-a656-48e3-9da4-0d410ecce69a",
   "metadata": {},
   "outputs": [
    {
     "name": "stdin",
     "output_type": "stream",
     "text": [
      "enter your marks  65\n"
     ]
    },
    {
     "name": "stdout",
     "output_type": "stream",
     "text": [
      "A1\n"
     ]
    }
   ],
   "source": [
    "marks=int(input('enter your marks '))\n",
    "if marks>=80 :\n",
    "    print('A0')\n",
    "elif marks>=60 :\n",
    "    print('A1')\n",
    "elif marks>=40:\n",
    "    print('A2')\n",
    "elif marks>100 or marks<0 :\n",
    "    print('wrong mark')\n",
    "else:\n",
    "    print('A3')"
   ]
  },
  {
   "cell_type": "code",
   "execution_count": 91,
   "id": "e0f24d70-9c0e-4f80-b4e9-7e005dfd010a",
   "metadata": {},
   "outputs": [
    {
     "name": "stdin",
     "output_type": "stream",
     "text": [
      "enter your value amish\n"
     ]
    },
    {
     "ename": "ValueError",
     "evalue": "complex() arg is a malformed string",
     "output_type": "error",
     "traceback": [
      "\u001b[0;31m---------------------------------------------------------------------------\u001b[0m",
      "\u001b[0;31mValueError\u001b[0m                                Traceback (most recent call last)",
      "Cell \u001b[0;32mIn[91], line 1\u001b[0m\n\u001b[0;32m----> 1\u001b[0m marks\u001b[38;5;241m=\u001b[39m\u001b[38;5;28;43mcomplex\u001b[39;49m\u001b[43m(\u001b[49m\u001b[38;5;28;43minput\u001b[39;49m\u001b[43m(\u001b[49m\u001b[38;5;124;43m'\u001b[39;49m\u001b[38;5;124;43menter your value\u001b[39;49m\u001b[38;5;124;43m'\u001b[39;49m\u001b[43m)\u001b[49m\u001b[43m \u001b[49m\u001b[43m)\u001b[49m\n",
      "\u001b[0;31mValueError\u001b[0m: complex() arg is a malformed string"
     ]
    }
   ],
   "source": [
    "marks=complex(input('enter your value') )"
   ]
  },
  {
   "cell_type": "code",
   "execution_count": 92,
   "id": "9898ea93-d91e-4a8d-88b4-7cd981b1d587",
   "metadata": {},
   "outputs": [
    {
     "name": "stdin",
     "output_type": "stream",
     "text": [
      "amish amish\n"
     ]
    },
    {
     "data": {
      "text/plain": [
       "str"
      ]
     },
     "execution_count": 92,
     "metadata": {},
     "output_type": "execute_result"
    }
   ],
   "source": [
    "type(input('amish'))"
   ]
  },
  {
   "cell_type": "code",
   "execution_count": null,
   "id": "fe8c7c17-d617-4ae3-8d9d-a3fad20c6cd3",
   "metadata": {},
   "outputs": [],
   "source": []
  },
  {
   "cell_type": "code",
   "execution_count": 93,
   "id": "e2a57b5d-d476-471c-a335-b053f6c5c3df",
   "metadata": {},
   "outputs": [
    {
     "name": "stdin",
     "output_type": "stream",
     "text": [
      "enter your array 5 6 5 4 3 32 22\n"
     ]
    }
   ],
   "source": [
    "arr=list(input('enter your array'))"
   ]
  },
  {
   "cell_type": "code",
   "execution_count": 94,
   "id": "7e8532a6-a3be-464d-8e1f-e80ede417490",
   "metadata": {},
   "outputs": [
    {
     "data": {
      "text/plain": [
       "['5', ' ', '6', ' ', '5', ' ', '4', ' ', '3', ' ', '3', '2', ' ', '2', '2']"
      ]
     },
     "execution_count": 94,
     "metadata": {},
     "output_type": "execute_result"
    }
   ],
   "source": [
    "arr"
   ]
  },
  {
   "cell_type": "code",
   "execution_count": 95,
   "id": "6ec44215-7c11-4895-a939-12db3c61a060",
   "metadata": {},
   "outputs": [],
   "source": [
    "del arr"
   ]
  },
  {
   "cell_type": "code",
   "execution_count": 96,
   "id": "ecf18b4b-8e3b-4a28-a778-98e03f62eb4f",
   "metadata": {},
   "outputs": [
    {
     "ename": "NameError",
     "evalue": "name 'arr' is not defined",
     "output_type": "error",
     "traceback": [
      "\u001b[0;31m---------------------------------------------------------------------------\u001b[0m",
      "\u001b[0;31mNameError\u001b[0m                                 Traceback (most recent call last)",
      "Cell \u001b[0;32mIn[96], line 1\u001b[0m\n\u001b[0;32m----> 1\u001b[0m \u001b[43marr\u001b[49m\n",
      "\u001b[0;31mNameError\u001b[0m: name 'arr' is not defined"
     ]
    }
   ],
   "source": [
    "arr"
   ]
  },
  {
   "cell_type": "code",
   "execution_count": 99,
   "id": "f7b3eb10-0e6a-4b67-9dbc-3f91a4e534ca",
   "metadata": {},
   "outputs": [
    {
     "name": "stdin",
     "output_type": "stream",
     "text": [
      "enter your price 10000\n"
     ]
    },
    {
     "name": "stdout",
     "output_type": "stream",
     "text": [
      "i will not purchase\n"
     ]
    }
   ],
   "source": [
    "price=int(input('enter your price'))\n",
    "if price >1000 :\n",
    "        print('i will not purchase')\n",
    "else:\n",
    "    print('i will purchase')"
   ]
  },
  {
   "cell_type": "code",
   "execution_count": 100,
   "id": "1338f1bf-e312-430f-9dad-cff1365353b7",
   "metadata": {},
   "outputs": [],
   "source": [
    "#loops"
   ]
  },
  {
   "cell_type": "code",
   "execution_count": 101,
   "id": "482c0e08-0f49-4941-a653-a3e19a49924b",
   "metadata": {},
   "outputs": [
    {
     "data": {
      "text/plain": [
       "[('assignment', (1, 3, 4, 5)),\n",
       " ('l_d', {1, 2, 3, 4}),\n",
       " ('mentor', ['sudh', 'krish', 'anurag', 'hayder'])]"
      ]
     },
     "execution_count": 101,
     "metadata": {},
     "output_type": "execute_result"
    }
   ],
   "source": [
    "l"
   ]
  },
  {
   "cell_type": "code",
   "execution_count": 102,
   "id": "d4a1e4cc-2603-4879-935b-03cdea346ab5",
   "metadata": {},
   "outputs": [],
   "source": [
    "m=[1,2,3,4,5,6,3,3,2,3,4,5]"
   ]
  },
  {
   "cell_type": "code",
   "execution_count": 103,
   "id": "879c72a6-f392-4d1c-a556-9e340d096d24",
   "metadata": {},
   "outputs": [
    {
     "data": {
      "text/plain": [
       "[1, 2, 3, 4, 5, 6, 3, 3, 2, 3, 4, 5]"
      ]
     },
     "execution_count": 103,
     "metadata": {},
     "output_type": "execute_result"
    }
   ],
   "source": [
    "m"
   ]
  },
  {
   "cell_type": "code",
   "execution_count": 104,
   "id": "d1db194b-e170-4a4b-92e2-df4059b1a31e",
   "metadata": {},
   "outputs": [
    {
     "name": "stdout",
     "output_type": "stream",
     "text": [
      "1\n",
      "2\n",
      "3\n",
      "4\n",
      "5\n",
      "6\n",
      "3\n",
      "3\n",
      "2\n",
      "3\n",
      "4\n",
      "5\n"
     ]
    }
   ],
   "source": [
    "for i in m :\n",
    "    print(i)"
   ]
  },
  {
   "cell_type": "code",
   "execution_count": 105,
   "id": "5bc281ee-1f34-4c25-a3be-6a95a135ed4d",
   "metadata": {},
   "outputs": [
    {
     "ename": "TypeError",
     "evalue": "'int' object is not iterable",
     "output_type": "error",
     "traceback": [
      "\u001b[0;31m---------------------------------------------------------------------------\u001b[0m",
      "\u001b[0;31mTypeError\u001b[0m                                 Traceback (most recent call last)",
      "Cell \u001b[0;32mIn[105], line 1\u001b[0m\n\u001b[0;32m----> 1\u001b[0m \u001b[38;5;28;01mfor\u001b[39;00m i \u001b[38;5;129;01min\u001b[39;00m \u001b[38;5;241m100\u001b[39m:\n\u001b[1;32m      2\u001b[0m     \u001b[38;5;28mprint\u001b[39m(i)\n",
      "\u001b[0;31mTypeError\u001b[0m: 'int' object is not iterable"
     ]
    }
   ],
   "source": [
    "for i in 100:\n",
    "    print(i)"
   ]
  },
  {
   "cell_type": "code",
   "execution_count": 106,
   "id": "b294d489-8135-480f-abd2-fa9486caf97c",
   "metadata": {},
   "outputs": [
    {
     "name": "stdout",
     "output_type": "stream",
     "text": [
      "[1, 2, 3, 4, 5, 6, 3, 3, 2, 3, 4, 5]\n"
     ]
    }
   ],
   "source": [
    "for i in m:\n",
    "    i=i+1;\n",
    "print(m)"
   ]
  },
  {
   "cell_type": "code",
   "execution_count": 108,
   "id": "aa088008-978e-4b25-9cf7-4eee2a42d5ab",
   "metadata": {},
   "outputs": [
    {
     "data": {
      "text/plain": [
       "[2, 3, 4, 5, 6, 7, 4, 4, 3, 4, 5, 6]"
      ]
     },
     "execution_count": 108,
     "metadata": {},
     "output_type": "execute_result"
    }
   ],
   "source": [
    "l1=[]\n",
    "for i in m:\n",
    "    l1.append(i+1)\n",
    "l1"
   ]
  },
  {
   "cell_type": "code",
   "execution_count": 109,
   "id": "e494ce20-26fd-451a-86ad-1fc74eb79471",
   "metadata": {},
   "outputs": [
    {
     "data": {
      "text/plain": [
       "['AMISH', 'KUMAR', 'SINGH']"
      ]
     },
     "execution_count": 109,
     "metadata": {},
     "output_type": "execute_result"
    }
   ],
   "source": [
    "l=['amish','kumar','singh']\n",
    "l1=[]\n",
    "for i in l :\n",
    "    l1.append(i.upper())\n",
    "l1"
   ]
  },
  {
   "cell_type": "code",
   "execution_count": 110,
   "id": "26c5ba13-c020-4f62-8501-3bc1040fcbbf",
   "metadata": {},
   "outputs": [
    {
     "data": {
      "text/plain": [
       "['amish', 'kumar', 'singh']"
      ]
     },
     "execution_count": 110,
     "metadata": {},
     "output_type": "execute_result"
    }
   ],
   "source": [
    "l=[1,2,3,4,4,4,5,4,4,3,'amish','kumar','singh',45.23]\n",
    "l1=[]\n",
    "l2=[]\n",
    "l3=[]\n",
    "for i in l:\n",
    "    if type(i) == int:\n",
    "        l1.append(i)\n",
    "    elif type(i) == float:\n",
    "        l2.append(i)\n",
    "    elif type(i) == str:\n",
    "        l3.append(i)\n",
    "l1\n",
    "l2\n",
    "l3"
   ]
  },
  {
   "cell_type": "code",
   "execution_count": 111,
   "id": "fa30bd96-441e-4106-83f8-76717c6d46cd",
   "metadata": {},
   "outputs": [
    {
     "data": {
      "text/plain": [
       "[45.23]"
      ]
     },
     "execution_count": 111,
     "metadata": {},
     "output_type": "execute_result"
    }
   ],
   "source": [
    "l2\n"
   ]
  },
  {
   "cell_type": "code",
   "execution_count": 112,
   "id": "85fff45b-3248-4b72-8668-0ce54bd6ce90",
   "metadata": {},
   "outputs": [
    {
     "data": {
      "text/plain": [
       "[1, 2, 3, 4, 4, 4, 5, 4, 4, 3]"
      ]
     },
     "execution_count": 112,
     "metadata": {},
     "output_type": "execute_result"
    }
   ],
   "source": [
    "l1"
   ]
  },
  {
   "cell_type": "code",
   "execution_count": 113,
   "id": "25887497-f586-48e8-8565-567e6c930a8f",
   "metadata": {},
   "outputs": [
    {
     "name": "stdout",
     "output_type": "stream",
     "text": [
      "0\n",
      "1\n",
      "2\n",
      "3\n",
      "4\n",
      "5\n",
      "6\n",
      "7\n",
      "8\n",
      "9\n"
     ]
    }
   ],
   "source": [
    "for i in range(10):\n",
    "    print(i)"
   ]
  },
  {
   "cell_type": "code",
   "execution_count": 117,
   "id": "e53ed67e-8902-464f-9268-9a3c90702d44",
   "metadata": {},
   "outputs": [
    {
     "name": "stdout",
     "output_type": "stream",
     "text": [
      "7\n",
      "11\n"
     ]
    }
   ],
   "source": [
    "for i in range(7,15,4):\n",
    "    print(i)"
   ]
  },
  {
   "cell_type": "code",
   "execution_count": 118,
   "id": "e936b6d5-b545-43f7-adb3-5c9dd416aed0",
   "metadata": {},
   "outputs": [
    {
     "data": {
      "text/plain": [
       "[1, 2, 3, 4, 5, 6, 3, 3, 2, 3, 4, 5]"
      ]
     },
     "execution_count": 118,
     "metadata": {},
     "output_type": "execute_result"
    }
   ],
   "source": [
    "m"
   ]
  },
  {
   "cell_type": "code",
   "execution_count": 120,
   "id": "28a527ca-51c7-46a4-b30e-cf3dd0526091",
   "metadata": {},
   "outputs": [
    {
     "name": "stdout",
     "output_type": "stream",
     "text": [
      "1\n",
      "2\n",
      "3\n",
      "4\n",
      "5\n",
      "6\n",
      "3\n",
      "3\n",
      "2\n",
      "3\n",
      "4\n",
      "5\n"
     ]
    }
   ],
   "source": [
    "for i in range(len(m)):\n",
    "    print(m[i])"
   ]
  },
  {
   "cell_type": "code",
   "execution_count": null,
   "id": "035dcab6-2714-458f-a515-ca2a4a7ac446",
   "metadata": {},
   "outputs": [],
   "source": []
  }
 ],
 "metadata": {
  "kernelspec": {
   "display_name": "Python 3 (ipykernel)",
   "language": "python",
   "name": "python3"
  },
  "language_info": {
   "codemirror_mode": {
    "name": "ipython",
    "version": 3
   },
   "file_extension": ".py",
   "mimetype": "text/x-python",
   "name": "python",
   "nbconvert_exporter": "python",
   "pygments_lexer": "ipython3",
   "version": "3.10.8"
  }
 },
 "nbformat": 4,
 "nbformat_minor": 5
}
