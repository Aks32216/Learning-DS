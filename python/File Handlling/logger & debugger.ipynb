{
 "cells": [
  {
   "cell_type": "code",
   "execution_count": 1,
   "id": "8102c81e",
   "metadata": {},
   "outputs": [
    {
     "name": "stdout",
     "output_type": "stream",
     "text": [
      "this is my print function\n"
     ]
    }
   ],
   "source": [
    "print(\"this is my print function\")"
   ]
  },
  {
   "cell_type": "code",
   "execution_count": 16,
   "id": "006c1f70",
   "metadata": {},
   "outputs": [],
   "source": [
    "## logging is used to log into files \n",
    "## this process is used to inspect error and other types of messages\n",
    "## this stores info in a file\n",
    "## use this instead of print statement"
   ]
  },
  {
   "cell_type": "code",
   "execution_count": 1,
   "id": "f6bd42c1",
   "metadata": {},
   "outputs": [],
   "source": [
    " import logging"
   ]
  },
  {
   "cell_type": "code",
   "execution_count": 12,
   "id": "d9e3191a",
   "metadata": {},
   "outputs": [],
   "source": [
    "## basic configuration of logging\n",
    "## level -> types of message \n",
    "# NOTSET\n",
    "# DEBUG\n",
    "# INFO - \n",
    "# WARNING\n",
    "# ERROR\n",
    "# CRITICAL\n",
    "\n",
    "logging.basicConfig(filename=\"test.log\",level=logging.INFO)"
   ]
  },
  {
   "cell_type": "code",
   "execution_count": 13,
   "id": "5a710d2c",
   "metadata": {},
   "outputs": [],
   "source": [
    "logging.info(\"log this line of execution\")"
   ]
  },
  {
   "cell_type": "code",
   "execution_count": 5,
   "id": "ddbffa76",
   "metadata": {},
   "outputs": [],
   "source": [
    "logging.info(\"this is my print\")"
   ]
  },
  {
   "cell_type": "code",
   "execution_count": 9,
   "id": "1ab2cbfe",
   "metadata": {},
   "outputs": [],
   "source": [
    "logging.warning(\"this is my warning\")"
   ]
  },
  {
   "cell_type": "code",
   "execution_count": 10,
   "id": "903f056e",
   "metadata": {},
   "outputs": [],
   "source": [
    "logging.debug(\"this is my debug\")"
   ]
  },
  {
   "cell_type": "code",
   "execution_count": 11,
   "id": "a73960d8",
   "metadata": {},
   "outputs": [],
   "source": [
    "logging.error(\"this is my error\")"
   ]
  },
  {
   "cell_type": "code",
   "execution_count": 14,
   "id": "c372d642",
   "metadata": {},
   "outputs": [],
   "source": [
    "logging.critical(\"this is my critical message\")"
   ]
  },
  {
   "cell_type": "code",
   "execution_count": 21,
   "id": "c93cbb0f",
   "metadata": {},
   "outputs": [],
   "source": [
    "logging.shutdown()"
   ]
  },
  {
   "cell_type": "code",
   "execution_count": 2,
   "id": "a943789c",
   "metadata": {},
   "outputs": [],
   "source": [
    "logging.basicConfig(filename=\"test1.log\",level=logging.DEBUG,format='%(asctime)s %(message)s')"
   ]
  },
  {
   "cell_type": "code",
   "execution_count": 3,
   "id": "c11597c0",
   "metadata": {},
   "outputs": [],
   "source": [
    "logging.info(\"this is my info message\")"
   ]
  },
  {
   "cell_type": "code",
   "execution_count": 4,
   "id": "ed0b36e2",
   "metadata": {},
   "outputs": [],
   "source": [
    "logging.error(\"this is my eror\")\n",
    "logging.critical(\"this is my critical\")"
   ]
  },
  {
   "cell_type": "code",
   "execution_count": 1,
   "id": "a75982c6",
   "metadata": {},
   "outputs": [],
   "source": [
    "import logging"
   ]
  },
  {
   "cell_type": "code",
   "execution_count": 2,
   "id": "3463da3e",
   "metadata": {},
   "outputs": [],
   "source": [
    "logging.basicConfig(filename=\"test1.log\",level=logging.DEBUG,format='%(acstime)s %(message)s')"
   ]
  },
  {
   "cell_type": "code",
   "execution_count": 5,
   "id": "5a35d923",
   "metadata": {},
   "outputs": [],
   "source": [
    "logging.shutdown()"
   ]
  },
  {
   "cell_type": "code",
   "execution_count": 2,
   "id": "a8f103a8",
   "metadata": {},
   "outputs": [],
   "source": [
    "logging.basicConfig(filename=\"test2.log\",level=logging.DEBUG,format='%(asctime)s %(name)s %(levelname)s %(message)s')"
   ]
  },
  {
   "cell_type": "code",
   "execution_count": 3,
   "id": "08a4b4ce",
   "metadata": {},
   "outputs": [],
   "source": [
    "logging.info(\"this is my info\")"
   ]
  },
  {
   "cell_type": "code",
   "execution_count": 9,
   "id": "2041b100",
   "metadata": {},
   "outputs": [],
   "source": [
    "l=[1,2,3,4,5,6,7,[54,33,32],\"amish\",\"ashish\"]"
   ]
  },
  {
   "cell_type": "code",
   "execution_count": 13,
   "id": "2dc3ede5",
   "metadata": {},
   "outputs": [],
   "source": [
    "l1=[]\n",
    "l2=[]\n",
    "\n",
    "for i in l:\n",
    "    logging.info(\"we are inside outer loop\")\n",
    "    if type(i)==int:\n",
    "        logging.info(\"type is of int\")\n",
    "        l1.append(i)\n",
    "    elif type(i)==str:\n",
    "        logging.info(\"type is of string\")\n",
    "        l2.append(i)\n",
    "    elif type(i)==list:\n",
    "        logging.info(\"inside list list\")\n",
    "        for j in i:\n",
    "            if type(j)==int:\n",
    "                logging.info(\"list list int\")\n",
    "                l1.append(j)\n",
    "            elif type(j)==str:\n",
    "                logging.infor(\"list list str\")\n",
    "                l2.append(j)\n",
    "    "
   ]
  },
  {
   "cell_type": "code",
   "execution_count": 14,
   "id": "5cbdb592",
   "metadata": {},
   "outputs": [
    {
     "data": {
      "text/plain": [
       "[1, 2, 3, 4, 5, 6, 7, 54, 33, 32]"
      ]
     },
     "execution_count": 14,
     "metadata": {},
     "output_type": "execute_result"
    }
   ],
   "source": [
    "l1"
   ]
  },
  {
   "cell_type": "code",
   "execution_count": 15,
   "id": "100d8f82",
   "metadata": {},
   "outputs": [
    {
     "data": {
      "text/plain": [
       "['amish', 'ashish']"
      ]
     },
     "execution_count": 15,
     "metadata": {},
     "output_type": "execute_result"
    }
   ],
   "source": [
    "l2"
   ]
  },
  {
   "cell_type": "code",
   "execution_count": 16,
   "id": "d51f5153",
   "metadata": {},
   "outputs": [
    {
     "name": "stdout",
     "output_type": "stream",
     "text": [
      "back again\n"
     ]
    }
   ],
   "source": [
    "print(\"back again\")"
   ]
  },
  {
   "cell_type": "code",
   "execution_count": null,
   "id": "6c346bb1",
   "metadata": {},
   "outputs": [],
   "source": []
  }
 ],
 "metadata": {
  "kernelspec": {
   "display_name": "Python 3 (ipykernel)",
   "language": "python",
   "name": "python3"
  },
  "language_info": {
   "codemirror_mode": {
    "name": "ipython",
    "version": 3
   },
   "file_extension": ".py",
   "mimetype": "text/x-python",
   "name": "python",
   "nbconvert_exporter": "python",
   "pygments_lexer": "ipython3",
   "version": "3.9.13"
  }
 },
 "nbformat": 4,
 "nbformat_minor": 5
}
