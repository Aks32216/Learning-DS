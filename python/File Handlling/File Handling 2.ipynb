{
 "cells": [
  {
   "cell_type": "code",
   "execution_count": 3,
   "id": "090c5a3b",
   "metadata": {},
   "outputs": [],
   "source": [
    "d1={\n",
    "    \"name\":\"amish kumar\",\n",
    "    \"mail_id\":\"amishsingh568@gmail.com\",\n",
    "    \"phone number\":9808754,\n",
    "    \"subject\":[\"Data Science\",\"Web Development\",\"Competative coding\"]\n",
    "}"
   ]
  },
  {
   "cell_type": "code",
   "execution_count": 1,
   "id": "8bda3f4e",
   "metadata": {},
   "outputs": [],
   "source": [
    "import json"
   ]
  },
  {
   "cell_type": "code",
   "execution_count": 9,
   "id": "19d96a43",
   "metadata": {},
   "outputs": [],
   "source": [
    "with open(\"data.json\",\"w\") as f:\n",
    "    json.dump(d1,f)"
   ]
  },
  {
   "cell_type": "code",
   "execution_count": 6,
   "id": "3cd8fb16",
   "metadata": {},
   "outputs": [],
   "source": [
    "with open(\"data.json\",\"r\") as f:\n",
    "    d2=json.load(f)"
   ]
  },
  {
   "cell_type": "code",
   "execution_count": 7,
   "id": "65f66379",
   "metadata": {},
   "outputs": [
    {
     "data": {
      "text/plain": [
       "{'name': 'amish kumar',\n",
       " 'mail_id': 'amishsingh568@gmail.com',\n",
       " 'phone number': 9808754,\n",
       " 'subject': ['Data Science', 'Web Development', 'Competative coding']}"
      ]
     },
     "execution_count": 7,
     "metadata": {},
     "output_type": "execute_result"
    }
   ],
   "source": [
    "d2"
   ]
  },
  {
   "cell_type": "code",
   "execution_count": 10,
   "id": "0f2abce7",
   "metadata": {},
   "outputs": [],
   "source": [
    "import csv"
   ]
  },
  {
   "cell_type": "code",
   "execution_count": 11,
   "id": "562de3b6",
   "metadata": {},
   "outputs": [],
   "source": [
    "data=[\n",
    "    [\"name\",\"email\",\"phone\"],\n",
    "    [\"amish\",\"amish@gmail.com\",432858],\n",
    "    [\"ashish\",\"ashish@gmail.com\",5837374]\n",
    "]"
   ]
  },
  {
   "cell_type": "code",
   "execution_count": 14,
   "id": "d69ea9c9",
   "metadata": {},
   "outputs": [],
   "source": [
    "with open(\"data.csv\",\"w\") as f:\n",
    "    writer=csv.writer(f)\n",
    "    for i in data:\n",
    "        writer.writerow(i)"
   ]
  },
  {
   "cell_type": "code",
   "execution_count": 15,
   "id": "9e353e71",
   "metadata": {},
   "outputs": [
    {
     "name": "stdout",
     "output_type": "stream",
     "text": [
      "['name', 'email', 'phone']\n",
      "['amish', 'amish@gmail.com', '432858']\n",
      "['ashish', 'ashish@gmail.com', '5837374']\n"
     ]
    }
   ],
   "source": [
    "with open(\"data.csv\",\"r\") as f:\n",
    "    read_data=csv.reader(f)\n",
    "    \n",
    "    for i in read_data:\n",
    "        print(i)"
   ]
  },
  {
   "cell_type": "code",
   "execution_count": 17,
   "id": "452c0f9c",
   "metadata": {},
   "outputs": [],
   "source": [
    "with open(\"text.bin\",\"wb\") as f:\n",
    "    f.write(b\"\\x01\\x02\\x03\\x04\")"
   ]
  },
  {
   "cell_type": "code",
   "execution_count": 19,
   "id": "ab6c5f4c",
   "metadata": {},
   "outputs": [
    {
     "name": "stdout",
     "output_type": "stream",
     "text": [
      "b'\\x01\\x02\\x03\\x04'\n"
     ]
    }
   ],
   "source": [
    "with open(\"text.bin\",\"rb\") as f:\n",
    "    data=f.read()\n",
    "    print(data)"
   ]
  },
  {
   "cell_type": "code",
   "execution_count": null,
   "id": "a37fff1f",
   "metadata": {},
   "outputs": [],
   "source": []
  }
 ],
 "metadata": {
  "kernelspec": {
   "display_name": "Python 3 (ipykernel)",
   "language": "python",
   "name": "python3"
  },
  "language_info": {
   "codemirror_mode": {
    "name": "ipython",
    "version": 3
   },
   "file_extension": ".py",
   "mimetype": "text/x-python",
   "name": "python",
   "nbconvert_exporter": "python",
   "pygments_lexer": "ipython3",
   "version": "3.9.13"
  }
 },
 "nbformat": 4,
 "nbformat_minor": 5
}
