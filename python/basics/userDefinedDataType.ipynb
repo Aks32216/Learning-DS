{
 "cells": [
  {
   "cell_type": "code",
   "execution_count": 1,
   "id": "6dfebd3f-aed4-4272-9a8f-47bebd1d17a0",
   "metadata": {},
   "outputs": [
    {
     "name": "stdout",
     "output_type": "stream",
     "text": [
      "amish\n"
     ]
    }
   ],
   "source": [
    "print(\"amish\")"
   ]
  },
  {
   "cell_type": "code",
   "execution_count": 2,
   "id": "a171a40b-0a68-434c-8d73-aa2543e082d0",
   "metadata": {},
   "outputs": [
    {
     "name": "stdout",
     "output_type": "stream",
     "text": [
      "amish\n"
     ]
    },
    {
     "data": {
      "text/plain": [
       "NoneType"
      ]
     },
     "execution_count": 2,
     "metadata": {},
     "output_type": "execute_result"
    }
   ],
   "source": [
    "type(print(\"amish\"))"
   ]
  },
  {
   "cell_type": "code",
   "execution_count": 3,
   "id": "060e23d6-9760-4865-a2c6-c8735b62dcf7",
   "metadata": {},
   "outputs": [
    {
     "name": "stdout",
     "output_type": "stream",
     "text": [
      "<class 'int'>\n"
     ]
    },
    {
     "data": {
      "text/plain": [
       "NoneType"
      ]
     },
     "execution_count": 3,
     "metadata": {},
     "output_type": "execute_result"
    }
   ],
   "source": [
    "type(print(type(2)))"
   ]
  },
  {
   "cell_type": "code",
   "execution_count": 4,
   "id": "01379ca5-f031-41a7-9db3-0c4a23ec49e2",
   "metadata": {},
   "outputs": [],
   "source": [
    "a=10"
   ]
  },
  {
   "cell_type": "code",
   "execution_count": 5,
   "id": "ff0fdb92-0c72-48fd-bc9c-e7175f5786c5",
   "metadata": {},
   "outputs": [
    {
     "data": {
      "text/plain": [
       "139843244442128"
      ]
     },
     "execution_count": 5,
     "metadata": {},
     "output_type": "execute_result"
    }
   ],
   "source": [
    "id(a)"
   ]
  },
  {
   "cell_type": "code",
   "execution_count": 6,
   "id": "218d1568-1789-4ddc-a3e8-9f7fc2d556fa",
   "metadata": {},
   "outputs": [],
   "source": [
    "b=123"
   ]
  },
  {
   "cell_type": "code",
   "execution_count": 7,
   "id": "b7282164-8b38-4838-8638-74cc433a0926",
   "metadata": {},
   "outputs": [
    {
     "data": {
      "text/plain": [
       "139843244445744"
      ]
     },
     "execution_count": 7,
     "metadata": {},
     "output_type": "execute_result"
    }
   ],
   "source": [
    "id(b)"
   ]
  },
  {
   "cell_type": "code",
   "execution_count": 8,
   "id": "36737c41-6828-455b-90f0-1bad20d7ab46",
   "metadata": {},
   "outputs": [
    {
     "data": {
      "text/plain": [
       "False"
      ]
     },
     "execution_count": 8,
     "metadata": {},
     "output_type": "execute_result"
    }
   ],
   "source": [
    "id(a)==id(b)"
   ]
  },
  {
   "cell_type": "code",
   "execution_count": 9,
   "id": "544ddfa8-df14-431c-814d-347c1ebccd17",
   "metadata": {},
   "outputs": [],
   "source": [
    "b=10"
   ]
  },
  {
   "cell_type": "code",
   "execution_count": 10,
   "id": "74f7cb29-571f-41ff-a25e-19d78c9b62d5",
   "metadata": {},
   "outputs": [
    {
     "data": {
      "text/plain": [
       "139843244442128"
      ]
     },
     "execution_count": 10,
     "metadata": {},
     "output_type": "execute_result"
    }
   ],
   "source": [
    "id(a)"
   ]
  },
  {
   "cell_type": "code",
   "execution_count": 11,
   "id": "4e088812-85c3-41ae-a54b-cb56c402723b",
   "metadata": {},
   "outputs": [
    {
     "data": {
      "text/plain": [
       "139843244442128"
      ]
     },
     "execution_count": 11,
     "metadata": {},
     "output_type": "execute_result"
    }
   ],
   "source": [
    "id(b)"
   ]
  },
  {
   "cell_type": "code",
   "execution_count": 12,
   "id": "f6b1b78e-c306-4066-a3c5-c99e31be8904",
   "metadata": {},
   "outputs": [
    {
     "data": {
      "text/plain": [
       "True"
      ]
     },
     "execution_count": 12,
     "metadata": {},
     "output_type": "execute_result"
    }
   ],
   "source": [
    "id(a)==id(b)"
   ]
  },
  {
   "cell_type": "code",
   "execution_count": 13,
   "id": "3f39ebdd-8d73-4194-ab42-0cf6d114cd92",
   "metadata": {},
   "outputs": [],
   "source": [
    "## lists in Python"
   ]
  },
  {
   "cell_type": "code",
   "execution_count": 14,
   "id": "84cf6a87-c5a6-465a-85b5-98b6d7bfc857",
   "metadata": {},
   "outputs": [
    {
     "ename": "SyntaxError",
     "evalue": "invalid syntax (2695623459.py, line 1)",
     "output_type": "error",
     "traceback": [
      "\u001b[0;36m  Cell \u001b[0;32mIn[14], line 1\u001b[0;36m\u001b[0m\n\u001b[0;31m    let c=##list in python\u001b[0m\n\u001b[0m        ^\u001b[0m\n\u001b[0;31mSyntaxError\u001b[0m\u001b[0;31m:\u001b[0m invalid syntax\n"
     ]
    }
   ],
   "source": [
    "let c=##list in python"
   ]
  },
  {
   "cell_type": "code",
   "execution_count": 15,
   "id": "8afb5487-96c7-47f1-aa2b-5097557aa01b",
   "metadata": {},
   "outputs": [
    {
     "ename": "SyntaxError",
     "evalue": "invalid syntax (3846686056.py, line 1)",
     "output_type": "error",
     "traceback": [
      "\u001b[0;36m  Cell \u001b[0;32mIn[15], line 1\u001b[0;36m\u001b[0m\n\u001b[0;31m    c=## list in python\u001b[0m\n\u001b[0m      ^\u001b[0m\n\u001b[0;31mSyntaxError\u001b[0m\u001b[0;31m:\u001b[0m invalid syntax\n"
     ]
    }
   ],
   "source": [
    "c=## list in python"
   ]
  },
  {
   "cell_type": "code",
   "execution_count": 16,
   "id": "da91f6ce-af04-4b59-9d56-2503de2536c7",
   "metadata": {},
   "outputs": [],
   "source": [
    "l=[1,2,3,233,\"amish\",True,False,5+6j,543.987]"
   ]
  },
  {
   "cell_type": "code",
   "execution_count": 17,
   "id": "11884044-d828-4b25-a1ae-9d8bee4706b0",
   "metadata": {},
   "outputs": [
    {
     "data": {
      "text/plain": [
       "[1, 2, 3, 233, 'amish', True, False, (5+6j), 543.987]"
      ]
     },
     "execution_count": 17,
     "metadata": {},
     "output_type": "execute_result"
    }
   ],
   "source": [
    "l"
   ]
  },
  {
   "cell_type": "code",
   "execution_count": 18,
   "id": "0f9912c9-05d2-403a-9616-fb2bd18acc9a",
   "metadata": {},
   "outputs": [
    {
     "data": {
      "text/plain": [
       "1"
      ]
     },
     "execution_count": 18,
     "metadata": {},
     "output_type": "execute_result"
    }
   ],
   "source": [
    "l[0]"
   ]
  },
  {
   "cell_type": "code",
   "execution_count": 19,
   "id": "0304202e-7768-417b-b12f-0267259b7cf5",
   "metadata": {},
   "outputs": [
    {
     "data": {
      "text/plain": [
       "True"
      ]
     },
     "execution_count": 19,
     "metadata": {},
     "output_type": "execute_result"
    }
   ],
   "source": [
    "l[5]"
   ]
  },
  {
   "cell_type": "code",
   "execution_count": 20,
   "id": "1c0c6d78-3bce-4a32-b120-a3bda5333169",
   "metadata": {},
   "outputs": [
    {
     "data": {
      "text/plain": [
       "(5+6j)"
      ]
     },
     "execution_count": 20,
     "metadata": {},
     "output_type": "execute_result"
    }
   ],
   "source": [
    "l[7]"
   ]
  },
  {
   "cell_type": "code",
   "execution_count": 21,
   "id": "7a9d0952-945f-4d2a-9ff9-be9f0d309f5d",
   "metadata": {},
   "outputs": [
    {
     "data": {
      "text/plain": [
       "5.0"
      ]
     },
     "execution_count": 21,
     "metadata": {},
     "output_type": "execute_result"
    }
   ],
   "source": [
    "l[7].real"
   ]
  },
  {
   "cell_type": "code",
   "execution_count": 22,
   "id": "3525dbd1-3e70-4b2b-94c1-7182e84eb3b2",
   "metadata": {},
   "outputs": [
    {
     "data": {
      "text/plain": [
       "'i'"
      ]
     },
     "execution_count": 22,
     "metadata": {},
     "output_type": "execute_result"
    }
   ],
   "source": [
    "l[4][2]"
   ]
  },
  {
   "cell_type": "code",
   "execution_count": 23,
   "id": "782dcc6d-ab64-43e4-8072-a18bf178fd59",
   "metadata": {},
   "outputs": [
    {
     "data": {
      "text/plain": [
       "list"
      ]
     },
     "execution_count": 23,
     "metadata": {},
     "output_type": "execute_result"
    }
   ],
   "source": [
    "type(l)"
   ]
  },
  {
   "cell_type": "code",
   "execution_count": 24,
   "id": "faeef66d-fc70-4c8f-b6ae-56b8a56bdc28",
   "metadata": {},
   "outputs": [
    {
     "data": {
      "text/plain": [
       "[1, 2]"
      ]
     },
     "execution_count": 24,
     "metadata": {},
     "output_type": "execute_result"
    }
   ],
   "source": [
    "l[0:2]"
   ]
  },
  {
   "cell_type": "code",
   "execution_count": 25,
   "id": "8e730b7d-d5fe-4b2e-be14-c8fce5732bc4",
   "metadata": {},
   "outputs": [
    {
     "data": {
      "text/plain": [
       "[True, False, (5+6j), 543.987]"
      ]
     },
     "execution_count": 25,
     "metadata": {},
     "output_type": "execute_result"
    }
   ],
   "source": [
    "l[-4:]"
   ]
  },
  {
   "cell_type": "code",
   "execution_count": 26,
   "id": "a9e60dfb-635a-4562-976e-a4d975c9163a",
   "metadata": {},
   "outputs": [],
   "source": [
    "l[2]=123"
   ]
  },
  {
   "cell_type": "code",
   "execution_count": 27,
   "id": "e0945e1b-ba1d-4303-bd3c-bc15dd7a6a53",
   "metadata": {},
   "outputs": [
    {
     "data": {
      "text/plain": [
       "[1, 2, 123, 233, 'amish', True, False, (5+6j), 543.987]"
      ]
     },
     "execution_count": 27,
     "metadata": {},
     "output_type": "execute_result"
    }
   ],
   "source": [
    "l\n"
   ]
  },
  {
   "cell_type": "code",
   "execution_count": 28,
   "id": "f34b49ff-5be0-4d35-a109-109d0025fc44",
   "metadata": {},
   "outputs": [
    {
     "data": {
      "text/plain": [
       "139843135153600"
      ]
     },
     "execution_count": 28,
     "metadata": {},
     "output_type": "execute_result"
    }
   ],
   "source": [
    "id(l)"
   ]
  },
  {
   "cell_type": "code",
   "execution_count": 29,
   "id": "52da3042-88d2-47a6-b1cb-861304690647",
   "metadata": {},
   "outputs": [
    {
     "data": {
      "text/plain": [
       "'ish'"
      ]
     },
     "execution_count": 29,
     "metadata": {},
     "output_type": "execute_result"
    }
   ],
   "source": [
    "l[4][2:]"
   ]
  },
  {
   "cell_type": "code",
   "execution_count": 30,
   "id": "2f34b9d1-eb3c-44a4-a4bd-2b9b5392daad",
   "metadata": {},
   "outputs": [
    {
     "data": {
      "text/plain": [
       "[1, 123]"
      ]
     },
     "execution_count": 30,
     "metadata": {},
     "output_type": "execute_result"
    }
   ],
   "source": [
    "l[0:4:2]"
   ]
  },
  {
   "cell_type": "code",
   "execution_count": 31,
   "id": "23f6fe57-6ca3-4f79-8262-4e9e857c54bb",
   "metadata": {},
   "outputs": [
    {
     "data": {
      "text/plain": [
       "[1, 2, 123, 233]"
      ]
     },
     "execution_count": 31,
     "metadata": {},
     "output_type": "execute_result"
    }
   ],
   "source": [
    "l[0:4]"
   ]
  },
  {
   "cell_type": "code",
   "execution_count": 32,
   "id": "5926446e-fb23-4b66-bc82-203347942ff7",
   "metadata": {},
   "outputs": [
    {
     "data": {
      "text/plain": [
       "[543.987, (5+6j), False, True, 'amish', 233, 123, 2, 1]"
      ]
     },
     "execution_count": 32,
     "metadata": {},
     "output_type": "execute_result"
    }
   ],
   "source": [
    "l[-1::-1]"
   ]
  },
  {
   "cell_type": "code",
   "execution_count": 33,
   "id": "789ec7bf-f72e-48d9-a289-b5315a9758e7",
   "metadata": {},
   "outputs": [
    {
     "data": {
      "text/plain": [
       "[543.987, (5+6j), False, True, 'amish', 233, 123, 2, 1]"
      ]
     },
     "execution_count": 33,
     "metadata": {},
     "output_type": "execute_result"
    }
   ],
   "source": [
    "l[::-1]"
   ]
  },
  {
   "cell_type": "code",
   "execution_count": 34,
   "id": "049524b4-963c-43be-badd-f45b5c77b78c",
   "metadata": {},
   "outputs": [
    {
     "data": {
      "text/plain": [
       "139843135153152"
      ]
     },
     "execution_count": 34,
     "metadata": {},
     "output_type": "execute_result"
    }
   ],
   "source": [
    "id(l[::-1])"
   ]
  },
  {
   "cell_type": "code",
   "execution_count": 35,
   "id": "0db351ba-2c66-4967-a517-1313c02836e8",
   "metadata": {},
   "outputs": [
    {
     "data": {
      "text/plain": [
       "139843135153600"
      ]
     },
     "execution_count": 35,
     "metadata": {},
     "output_type": "execute_result"
    }
   ],
   "source": [
    "id(l)"
   ]
  },
  {
   "cell_type": "code",
   "execution_count": 36,
   "id": "f63606cc-ab45-40c3-9e02-e5cb871a2c5a",
   "metadata": {},
   "outputs": [
    {
     "data": {
      "text/plain": [
       "[1, 2, 123, 233, 'amish', True, False, (5+6j), 543.987]"
      ]
     },
     "execution_count": 36,
     "metadata": {},
     "output_type": "execute_result"
    }
   ],
   "source": [
    "l"
   ]
  },
  {
   "cell_type": "code",
   "execution_count": 37,
   "id": "d6774798-709c-4644-8f6d-69d9a8563e4e",
   "metadata": {},
   "outputs": [
    {
     "data": {
      "text/plain": [
       "139843135153600"
      ]
     },
     "execution_count": 37,
     "metadata": {},
     "output_type": "execute_result"
    }
   ],
   "source": [
    "id(l)"
   ]
  },
  {
   "cell_type": "code",
   "execution_count": 38,
   "id": "bae2b0cb-070e-4b32-a95a-c98483a5c51e",
   "metadata": {},
   "outputs": [
    {
     "data": {
      "text/plain": [
       "139843135311552"
      ]
     },
     "execution_count": 38,
     "metadata": {},
     "output_type": "execute_result"
    }
   ],
   "source": [
    "id(l[::-1])"
   ]
  },
  {
   "cell_type": "code",
   "execution_count": 39,
   "id": "1719ca41-7269-47c9-9475-e771c96790d5",
   "metadata": {},
   "outputs": [
    {
     "data": {
      "text/plain": [
       "139843195254144"
      ]
     },
     "execution_count": 39,
     "metadata": {},
     "output_type": "execute_result"
    }
   ],
   "source": [
    "id(l[-1::-1])"
   ]
  },
  {
   "cell_type": "code",
   "execution_count": 40,
   "id": "eb72d0d3-b1d0-41b8-a73f-d93d87c516e7",
   "metadata": {},
   "outputs": [
    {
     "data": {
      "text/plain": [
       "139843135100544"
      ]
     },
     "execution_count": 40,
     "metadata": {},
     "output_type": "execute_result"
    }
   ],
   "source": [
    "id(l[::2])"
   ]
  },
  {
   "cell_type": "code",
   "execution_count": 41,
   "id": "15483a66-a71f-4deb-8e2b-20cce954fa56",
   "metadata": {},
   "outputs": [
    {
     "ename": "SyntaxError",
     "evalue": "unmatched ')' (2048549487.py, line 1)",
     "output_type": "error",
     "traceback": [
      "\u001b[0;36m  Cell \u001b[0;32mIn[41], line 1\u001b[0;36m\u001b[0m\n\u001b[0;31m    l[::2])\u001b[0m\n\u001b[0m          ^\u001b[0m\n\u001b[0;31mSyntaxError\u001b[0m\u001b[0;31m:\u001b[0m unmatched ')'\n"
     ]
    }
   ],
   "source": [
    "l[::2])"
   ]
  },
  {
   "cell_type": "code",
   "execution_count": 42,
   "id": "01cd9a70-ac41-489d-ba89-f20ddfdb3f00",
   "metadata": {},
   "outputs": [
    {
     "data": {
      "text/plain": [
       "[1, 123, 'amish', False, 543.987]"
      ]
     },
     "execution_count": 42,
     "metadata": {},
     "output_type": "execute_result"
    }
   ],
   "source": [
    "l[::2]"
   ]
  },
  {
   "cell_type": "code",
   "execution_count": 43,
   "id": "f8cff7c6-a474-4b35-9924-e8ef91a8ea66",
   "metadata": {},
   "outputs": [],
   "source": [
    "s=\"amish\""
   ]
  },
  {
   "cell_type": "code",
   "execution_count": 44,
   "id": "26969a05-4386-4e6f-8930-799fbbe41407",
   "metadata": {},
   "outputs": [
    {
     "data": {
      "text/plain": [
       "'amish'"
      ]
     },
     "execution_count": 44,
     "metadata": {},
     "output_type": "execute_result"
    }
   ],
   "source": [
    "s"
   ]
  },
  {
   "cell_type": "code",
   "execution_count": 45,
   "id": "7c8d1029-a202-4afc-a7d1-7873213338c0",
   "metadata": {},
   "outputs": [
    {
     "ename": "TypeError",
     "evalue": "can only concatenate list (not \"str\") to list",
     "output_type": "error",
     "traceback": [
      "\u001b[0;31m---------------------------------------------------------------------------\u001b[0m",
      "\u001b[0;31mTypeError\u001b[0m                                 Traceback (most recent call last)",
      "Cell \u001b[0;32mIn[45], line 1\u001b[0m\n\u001b[0;32m----> 1\u001b[0m \u001b[43ml\u001b[49m\u001b[38;5;241;43m+\u001b[39;49m\u001b[43ms\u001b[49m\n",
      "\u001b[0;31mTypeError\u001b[0m: can only concatenate list (not \"str\") to list"
     ]
    }
   ],
   "source": [
    "l+s"
   ]
  },
  {
   "cell_type": "code",
   "execution_count": 46,
   "id": "970b36c6-81b3-4dfb-8944-19af40411a04",
   "metadata": {},
   "outputs": [
    {
     "data": {
      "text/plain": [
       "139843135153600"
      ]
     },
     "execution_count": 46,
     "metadata": {},
     "output_type": "execute_result"
    }
   ],
   "source": [
    "id(l)"
   ]
  },
  {
   "cell_type": "code",
   "execution_count": 47,
   "id": "d316e467-8949-4ffe-a365-9e9a41c70746",
   "metadata": {},
   "outputs": [],
   "source": [
    "x=12233"
   ]
  },
  {
   "cell_type": "code",
   "execution_count": 48,
   "id": "82832fee-8f7f-4ae2-855f-cdc605cf9faa",
   "metadata": {},
   "outputs": [
    {
     "ename": "TypeError",
     "evalue": "'int' object is not iterable",
     "output_type": "error",
     "traceback": [
      "\u001b[0;31m---------------------------------------------------------------------------\u001b[0m",
      "\u001b[0;31mTypeError\u001b[0m                                 Traceback (most recent call last)",
      "Cell \u001b[0;32mIn[48], line 1\u001b[0m\n\u001b[0;32m----> 1\u001b[0m \u001b[38;5;28;43mlist\u001b[39;49m\u001b[43m(\u001b[49m\u001b[43mx\u001b[49m\u001b[43m)\u001b[49m\n",
      "\u001b[0;31mTypeError\u001b[0m: 'int' object is not iterable"
     ]
    }
   ],
   "source": [
    "list(x)"
   ]
  },
  {
   "cell_type": "code",
   "execution_count": 49,
   "id": "c5bb7354-165d-4d76-9dca-d48724765f1a",
   "metadata": {},
   "outputs": [
    {
     "data": {
      "text/plain": [
       "[1, 2, 123, 233, 'amish', True, False, (5+6j), 543.987]"
      ]
     },
     "execution_count": 49,
     "metadata": {},
     "output_type": "execute_result"
    }
   ],
   "source": [
    "l"
   ]
  },
  {
   "cell_type": "code",
   "execution_count": 50,
   "id": "be29584c-471c-41bd-ad07-c8ce93398433",
   "metadata": {},
   "outputs": [
    {
     "data": {
      "text/plain": [
       "'am'"
      ]
     },
     "execution_count": 50,
     "metadata": {},
     "output_type": "execute_result"
    }
   ],
   "source": [
    "l[4][0:2]"
   ]
  },
  {
   "cell_type": "code",
   "execution_count": 51,
   "id": "bf8c3438-c11b-4068-937d-983dcae9451c",
   "metadata": {},
   "outputs": [
    {
     "ename": "TypeError",
     "evalue": "can only concatenate list (not \"int\") to list",
     "output_type": "error",
     "traceback": [
      "\u001b[0;31m---------------------------------------------------------------------------\u001b[0m",
      "\u001b[0;31mTypeError\u001b[0m                                 Traceback (most recent call last)",
      "Cell \u001b[0;32mIn[51], line 1\u001b[0m\n\u001b[0;32m----> 1\u001b[0m \u001b[43ml\u001b[49m\u001b[38;5;241;43m+\u001b[39;49m\u001b[38;5;241;43m15\u001b[39;49m\n",
      "\u001b[0;31mTypeError\u001b[0m: can only concatenate list (not \"int\") to list"
     ]
    }
   ],
   "source": [
    "l+15"
   ]
  },
  {
   "cell_type": "code",
   "execution_count": 2,
   "id": "dd175f5b-2bbd-4129-8759-913a80ce8133",
   "metadata": {},
   "outputs": [],
   "source": [
    "m=[1,2,3,4,5]"
   ]
  },
  {
   "cell_type": "code",
   "execution_count": 53,
   "id": "84f9b1da-c39a-4124-814a-931e05221cc0",
   "metadata": {},
   "outputs": [
    {
     "data": {
      "text/plain": [
       "[1, 2, 123, 233, 'amish', True, False, (5+6j), 543.987, 1, 2, 3, 4, 5]"
      ]
     },
     "execution_count": 53,
     "metadata": {},
     "output_type": "execute_result"
    }
   ],
   "source": [
    "l+m"
   ]
  },
  {
   "cell_type": "code",
   "execution_count": 54,
   "id": "452fb84e-e5a3-4d9f-8862-bb8a4955b7b5",
   "metadata": {},
   "outputs": [
    {
     "data": {
      "text/plain": [
       "[1, 2, 3, 4, 5, 1, 2, 123, 233, 'amish', True, False, (5+6j), 543.987]"
      ]
     },
     "execution_count": 54,
     "metadata": {},
     "output_type": "execute_result"
    }
   ],
   "source": [
    "m+l"
   ]
  },
  {
   "cell_type": "code",
   "execution_count": 55,
   "id": "b035f3a5-4b3d-4e07-a265-e9f6ac37608a",
   "metadata": {},
   "outputs": [
    {
     "ename": "TypeError",
     "evalue": "'int' object is not iterable",
     "output_type": "error",
     "traceback": [
      "\u001b[0;31m---------------------------------------------------------------------------\u001b[0m",
      "\u001b[0;31mTypeError\u001b[0m                                 Traceback (most recent call last)",
      "Cell \u001b[0;32mIn[55], line 1\u001b[0m\n\u001b[0;32m----> 1\u001b[0m l\u001b[38;5;241m+\u001b[39m\u001b[38;5;28;43mlist\u001b[39;49m\u001b[43m(\u001b[49m\u001b[38;5;241;43m5\u001b[39;49m\u001b[43m)\u001b[49m\n",
      "\u001b[0;31mTypeError\u001b[0m: 'int' object is not iterable"
     ]
    }
   ],
   "source": [
    "l+list(5)"
   ]
  },
  {
   "cell_type": "code",
   "execution_count": 56,
   "id": "42e5112f-4f19-4f69-86e0-a5e79dc586d1",
   "metadata": {},
   "outputs": [
    {
     "ename": "TypeError",
     "evalue": "'int' object is not iterable",
     "output_type": "error",
     "traceback": [
      "\u001b[0;31m---------------------------------------------------------------------------\u001b[0m",
      "\u001b[0;31mTypeError\u001b[0m                                 Traceback (most recent call last)",
      "Cell \u001b[0;32mIn[56], line 1\u001b[0m\n\u001b[0;32m----> 1\u001b[0m \u001b[38;5;28;43mlist\u001b[39;49m\u001b[43m(\u001b[49m\u001b[38;5;241;43m5\u001b[39;49m\u001b[43m)\u001b[49m\n",
      "\u001b[0;31mTypeError\u001b[0m: 'int' object is not iterable"
     ]
    }
   ],
   "source": [
    "list(5)"
   ]
  },
  {
   "cell_type": "code",
   "execution_count": 57,
   "id": "7efc9ccc-c463-4d85-bed3-74933b435058",
   "metadata": {},
   "outputs": [
    {
     "data": {
      "text/plain": [
       "12233"
      ]
     },
     "execution_count": 57,
     "metadata": {},
     "output_type": "execute_result"
    }
   ],
   "source": [
    "x"
   ]
  },
  {
   "cell_type": "code",
   "execution_count": 58,
   "id": "70a29c65-6b54-4b95-a050-623b3ba98b87",
   "metadata": {},
   "outputs": [
    {
     "ename": "TypeError",
     "evalue": "'int' object is not iterable",
     "output_type": "error",
     "traceback": [
      "\u001b[0;31m---------------------------------------------------------------------------\u001b[0m",
      "\u001b[0;31mTypeError\u001b[0m                                 Traceback (most recent call last)",
      "Cell \u001b[0;32mIn[58], line 1\u001b[0m\n\u001b[0;32m----> 1\u001b[0m \u001b[38;5;28;43mlist\u001b[39;49m\u001b[43m(\u001b[49m\u001b[43mx\u001b[49m\u001b[43m)\u001b[49m\n",
      "\u001b[0;31mTypeError\u001b[0m: 'int' object is not iterable"
     ]
    }
   ],
   "source": [
    "list(x)"
   ]
  },
  {
   "cell_type": "code",
   "execution_count": 59,
   "id": "d73ab10a-65c5-4b0b-aca9-f00243fa296d",
   "metadata": {},
   "outputs": [
    {
     "data": {
      "text/plain": [
       "{'__name__': '__main__',\n",
       " '__doc__': 'Automatically created module for IPython interactive environment',\n",
       " '__package__': None,\n",
       " '__loader__': None,\n",
       " '__spec__': None,\n",
       " '__builtin__': <module 'builtins' (built-in)>,\n",
       " '__builtins__': <module 'builtins' (built-in)>,\n",
       " '_ih': ['',\n",
       "  'print(\"amish\")',\n",
       "  'type(print(\"amish\"))',\n",
       "  'type(print(type(2)))',\n",
       "  'a=10',\n",
       "  'id(a)',\n",
       "  'b=123',\n",
       "  'id(b)',\n",
       "  'id(a)==id(b)',\n",
       "  'b=10',\n",
       "  'id(a)',\n",
       "  'id(b)',\n",
       "  'id(a)==id(b)',\n",
       "  '## lists in Python',\n",
       "  'let c=##list in python',\n",
       "  'c=## list in python',\n",
       "  'l=[1,2,3,233,\"amish\",True,False,5+6j,543.987]',\n",
       "  'l',\n",
       "  'l[0]',\n",
       "  'l[5]',\n",
       "  'l[7]',\n",
       "  'l[7].real',\n",
       "  'l[4][2]',\n",
       "  'type(l)',\n",
       "  'l[0:2]',\n",
       "  'l[-4:]',\n",
       "  'l[2]=123',\n",
       "  'l',\n",
       "  'id(l)',\n",
       "  'l[4][2:]',\n",
       "  'l[0:4:2]',\n",
       "  'l[0:4]',\n",
       "  'l[-1::-1]',\n",
       "  'l[::-1]',\n",
       "  'id(l[::-1])',\n",
       "  'id(l)',\n",
       "  'l',\n",
       "  'id(l)',\n",
       "  'id(l[::-1])',\n",
       "  'id(l[-1::-1])',\n",
       "  'id(l[::2])',\n",
       "  'l[::2])',\n",
       "  'l[::2]',\n",
       "  's=\"amish\"',\n",
       "  's',\n",
       "  'l+s',\n",
       "  'id(l)',\n",
       "  'x=12233',\n",
       "  'list(x)',\n",
       "  'l',\n",
       "  'l[4][0:2]',\n",
       "  'l+15',\n",
       "  'm=[1,2,3,4,5]',\n",
       "  'l+m',\n",
       "  'm+l',\n",
       "  'l+list(5)',\n",
       "  'list(5)',\n",
       "  'x',\n",
       "  'list(x)',\n",
       "  'vars()'],\n",
       " '_oh': {2: NoneType,\n",
       "  3: NoneType,\n",
       "  5: 139843244442128,\n",
       "  7: 139843244445744,\n",
       "  8: False,\n",
       "  10: 139843244442128,\n",
       "  11: 139843244442128,\n",
       "  12: True,\n",
       "  17: [1, 2, 123, 233, 'amish', True, False, (5+6j), 543.987],\n",
       "  18: 1,\n",
       "  19: True,\n",
       "  20: (5+6j),\n",
       "  21: 5.0,\n",
       "  22: 'i',\n",
       "  23: list,\n",
       "  24: [1, 2],\n",
       "  25: [True, False, (5+6j), 543.987],\n",
       "  27: [1, 2, 123, 233, 'amish', True, False, (5+6j), 543.987],\n",
       "  28: 139843135153600,\n",
       "  29: 'ish',\n",
       "  30: [1, 123],\n",
       "  31: [1, 2, 123, 233],\n",
       "  32: [543.987, (5+6j), False, True, 'amish', 233, 123, 2, 1],\n",
       "  33: [543.987, (5+6j), False, True, 'amish', 233, 123, 2, 1],\n",
       "  34: 139843135153152,\n",
       "  35: 139843135153600,\n",
       "  36: [1, 2, 123, 233, 'amish', True, False, (5+6j), 543.987],\n",
       "  37: 139843135153600,\n",
       "  38: 139843135311552,\n",
       "  39: 139843195254144,\n",
       "  40: 139843135100544,\n",
       "  42: [1, 123, 'amish', False, 543.987],\n",
       "  44: 'amish',\n",
       "  46: 139843135153600,\n",
       "  49: [1, 2, 123, 233, 'amish', True, False, (5+6j), 543.987],\n",
       "  50: 'am',\n",
       "  53: [1, 2, 123, 233, 'amish', True, False, (5+6j), 543.987, 1, 2, 3, 4, 5],\n",
       "  54: [1, 2, 3, 4, 5, 1, 2, 123, 233, 'amish', True, False, (5+6j), 543.987],\n",
       "  57: 12233},\n",
       " '_dh': [PosixPath('/home/jovyan/work')],\n",
       " 'In': ['',\n",
       "  'print(\"amish\")',\n",
       "  'type(print(\"amish\"))',\n",
       "  'type(print(type(2)))',\n",
       "  'a=10',\n",
       "  'id(a)',\n",
       "  'b=123',\n",
       "  'id(b)',\n",
       "  'id(a)==id(b)',\n",
       "  'b=10',\n",
       "  'id(a)',\n",
       "  'id(b)',\n",
       "  'id(a)==id(b)',\n",
       "  '## lists in Python',\n",
       "  'let c=##list in python',\n",
       "  'c=## list in python',\n",
       "  'l=[1,2,3,233,\"amish\",True,False,5+6j,543.987]',\n",
       "  'l',\n",
       "  'l[0]',\n",
       "  'l[5]',\n",
       "  'l[7]',\n",
       "  'l[7].real',\n",
       "  'l[4][2]',\n",
       "  'type(l)',\n",
       "  'l[0:2]',\n",
       "  'l[-4:]',\n",
       "  'l[2]=123',\n",
       "  'l',\n",
       "  'id(l)',\n",
       "  'l[4][2:]',\n",
       "  'l[0:4:2]',\n",
       "  'l[0:4]',\n",
       "  'l[-1::-1]',\n",
       "  'l[::-1]',\n",
       "  'id(l[::-1])',\n",
       "  'id(l)',\n",
       "  'l',\n",
       "  'id(l)',\n",
       "  'id(l[::-1])',\n",
       "  'id(l[-1::-1])',\n",
       "  'id(l[::2])',\n",
       "  'l[::2])',\n",
       "  'l[::2]',\n",
       "  's=\"amish\"',\n",
       "  's',\n",
       "  'l+s',\n",
       "  'id(l)',\n",
       "  'x=12233',\n",
       "  'list(x)',\n",
       "  'l',\n",
       "  'l[4][0:2]',\n",
       "  'l+15',\n",
       "  'm=[1,2,3,4,5]',\n",
       "  'l+m',\n",
       "  'm+l',\n",
       "  'l+list(5)',\n",
       "  'list(5)',\n",
       "  'x',\n",
       "  'list(x)',\n",
       "  'vars()'],\n",
       " 'Out': {2: NoneType,\n",
       "  3: NoneType,\n",
       "  5: 139843244442128,\n",
       "  7: 139843244445744,\n",
       "  8: False,\n",
       "  10: 139843244442128,\n",
       "  11: 139843244442128,\n",
       "  12: True,\n",
       "  17: [1, 2, 123, 233, 'amish', True, False, (5+6j), 543.987],\n",
       "  18: 1,\n",
       "  19: True,\n",
       "  20: (5+6j),\n",
       "  21: 5.0,\n",
       "  22: 'i',\n",
       "  23: list,\n",
       "  24: [1, 2],\n",
       "  25: [True, False, (5+6j), 543.987],\n",
       "  27: [1, 2, 123, 233, 'amish', True, False, (5+6j), 543.987],\n",
       "  28: 139843135153600,\n",
       "  29: 'ish',\n",
       "  30: [1, 123],\n",
       "  31: [1, 2, 123, 233],\n",
       "  32: [543.987, (5+6j), False, True, 'amish', 233, 123, 2, 1],\n",
       "  33: [543.987, (5+6j), False, True, 'amish', 233, 123, 2, 1],\n",
       "  34: 139843135153152,\n",
       "  35: 139843135153600,\n",
       "  36: [1, 2, 123, 233, 'amish', True, False, (5+6j), 543.987],\n",
       "  37: 139843135153600,\n",
       "  38: 139843135311552,\n",
       "  39: 139843195254144,\n",
       "  40: 139843135100544,\n",
       "  42: [1, 123, 'amish', False, 543.987],\n",
       "  44: 'amish',\n",
       "  46: 139843135153600,\n",
       "  49: [1, 2, 123, 233, 'amish', True, False, (5+6j), 543.987],\n",
       "  50: 'am',\n",
       "  53: [1, 2, 123, 233, 'amish', True, False, (5+6j), 543.987, 1, 2, 3, 4, 5],\n",
       "  54: [1, 2, 3, 4, 5, 1, 2, 123, 233, 'amish', True, False, (5+6j), 543.987],\n",
       "  57: 12233},\n",
       " 'get_ipython': <bound method InteractiveShell.get_ipython of <ipykernel.zmqshell.ZMQInteractiveShell object at 0x7f2fc7f97400>>,\n",
       " 'exit': <IPython.core.autocall.ZMQExitAutocall at 0x7f2fc7f97f70>,\n",
       " 'quit': <IPython.core.autocall.ZMQExitAutocall at 0x7f2fc7f97f70>,\n",
       " 'open': <function io.open(file, mode='r', buffering=-1, encoding=None, errors=None, newline=None, closefd=True, opener=None)>,\n",
       " '_': 12233,\n",
       " '__': [1, 2, 3, 4, 5, 1, 2, 123, 233, 'amish', True, False, (5+6j), 543.987],\n",
       " '___': [1, 2, 123, 233, 'amish', True, False, (5+6j), 543.987, 1, 2, 3, 4, 5],\n",
       " '_i': 'list(x)',\n",
       " '_ii': 'x',\n",
       " '_iii': 'list(5)',\n",
       " '_i1': 'print(\"amish\")',\n",
       " '_i2': 'type(print(\"amish\"))',\n",
       " '_2': NoneType,\n",
       " '_i3': 'type(print(type(2)))',\n",
       " '_3': NoneType,\n",
       " '_i4': 'a=10',\n",
       " 'a': 10,\n",
       " '_i5': 'id(a)',\n",
       " '_5': 139843244442128,\n",
       " '_i6': 'b=123',\n",
       " 'b': 10,\n",
       " '_i7': 'id(b)',\n",
       " '_7': 139843244445744,\n",
       " '_i8': 'id(a)==id(b)',\n",
       " '_8': False,\n",
       " '_i9': 'b=10',\n",
       " '_i10': 'id(a)',\n",
       " '_10': 139843244442128,\n",
       " '_i11': 'id(b)',\n",
       " '_11': 139843244442128,\n",
       " '_i12': 'id(a)==id(b)',\n",
       " '_12': True,\n",
       " '_i13': '## lists in Python',\n",
       " '_i14': 'let c=##list in python',\n",
       " '_i15': 'c=## list in python',\n",
       " '_i16': 'l=[1,2,3,233,\"amish\",True,False,5+6j,543.987]',\n",
       " 'l': [1, 2, 123, 233, 'amish', True, False, (5+6j), 543.987],\n",
       " '_i17': 'l',\n",
       " '_17': [1, 2, 123, 233, 'amish', True, False, (5+6j), 543.987],\n",
       " '_i18': 'l[0]',\n",
       " '_18': 1,\n",
       " '_i19': 'l[5]',\n",
       " '_19': True,\n",
       " '_i20': 'l[7]',\n",
       " '_20': (5+6j),\n",
       " '_i21': 'l[7].real',\n",
       " '_21': 5.0,\n",
       " '_i22': 'l[4][2]',\n",
       " '_22': 'i',\n",
       " '_i23': 'type(l)',\n",
       " '_23': list,\n",
       " '_i24': 'l[0:2]',\n",
       " '_24': [1, 2],\n",
       " '_i25': 'l[-4:]',\n",
       " '_25': [True, False, (5+6j), 543.987],\n",
       " '_i26': 'l[2]=123',\n",
       " '_i27': 'l',\n",
       " '_27': [1, 2, 123, 233, 'amish', True, False, (5+6j), 543.987],\n",
       " '_i28': 'id(l)',\n",
       " '_28': 139843135153600,\n",
       " '_i29': 'l[4][2:]',\n",
       " '_29': 'ish',\n",
       " '_i30': 'l[0:4:2]',\n",
       " '_30': [1, 123],\n",
       " '_i31': 'l[0:4]',\n",
       " '_31': [1, 2, 123, 233],\n",
       " '_i32': 'l[-1::-1]',\n",
       " '_32': [543.987, (5+6j), False, True, 'amish', 233, 123, 2, 1],\n",
       " '_i33': 'l[::-1]',\n",
       " '_33': [543.987, (5+6j), False, True, 'amish', 233, 123, 2, 1],\n",
       " '_i34': 'id(l[::-1])',\n",
       " '_34': 139843135153152,\n",
       " '_i35': 'id(l)',\n",
       " '_35': 139843135153600,\n",
       " '_i36': 'l',\n",
       " '_36': [1, 2, 123, 233, 'amish', True, False, (5+6j), 543.987],\n",
       " '_i37': 'id(l)',\n",
       " '_37': 139843135153600,\n",
       " '_i38': 'id(l[::-1])',\n",
       " '_38': 139843135311552,\n",
       " '_i39': 'id(l[-1::-1])',\n",
       " '_39': 139843195254144,\n",
       " '_i40': 'id(l[::2])',\n",
       " '_40': 139843135100544,\n",
       " '_i41': 'l[::2])',\n",
       " '_i42': 'l[::2]',\n",
       " '_42': [1, 123, 'amish', False, 543.987],\n",
       " '_i43': 's=\"amish\"',\n",
       " 's': 'amish',\n",
       " '_i44': 's',\n",
       " '_44': 'amish',\n",
       " '_i45': 'l+s',\n",
       " '_i46': 'id(l)',\n",
       " '_46': 139843135153600,\n",
       " '_i47': 'x=12233',\n",
       " 'x': 12233,\n",
       " '_i48': 'list(x)',\n",
       " '_i49': 'l',\n",
       " '_49': [1, 2, 123, 233, 'amish', True, False, (5+6j), 543.987],\n",
       " '_i50': 'l[4][0:2]',\n",
       " '_50': 'am',\n",
       " '_i51': 'l+15',\n",
       " '_i52': 'm=[1,2,3,4,5]',\n",
       " 'm': [1, 2, 3, 4, 5],\n",
       " '_i53': 'l+m',\n",
       " '_53': [1, 2, 123, 233, 'amish', True, False, (5+6j), 543.987, 1, 2, 3, 4, 5],\n",
       " '_i54': 'm+l',\n",
       " '_54': [1, 2, 3, 4, 5, 1, 2, 123, 233, 'amish', True, False, (5+6j), 543.987],\n",
       " '_i55': 'l+list(5)',\n",
       " '_i56': 'list(5)',\n",
       " '_i57': 'x',\n",
       " '_57': 12233,\n",
       " '_i58': 'list(x)',\n",
       " '_i59': 'vars()'}"
      ]
     },
     "execution_count": 59,
     "metadata": {},
     "output_type": "execute_result"
    }
   ],
   "source": [
    "vars()"
   ]
  },
  {
   "cell_type": "code",
   "execution_count": 60,
   "id": "e248b57d-d564-4043-92cf-0233d167ec72",
   "metadata": {},
   "outputs": [
    {
     "data": {
      "text/plain": [
       "{'__name__': '__main__',\n",
       " '__doc__': 'Automatically created module for IPython interactive environment',\n",
       " '__package__': None,\n",
       " '__loader__': None,\n",
       " '__spec__': None,\n",
       " '__builtin__': <module 'builtins' (built-in)>,\n",
       " '__builtins__': <module 'builtins' (built-in)>,\n",
       " '_ih': ['',\n",
       "  'print(\"amish\")',\n",
       "  'type(print(\"amish\"))',\n",
       "  'type(print(type(2)))',\n",
       "  'a=10',\n",
       "  'id(a)',\n",
       "  'b=123',\n",
       "  'id(b)',\n",
       "  'id(a)==id(b)',\n",
       "  'b=10',\n",
       "  'id(a)',\n",
       "  'id(b)',\n",
       "  'id(a)==id(b)',\n",
       "  '## lists in Python',\n",
       "  'let c=##list in python',\n",
       "  'c=## list in python',\n",
       "  'l=[1,2,3,233,\"amish\",True,False,5+6j,543.987]',\n",
       "  'l',\n",
       "  'l[0]',\n",
       "  'l[5]',\n",
       "  'l[7]',\n",
       "  'l[7].real',\n",
       "  'l[4][2]',\n",
       "  'type(l)',\n",
       "  'l[0:2]',\n",
       "  'l[-4:]',\n",
       "  'l[2]=123',\n",
       "  'l',\n",
       "  'id(l)',\n",
       "  'l[4][2:]',\n",
       "  'l[0:4:2]',\n",
       "  'l[0:4]',\n",
       "  'l[-1::-1]',\n",
       "  'l[::-1]',\n",
       "  'id(l[::-1])',\n",
       "  'id(l)',\n",
       "  'l',\n",
       "  'id(l)',\n",
       "  'id(l[::-1])',\n",
       "  'id(l[-1::-1])',\n",
       "  'id(l[::2])',\n",
       "  'l[::2])',\n",
       "  'l[::2]',\n",
       "  's=\"amish\"',\n",
       "  's',\n",
       "  'l+s',\n",
       "  'id(l)',\n",
       "  'x=12233',\n",
       "  'list(x)',\n",
       "  'l',\n",
       "  'l[4][0:2]',\n",
       "  'l+15',\n",
       "  'm=[1,2,3,4,5]',\n",
       "  'l+m',\n",
       "  'm+l',\n",
       "  'l+list(5)',\n",
       "  'list(5)',\n",
       "  'x',\n",
       "  'list(x)',\n",
       "  'vars()',\n",
       "  'locals()'],\n",
       " '_oh': {2: NoneType,\n",
       "  3: NoneType,\n",
       "  5: 139843244442128,\n",
       "  7: 139843244445744,\n",
       "  8: False,\n",
       "  10: 139843244442128,\n",
       "  11: 139843244442128,\n",
       "  12: True,\n",
       "  17: [1, 2, 123, 233, 'amish', True, False, (5+6j), 543.987],\n",
       "  18: 1,\n",
       "  19: True,\n",
       "  20: (5+6j),\n",
       "  21: 5.0,\n",
       "  22: 'i',\n",
       "  23: list,\n",
       "  24: [1, 2],\n",
       "  25: [True, False, (5+6j), 543.987],\n",
       "  27: [1, 2, 123, 233, 'amish', True, False, (5+6j), 543.987],\n",
       "  28: 139843135153600,\n",
       "  29: 'ish',\n",
       "  30: [1, 123],\n",
       "  31: [1, 2, 123, 233],\n",
       "  32: [543.987, (5+6j), False, True, 'amish', 233, 123, 2, 1],\n",
       "  33: [543.987, (5+6j), False, True, 'amish', 233, 123, 2, 1],\n",
       "  34: 139843135153152,\n",
       "  35: 139843135153600,\n",
       "  36: [1, 2, 123, 233, 'amish', True, False, (5+6j), 543.987],\n",
       "  37: 139843135153600,\n",
       "  38: 139843135311552,\n",
       "  39: 139843195254144,\n",
       "  40: 139843135100544,\n",
       "  42: [1, 123, 'amish', False, 543.987],\n",
       "  44: 'amish',\n",
       "  46: 139843135153600,\n",
       "  49: [1, 2, 123, 233, 'amish', True, False, (5+6j), 543.987],\n",
       "  50: 'am',\n",
       "  53: [1, 2, 123, 233, 'amish', True, False, (5+6j), 543.987, 1, 2, 3, 4, 5],\n",
       "  54: [1, 2, 3, 4, 5, 1, 2, 123, 233, 'amish', True, False, (5+6j), 543.987],\n",
       "  57: 12233,\n",
       "  59: {...}},\n",
       " '_dh': [PosixPath('/home/jovyan/work')],\n",
       " 'In': ['',\n",
       "  'print(\"amish\")',\n",
       "  'type(print(\"amish\"))',\n",
       "  'type(print(type(2)))',\n",
       "  'a=10',\n",
       "  'id(a)',\n",
       "  'b=123',\n",
       "  'id(b)',\n",
       "  'id(a)==id(b)',\n",
       "  'b=10',\n",
       "  'id(a)',\n",
       "  'id(b)',\n",
       "  'id(a)==id(b)',\n",
       "  '## lists in Python',\n",
       "  'let c=##list in python',\n",
       "  'c=## list in python',\n",
       "  'l=[1,2,3,233,\"amish\",True,False,5+6j,543.987]',\n",
       "  'l',\n",
       "  'l[0]',\n",
       "  'l[5]',\n",
       "  'l[7]',\n",
       "  'l[7].real',\n",
       "  'l[4][2]',\n",
       "  'type(l)',\n",
       "  'l[0:2]',\n",
       "  'l[-4:]',\n",
       "  'l[2]=123',\n",
       "  'l',\n",
       "  'id(l)',\n",
       "  'l[4][2:]',\n",
       "  'l[0:4:2]',\n",
       "  'l[0:4]',\n",
       "  'l[-1::-1]',\n",
       "  'l[::-1]',\n",
       "  'id(l[::-1])',\n",
       "  'id(l)',\n",
       "  'l',\n",
       "  'id(l)',\n",
       "  'id(l[::-1])',\n",
       "  'id(l[-1::-1])',\n",
       "  'id(l[::2])',\n",
       "  'l[::2])',\n",
       "  'l[::2]',\n",
       "  's=\"amish\"',\n",
       "  's',\n",
       "  'l+s',\n",
       "  'id(l)',\n",
       "  'x=12233',\n",
       "  'list(x)',\n",
       "  'l',\n",
       "  'l[4][0:2]',\n",
       "  'l+15',\n",
       "  'm=[1,2,3,4,5]',\n",
       "  'l+m',\n",
       "  'm+l',\n",
       "  'l+list(5)',\n",
       "  'list(5)',\n",
       "  'x',\n",
       "  'list(x)',\n",
       "  'vars()',\n",
       "  'locals()'],\n",
       " 'Out': {2: NoneType,\n",
       "  3: NoneType,\n",
       "  5: 139843244442128,\n",
       "  7: 139843244445744,\n",
       "  8: False,\n",
       "  10: 139843244442128,\n",
       "  11: 139843244442128,\n",
       "  12: True,\n",
       "  17: [1, 2, 123, 233, 'amish', True, False, (5+6j), 543.987],\n",
       "  18: 1,\n",
       "  19: True,\n",
       "  20: (5+6j),\n",
       "  21: 5.0,\n",
       "  22: 'i',\n",
       "  23: list,\n",
       "  24: [1, 2],\n",
       "  25: [True, False, (5+6j), 543.987],\n",
       "  27: [1, 2, 123, 233, 'amish', True, False, (5+6j), 543.987],\n",
       "  28: 139843135153600,\n",
       "  29: 'ish',\n",
       "  30: [1, 123],\n",
       "  31: [1, 2, 123, 233],\n",
       "  32: [543.987, (5+6j), False, True, 'amish', 233, 123, 2, 1],\n",
       "  33: [543.987, (5+6j), False, True, 'amish', 233, 123, 2, 1],\n",
       "  34: 139843135153152,\n",
       "  35: 139843135153600,\n",
       "  36: [1, 2, 123, 233, 'amish', True, False, (5+6j), 543.987],\n",
       "  37: 139843135153600,\n",
       "  38: 139843135311552,\n",
       "  39: 139843195254144,\n",
       "  40: 139843135100544,\n",
       "  42: [1, 123, 'amish', False, 543.987],\n",
       "  44: 'amish',\n",
       "  46: 139843135153600,\n",
       "  49: [1, 2, 123, 233, 'amish', True, False, (5+6j), 543.987],\n",
       "  50: 'am',\n",
       "  53: [1, 2, 123, 233, 'amish', True, False, (5+6j), 543.987, 1, 2, 3, 4, 5],\n",
       "  54: [1, 2, 3, 4, 5, 1, 2, 123, 233, 'amish', True, False, (5+6j), 543.987],\n",
       "  57: 12233,\n",
       "  59: {...}},\n",
       " 'get_ipython': <bound method InteractiveShell.get_ipython of <ipykernel.zmqshell.ZMQInteractiveShell object at 0x7f2fc7f97400>>,\n",
       " 'exit': <IPython.core.autocall.ZMQExitAutocall at 0x7f2fc7f97f70>,\n",
       " 'quit': <IPython.core.autocall.ZMQExitAutocall at 0x7f2fc7f97f70>,\n",
       " 'open': <function io.open(file, mode='r', buffering=-1, encoding=None, errors=None, newline=None, closefd=True, opener=None)>,\n",
       " '_': {...},\n",
       " '__': 12233,\n",
       " '___': [1, 2, 3, 4, 5, 1, 2, 123, 233, 'amish', True, False, (5+6j), 543.987],\n",
       " '_i': 'vars()',\n",
       " '_ii': 'list(x)',\n",
       " '_iii': 'x',\n",
       " '_i1': 'print(\"amish\")',\n",
       " '_i2': 'type(print(\"amish\"))',\n",
       " '_2': NoneType,\n",
       " '_i3': 'type(print(type(2)))',\n",
       " '_3': NoneType,\n",
       " '_i4': 'a=10',\n",
       " 'a': 10,\n",
       " '_i5': 'id(a)',\n",
       " '_5': 139843244442128,\n",
       " '_i6': 'b=123',\n",
       " 'b': 10,\n",
       " '_i7': 'id(b)',\n",
       " '_7': 139843244445744,\n",
       " '_i8': 'id(a)==id(b)',\n",
       " '_8': False,\n",
       " '_i9': 'b=10',\n",
       " '_i10': 'id(a)',\n",
       " '_10': 139843244442128,\n",
       " '_i11': 'id(b)',\n",
       " '_11': 139843244442128,\n",
       " '_i12': 'id(a)==id(b)',\n",
       " '_12': True,\n",
       " '_i13': '## lists in Python',\n",
       " '_i14': 'let c=##list in python',\n",
       " '_i15': 'c=## list in python',\n",
       " '_i16': 'l=[1,2,3,233,\"amish\",True,False,5+6j,543.987]',\n",
       " 'l': [1, 2, 123, 233, 'amish', True, False, (5+6j), 543.987],\n",
       " '_i17': 'l',\n",
       " '_17': [1, 2, 123, 233, 'amish', True, False, (5+6j), 543.987],\n",
       " '_i18': 'l[0]',\n",
       " '_18': 1,\n",
       " '_i19': 'l[5]',\n",
       " '_19': True,\n",
       " '_i20': 'l[7]',\n",
       " '_20': (5+6j),\n",
       " '_i21': 'l[7].real',\n",
       " '_21': 5.0,\n",
       " '_i22': 'l[4][2]',\n",
       " '_22': 'i',\n",
       " '_i23': 'type(l)',\n",
       " '_23': list,\n",
       " '_i24': 'l[0:2]',\n",
       " '_24': [1, 2],\n",
       " '_i25': 'l[-4:]',\n",
       " '_25': [True, False, (5+6j), 543.987],\n",
       " '_i26': 'l[2]=123',\n",
       " '_i27': 'l',\n",
       " '_27': [1, 2, 123, 233, 'amish', True, False, (5+6j), 543.987],\n",
       " '_i28': 'id(l)',\n",
       " '_28': 139843135153600,\n",
       " '_i29': 'l[4][2:]',\n",
       " '_29': 'ish',\n",
       " '_i30': 'l[0:4:2]',\n",
       " '_30': [1, 123],\n",
       " '_i31': 'l[0:4]',\n",
       " '_31': [1, 2, 123, 233],\n",
       " '_i32': 'l[-1::-1]',\n",
       " '_32': [543.987, (5+6j), False, True, 'amish', 233, 123, 2, 1],\n",
       " '_i33': 'l[::-1]',\n",
       " '_33': [543.987, (5+6j), False, True, 'amish', 233, 123, 2, 1],\n",
       " '_i34': 'id(l[::-1])',\n",
       " '_34': 139843135153152,\n",
       " '_i35': 'id(l)',\n",
       " '_35': 139843135153600,\n",
       " '_i36': 'l',\n",
       " '_36': [1, 2, 123, 233, 'amish', True, False, (5+6j), 543.987],\n",
       " '_i37': 'id(l)',\n",
       " '_37': 139843135153600,\n",
       " '_i38': 'id(l[::-1])',\n",
       " '_38': 139843135311552,\n",
       " '_i39': 'id(l[-1::-1])',\n",
       " '_39': 139843195254144,\n",
       " '_i40': 'id(l[::2])',\n",
       " '_40': 139843135100544,\n",
       " '_i41': 'l[::2])',\n",
       " '_i42': 'l[::2]',\n",
       " '_42': [1, 123, 'amish', False, 543.987],\n",
       " '_i43': 's=\"amish\"',\n",
       " 's': 'amish',\n",
       " '_i44': 's',\n",
       " '_44': 'amish',\n",
       " '_i45': 'l+s',\n",
       " '_i46': 'id(l)',\n",
       " '_46': 139843135153600,\n",
       " '_i47': 'x=12233',\n",
       " 'x': 12233,\n",
       " '_i48': 'list(x)',\n",
       " '_i49': 'l',\n",
       " '_49': [1, 2, 123, 233, 'amish', True, False, (5+6j), 543.987],\n",
       " '_i50': 'l[4][0:2]',\n",
       " '_50': 'am',\n",
       " '_i51': 'l+15',\n",
       " '_i52': 'm=[1,2,3,4,5]',\n",
       " 'm': [1, 2, 3, 4, 5],\n",
       " '_i53': 'l+m',\n",
       " '_53': [1, 2, 123, 233, 'amish', True, False, (5+6j), 543.987, 1, 2, 3, 4, 5],\n",
       " '_i54': 'm+l',\n",
       " '_54': [1, 2, 3, 4, 5, 1, 2, 123, 233, 'amish', True, False, (5+6j), 543.987],\n",
       " '_i55': 'l+list(5)',\n",
       " '_i56': 'list(5)',\n",
       " '_i57': 'x',\n",
       " '_57': 12233,\n",
       " '_i58': 'list(x)',\n",
       " '_i59': 'vars()',\n",
       " '_59': {...},\n",
       " '_i60': 'locals()'}"
      ]
     },
     "execution_count": 60,
     "metadata": {},
     "output_type": "execute_result"
    }
   ],
   "source": [
    "locals()"
   ]
  },
  {
   "cell_type": "code",
   "execution_count": 61,
   "id": "3f2b3b8c-5dac-41dc-b8b0-c8f405d2acb4",
   "metadata": {},
   "outputs": [
    {
     "data": {
      "text/plain": [
       "['In',\n",
       " 'Out',\n",
       " '_',\n",
       " '_10',\n",
       " '_11',\n",
       " '_12',\n",
       " '_17',\n",
       " '_18',\n",
       " '_19',\n",
       " '_2',\n",
       " '_20',\n",
       " '_21',\n",
       " '_22',\n",
       " '_23',\n",
       " '_24',\n",
       " '_25',\n",
       " '_27',\n",
       " '_28',\n",
       " '_29',\n",
       " '_3',\n",
       " '_30',\n",
       " '_31',\n",
       " '_32',\n",
       " '_33',\n",
       " '_34',\n",
       " '_35',\n",
       " '_36',\n",
       " '_37',\n",
       " '_38',\n",
       " '_39',\n",
       " '_40',\n",
       " '_42',\n",
       " '_44',\n",
       " '_46',\n",
       " '_49',\n",
       " '_5',\n",
       " '_50',\n",
       " '_53',\n",
       " '_54',\n",
       " '_57',\n",
       " '_59',\n",
       " '_60',\n",
       " '_7',\n",
       " '_8',\n",
       " '__',\n",
       " '___',\n",
       " '__builtin__',\n",
       " '__builtins__',\n",
       " '__doc__',\n",
       " '__loader__',\n",
       " '__name__',\n",
       " '__package__',\n",
       " '__spec__',\n",
       " '_dh',\n",
       " '_i',\n",
       " '_i1',\n",
       " '_i10',\n",
       " '_i11',\n",
       " '_i12',\n",
       " '_i13',\n",
       " '_i14',\n",
       " '_i15',\n",
       " '_i16',\n",
       " '_i17',\n",
       " '_i18',\n",
       " '_i19',\n",
       " '_i2',\n",
       " '_i20',\n",
       " '_i21',\n",
       " '_i22',\n",
       " '_i23',\n",
       " '_i24',\n",
       " '_i25',\n",
       " '_i26',\n",
       " '_i27',\n",
       " '_i28',\n",
       " '_i29',\n",
       " '_i3',\n",
       " '_i30',\n",
       " '_i31',\n",
       " '_i32',\n",
       " '_i33',\n",
       " '_i34',\n",
       " '_i35',\n",
       " '_i36',\n",
       " '_i37',\n",
       " '_i38',\n",
       " '_i39',\n",
       " '_i4',\n",
       " '_i40',\n",
       " '_i41',\n",
       " '_i42',\n",
       " '_i43',\n",
       " '_i44',\n",
       " '_i45',\n",
       " '_i46',\n",
       " '_i47',\n",
       " '_i48',\n",
       " '_i49',\n",
       " '_i5',\n",
       " '_i50',\n",
       " '_i51',\n",
       " '_i52',\n",
       " '_i53',\n",
       " '_i54',\n",
       " '_i55',\n",
       " '_i56',\n",
       " '_i57',\n",
       " '_i58',\n",
       " '_i59',\n",
       " '_i6',\n",
       " '_i60',\n",
       " '_i61',\n",
       " '_i7',\n",
       " '_i8',\n",
       " '_i9',\n",
       " '_ih',\n",
       " '_ii',\n",
       " '_iii',\n",
       " '_oh',\n",
       " 'a',\n",
       " 'b',\n",
       " 'exit',\n",
       " 'get_ipython',\n",
       " 'l',\n",
       " 'm',\n",
       " 'open',\n",
       " 'quit',\n",
       " 's',\n",
       " 'x']"
      ]
     },
     "execution_count": 61,
     "metadata": {},
     "output_type": "execute_result"
    }
   ],
   "source": [
    "dir()"
   ]
  },
  {
   "cell_type": "code",
   "execution_count": 62,
   "id": "0a7787bc-6333-4091-9baa-c185d94ca9f1",
   "metadata": {},
   "outputs": [
    {
     "data": {
      "text/plain": [
       "{'__name__': '__main__',\n",
       " '__doc__': 'Automatically created module for IPython interactive environment',\n",
       " '__package__': None,\n",
       " '__loader__': None,\n",
       " '__spec__': None,\n",
       " '__builtin__': <module 'builtins' (built-in)>,\n",
       " '__builtins__': <module 'builtins' (built-in)>,\n",
       " '_ih': ['',\n",
       "  'print(\"amish\")',\n",
       "  'type(print(\"amish\"))',\n",
       "  'type(print(type(2)))',\n",
       "  'a=10',\n",
       "  'id(a)',\n",
       "  'b=123',\n",
       "  'id(b)',\n",
       "  'id(a)==id(b)',\n",
       "  'b=10',\n",
       "  'id(a)',\n",
       "  'id(b)',\n",
       "  'id(a)==id(b)',\n",
       "  '## lists in Python',\n",
       "  'let c=##list in python',\n",
       "  'c=## list in python',\n",
       "  'l=[1,2,3,233,\"amish\",True,False,5+6j,543.987]',\n",
       "  'l',\n",
       "  'l[0]',\n",
       "  'l[5]',\n",
       "  'l[7]',\n",
       "  'l[7].real',\n",
       "  'l[4][2]',\n",
       "  'type(l)',\n",
       "  'l[0:2]',\n",
       "  'l[-4:]',\n",
       "  'l[2]=123',\n",
       "  'l',\n",
       "  'id(l)',\n",
       "  'l[4][2:]',\n",
       "  'l[0:4:2]',\n",
       "  'l[0:4]',\n",
       "  'l[-1::-1]',\n",
       "  'l[::-1]',\n",
       "  'id(l[::-1])',\n",
       "  'id(l)',\n",
       "  'l',\n",
       "  'id(l)',\n",
       "  'id(l[::-1])',\n",
       "  'id(l[-1::-1])',\n",
       "  'id(l[::2])',\n",
       "  'l[::2])',\n",
       "  'l[::2]',\n",
       "  's=\"amish\"',\n",
       "  's',\n",
       "  'l+s',\n",
       "  'id(l)',\n",
       "  'x=12233',\n",
       "  'list(x)',\n",
       "  'l',\n",
       "  'l[4][0:2]',\n",
       "  'l+15',\n",
       "  'm=[1,2,3,4,5]',\n",
       "  'l+m',\n",
       "  'm+l',\n",
       "  'l+list(5)',\n",
       "  'list(5)',\n",
       "  'x',\n",
       "  'list(x)',\n",
       "  'vars()',\n",
       "  'locals()',\n",
       "  'dir()',\n",
       "  'globals()'],\n",
       " '_oh': {2: NoneType,\n",
       "  3: NoneType,\n",
       "  5: 139843244442128,\n",
       "  7: 139843244445744,\n",
       "  8: False,\n",
       "  10: 139843244442128,\n",
       "  11: 139843244442128,\n",
       "  12: True,\n",
       "  17: [1, 2, 123, 233, 'amish', True, False, (5+6j), 543.987],\n",
       "  18: 1,\n",
       "  19: True,\n",
       "  20: (5+6j),\n",
       "  21: 5.0,\n",
       "  22: 'i',\n",
       "  23: list,\n",
       "  24: [1, 2],\n",
       "  25: [True, False, (5+6j), 543.987],\n",
       "  27: [1, 2, 123, 233, 'amish', True, False, (5+6j), 543.987],\n",
       "  28: 139843135153600,\n",
       "  29: 'ish',\n",
       "  30: [1, 123],\n",
       "  31: [1, 2, 123, 233],\n",
       "  32: [543.987, (5+6j), False, True, 'amish', 233, 123, 2, 1],\n",
       "  33: [543.987, (5+6j), False, True, 'amish', 233, 123, 2, 1],\n",
       "  34: 139843135153152,\n",
       "  35: 139843135153600,\n",
       "  36: [1, 2, 123, 233, 'amish', True, False, (5+6j), 543.987],\n",
       "  37: 139843135153600,\n",
       "  38: 139843135311552,\n",
       "  39: 139843195254144,\n",
       "  40: 139843135100544,\n",
       "  42: [1, 123, 'amish', False, 543.987],\n",
       "  44: 'amish',\n",
       "  46: 139843135153600,\n",
       "  49: [1, 2, 123, 233, 'amish', True, False, (5+6j), 543.987],\n",
       "  50: 'am',\n",
       "  53: [1, 2, 123, 233, 'amish', True, False, (5+6j), 543.987, 1, 2, 3, 4, 5],\n",
       "  54: [1, 2, 3, 4, 5, 1, 2, 123, 233, 'amish', True, False, (5+6j), 543.987],\n",
       "  57: 12233,\n",
       "  59: {...},\n",
       "  60: {...},\n",
       "  61: ['In',\n",
       "   'Out',\n",
       "   '_',\n",
       "   '_10',\n",
       "   '_11',\n",
       "   '_12',\n",
       "   '_17',\n",
       "   '_18',\n",
       "   '_19',\n",
       "   '_2',\n",
       "   '_20',\n",
       "   '_21',\n",
       "   '_22',\n",
       "   '_23',\n",
       "   '_24',\n",
       "   '_25',\n",
       "   '_27',\n",
       "   '_28',\n",
       "   '_29',\n",
       "   '_3',\n",
       "   '_30',\n",
       "   '_31',\n",
       "   '_32',\n",
       "   '_33',\n",
       "   '_34',\n",
       "   '_35',\n",
       "   '_36',\n",
       "   '_37',\n",
       "   '_38',\n",
       "   '_39',\n",
       "   '_40',\n",
       "   '_42',\n",
       "   '_44',\n",
       "   '_46',\n",
       "   '_49',\n",
       "   '_5',\n",
       "   '_50',\n",
       "   '_53',\n",
       "   '_54',\n",
       "   '_57',\n",
       "   '_59',\n",
       "   '_60',\n",
       "   '_7',\n",
       "   '_8',\n",
       "   '__',\n",
       "   '___',\n",
       "   '__builtin__',\n",
       "   '__builtins__',\n",
       "   '__doc__',\n",
       "   '__loader__',\n",
       "   '__name__',\n",
       "   '__package__',\n",
       "   '__spec__',\n",
       "   '_dh',\n",
       "   '_i',\n",
       "   '_i1',\n",
       "   '_i10',\n",
       "   '_i11',\n",
       "   '_i12',\n",
       "   '_i13',\n",
       "   '_i14',\n",
       "   '_i15',\n",
       "   '_i16',\n",
       "   '_i17',\n",
       "   '_i18',\n",
       "   '_i19',\n",
       "   '_i2',\n",
       "   '_i20',\n",
       "   '_i21',\n",
       "   '_i22',\n",
       "   '_i23',\n",
       "   '_i24',\n",
       "   '_i25',\n",
       "   '_i26',\n",
       "   '_i27',\n",
       "   '_i28',\n",
       "   '_i29',\n",
       "   '_i3',\n",
       "   '_i30',\n",
       "   '_i31',\n",
       "   '_i32',\n",
       "   '_i33',\n",
       "   '_i34',\n",
       "   '_i35',\n",
       "   '_i36',\n",
       "   '_i37',\n",
       "   '_i38',\n",
       "   '_i39',\n",
       "   '_i4',\n",
       "   '_i40',\n",
       "   '_i41',\n",
       "   '_i42',\n",
       "   '_i43',\n",
       "   '_i44',\n",
       "   '_i45',\n",
       "   '_i46',\n",
       "   '_i47',\n",
       "   '_i48',\n",
       "   '_i49',\n",
       "   '_i5',\n",
       "   '_i50',\n",
       "   '_i51',\n",
       "   '_i52',\n",
       "   '_i53',\n",
       "   '_i54',\n",
       "   '_i55',\n",
       "   '_i56',\n",
       "   '_i57',\n",
       "   '_i58',\n",
       "   '_i59',\n",
       "   '_i6',\n",
       "   '_i60',\n",
       "   '_i61',\n",
       "   '_i7',\n",
       "   '_i8',\n",
       "   '_i9',\n",
       "   '_ih',\n",
       "   '_ii',\n",
       "   '_iii',\n",
       "   '_oh',\n",
       "   'a',\n",
       "   'b',\n",
       "   'exit',\n",
       "   'get_ipython',\n",
       "   'l',\n",
       "   'm',\n",
       "   'open',\n",
       "   'quit',\n",
       "   's',\n",
       "   'x']},\n",
       " '_dh': [PosixPath('/home/jovyan/work')],\n",
       " 'In': ['',\n",
       "  'print(\"amish\")',\n",
       "  'type(print(\"amish\"))',\n",
       "  'type(print(type(2)))',\n",
       "  'a=10',\n",
       "  'id(a)',\n",
       "  'b=123',\n",
       "  'id(b)',\n",
       "  'id(a)==id(b)',\n",
       "  'b=10',\n",
       "  'id(a)',\n",
       "  'id(b)',\n",
       "  'id(a)==id(b)',\n",
       "  '## lists in Python',\n",
       "  'let c=##list in python',\n",
       "  'c=## list in python',\n",
       "  'l=[1,2,3,233,\"amish\",True,False,5+6j,543.987]',\n",
       "  'l',\n",
       "  'l[0]',\n",
       "  'l[5]',\n",
       "  'l[7]',\n",
       "  'l[7].real',\n",
       "  'l[4][2]',\n",
       "  'type(l)',\n",
       "  'l[0:2]',\n",
       "  'l[-4:]',\n",
       "  'l[2]=123',\n",
       "  'l',\n",
       "  'id(l)',\n",
       "  'l[4][2:]',\n",
       "  'l[0:4:2]',\n",
       "  'l[0:4]',\n",
       "  'l[-1::-1]',\n",
       "  'l[::-1]',\n",
       "  'id(l[::-1])',\n",
       "  'id(l)',\n",
       "  'l',\n",
       "  'id(l)',\n",
       "  'id(l[::-1])',\n",
       "  'id(l[-1::-1])',\n",
       "  'id(l[::2])',\n",
       "  'l[::2])',\n",
       "  'l[::2]',\n",
       "  's=\"amish\"',\n",
       "  's',\n",
       "  'l+s',\n",
       "  'id(l)',\n",
       "  'x=12233',\n",
       "  'list(x)',\n",
       "  'l',\n",
       "  'l[4][0:2]',\n",
       "  'l+15',\n",
       "  'm=[1,2,3,4,5]',\n",
       "  'l+m',\n",
       "  'm+l',\n",
       "  'l+list(5)',\n",
       "  'list(5)',\n",
       "  'x',\n",
       "  'list(x)',\n",
       "  'vars()',\n",
       "  'locals()',\n",
       "  'dir()',\n",
       "  'globals()'],\n",
       " 'Out': {2: NoneType,\n",
       "  3: NoneType,\n",
       "  5: 139843244442128,\n",
       "  7: 139843244445744,\n",
       "  8: False,\n",
       "  10: 139843244442128,\n",
       "  11: 139843244442128,\n",
       "  12: True,\n",
       "  17: [1, 2, 123, 233, 'amish', True, False, (5+6j), 543.987],\n",
       "  18: 1,\n",
       "  19: True,\n",
       "  20: (5+6j),\n",
       "  21: 5.0,\n",
       "  22: 'i',\n",
       "  23: list,\n",
       "  24: [1, 2],\n",
       "  25: [True, False, (5+6j), 543.987],\n",
       "  27: [1, 2, 123, 233, 'amish', True, False, (5+6j), 543.987],\n",
       "  28: 139843135153600,\n",
       "  29: 'ish',\n",
       "  30: [1, 123],\n",
       "  31: [1, 2, 123, 233],\n",
       "  32: [543.987, (5+6j), False, True, 'amish', 233, 123, 2, 1],\n",
       "  33: [543.987, (5+6j), False, True, 'amish', 233, 123, 2, 1],\n",
       "  34: 139843135153152,\n",
       "  35: 139843135153600,\n",
       "  36: [1, 2, 123, 233, 'amish', True, False, (5+6j), 543.987],\n",
       "  37: 139843135153600,\n",
       "  38: 139843135311552,\n",
       "  39: 139843195254144,\n",
       "  40: 139843135100544,\n",
       "  42: [1, 123, 'amish', False, 543.987],\n",
       "  44: 'amish',\n",
       "  46: 139843135153600,\n",
       "  49: [1, 2, 123, 233, 'amish', True, False, (5+6j), 543.987],\n",
       "  50: 'am',\n",
       "  53: [1, 2, 123, 233, 'amish', True, False, (5+6j), 543.987, 1, 2, 3, 4, 5],\n",
       "  54: [1, 2, 3, 4, 5, 1, 2, 123, 233, 'amish', True, False, (5+6j), 543.987],\n",
       "  57: 12233,\n",
       "  59: {...},\n",
       "  60: {...},\n",
       "  61: ['In',\n",
       "   'Out',\n",
       "   '_',\n",
       "   '_10',\n",
       "   '_11',\n",
       "   '_12',\n",
       "   '_17',\n",
       "   '_18',\n",
       "   '_19',\n",
       "   '_2',\n",
       "   '_20',\n",
       "   '_21',\n",
       "   '_22',\n",
       "   '_23',\n",
       "   '_24',\n",
       "   '_25',\n",
       "   '_27',\n",
       "   '_28',\n",
       "   '_29',\n",
       "   '_3',\n",
       "   '_30',\n",
       "   '_31',\n",
       "   '_32',\n",
       "   '_33',\n",
       "   '_34',\n",
       "   '_35',\n",
       "   '_36',\n",
       "   '_37',\n",
       "   '_38',\n",
       "   '_39',\n",
       "   '_40',\n",
       "   '_42',\n",
       "   '_44',\n",
       "   '_46',\n",
       "   '_49',\n",
       "   '_5',\n",
       "   '_50',\n",
       "   '_53',\n",
       "   '_54',\n",
       "   '_57',\n",
       "   '_59',\n",
       "   '_60',\n",
       "   '_7',\n",
       "   '_8',\n",
       "   '__',\n",
       "   '___',\n",
       "   '__builtin__',\n",
       "   '__builtins__',\n",
       "   '__doc__',\n",
       "   '__loader__',\n",
       "   '__name__',\n",
       "   '__package__',\n",
       "   '__spec__',\n",
       "   '_dh',\n",
       "   '_i',\n",
       "   '_i1',\n",
       "   '_i10',\n",
       "   '_i11',\n",
       "   '_i12',\n",
       "   '_i13',\n",
       "   '_i14',\n",
       "   '_i15',\n",
       "   '_i16',\n",
       "   '_i17',\n",
       "   '_i18',\n",
       "   '_i19',\n",
       "   '_i2',\n",
       "   '_i20',\n",
       "   '_i21',\n",
       "   '_i22',\n",
       "   '_i23',\n",
       "   '_i24',\n",
       "   '_i25',\n",
       "   '_i26',\n",
       "   '_i27',\n",
       "   '_i28',\n",
       "   '_i29',\n",
       "   '_i3',\n",
       "   '_i30',\n",
       "   '_i31',\n",
       "   '_i32',\n",
       "   '_i33',\n",
       "   '_i34',\n",
       "   '_i35',\n",
       "   '_i36',\n",
       "   '_i37',\n",
       "   '_i38',\n",
       "   '_i39',\n",
       "   '_i4',\n",
       "   '_i40',\n",
       "   '_i41',\n",
       "   '_i42',\n",
       "   '_i43',\n",
       "   '_i44',\n",
       "   '_i45',\n",
       "   '_i46',\n",
       "   '_i47',\n",
       "   '_i48',\n",
       "   '_i49',\n",
       "   '_i5',\n",
       "   '_i50',\n",
       "   '_i51',\n",
       "   '_i52',\n",
       "   '_i53',\n",
       "   '_i54',\n",
       "   '_i55',\n",
       "   '_i56',\n",
       "   '_i57',\n",
       "   '_i58',\n",
       "   '_i59',\n",
       "   '_i6',\n",
       "   '_i60',\n",
       "   '_i61',\n",
       "   '_i7',\n",
       "   '_i8',\n",
       "   '_i9',\n",
       "   '_ih',\n",
       "   '_ii',\n",
       "   '_iii',\n",
       "   '_oh',\n",
       "   'a',\n",
       "   'b',\n",
       "   'exit',\n",
       "   'get_ipython',\n",
       "   'l',\n",
       "   'm',\n",
       "   'open',\n",
       "   'quit',\n",
       "   's',\n",
       "   'x']},\n",
       " 'get_ipython': <bound method InteractiveShell.get_ipython of <ipykernel.zmqshell.ZMQInteractiveShell object at 0x7f2fc7f97400>>,\n",
       " 'exit': <IPython.core.autocall.ZMQExitAutocall at 0x7f2fc7f97f70>,\n",
       " 'quit': <IPython.core.autocall.ZMQExitAutocall at 0x7f2fc7f97f70>,\n",
       " 'open': <function io.open(file, mode='r', buffering=-1, encoding=None, errors=None, newline=None, closefd=True, opener=None)>,\n",
       " '_': ['In',\n",
       "  'Out',\n",
       "  '_',\n",
       "  '_10',\n",
       "  '_11',\n",
       "  '_12',\n",
       "  '_17',\n",
       "  '_18',\n",
       "  '_19',\n",
       "  '_2',\n",
       "  '_20',\n",
       "  '_21',\n",
       "  '_22',\n",
       "  '_23',\n",
       "  '_24',\n",
       "  '_25',\n",
       "  '_27',\n",
       "  '_28',\n",
       "  '_29',\n",
       "  '_3',\n",
       "  '_30',\n",
       "  '_31',\n",
       "  '_32',\n",
       "  '_33',\n",
       "  '_34',\n",
       "  '_35',\n",
       "  '_36',\n",
       "  '_37',\n",
       "  '_38',\n",
       "  '_39',\n",
       "  '_40',\n",
       "  '_42',\n",
       "  '_44',\n",
       "  '_46',\n",
       "  '_49',\n",
       "  '_5',\n",
       "  '_50',\n",
       "  '_53',\n",
       "  '_54',\n",
       "  '_57',\n",
       "  '_59',\n",
       "  '_60',\n",
       "  '_7',\n",
       "  '_8',\n",
       "  '__',\n",
       "  '___',\n",
       "  '__builtin__',\n",
       "  '__builtins__',\n",
       "  '__doc__',\n",
       "  '__loader__',\n",
       "  '__name__',\n",
       "  '__package__',\n",
       "  '__spec__',\n",
       "  '_dh',\n",
       "  '_i',\n",
       "  '_i1',\n",
       "  '_i10',\n",
       "  '_i11',\n",
       "  '_i12',\n",
       "  '_i13',\n",
       "  '_i14',\n",
       "  '_i15',\n",
       "  '_i16',\n",
       "  '_i17',\n",
       "  '_i18',\n",
       "  '_i19',\n",
       "  '_i2',\n",
       "  '_i20',\n",
       "  '_i21',\n",
       "  '_i22',\n",
       "  '_i23',\n",
       "  '_i24',\n",
       "  '_i25',\n",
       "  '_i26',\n",
       "  '_i27',\n",
       "  '_i28',\n",
       "  '_i29',\n",
       "  '_i3',\n",
       "  '_i30',\n",
       "  '_i31',\n",
       "  '_i32',\n",
       "  '_i33',\n",
       "  '_i34',\n",
       "  '_i35',\n",
       "  '_i36',\n",
       "  '_i37',\n",
       "  '_i38',\n",
       "  '_i39',\n",
       "  '_i4',\n",
       "  '_i40',\n",
       "  '_i41',\n",
       "  '_i42',\n",
       "  '_i43',\n",
       "  '_i44',\n",
       "  '_i45',\n",
       "  '_i46',\n",
       "  '_i47',\n",
       "  '_i48',\n",
       "  '_i49',\n",
       "  '_i5',\n",
       "  '_i50',\n",
       "  '_i51',\n",
       "  '_i52',\n",
       "  '_i53',\n",
       "  '_i54',\n",
       "  '_i55',\n",
       "  '_i56',\n",
       "  '_i57',\n",
       "  '_i58',\n",
       "  '_i59',\n",
       "  '_i6',\n",
       "  '_i60',\n",
       "  '_i61',\n",
       "  '_i7',\n",
       "  '_i8',\n",
       "  '_i9',\n",
       "  '_ih',\n",
       "  '_ii',\n",
       "  '_iii',\n",
       "  '_oh',\n",
       "  'a',\n",
       "  'b',\n",
       "  'exit',\n",
       "  'get_ipython',\n",
       "  'l',\n",
       "  'm',\n",
       "  'open',\n",
       "  'quit',\n",
       "  's',\n",
       "  'x'],\n",
       " '__': {...},\n",
       " '___': {...},\n",
       " '_i': 'dir()',\n",
       " '_ii': 'locals()',\n",
       " '_iii': 'vars()',\n",
       " '_i1': 'print(\"amish\")',\n",
       " '_i2': 'type(print(\"amish\"))',\n",
       " '_2': NoneType,\n",
       " '_i3': 'type(print(type(2)))',\n",
       " '_3': NoneType,\n",
       " '_i4': 'a=10',\n",
       " 'a': 10,\n",
       " '_i5': 'id(a)',\n",
       " '_5': 139843244442128,\n",
       " '_i6': 'b=123',\n",
       " 'b': 10,\n",
       " '_i7': 'id(b)',\n",
       " '_7': 139843244445744,\n",
       " '_i8': 'id(a)==id(b)',\n",
       " '_8': False,\n",
       " '_i9': 'b=10',\n",
       " '_i10': 'id(a)',\n",
       " '_10': 139843244442128,\n",
       " '_i11': 'id(b)',\n",
       " '_11': 139843244442128,\n",
       " '_i12': 'id(a)==id(b)',\n",
       " '_12': True,\n",
       " '_i13': '## lists in Python',\n",
       " '_i14': 'let c=##list in python',\n",
       " '_i15': 'c=## list in python',\n",
       " '_i16': 'l=[1,2,3,233,\"amish\",True,False,5+6j,543.987]',\n",
       " 'l': [1, 2, 123, 233, 'amish', True, False, (5+6j), 543.987],\n",
       " '_i17': 'l',\n",
       " '_17': [1, 2, 123, 233, 'amish', True, False, (5+6j), 543.987],\n",
       " '_i18': 'l[0]',\n",
       " '_18': 1,\n",
       " '_i19': 'l[5]',\n",
       " '_19': True,\n",
       " '_i20': 'l[7]',\n",
       " '_20': (5+6j),\n",
       " '_i21': 'l[7].real',\n",
       " '_21': 5.0,\n",
       " '_i22': 'l[4][2]',\n",
       " '_22': 'i',\n",
       " '_i23': 'type(l)',\n",
       " '_23': list,\n",
       " '_i24': 'l[0:2]',\n",
       " '_24': [1, 2],\n",
       " '_i25': 'l[-4:]',\n",
       " '_25': [True, False, (5+6j), 543.987],\n",
       " '_i26': 'l[2]=123',\n",
       " '_i27': 'l',\n",
       " '_27': [1, 2, 123, 233, 'amish', True, False, (5+6j), 543.987],\n",
       " '_i28': 'id(l)',\n",
       " '_28': 139843135153600,\n",
       " '_i29': 'l[4][2:]',\n",
       " '_29': 'ish',\n",
       " '_i30': 'l[0:4:2]',\n",
       " '_30': [1, 123],\n",
       " '_i31': 'l[0:4]',\n",
       " '_31': [1, 2, 123, 233],\n",
       " '_i32': 'l[-1::-1]',\n",
       " '_32': [543.987, (5+6j), False, True, 'amish', 233, 123, 2, 1],\n",
       " '_i33': 'l[::-1]',\n",
       " '_33': [543.987, (5+6j), False, True, 'amish', 233, 123, 2, 1],\n",
       " '_i34': 'id(l[::-1])',\n",
       " '_34': 139843135153152,\n",
       " '_i35': 'id(l)',\n",
       " '_35': 139843135153600,\n",
       " '_i36': 'l',\n",
       " '_36': [1, 2, 123, 233, 'amish', True, False, (5+6j), 543.987],\n",
       " '_i37': 'id(l)',\n",
       " '_37': 139843135153600,\n",
       " '_i38': 'id(l[::-1])',\n",
       " '_38': 139843135311552,\n",
       " '_i39': 'id(l[-1::-1])',\n",
       " '_39': 139843195254144,\n",
       " '_i40': 'id(l[::2])',\n",
       " '_40': 139843135100544,\n",
       " '_i41': 'l[::2])',\n",
       " '_i42': 'l[::2]',\n",
       " '_42': [1, 123, 'amish', False, 543.987],\n",
       " '_i43': 's=\"amish\"',\n",
       " 's': 'amish',\n",
       " '_i44': 's',\n",
       " '_44': 'amish',\n",
       " '_i45': 'l+s',\n",
       " '_i46': 'id(l)',\n",
       " '_46': 139843135153600,\n",
       " '_i47': 'x=12233',\n",
       " 'x': 12233,\n",
       " '_i48': 'list(x)',\n",
       " '_i49': 'l',\n",
       " '_49': [1, 2, 123, 233, 'amish', True, False, (5+6j), 543.987],\n",
       " '_i50': 'l[4][0:2]',\n",
       " '_50': 'am',\n",
       " '_i51': 'l+15',\n",
       " '_i52': 'm=[1,2,3,4,5]',\n",
       " 'm': [1, 2, 3, 4, 5],\n",
       " '_i53': 'l+m',\n",
       " '_53': [1, 2, 123, 233, 'amish', True, False, (5+6j), 543.987, 1, 2, 3, 4, 5],\n",
       " '_i54': 'm+l',\n",
       " '_54': [1, 2, 3, 4, 5, 1, 2, 123, 233, 'amish', True, False, (5+6j), 543.987],\n",
       " '_i55': 'l+list(5)',\n",
       " '_i56': 'list(5)',\n",
       " '_i57': 'x',\n",
       " '_57': 12233,\n",
       " '_i58': 'list(x)',\n",
       " '_i59': 'vars()',\n",
       " '_59': {...},\n",
       " '_i60': 'locals()',\n",
       " '_60': {...},\n",
       " '_i61': 'dir()',\n",
       " '_61': ['In',\n",
       "  'Out',\n",
       "  '_',\n",
       "  '_10',\n",
       "  '_11',\n",
       "  '_12',\n",
       "  '_17',\n",
       "  '_18',\n",
       "  '_19',\n",
       "  '_2',\n",
       "  '_20',\n",
       "  '_21',\n",
       "  '_22',\n",
       "  '_23',\n",
       "  '_24',\n",
       "  '_25',\n",
       "  '_27',\n",
       "  '_28',\n",
       "  '_29',\n",
       "  '_3',\n",
       "  '_30',\n",
       "  '_31',\n",
       "  '_32',\n",
       "  '_33',\n",
       "  '_34',\n",
       "  '_35',\n",
       "  '_36',\n",
       "  '_37',\n",
       "  '_38',\n",
       "  '_39',\n",
       "  '_40',\n",
       "  '_42',\n",
       "  '_44',\n",
       "  '_46',\n",
       "  '_49',\n",
       "  '_5',\n",
       "  '_50',\n",
       "  '_53',\n",
       "  '_54',\n",
       "  '_57',\n",
       "  '_59',\n",
       "  '_60',\n",
       "  '_7',\n",
       "  '_8',\n",
       "  '__',\n",
       "  '___',\n",
       "  '__builtin__',\n",
       "  '__builtins__',\n",
       "  '__doc__',\n",
       "  '__loader__',\n",
       "  '__name__',\n",
       "  '__package__',\n",
       "  '__spec__',\n",
       "  '_dh',\n",
       "  '_i',\n",
       "  '_i1',\n",
       "  '_i10',\n",
       "  '_i11',\n",
       "  '_i12',\n",
       "  '_i13',\n",
       "  '_i14',\n",
       "  '_i15',\n",
       "  '_i16',\n",
       "  '_i17',\n",
       "  '_i18',\n",
       "  '_i19',\n",
       "  '_i2',\n",
       "  '_i20',\n",
       "  '_i21',\n",
       "  '_i22',\n",
       "  '_i23',\n",
       "  '_i24',\n",
       "  '_i25',\n",
       "  '_i26',\n",
       "  '_i27',\n",
       "  '_i28',\n",
       "  '_i29',\n",
       "  '_i3',\n",
       "  '_i30',\n",
       "  '_i31',\n",
       "  '_i32',\n",
       "  '_i33',\n",
       "  '_i34',\n",
       "  '_i35',\n",
       "  '_i36',\n",
       "  '_i37',\n",
       "  '_i38',\n",
       "  '_i39',\n",
       "  '_i4',\n",
       "  '_i40',\n",
       "  '_i41',\n",
       "  '_i42',\n",
       "  '_i43',\n",
       "  '_i44',\n",
       "  '_i45',\n",
       "  '_i46',\n",
       "  '_i47',\n",
       "  '_i48',\n",
       "  '_i49',\n",
       "  '_i5',\n",
       "  '_i50',\n",
       "  '_i51',\n",
       "  '_i52',\n",
       "  '_i53',\n",
       "  '_i54',\n",
       "  '_i55',\n",
       "  '_i56',\n",
       "  '_i57',\n",
       "  '_i58',\n",
       "  '_i59',\n",
       "  '_i6',\n",
       "  '_i60',\n",
       "  '_i61',\n",
       "  '_i7',\n",
       "  '_i8',\n",
       "  '_i9',\n",
       "  '_ih',\n",
       "  '_ii',\n",
       "  '_iii',\n",
       "  '_oh',\n",
       "  'a',\n",
       "  'b',\n",
       "  'exit',\n",
       "  'get_ipython',\n",
       "  'l',\n",
       "  'm',\n",
       "  'open',\n",
       "  'quit',\n",
       "  's',\n",
       "  'x'],\n",
       " '_i62': 'globals()'}"
      ]
     },
     "execution_count": 62,
     "metadata": {},
     "output_type": "execute_result"
    }
   ],
   "source": [
    "globals()"
   ]
  },
  {
   "cell_type": "code",
   "execution_count": 63,
   "id": "644e93bc-1777-457c-898f-b09148a0906c",
   "metadata": {},
   "outputs": [
    {
     "data": {
      "text/plain": [
       "[1, 2, 3, 4, 5, 1, 2, 3, 4, 5, 1, 2, 3, 4, 5]"
      ]
     },
     "execution_count": 63,
     "metadata": {},
     "output_type": "execute_result"
    }
   ],
   "source": [
    "m*3"
   ]
  },
  {
   "cell_type": "code",
   "execution_count": 64,
   "id": "9ab06b2c-b9cc-49ce-8c8e-a23013b2b93c",
   "metadata": {},
   "outputs": [
    {
     "data": {
      "text/plain": [
       "[1, 2, 3, 4, 5]"
      ]
     },
     "execution_count": 64,
     "metadata": {},
     "output_type": "execute_result"
    }
   ],
   "source": [
    "m"
   ]
  },
  {
   "cell_type": "code",
   "execution_count": 65,
   "id": "b1fe21bc-af7c-43a5-aa15-e4987a2d1b58",
   "metadata": {},
   "outputs": [
    {
     "ename": "TypeError",
     "evalue": "can only concatenate list (not \"int\") to list",
     "output_type": "error",
     "traceback": [
      "\u001b[0;31m---------------------------------------------------------------------------\u001b[0m",
      "\u001b[0;31mTypeError\u001b[0m                                 Traceback (most recent call last)",
      "Cell \u001b[0;32mIn[65], line 1\u001b[0m\n\u001b[0;32m----> 1\u001b[0m \u001b[43mm\u001b[49m\u001b[38;5;241;43m+\u001b[39;49m\u001b[38;5;241;43m3\u001b[39;49m\n",
      "\u001b[0;31mTypeError\u001b[0m: can only concatenate list (not \"int\") to list"
     ]
    }
   ],
   "source": [
    "m+3"
   ]
  },
  {
   "cell_type": "code",
   "execution_count": 66,
   "id": "e6e4ea8c-96a7-4cff-9e3a-1e573e7d2ef5",
   "metadata": {},
   "outputs": [
    {
     "data": {
      "text/plain": [
       "5"
      ]
     },
     "execution_count": 66,
     "metadata": {},
     "output_type": "execute_result"
    }
   ],
   "source": [
    "len(m)"
   ]
  },
  {
   "cell_type": "code",
   "execution_count": 67,
   "id": "12412989-eda7-4450-8570-9f5f99c613ea",
   "metadata": {},
   "outputs": [
    {
     "data": {
      "text/plain": [
       "9"
      ]
     },
     "execution_count": 67,
     "metadata": {},
     "output_type": "execute_result"
    }
   ],
   "source": [
    "len(l)"
   ]
  },
  {
   "cell_type": "code",
   "execution_count": 68,
   "id": "85fe82f5-b974-4145-9ee3-4e2af1c4a75c",
   "metadata": {},
   "outputs": [],
   "source": [
    "l.append(55)"
   ]
  },
  {
   "cell_type": "code",
   "execution_count": 69,
   "id": "bb00ea28-6ec6-4ac8-906d-4a98d5e724b4",
   "metadata": {},
   "outputs": [
    {
     "data": {
      "text/plain": [
       "[1, 2, 123, 233, 'amish', True, False, (5+6j), 543.987, 55]"
      ]
     },
     "execution_count": 69,
     "metadata": {},
     "output_type": "execute_result"
    }
   ],
   "source": [
    "l"
   ]
  },
  {
   "cell_type": "code",
   "execution_count": 70,
   "id": "9ca4622b-8b96-4a17-92bf-3ee202b36bd4",
   "metadata": {},
   "outputs": [],
   "source": [
    "l.append(45)"
   ]
  },
  {
   "cell_type": "code",
   "execution_count": 71,
   "id": "be3b8d39-e774-49fd-903e-45d6ae00970a",
   "metadata": {},
   "outputs": [
    {
     "data": {
      "text/plain": [
       "[1, 2, 123, 233, 'amish', True, False, (5+6j), 543.987, 55, 45]"
      ]
     },
     "execution_count": 71,
     "metadata": {},
     "output_type": "execute_result"
    }
   ],
   "source": [
    "l"
   ]
  },
  {
   "cell_type": "code",
   "execution_count": 72,
   "id": "adbbfc79-cc52-4300-be73-8b3438fa3af2",
   "metadata": {},
   "outputs": [],
   "source": [
    "l.clear()"
   ]
  },
  {
   "cell_type": "code",
   "execution_count": 73,
   "id": "04b8da6a-2da5-4a3f-b7fd-614f6e28808b",
   "metadata": {},
   "outputs": [
    {
     "data": {
      "text/plain": [
       "[]"
      ]
     },
     "execution_count": 73,
     "metadata": {},
     "output_type": "execute_result"
    }
   ],
   "source": [
    "l"
   ]
  },
  {
   "cell_type": "code",
   "execution_count": 74,
   "id": "66f1e1e8-34cc-4cfc-b482-cc80a8529b34",
   "metadata": {},
   "outputs": [],
   "source": [
    "l=[1, 2, 123, 233, 'amish', True, False, (5+6j), 543.987, 55, 45]\n"
   ]
  },
  {
   "cell_type": "code",
   "execution_count": 75,
   "id": "1f78f9a9-a836-478d-b796-0c29357bdb13",
   "metadata": {},
   "outputs": [
    {
     "data": {
      "text/plain": [
       "[1, 2, 123, 233, 'amish', True, False, (5+6j), 543.987, 55, 45]"
      ]
     },
     "execution_count": 75,
     "metadata": {},
     "output_type": "execute_result"
    }
   ],
   "source": [
    "l"
   ]
  },
  {
   "cell_type": "code",
   "execution_count": 76,
   "id": "8813ebb7-4eb8-4ead-a788-0dc51507fdfd",
   "metadata": {},
   "outputs": [
    {
     "data": {
      "text/plain": [
       "[1, 2, 123, 233, 'amish', True, False, (5+6j), 543.987, 55, 45]"
      ]
     },
     "execution_count": 76,
     "metadata": {},
     "output_type": "execute_result"
    }
   ],
   "source": [
    "l.copy()"
   ]
  },
  {
   "cell_type": "code",
   "execution_count": 77,
   "id": "5a73d426-133e-467d-a6ee-ad0a2bda290d",
   "metadata": {},
   "outputs": [],
   "source": [
    "c=l.copy()"
   ]
  },
  {
   "cell_type": "code",
   "execution_count": 78,
   "id": "54b6b48f-865c-4591-bebb-0442ec5f664c",
   "metadata": {},
   "outputs": [
    {
     "data": {
      "text/plain": [
       "[1, 2, 123, 233, 'amish', True, False, (5+6j), 543.987, 55, 45]"
      ]
     },
     "execution_count": 78,
     "metadata": {},
     "output_type": "execute_result"
    }
   ],
   "source": [
    "c"
   ]
  },
  {
   "cell_type": "code",
   "execution_count": 79,
   "id": "23f869cd-4450-40f0-a574-6d93f8cbe570",
   "metadata": {},
   "outputs": [
    {
     "data": {
      "text/plain": [
       "0"
      ]
     },
     "execution_count": 79,
     "metadata": {},
     "output_type": "execute_result"
    }
   ],
   "source": [
    "l.count(4)"
   ]
  },
  {
   "cell_type": "code",
   "execution_count": 80,
   "id": "f4b338c4-0e2b-4997-a7ae-716d23660c4b",
   "metadata": {},
   "outputs": [
    {
     "data": {
      "text/plain": [
       "1"
      ]
     },
     "execution_count": 80,
     "metadata": {},
     "output_type": "execute_result"
    }
   ],
   "source": [
    "l.count(233)"
   ]
  },
  {
   "cell_type": "code",
   "execution_count": 81,
   "id": "cbf06e7c-d4a4-4503-abfa-a6f3dbd73a1a",
   "metadata": {},
   "outputs": [
    {
     "data": {
      "text/plain": [
       "0"
      ]
     },
     "execution_count": 81,
     "metadata": {},
     "output_type": "execute_result"
    }
   ],
   "source": [
    "l.count(543)"
   ]
  },
  {
   "cell_type": "code",
   "execution_count": 82,
   "id": "7966b140-89ff-4a15-8d69-520c991aeabf",
   "metadata": {},
   "outputs": [
    {
     "data": {
      "text/plain": [
       "1"
      ]
     },
     "execution_count": 82,
     "metadata": {},
     "output_type": "execute_result"
    }
   ],
   "source": [
    "l.count(123)"
   ]
  },
  {
   "cell_type": "code",
   "execution_count": 83,
   "id": "6c95a7b9-b0bf-472a-9699-3805f06564e9",
   "metadata": {},
   "outputs": [
    {
     "data": {
      "text/plain": [
       "1"
      ]
     },
     "execution_count": 83,
     "metadata": {},
     "output_type": "execute_result"
    }
   ],
   "source": [
    "l.count(\"amish\")"
   ]
  },
  {
   "cell_type": "code",
   "execution_count": 84,
   "id": "4ae79b94-c5c7-464e-a595-edecc0c5b25c",
   "metadata": {},
   "outputs": [
    {
     "data": {
      "text/plain": [
       "0"
      ]
     },
     "execution_count": 84,
     "metadata": {},
     "output_type": "execute_result"
    }
   ],
   "source": [
    "l.count(\"ashish\")"
   ]
  },
  {
   "cell_type": "code",
   "execution_count": 85,
   "id": "8f7efabf-4071-4b2e-8f7e-2da838af51ec",
   "metadata": {},
   "outputs": [
    {
     "data": {
      "text/plain": [
       "2"
      ]
     },
     "execution_count": 85,
     "metadata": {},
     "output_type": "execute_result"
    }
   ],
   "source": [
    "l.index(123)"
   ]
  },
  {
   "cell_type": "code",
   "execution_count": 86,
   "id": "3585a557-4eb7-405f-a4c6-3be97bdceae7",
   "metadata": {},
   "outputs": [
    {
     "ename": "ValueError",
     "evalue": "'ashish' is not in list",
     "output_type": "error",
     "traceback": [
      "\u001b[0;31m---------------------------------------------------------------------------\u001b[0m",
      "\u001b[0;31mValueError\u001b[0m                                Traceback (most recent call last)",
      "Cell \u001b[0;32mIn[86], line 1\u001b[0m\n\u001b[0;32m----> 1\u001b[0m \u001b[43ml\u001b[49m\u001b[38;5;241;43m.\u001b[39;49m\u001b[43mindex\u001b[49m\u001b[43m(\u001b[49m\u001b[38;5;124;43m\"\u001b[39;49m\u001b[38;5;124;43mashish\u001b[39;49m\u001b[38;5;124;43m\"\u001b[39;49m\u001b[43m)\u001b[49m\n",
      "\u001b[0;31mValueError\u001b[0m: 'ashish' is not in list"
     ]
    }
   ],
   "source": [
    "l.index(\"ashish\")"
   ]
  },
  {
   "cell_type": "code",
   "execution_count": 87,
   "id": "896f03de-d25a-44fd-8fd3-fb16bfc645da",
   "metadata": {},
   "outputs": [
    {
     "ename": "TypeError",
     "evalue": "insert expected 2 arguments, got 1",
     "output_type": "error",
     "traceback": [
      "\u001b[0;31m---------------------------------------------------------------------------\u001b[0m",
      "\u001b[0;31mTypeError\u001b[0m                                 Traceback (most recent call last)",
      "Cell \u001b[0;32mIn[87], line 1\u001b[0m\n\u001b[0;32m----> 1\u001b[0m \u001b[43ml\u001b[49m\u001b[38;5;241;43m.\u001b[39;49m\u001b[43minsert\u001b[49m\u001b[43m(\u001b[49m\u001b[38;5;241;43m54\u001b[39;49m\u001b[43m)\u001b[49m\n",
      "\u001b[0;31mTypeError\u001b[0m: insert expected 2 arguments, got 1"
     ]
    }
   ],
   "source": [
    "l.insert(54)"
   ]
  },
  {
   "cell_type": "code",
   "execution_count": 88,
   "id": "6cdd22d9-1077-446e-a9a8-621d06f81fe0",
   "metadata": {},
   "outputs": [
    {
     "ename": "SyntaxError",
     "evalue": "incomplete input (1407452752.py, line 1)",
     "output_type": "error",
     "traceback": [
      "\u001b[0;36m  Cell \u001b[0;32mIn[88], line 1\u001b[0;36m\u001b[0m\n\u001b[0;31m    l.append(\"ashish\"()\u001b[0m\n\u001b[0m                       ^\u001b[0m\n\u001b[0;31mSyntaxError\u001b[0m\u001b[0;31m:\u001b[0m incomplete input\n"
     ]
    }
   ],
   "source": [
    "l.append(\"ashish\"()"
   ]
  },
  {
   "cell_type": "code",
   "execution_count": 89,
   "id": "62ac326d-d66e-453b-bc00-d9b16cc88b7e",
   "metadata": {},
   "outputs": [],
   "source": [
    "l.append(\"ashish\")"
   ]
  },
  {
   "cell_type": "code",
   "execution_count": 90,
   "id": "f9d70a75-1621-48a2-a003-e8de99e19554",
   "metadata": {},
   "outputs": [
    {
     "data": {
      "text/plain": [
       "[1, 2, 123, 233, 'amish', True, False, (5+6j), 543.987, 55, 45, 'ashish']"
      ]
     },
     "execution_count": 90,
     "metadata": {},
     "output_type": "execute_result"
    }
   ],
   "source": [
    "l"
   ]
  },
  {
   "cell_type": "code",
   "execution_count": 91,
   "id": "f42d61a5-ed7d-4f06-88a4-66bceb736bfd",
   "metadata": {},
   "outputs": [],
   "source": [
    "l.append(m)"
   ]
  },
  {
   "cell_type": "code",
   "execution_count": 92,
   "id": "9b4111e6-2d44-42b2-99aa-f5722d7536f0",
   "metadata": {},
   "outputs": [
    {
     "data": {
      "text/plain": [
       "[1,\n",
       " 2,\n",
       " 123,\n",
       " 233,\n",
       " 'amish',\n",
       " True,\n",
       " False,\n",
       " (5+6j),\n",
       " 543.987,\n",
       " 55,\n",
       " 45,\n",
       " 'ashish',\n",
       " [1, 2, 3, 4, 5]]"
      ]
     },
     "execution_count": 92,
     "metadata": {},
     "output_type": "execute_result"
    }
   ],
   "source": [
    "l"
   ]
  },
  {
   "cell_type": "code",
   "execution_count": 93,
   "id": "426c7d60-b4cf-4ca5-ab94-b12d52db69be",
   "metadata": {},
   "outputs": [
    {
     "data": {
      "text/plain": [
       "3"
      ]
     },
     "execution_count": 93,
     "metadata": {},
     "output_type": "execute_result"
    }
   ],
   "source": [
    "l[12][2]"
   ]
  },
  {
   "cell_type": "code",
   "execution_count": 94,
   "id": "6a4a5383-5e91-4a0e-a6ea-874be4209abb",
   "metadata": {},
   "outputs": [],
   "source": [
    "l.extend(m)"
   ]
  },
  {
   "cell_type": "code",
   "execution_count": 95,
   "id": "f15243d6-c18a-4d43-b69d-370de624b377",
   "metadata": {},
   "outputs": [
    {
     "data": {
      "text/plain": [
       "[1,\n",
       " 2,\n",
       " 123,\n",
       " 233,\n",
       " 'amish',\n",
       " True,\n",
       " False,\n",
       " (5+6j),\n",
       " 543.987,\n",
       " 55,\n",
       " 45,\n",
       " 'ashish',\n",
       " [1, 2, 3, 4, 5],\n",
       " 1,\n",
       " 2,\n",
       " 3,\n",
       " 4,\n",
       " 5]"
      ]
     },
     "execution_count": 95,
     "metadata": {},
     "output_type": "execute_result"
    }
   ],
   "source": [
    "l"
   ]
  },
  {
   "cell_type": "code",
   "execution_count": 96,
   "id": "29a513c7-8af9-4517-b54e-c1bdc233e256",
   "metadata": {},
   "outputs": [
    {
     "data": {
      "text/plain": [
       "'amish'"
      ]
     },
     "execution_count": 96,
     "metadata": {},
     "output_type": "execute_result"
    }
   ],
   "source": [
    "s"
   ]
  },
  {
   "cell_type": "code",
   "execution_count": 97,
   "id": "acd87ed8-c98e-40cb-9f37-8418f3a19277",
   "metadata": {},
   "outputs": [],
   "source": [
    "l.extend(s)"
   ]
  },
  {
   "cell_type": "code",
   "execution_count": 98,
   "id": "edf5dc66-4452-4e08-89a4-06ab58e4533a",
   "metadata": {},
   "outputs": [
    {
     "data": {
      "text/plain": [
       "[1,\n",
       " 2,\n",
       " 123,\n",
       " 233,\n",
       " 'amish',\n",
       " True,\n",
       " False,\n",
       " (5+6j),\n",
       " 543.987,\n",
       " 55,\n",
       " 45,\n",
       " 'ashish',\n",
       " [1, 2, 3, 4, 5],\n",
       " 1,\n",
       " 2,\n",
       " 3,\n",
       " 4,\n",
       " 5,\n",
       " 'a',\n",
       " 'm',\n",
       " 'i',\n",
       " 's',\n",
       " 'h']"
      ]
     },
     "execution_count": 98,
     "metadata": {},
     "output_type": "execute_result"
    }
   ],
   "source": [
    "l"
   ]
  },
  {
   "cell_type": "code",
   "execution_count": 99,
   "id": "636f3e43-a022-4002-b08f-354d3668c9a5",
   "metadata": {},
   "outputs": [],
   "source": [
    "l.append(s)"
   ]
  },
  {
   "cell_type": "code",
   "execution_count": 100,
   "id": "2549b636-2b23-4a29-b1fe-f5c9ba6e96dc",
   "metadata": {},
   "outputs": [
    {
     "data": {
      "text/plain": [
       "[1,\n",
       " 2,\n",
       " 123,\n",
       " 233,\n",
       " 'amish',\n",
       " True,\n",
       " False,\n",
       " (5+6j),\n",
       " 543.987,\n",
       " 55,\n",
       " 45,\n",
       " 'ashish',\n",
       " [1, 2, 3, 4, 5],\n",
       " 1,\n",
       " 2,\n",
       " 3,\n",
       " 4,\n",
       " 5,\n",
       " 'a',\n",
       " 'm',\n",
       " 'i',\n",
       " 's',\n",
       " 'h',\n",
       " 'amish']"
      ]
     },
     "execution_count": 100,
     "metadata": {},
     "output_type": "execute_result"
    }
   ],
   "source": [
    "l"
   ]
  },
  {
   "cell_type": "code",
   "execution_count": 101,
   "id": "2fd200d5-500d-4684-bd27-bf8e3a3db0aa",
   "metadata": {},
   "outputs": [
    {
     "data": {
      "text/plain": [
       "[1, 2, 3, 4, 5]"
      ]
     },
     "execution_count": 101,
     "metadata": {},
     "output_type": "execute_result"
    }
   ],
   "source": [
    "m"
   ]
  },
  {
   "cell_type": "code",
   "execution_count": 102,
   "id": "db5cd1f0-5cd0-4352-bc0f-9165447887d1",
   "metadata": {},
   "outputs": [],
   "source": [
    "m.insert(0,54)"
   ]
  },
  {
   "cell_type": "code",
   "execution_count": 103,
   "id": "13e4b636-ab37-49b0-b3cf-bddffc9c09c2",
   "metadata": {},
   "outputs": [
    {
     "data": {
      "text/plain": [
       "[54, 1, 2, 3, 4, 5]"
      ]
     },
     "execution_count": 103,
     "metadata": {},
     "output_type": "execute_result"
    }
   ],
   "source": [
    "m"
   ]
  },
  {
   "cell_type": "code",
   "execution_count": 104,
   "id": "7fb8f2d5-7027-45ac-917a-aa5c144d905b",
   "metadata": {},
   "outputs": [],
   "source": [
    "m.insert(2,m.extend(l))"
   ]
  },
  {
   "cell_type": "code",
   "execution_count": 105,
   "id": "f0e1a793-1009-4199-a678-7e8c18632668",
   "metadata": {},
   "outputs": [
    {
     "data": {
      "text/plain": [
       "[54,\n",
       " 1,\n",
       " None,\n",
       " 2,\n",
       " 3,\n",
       " 4,\n",
       " 5,\n",
       " 1,\n",
       " 2,\n",
       " 123,\n",
       " 233,\n",
       " 'amish',\n",
       " True,\n",
       " False,\n",
       " (5+6j),\n",
       " 543.987,\n",
       " 55,\n",
       " 45,\n",
       " 'ashish',\n",
       " [...],\n",
       " 1,\n",
       " 2,\n",
       " 3,\n",
       " 4,\n",
       " 5,\n",
       " 'a',\n",
       " 'm',\n",
       " 'i',\n",
       " 's',\n",
       " 'h',\n",
       " 'amish']"
      ]
     },
     "execution_count": 105,
     "metadata": {},
     "output_type": "execute_result"
    }
   ],
   "source": [
    "m"
   ]
  },
  {
   "cell_type": "code",
   "execution_count": 106,
   "id": "e0442fe8-3ea4-4801-bc7b-817d257021fa",
   "metadata": {},
   "outputs": [],
   "source": [
    "m.clear()"
   ]
  },
  {
   "cell_type": "code",
   "execution_count": 107,
   "id": "fc399592-262d-4d42-af5d-049f3632f934",
   "metadata": {},
   "outputs": [],
   "source": [
    "m.append(2)"
   ]
  },
  {
   "cell_type": "code",
   "execution_count": 108,
   "id": "655e87f9-5944-4d66-87fa-3601bdad7994",
   "metadata": {},
   "outputs": [],
   "source": [
    "m.append(3)"
   ]
  },
  {
   "cell_type": "code",
   "execution_count": 109,
   "id": "d0ae41a5-0bb3-429d-a83f-7128d8a8c53a",
   "metadata": {},
   "outputs": [],
   "source": [
    "m.append(5)"
   ]
  },
  {
   "cell_type": "code",
   "execution_count": 110,
   "id": "800e2717-55d7-4c46-bde5-e7cf43f0b61c",
   "metadata": {},
   "outputs": [],
   "source": [
    "m.append(4)"
   ]
  },
  {
   "cell_type": "code",
   "execution_count": 111,
   "id": "db159ae4-7811-4e3c-b4d1-1ce19522532b",
   "metadata": {},
   "outputs": [],
   "source": [
    "m.append(1)"
   ]
  },
  {
   "cell_type": "code",
   "execution_count": 112,
   "id": "e7d41d7f-8b48-4224-9417-5ab33e40b5db",
   "metadata": {},
   "outputs": [
    {
     "data": {
      "text/plain": [
       "[2, 3, 5, 4, 1]"
      ]
     },
     "execution_count": 112,
     "metadata": {},
     "output_type": "execute_result"
    }
   ],
   "source": [
    "m"
   ]
  },
  {
   "cell_type": "code",
   "execution_count": 113,
   "id": "41ef5f89-619d-4595-83e3-e81b5d918c6a",
   "metadata": {},
   "outputs": [],
   "source": [
    "m.insert(1,\"amish\")"
   ]
  },
  {
   "cell_type": "code",
   "execution_count": 114,
   "id": "fcf3707f-1d45-4323-9b6c-7005d3adeb24",
   "metadata": {},
   "outputs": [
    {
     "data": {
      "text/plain": [
       "[2, 'amish', 3, 5, 4, 1]"
      ]
     },
     "execution_count": 114,
     "metadata": {},
     "output_type": "execute_result"
    }
   ],
   "source": [
    "m"
   ]
  },
  {
   "cell_type": "code",
   "execution_count": 115,
   "id": "646936fb-6ff3-494c-8d11-2e040c8f4752",
   "metadata": {},
   "outputs": [],
   "source": [
    "m.insert(4,[4,5,6,7,8])"
   ]
  },
  {
   "cell_type": "code",
   "execution_count": 116,
   "id": "762ef453-06c3-439e-a72d-e47d29175f58",
   "metadata": {},
   "outputs": [
    {
     "data": {
      "text/plain": [
       "[2, 'amish', 3, 5, [4, 5, 6, 7, 8], 4, 1]"
      ]
     },
     "execution_count": 116,
     "metadata": {},
     "output_type": "execute_result"
    }
   ],
   "source": [
    "m"
   ]
  },
  {
   "cell_type": "code",
   "execution_count": 117,
   "id": "ccf91880-2bde-4199-b014-fe81b6441d51",
   "metadata": {},
   "outputs": [],
   "source": [
    "m.insert(8,43)"
   ]
  },
  {
   "cell_type": "code",
   "execution_count": 118,
   "id": "6a44eca2-4d35-48d7-8171-5f061a905393",
   "metadata": {},
   "outputs": [
    {
     "data": {
      "text/plain": [
       "[2, 'amish', 3, 5, [4, 5, 6, 7, 8], 4, 1, 43]"
      ]
     },
     "execution_count": 118,
     "metadata": {},
     "output_type": "execute_result"
    }
   ],
   "source": [
    "m"
   ]
  },
  {
   "cell_type": "code",
   "execution_count": 119,
   "id": "c24f3b2f-5b54-4abb-8625-d8ddb1b1b4c6",
   "metadata": {},
   "outputs": [],
   "source": [
    "m.insert(100,543)"
   ]
  },
  {
   "cell_type": "code",
   "execution_count": 120,
   "id": "84843e52-eeb7-4d82-99e7-e9053032d6c7",
   "metadata": {},
   "outputs": [
    {
     "data": {
      "text/plain": [
       "[2, 'amish', 3, 5, [4, 5, 6, 7, 8], 4, 1, 43, 543]"
      ]
     },
     "execution_count": 120,
     "metadata": {},
     "output_type": "execute_result"
    }
   ],
   "source": [
    "m"
   ]
  },
  {
   "cell_type": "code",
   "execution_count": 121,
   "id": "88d707b2-8a60-4f1c-ae88-b2d2182fe471",
   "metadata": {},
   "outputs": [],
   "source": [
    "m.insert(-2,1234)"
   ]
  },
  {
   "cell_type": "code",
   "execution_count": 122,
   "id": "49b6829a-51bc-4bb8-ae0a-cece933e08fc",
   "metadata": {},
   "outputs": [
    {
     "data": {
      "text/plain": [
       "[2, 'amish', 3, 5, [4, 5, 6, 7, 8], 4, 1, 1234, 43, 543]"
      ]
     },
     "execution_count": 122,
     "metadata": {},
     "output_type": "execute_result"
    }
   ],
   "source": [
    "m"
   ]
  },
  {
   "cell_type": "code",
   "execution_count": 123,
   "id": "9644139a-a83f-4cb9-bdc9-58a5af63227c",
   "metadata": {},
   "outputs": [
    {
     "data": {
      "text/plain": [
       "543"
      ]
     },
     "execution_count": 123,
     "metadata": {},
     "output_type": "execute_result"
    }
   ],
   "source": [
    "m.pop()"
   ]
  },
  {
   "cell_type": "code",
   "execution_count": 124,
   "id": "b6654b36-2ee5-4c6d-9626-7a2a2a056ca5",
   "metadata": {},
   "outputs": [
    {
     "data": {
      "text/plain": [
       "[2, 'amish', 3, 5, [4, 5, 6, 7, 8], 4, 1, 1234, 43]"
      ]
     },
     "execution_count": 124,
     "metadata": {},
     "output_type": "execute_result"
    }
   ],
   "source": [
    "m"
   ]
  },
  {
   "cell_type": "code",
   "execution_count": 1,
   "id": "95514319-7e5c-4555-8bf2-767068ac4ee5",
   "metadata": {},
   "outputs": [
    {
     "ename": "NameError",
     "evalue": "name 'm' is not defined",
     "output_type": "error",
     "traceback": [
      "\u001b[0;31m---------------------------------------------------------------------------\u001b[0m",
      "\u001b[0;31mNameError\u001b[0m                                 Traceback (most recent call last)",
      "Cell \u001b[0;32mIn[1], line 1\u001b[0m\n\u001b[0;32m----> 1\u001b[0m \u001b[43mm\u001b[49m\u001b[38;5;241m.\u001b[39mpop(\u001b[38;5;241m2\u001b[39m)\n",
      "\u001b[0;31mNameError\u001b[0m: name 'm' is not defined"
     ]
    }
   ],
   "source": [
    "m.pop(2)"
   ]
  },
  {
   "cell_type": "code",
   "execution_count": 126,
   "id": "a9b8ba0b-6a14-4c39-b7f1-7da0a3c01519",
   "metadata": {},
   "outputs": [
    {
     "data": {
      "text/plain": [
       "[2, 'amish', 5, [4, 5, 6, 7, 8], 4, 1, 1234, 43]"
      ]
     },
     "execution_count": 126,
     "metadata": {},
     "output_type": "execute_result"
    }
   ],
   "source": [
    "m"
   ]
  },
  {
   "cell_type": "code",
   "execution_count": 127,
   "id": "b3255547-c599-4144-b0a1-d43c2f51719d",
   "metadata": {},
   "outputs": [
    {
     "data": {
      "text/plain": [
       "'amish'"
      ]
     },
     "execution_count": 127,
     "metadata": {},
     "output_type": "execute_result"
    }
   ],
   "source": [
    "m.pop(m.index(\"amish\"))"
   ]
  },
  {
   "cell_type": "code",
   "execution_count": null,
   "id": "c9bb9fc8-f7a1-4bc3-864a-ee6ac3d67f2f",
   "metadata": {},
   "outputs": [],
   "source": []
  },
  {
   "cell_type": "code",
   "execution_count": 128,
   "id": "2c5cf57c-5f5e-452a-9da1-02355766efa6",
   "metadata": {},
   "outputs": [
    {
     "data": {
      "text/plain": [
       "[2, 5, [4, 5, 6, 7, 8], 4, 1, 1234, 43]"
      ]
     },
     "execution_count": 128,
     "metadata": {},
     "output_type": "execute_result"
    }
   ],
   "source": [
    "m"
   ]
  },
  {
   "cell_type": "code",
   "execution_count": 129,
   "id": "8b8b94fd-af11-4f7c-b2be-b24159cb8800",
   "metadata": {},
   "outputs": [
    {
     "data": {
      "text/plain": [
       "1"
      ]
     },
     "execution_count": 129,
     "metadata": {},
     "output_type": "execute_result"
    }
   ],
   "source": [
    "m.pop(4)"
   ]
  },
  {
   "cell_type": "code",
   "execution_count": 130,
   "id": "4b1e8a43-cbfc-4f56-a2d0-c094d58db528",
   "metadata": {},
   "outputs": [
    {
     "data": {
      "text/plain": [
       "[2, 5, [4, 5, 6, 7, 8], 4, 1234, 43]"
      ]
     },
     "execution_count": 130,
     "metadata": {},
     "output_type": "execute_result"
    }
   ],
   "source": [
    "m"
   ]
  },
  {
   "cell_type": "code",
   "execution_count": 131,
   "id": "1fc34b52-8a5c-4446-8766-9a379edb5ac9",
   "metadata": {},
   "outputs": [],
   "source": [
    "m.remove(2)"
   ]
  },
  {
   "cell_type": "code",
   "execution_count": 132,
   "id": "9811fb8b-cb9e-4c7f-b10b-8456e74ce0b6",
   "metadata": {},
   "outputs": [],
   "source": [
    "m.remove(4)"
   ]
  },
  {
   "cell_type": "code",
   "execution_count": 133,
   "id": "e60cefcc-c947-43a8-9e23-42f0b387cd88",
   "metadata": {},
   "outputs": [
    {
     "data": {
      "text/plain": [
       "[5, [4, 5, 6, 7, 8], 1234, 43]"
      ]
     },
     "execution_count": 133,
     "metadata": {},
     "output_type": "execute_result"
    }
   ],
   "source": [
    "m"
   ]
  },
  {
   "cell_type": "code",
   "execution_count": 134,
   "id": "d7159401-03cf-459f-abfd-4217c5b0a3fd",
   "metadata": {},
   "outputs": [],
   "source": [
    "m.remove([4,5,6,7,8])"
   ]
  },
  {
   "cell_type": "code",
   "execution_count": 135,
   "id": "ef45f20c-0cf5-4651-b5e4-6572da55bfbf",
   "metadata": {},
   "outputs": [
    {
     "data": {
      "text/plain": [
       "[5, 1234, 43]"
      ]
     },
     "execution_count": 135,
     "metadata": {},
     "output_type": "execute_result"
    }
   ],
   "source": [
    "m"
   ]
  },
  {
   "cell_type": "code",
   "execution_count": 136,
   "id": "c7e079fb-c462-4806-b727-b63aefa5cd9e",
   "metadata": {},
   "outputs": [],
   "source": [
    "m.insert(2,\"amish\")"
   ]
  },
  {
   "cell_type": "code",
   "execution_count": 137,
   "id": "c139814d-25b0-404f-8bea-89fd71577c2d",
   "metadata": {},
   "outputs": [
    {
     "data": {
      "text/plain": [
       "[5, 1234, 'amish', 43]"
      ]
     },
     "execution_count": 137,
     "metadata": {},
     "output_type": "execute_result"
    }
   ],
   "source": [
    "m"
   ]
  },
  {
   "cell_type": "code",
   "execution_count": 138,
   "id": "2aec4ea3-fe70-4680-91f0-141057202d66",
   "metadata": {},
   "outputs": [],
   "source": [
    "m.append([1,2,3,4,5])"
   ]
  },
  {
   "cell_type": "code",
   "execution_count": 139,
   "id": "fa9c409c-0cc1-4739-88fa-0d14826bf681",
   "metadata": {},
   "outputs": [
    {
     "data": {
      "text/plain": [
       "[5, 1234, 'amish', 43, [1, 2, 3, 4, 5]]"
      ]
     },
     "execution_count": 139,
     "metadata": {},
     "output_type": "execute_result"
    }
   ],
   "source": [
    "m"
   ]
  },
  {
   "cell_type": "code",
   "execution_count": 140,
   "id": "0f6e6f81-c84b-45cb-9cdc-b4a998188da0",
   "metadata": {},
   "outputs": [],
   "source": [
    "m[4].remove(3)"
   ]
  },
  {
   "cell_type": "code",
   "execution_count": 141,
   "id": "2f862b8c-e8c6-437a-9934-94dc85d021a1",
   "metadata": {},
   "outputs": [
    {
     "data": {
      "text/plain": [
       "[5, 1234, 'amish', 43, [1, 2, 4, 5]]"
      ]
     },
     "execution_count": 141,
     "metadata": {},
     "output_type": "execute_result"
    }
   ],
   "source": [
    "m"
   ]
  },
  {
   "cell_type": "code",
   "execution_count": 142,
   "id": "7829883a-c78f-40fd-a84c-bdd713df6995",
   "metadata": {},
   "outputs": [
    {
     "ename": "AttributeError",
     "evalue": "'str' object has no attribute 'remove'",
     "output_type": "error",
     "traceback": [
      "\u001b[0;31m---------------------------------------------------------------------------\u001b[0m",
      "\u001b[0;31mAttributeError\u001b[0m                            Traceback (most recent call last)",
      "Cell \u001b[0;32mIn[142], line 1\u001b[0m\n\u001b[0;32m----> 1\u001b[0m \u001b[43mm\u001b[49m\u001b[43m[\u001b[49m\u001b[38;5;241;43m2\u001b[39;49m\u001b[43m]\u001b[49m\u001b[38;5;241;43m.\u001b[39;49m\u001b[43mremove\u001b[49m(\u001b[38;5;124m\"\u001b[39m\u001b[38;5;124mmi\u001b[39m\u001b[38;5;124m\"\u001b[39m)\n",
      "\u001b[0;31mAttributeError\u001b[0m: 'str' object has no attribute 'remove'"
     ]
    }
   ],
   "source": [
    "m[2].remove(\"mi\")"
   ]
  },
  {
   "cell_type": "code",
   "execution_count": 143,
   "id": "af917d84-8efd-4012-9b94-dfe680cbcd3d",
   "metadata": {},
   "outputs": [
    {
     "ename": "TypeError",
     "evalue": "'str' object does not support item assignment",
     "output_type": "error",
     "traceback": [
      "\u001b[0;31m---------------------------------------------------------------------------\u001b[0m",
      "\u001b[0;31mTypeError\u001b[0m                                 Traceback (most recent call last)",
      "Cell \u001b[0;32mIn[143], line 1\u001b[0m\n\u001b[0;32m----> 1\u001b[0m \u001b[43mm\u001b[49m\u001b[43m[\u001b[49m\u001b[38;5;241;43m2\u001b[39;49m\u001b[43m]\u001b[49m\u001b[43m[\u001b[49m\u001b[38;5;241;43m1\u001b[39;49m\u001b[43m]\u001b[49m\u001b[38;5;241m=\u001b[39m\u001b[38;5;124m'\u001b[39m\u001b[38;5;124mg\u001b[39m\u001b[38;5;124m'\u001b[39m\n",
      "\u001b[0;31mTypeError\u001b[0m: 'str' object does not support item assignment"
     ]
    }
   ],
   "source": [
    "m[2][1]='g'"
   ]
  },
  {
   "cell_type": "code",
   "execution_count": 144,
   "id": "1c0769df-52aa-45eb-8e3f-0e9469daa706",
   "metadata": {},
   "outputs": [],
   "source": [
    "m.reverse()"
   ]
  },
  {
   "cell_type": "code",
   "execution_count": 145,
   "id": "462b2ebf-2f29-4001-9e1c-a5d9781e6683",
   "metadata": {},
   "outputs": [
    {
     "data": {
      "text/plain": [
       "[[1, 2, 4, 5], 43, 'amish', 1234, 5]"
      ]
     },
     "execution_count": 145,
     "metadata": {},
     "output_type": "execute_result"
    }
   ],
   "source": [
    "m"
   ]
  },
  {
   "cell_type": "code",
   "execution_count": 146,
   "id": "ebabb565-c0ed-4a0d-9c30-60090f2d1db1",
   "metadata": {},
   "outputs": [],
   "source": [
    "n=[1,2,32,21,433,221,334,2213,22]"
   ]
  },
  {
   "cell_type": "code",
   "execution_count": 147,
   "id": "8ee338fd-9cb1-4352-a1f0-fe3c93db4b37",
   "metadata": {},
   "outputs": [],
   "source": [
    "n.sort()"
   ]
  },
  {
   "cell_type": "code",
   "execution_count": null,
   "id": "87af1ca1-9e0c-4b60-b346-22a0700c62b5",
   "metadata": {},
   "outputs": [],
   "source": []
  },
  {
   "cell_type": "code",
   "execution_count": 148,
   "id": "a33ff885-a6de-4e20-8c58-d542dd978fe5",
   "metadata": {},
   "outputs": [
    {
     "data": {
      "text/plain": [
       "[1, 2, 21, 22, 32, 221, 334, 433, 2213]"
      ]
     },
     "execution_count": 148,
     "metadata": {},
     "output_type": "execute_result"
    }
   ],
   "source": [
    "n"
   ]
  },
  {
   "cell_type": "code",
   "execution_count": 149,
   "id": "abaa0d06-a722-4498-8913-760a8c758d4f",
   "metadata": {},
   "outputs": [],
   "source": [
    "n.sort(reverse=True)"
   ]
  },
  {
   "cell_type": "code",
   "execution_count": 150,
   "id": "ce162370-88e5-4139-9505-dee6e862337e",
   "metadata": {},
   "outputs": [
    {
     "data": {
      "text/plain": [
       "[2213, 433, 334, 221, 32, 22, 21, 2, 1]"
      ]
     },
     "execution_count": 150,
     "metadata": {},
     "output_type": "execute_result"
    }
   ],
   "source": [
    "n"
   ]
  },
  {
   "cell_type": "code",
   "execution_count": 1,
   "id": "4b623a19-d4fe-4028-b200-5827b707d78d",
   "metadata": {},
   "outputs": [],
   "source": [
    "## tuples "
   ]
  },
  {
   "cell_type": "code",
   "execution_count": 2,
   "id": "9ecc39c4-8f03-490b-9ceb-ef29aba93de2",
   "metadata": {},
   "outputs": [],
   "source": [
    "t=(1,2,3,4,5,\"amish\",False,45+54j)"
   ]
  },
  {
   "cell_type": "code",
   "execution_count": 3,
   "id": "93979444-af51-4f16-875c-995e63d1b6e4",
   "metadata": {},
   "outputs": [
    {
     "data": {
      "text/plain": [
       "(1, 2, 3, 4, 5, 'amish', False, (45+54j))"
      ]
     },
     "execution_count": 3,
     "metadata": {},
     "output_type": "execute_result"
    }
   ],
   "source": [
    "t"
   ]
  },
  {
   "cell_type": "code",
   "execution_count": 4,
   "id": "ce71fc59-3a0d-49d0-84ee-084e67f1b403",
   "metadata": {},
   "outputs": [
    {
     "data": {
      "text/plain": [
       "tuple"
      ]
     },
     "execution_count": 4,
     "metadata": {},
     "output_type": "execute_result"
    }
   ],
   "source": [
    "type(t)"
   ]
  },
  {
   "cell_type": "code",
   "execution_count": 5,
   "id": "9251eb11-5358-4f74-99e2-70594cc4c05b",
   "metadata": {},
   "outputs": [
    {
     "data": {
      "text/plain": [
       "8"
      ]
     },
     "execution_count": 5,
     "metadata": {},
     "output_type": "execute_result"
    }
   ],
   "source": [
    "len(t)"
   ]
  },
  {
   "cell_type": "code",
   "execution_count": 6,
   "id": "e92a50b5-8825-459f-9fde-3a5cf5e18035",
   "metadata": {},
   "outputs": [
    {
     "ename": "NameError",
     "evalue": "name 'l' is not defined",
     "output_type": "error",
     "traceback": [
      "\u001b[0;31m---------------------------------------------------------------------------\u001b[0m",
      "\u001b[0;31mNameError\u001b[0m                                 Traceback (most recent call last)",
      "Cell \u001b[0;32mIn[6], line 1\u001b[0m\n\u001b[0;32m----> 1\u001b[0m t\u001b[38;5;241m+\u001b[39m\u001b[43ml\u001b[49m\n",
      "\u001b[0;31mNameError\u001b[0m: name 'l' is not defined"
     ]
    }
   ],
   "source": [
    "t+l"
   ]
  },
  {
   "cell_type": "code",
   "execution_count": 7,
   "id": "f642c221-3743-4805-bdcb-f1ffb28c9561",
   "metadata": {},
   "outputs": [
    {
     "data": {
      "text/plain": [
       "1"
      ]
     },
     "execution_count": 7,
     "metadata": {},
     "output_type": "execute_result"
    }
   ],
   "source": [
    "t[0]"
   ]
  },
  {
   "cell_type": "code",
   "execution_count": 8,
   "id": "790af1f8-b2e1-4ee2-9291-ca08ae228eb8",
   "metadata": {},
   "outputs": [
    {
     "data": {
      "text/plain": [
       "(1, 2, 3, 4, 5, 'amish', False, (45+54j))"
      ]
     },
     "execution_count": 8,
     "metadata": {},
     "output_type": "execute_result"
    }
   ],
   "source": [
    "t"
   ]
  },
  {
   "cell_type": "code",
   "execution_count": 9,
   "id": "6dc1479a-4f44-442f-a8b2-046aa67ed690",
   "metadata": {},
   "outputs": [
    {
     "data": {
      "text/plain": [
       "'amish'"
      ]
     },
     "execution_count": 9,
     "metadata": {},
     "output_type": "execute_result"
    }
   ],
   "source": [
    "t[5][0:5]"
   ]
  },
  {
   "cell_type": "code",
   "execution_count": 10,
   "id": "60c402d3-b14e-420f-9e57-2670d43fffed",
   "metadata": {},
   "outputs": [
    {
     "data": {
      "text/plain": [
       "(False, (45+54j))"
      ]
     },
     "execution_count": 10,
     "metadata": {},
     "output_type": "execute_result"
    }
   ],
   "source": [
    "t[-2:]"
   ]
  },
  {
   "cell_type": "code",
   "execution_count": 11,
   "id": "51d8c0e4-0a2e-4bca-9032-2b5a12cc0cd4",
   "metadata": {},
   "outputs": [
    {
     "ename": "TypeError",
     "evalue": "'tuple' object does not support item assignment",
     "output_type": "error",
     "traceback": [
      "\u001b[0;31m---------------------------------------------------------------------------\u001b[0m",
      "\u001b[0;31mTypeError\u001b[0m                                 Traceback (most recent call last)",
      "Cell \u001b[0;32mIn[11], line 1\u001b[0m\n\u001b[0;32m----> 1\u001b[0m \u001b[43mt\u001b[49m\u001b[43m[\u001b[49m\u001b[38;5;241;43m0\u001b[39;49m\u001b[43m]\u001b[49m\u001b[38;5;241m=\u001b[39m\u001b[38;5;241m5\u001b[39m\n",
      "\u001b[0;31mTypeError\u001b[0m: 'tuple' object does not support item assignment"
     ]
    }
   ],
   "source": [
    "t[0]=5"
   ]
  },
  {
   "cell_type": "code",
   "execution_count": 12,
   "id": "332aada0-1aac-4edf-b9a1-2fb80fa60397",
   "metadata": {},
   "outputs": [],
   "source": [
    "l=[1,2,3,4,\"amish\",[1,33,43,433],45+54j]"
   ]
  },
  {
   "cell_type": "code",
   "execution_count": 13,
   "id": "741c475e-532a-404f-88ac-f0555ae3c198",
   "metadata": {},
   "outputs": [],
   "source": [
    "l[2]=54"
   ]
  },
  {
   "cell_type": "code",
   "execution_count": 14,
   "id": "553ce5bd-ae6d-45d1-8eeb-f913b4d3184c",
   "metadata": {},
   "outputs": [
    {
     "data": {
      "text/plain": [
       "[1, 2, 54, 4, 'amish', [1, 33, 43, 433], (45+54j)]"
      ]
     },
     "execution_count": 14,
     "metadata": {},
     "output_type": "execute_result"
    }
   ],
   "source": [
    "l"
   ]
  },
  {
   "cell_type": "code",
   "execution_count": 15,
   "id": "b84e3a0e-d362-4eaa-bc73-e69664405e6d",
   "metadata": {},
   "outputs": [
    {
     "ename": "TypeError",
     "evalue": "'tuple' object does not support item assignment",
     "output_type": "error",
     "traceback": [
      "\u001b[0;31m---------------------------------------------------------------------------\u001b[0m",
      "\u001b[0;31mTypeError\u001b[0m                                 Traceback (most recent call last)",
      "Cell \u001b[0;32mIn[15], line 1\u001b[0m\n\u001b[0;32m----> 1\u001b[0m \u001b[43mt\u001b[49m\u001b[43m[\u001b[49m\u001b[38;5;241;43m2\u001b[39;49m\u001b[43m]\u001b[49m\u001b[38;5;241m=\u001b[39m\u001b[38;5;241m54\u001b[39m\n",
      "\u001b[0;31mTypeError\u001b[0m: 'tuple' object does not support item assignment"
     ]
    }
   ],
   "source": [
    "t[2]=54"
   ]
  },
  {
   "cell_type": "code",
   "execution_count": 16,
   "id": "ac9a99c0-a192-4a50-8638-a568edb9fb5c",
   "metadata": {},
   "outputs": [
    {
     "data": {
      "text/plain": [
       "(1, 2, 3, 4, 5, 'amish', False, (45+54j))"
      ]
     },
     "execution_count": 16,
     "metadata": {},
     "output_type": "execute_result"
    }
   ],
   "source": [
    "t"
   ]
  },
  {
   "cell_type": "code",
   "execution_count": 17,
   "id": "224dea7f-b932-4c3a-a873-5cc66c6c9277",
   "metadata": {},
   "outputs": [
    {
     "data": {
      "text/plain": [
       "(1, 2, 3, 4, 5, 'amish', False, (45+54j))"
      ]
     },
     "execution_count": 17,
     "metadata": {},
     "output_type": "execute_result"
    }
   ],
   "source": [
    "t"
   ]
  },
  {
   "cell_type": "code",
   "execution_count": 18,
   "id": "e9ae66f4-a02c-475e-a5fe-e380c6a5254b",
   "metadata": {},
   "outputs": [
    {
     "data": {
      "text/plain": [
       "[1, 2, 54, 4, 'amish', [1, 33, 43, 433], (45+54j)]"
      ]
     },
     "execution_count": 18,
     "metadata": {},
     "output_type": "execute_result"
    }
   ],
   "source": [
    "l"
   ]
  },
  {
   "cell_type": "code",
   "execution_count": 19,
   "id": "b32615f8-c715-4763-a4ac-cb1fda524ac6",
   "metadata": {},
   "outputs": [],
   "source": [
    "m=(1,2,2,2,3,3,4,\"amish\",54)"
   ]
  },
  {
   "cell_type": "code",
   "execution_count": 20,
   "id": "aa6d598a-ff42-4bdd-ad96-06fae6973d91",
   "metadata": {},
   "outputs": [
    {
     "data": {
      "text/plain": [
       "(1, 2, 2, 2, 3, 3, 4, 'amish', 54)"
      ]
     },
     "execution_count": 20,
     "metadata": {},
     "output_type": "execute_result"
    }
   ],
   "source": [
    "m"
   ]
  },
  {
   "cell_type": "code",
   "execution_count": 21,
   "id": "f562c38e-97dd-427e-ac12-21168e6713f7",
   "metadata": {},
   "outputs": [
    {
     "data": {
      "text/plain": [
       "3"
      ]
     },
     "execution_count": 21,
     "metadata": {},
     "output_type": "execute_result"
    }
   ],
   "source": [
    "m.count(2)"
   ]
  },
  {
   "cell_type": "code",
   "execution_count": 22,
   "id": "50c65658-22ab-4dc5-9c77-c28ddaae3f33",
   "metadata": {},
   "outputs": [
    {
     "data": {
      "text/plain": [
       "6"
      ]
     },
     "execution_count": 22,
     "metadata": {},
     "output_type": "execute_result"
    }
   ],
   "source": [
    "m.index(4)"
   ]
  },
  {
   "cell_type": "code",
   "execution_count": 23,
   "id": "e824d010-894f-4a53-8ab0-0dc8efdac394",
   "metadata": {},
   "outputs": [
    {
     "ename": "SyntaxError",
     "evalue": "incomplete input (4012354231.py, line 1)",
     "output_type": "error",
     "traceback": [
      "\u001b[0;36m  Cell \u001b[0;32mIn[23], line 1\u001b[0;36m\u001b[0m\n\u001b[0;31m    m.index(\u001b[0m\n\u001b[0m            ^\u001b[0m\n\u001b[0;31mSyntaxError\u001b[0m\u001b[0;31m:\u001b[0m incomplete input\n"
     ]
    }
   ],
   "source": [
    "m.index("
   ]
  },
  {
   "cell_type": "code",
   "execution_count": 24,
   "id": "33d0b766-8b97-4506-b595-1b6c15562e92",
   "metadata": {},
   "outputs": [
    {
     "data": {
      "text/plain": [
       "7"
      ]
     },
     "execution_count": 24,
     "metadata": {},
     "output_type": "execute_result"
    }
   ],
   "source": [
    "m.index(\"amish\")"
   ]
  },
  {
   "cell_type": "code",
   "execution_count": 25,
   "id": "eed36150-b963-4099-a1b8-52ad76928a68",
   "metadata": {},
   "outputs": [
    {
     "ename": "ValueError",
     "evalue": "tuple.index(x): x not in tuple",
     "output_type": "error",
     "traceback": [
      "\u001b[0;31m---------------------------------------------------------------------------\u001b[0m",
      "\u001b[0;31mValueError\u001b[0m                                Traceback (most recent call last)",
      "Cell \u001b[0;32mIn[25], line 1\u001b[0m\n\u001b[0;32m----> 1\u001b[0m \u001b[43mm\u001b[49m\u001b[38;5;241;43m.\u001b[39;49m\u001b[43mindex\u001b[49m\u001b[43m(\u001b[49m\u001b[38;5;241;43m444\u001b[39;49m\u001b[43m)\u001b[49m\n",
      "\u001b[0;31mValueError\u001b[0m: tuple.index(x): x not in tuple"
     ]
    }
   ],
   "source": [
    "m.index(444)"
   ]
  },
  {
   "cell_type": "code",
   "execution_count": 26,
   "id": "b1e32722-3598-4e57-9a7f-cece350e7060",
   "metadata": {},
   "outputs": [
    {
     "data": {
      "text/plain": [
       "dict"
      ]
     },
     "execution_count": 26,
     "metadata": {},
     "output_type": "execute_result"
    }
   ],
   "source": [
    "type({})"
   ]
  },
  {
   "cell_type": "code",
   "execution_count": 27,
   "id": "84f45508-1887-4858-90d2-39f88094455f",
   "metadata": {},
   "outputs": [],
   "source": [
    "s1={}\n"
   ]
  },
  {
   "cell_type": "code",
   "execution_count": 28,
   "id": "0d973b39-2271-4a62-8deb-097e11da541b",
   "metadata": {},
   "outputs": [
    {
     "data": {
      "text/plain": [
       "dict"
      ]
     },
     "execution_count": 28,
     "metadata": {},
     "output_type": "execute_result"
    }
   ],
   "source": [
    "type(s1)"
   ]
  },
  {
   "cell_type": "code",
   "execution_count": 29,
   "id": "a209b551-3f60-48fa-a659-26009bc6f618",
   "metadata": {},
   "outputs": [
    {
     "ename": "SyntaxError",
     "evalue": "invalid syntax (912262363.py, line 1)",
     "output_type": "error",
     "traceback": [
      "\u001b[0;36m  Cell \u001b[0;32mIn[29], line 1\u001b[0;36m\u001b[0m\n\u001b[0;31m    s2=\u001b[0m\n\u001b[0m       ^\u001b[0m\n\u001b[0;31mSyntaxError\u001b[0m\u001b[0;31m:\u001b[0m invalid syntax\n"
     ]
    }
   ],
   "source": [
    "s2="
   ]
  },
  {
   "cell_type": "code",
   "execution_count": 30,
   "id": "84be542a-860e-457f-bb1c-21796c1304c8",
   "metadata": {},
   "outputs": [],
   "source": [
    "s2={1,2,3,4,5}"
   ]
  },
  {
   "cell_type": "code",
   "execution_count": 31,
   "id": "f5bc012c-5c4e-4dbc-9fe7-4a62fd03da1b",
   "metadata": {},
   "outputs": [
    {
     "data": {
      "text/plain": [
       "set"
      ]
     },
     "execution_count": 31,
     "metadata": {},
     "output_type": "execute_result"
    }
   ],
   "source": [
    "type(s2)"
   ]
  },
  {
   "cell_type": "code",
   "execution_count": 32,
   "id": "19007e6d-0dec-4401-a2f7-dc77aa5c65d6",
   "metadata": {},
   "outputs": [],
   "source": [
    "s3={1,2,3,4,2,3,\"amish\",(1,2,3,4)}"
   ]
  },
  {
   "cell_type": "code",
   "execution_count": 33,
   "id": "623698f9-17a3-4e7e-ae18-c587fd54400c",
   "metadata": {},
   "outputs": [
    {
     "data": {
      "text/plain": [
       "{(1, 2, 3, 4), 1, 2, 3, 4, 'amish'}"
      ]
     },
     "execution_count": 33,
     "metadata": {},
     "output_type": "execute_result"
    }
   ],
   "source": [
    "s3"
   ]
  },
  {
   "cell_type": "code",
   "execution_count": 34,
   "id": "b389f0fe-9b44-4de9-be80-b47d50ab9fa1",
   "metadata": {},
   "outputs": [
    {
     "ename": "TypeError",
     "evalue": "'set' object does not support item assignment",
     "output_type": "error",
     "traceback": [
      "\u001b[0;31m---------------------------------------------------------------------------\u001b[0m",
      "\u001b[0;31mTypeError\u001b[0m                                 Traceback (most recent call last)",
      "Cell \u001b[0;32mIn[34], line 1\u001b[0m\n\u001b[0;32m----> 1\u001b[0m \u001b[43ms3\u001b[49m\u001b[43m[\u001b[49m\u001b[38;5;241;43m1\u001b[39;49m\u001b[43m]\u001b[49m\u001b[38;5;241m=\u001b[39m\u001b[38;5;241m56\u001b[39m\n",
      "\u001b[0;31mTypeError\u001b[0m: 'set' object does not support item assignment"
     ]
    }
   ],
   "source": [
    "s3[1]=56"
   ]
  },
  {
   "cell_type": "code",
   "execution_count": 35,
   "id": "0dc0bef1-44e7-4ad4-a860-8a51a9f98273",
   "metadata": {},
   "outputs": [],
   "source": [
    "s5={233,23,433,54,657,234,12334,543,65,\"amish\",1244,32,54,\"ansh\"}"
   ]
  },
  {
   "cell_type": "code",
   "execution_count": 36,
   "id": "6a75a0f7-d2ab-4502-9a98-ae9a6fb728b7",
   "metadata": {},
   "outputs": [
    {
     "data": {
      "text/plain": [
       "{12334, 1244, 23, 233, 234, 32, 433, 54, 543, 65, 657, 'amish', 'ansh'}"
      ]
     },
     "execution_count": 36,
     "metadata": {},
     "output_type": "execute_result"
    }
   ],
   "source": [
    "s5"
   ]
  },
  {
   "cell_type": "code",
   "execution_count": 37,
   "id": "e6266629-d7d5-456d-9b1b-2040de306e6b",
   "metadata": {},
   "outputs": [
    {
     "ename": "NameError",
     "evalue": "name 's4' is not defined",
     "output_type": "error",
     "traceback": [
      "\u001b[0;31m---------------------------------------------------------------------------\u001b[0m",
      "\u001b[0;31mNameError\u001b[0m                                 Traceback (most recent call last)",
      "Cell \u001b[0;32mIn[37], line 1\u001b[0m\n\u001b[0;32m----> 1\u001b[0m \u001b[43ms4\u001b[49m\n",
      "\u001b[0;31mNameError\u001b[0m: name 's4' is not defined"
     ]
    }
   ],
   "source": [
    "s4"
   ]
  },
  {
   "cell_type": "code",
   "execution_count": 38,
   "id": "e747a6ec-8e17-4e57-987d-239b12c97e80",
   "metadata": {},
   "outputs": [
    {
     "data": {
      "text/plain": [
       "{(1, 2, 3, 4), 1, 2, 3, 4, 'amish'}"
      ]
     },
     "execution_count": 38,
     "metadata": {},
     "output_type": "execute_result"
    }
   ],
   "source": [
    "s3"
   ]
  },
  {
   "cell_type": "code",
   "execution_count": 39,
   "id": "4ca2cdd4-3031-4ffe-9216-482f0be67a44",
   "metadata": {},
   "outputs": [
    {
     "ename": "TypeError",
     "evalue": "'set' object is not subscriptable",
     "output_type": "error",
     "traceback": [
      "\u001b[0;31m---------------------------------------------------------------------------\u001b[0m",
      "\u001b[0;31mTypeError\u001b[0m                                 Traceback (most recent call last)",
      "Cell \u001b[0;32mIn[39], line 1\u001b[0m\n\u001b[0;32m----> 1\u001b[0m \u001b[43ms5\u001b[49m\u001b[43m[\u001b[49m\u001b[38;5;241;43m0\u001b[39;49m\u001b[43m]\u001b[49m\n",
      "\u001b[0;31mTypeError\u001b[0m: 'set' object is not subscriptable"
     ]
    }
   ],
   "source": [
    "s5[0]"
   ]
  },
  {
   "cell_type": "code",
   "execution_count": 40,
   "id": "c02f8390-714a-4628-8372-428fdb8e5b52",
   "metadata": {},
   "outputs": [],
   "source": [
    "s5.add(43)"
   ]
  },
  {
   "cell_type": "code",
   "execution_count": 41,
   "id": "e47ff5bd-4c9b-4d1c-a99d-5e9866df398e",
   "metadata": {},
   "outputs": [
    {
     "data": {
      "text/plain": [
       "{12334, 1244, 23, 233, 234, 32, 43, 433, 54, 543, 65, 657, 'amish', 'ansh'}"
      ]
     },
     "execution_count": 41,
     "metadata": {},
     "output_type": "execute_result"
    }
   ],
   "source": [
    "s5"
   ]
  },
  {
   "cell_type": "code",
   "execution_count": 42,
   "id": "b09898d1-baa9-4a21-aba4-0011672004ca",
   "metadata": {},
   "outputs": [],
   "source": [
    "s5.add(\"anshu\")"
   ]
  },
  {
   "cell_type": "code",
   "execution_count": 43,
   "id": "23e69d1d-4d79-430d-8be0-bc3071fcaf99",
   "metadata": {},
   "outputs": [
    {
     "data": {
      "text/plain": [
       "{12334,\n",
       " 1244,\n",
       " 23,\n",
       " 233,\n",
       " 234,\n",
       " 32,\n",
       " 43,\n",
       " 433,\n",
       " 54,\n",
       " 543,\n",
       " 65,\n",
       " 657,\n",
       " 'amish',\n",
       " 'ansh',\n",
       " 'anshu'}"
      ]
     },
     "execution_count": 43,
     "metadata": {},
     "output_type": "execute_result"
    }
   ],
   "source": [
    "s5"
   ]
  },
  {
   "cell_type": "code",
   "execution_count": 44,
   "id": "48f78f80-e770-4ac2-bd21-19ce20b39daf",
   "metadata": {},
   "outputs": [],
   "source": [
    "s5.clear()"
   ]
  },
  {
   "cell_type": "code",
   "execution_count": 45,
   "id": "5dd18a64-b3af-4931-bc67-64fd33af3364",
   "metadata": {},
   "outputs": [
    {
     "data": {
      "text/plain": [
       "set()"
      ]
     },
     "execution_count": 45,
     "metadata": {},
     "output_type": "execute_result"
    }
   ],
   "source": [
    "s5"
   ]
  },
  {
   "cell_type": "code",
   "execution_count": 46,
   "id": "59bee9cd-11ce-4002-9958-54b785be0465",
   "metadata": {},
   "outputs": [],
   "source": [
    "s5={12334,\n",
    " 1244,\n",
    " 23,\n",
    " 233,\n",
    " 234,\n",
    " 32,\n",
    " 43,\n",
    " 433,\n",
    " 54,\n",
    " 543,\n",
    " 65,\n",
    " 657,\n",
    " 'amish',\n",
    " 'ansh',\n",
    " 'anshu'}"
   ]
  },
  {
   "cell_type": "code",
   "execution_count": 47,
   "id": "98ef3ead-2a12-47bb-bc54-ab00d52ec1c9",
   "metadata": {},
   "outputs": [
    {
     "data": {
      "text/plain": [
       "{12334,\n",
       " 1244,\n",
       " 23,\n",
       " 233,\n",
       " 234,\n",
       " 32,\n",
       " 43,\n",
       " 433,\n",
       " 54,\n",
       " 543,\n",
       " 65,\n",
       " 657,\n",
       " 'amish',\n",
       " 'ansh',\n",
       " 'anshu'}"
      ]
     },
     "execution_count": 47,
     "metadata": {},
     "output_type": "execute_result"
    }
   ],
   "source": [
    "s5"
   ]
  },
  {
   "cell_type": "code",
   "execution_count": 48,
   "id": "1e855209-91a6-4daa-84cf-e9a3c3662a78",
   "metadata": {},
   "outputs": [],
   "source": [
    "s5.remove(\"amish\")"
   ]
  },
  {
   "cell_type": "code",
   "execution_count": 49,
   "id": "d06293e6-1d90-4f26-906e-86bc538b0feb",
   "metadata": {},
   "outputs": [
    {
     "data": {
      "text/plain": [
       "{12334, 1244, 23, 233, 234, 32, 43, 433, 54, 543, 65, 657, 'ansh', 'anshu'}"
      ]
     },
     "execution_count": 49,
     "metadata": {},
     "output_type": "execute_result"
    }
   ],
   "source": [
    "s5"
   ]
  },
  {
   "cell_type": "code",
   "execution_count": 50,
   "id": "722c0768-f043-45a2-a4aa-9a13ba193364",
   "metadata": {},
   "outputs": [],
   "source": [
    "s5.remove(1244)"
   ]
  },
  {
   "cell_type": "code",
   "execution_count": 51,
   "id": "fd1ec164-8093-4879-85e8-db5c61956501",
   "metadata": {},
   "outputs": [
    {
     "data": {
      "text/plain": [
       "32"
      ]
     },
     "execution_count": 51,
     "metadata": {},
     "output_type": "execute_result"
    }
   ],
   "source": [
    "s5.pop()"
   ]
  },
  {
   "cell_type": "code",
   "execution_count": 52,
   "id": "9715411a-ccbe-4eed-935f-13e4f4d78158",
   "metadata": {},
   "outputs": [
    {
     "data": {
      "text/plain": [
       "{12334, 23, 233, 234, 43, 433, 54, 543, 65, 657, 'ansh', 'anshu'}"
      ]
     },
     "execution_count": 52,
     "metadata": {},
     "output_type": "execute_result"
    }
   ],
   "source": [
    "s5"
   ]
  },
  {
   "cell_type": "code",
   "execution_count": null,
   "id": "b8745e2b-f0d3-4809-96a9-bdecd078ffe9",
   "metadata": {},
   "outputs": [],
   "source": []
  }
 ],
 "metadata": {
  "kernelspec": {
   "display_name": "Python 3 (ipykernel)",
   "language": "python",
   "name": "python3"
  },
  "language_info": {
   "codemirror_mode": {
    "name": "ipython",
    "version": 3
   },
   "file_extension": ".py",
   "mimetype": "text/x-python",
   "name": "python",
   "nbconvert_exporter": "python",
   "pygments_lexer": "ipython3",
   "version": "3.10.8"
  }
 },
 "nbformat": 4,
 "nbformat_minor": 5
}
