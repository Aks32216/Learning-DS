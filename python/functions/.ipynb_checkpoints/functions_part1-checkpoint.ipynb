{
 "cells": [
  {
   "cell_type": "code",
   "execution_count": 1,
   "id": "df41ab7f-d5f8-4d36-bed6-7c51403ac942",
   "metadata": {},
   "outputs": [],
   "source": [
    "## functions"
   ]
  },
  {
   "cell_type": "code",
   "execution_count": 2,
   "id": "0df88e26-9a06-46dd-91fd-b0ed38f4fe64",
   "metadata": {},
   "outputs": [
    {
     "name": "stdout",
     "output_type": "stream",
     "text": [
      "this is my print\n"
     ]
    }
   ],
   "source": [
    "print('this is my print')"
   ]
  },
  {
   "cell_type": "code",
   "execution_count": 3,
   "id": "7f95a84b-ebaa-4999-9c25-440f054be644",
   "metadata": {},
   "outputs": [],
   "source": [
    "l=[23,54,33,333]"
   ]
  },
  {
   "cell_type": "code",
   "execution_count": 4,
   "id": "f0137bc0-5312-4de0-b672-37bf28c3b2f1",
   "metadata": {},
   "outputs": [
    {
     "data": {
      "text/plain": [
       "4"
      ]
     },
     "execution_count": 4,
     "metadata": {},
     "output_type": "execute_result"
    }
   ],
   "source": [
    "len(l)"
   ]
  },
  {
   "cell_type": "code",
   "execution_count": 5,
   "id": "53d2fce7-ef21-4693-b625-31d668a10bc0",
   "metadata": {},
   "outputs": [
    {
     "data": {
      "text/plain": [
       "list"
      ]
     },
     "execution_count": 5,
     "metadata": {},
     "output_type": "execute_result"
    }
   ],
   "source": [
    "type(l)"
   ]
  },
  {
   "cell_type": "code",
   "execution_count": 6,
   "id": "902e0336-9f06-46b2-b398-c47ecad5a10d",
   "metadata": {},
   "outputs": [],
   "source": [
    "def test():\n",
    "    pass"
   ]
  },
  {
   "cell_type": "code",
   "execution_count": 7,
   "id": "bb42e3e8-d8ce-4757-90c8-10169a26500e",
   "metadata": {},
   "outputs": [],
   "source": [
    "def test1():\n",
    "    print(\"this is hello from function\")"
   ]
  },
  {
   "cell_type": "code",
   "execution_count": 8,
   "id": "45372801-0a14-4696-8e30-783bca677f51",
   "metadata": {},
   "outputs": [
    {
     "name": "stdout",
     "output_type": "stream",
     "text": [
      "this is hello from function\n"
     ]
    }
   ],
   "source": [
    "test1()"
   ]
  },
  {
   "cell_type": "code",
   "execution_count": 9,
   "id": "86ccadc7-6a6a-4652-bc11-371869c1b495",
   "metadata": {},
   "outputs": [
    {
     "data": {
      "text/plain": [
       "<function __main__.test1()>"
      ]
     },
     "execution_count": 9,
     "metadata": {},
     "output_type": "execute_result"
    }
   ],
   "source": [
    "test1\n"
   ]
  },
  {
   "cell_type": "code",
   "execution_count": 10,
   "id": "9ebef45e-414f-4fad-a280-282ace47f3a4",
   "metadata": {},
   "outputs": [
    {
     "data": {
      "text/plain": [
       "<function __main__.test()>"
      ]
     },
     "execution_count": 10,
     "metadata": {},
     "output_type": "execute_result"
    }
   ],
   "source": [
    "test"
   ]
  },
  {
   "cell_type": "code",
   "execution_count": 11,
   "id": "2acf6ca0-d9e7-4f41-9662-cf8a92844bc0",
   "metadata": {},
   "outputs": [],
   "source": [
    "test()"
   ]
  },
  {
   "cell_type": "code",
   "execution_count": 12,
   "id": "60ab1336-b44f-4be5-bea2-f49ab1c6497e",
   "metadata": {},
   "outputs": [
    {
     "name": "stdout",
     "output_type": "stream",
     "text": [
      "this is hello from function\n"
     ]
    }
   ],
   "source": [
    "test1()"
   ]
  },
  {
   "cell_type": "code",
   "execution_count": 13,
   "id": "2bcb114c-d82e-4e71-a9af-73d1f3458895",
   "metadata": {},
   "outputs": [
    {
     "name": "stdout",
     "output_type": "stream",
     "text": [
      "this is hello from function\n"
     ]
    },
    {
     "data": {
      "text/plain": [
       "NoneType"
      ]
     },
     "execution_count": 13,
     "metadata": {},
     "output_type": "execute_result"
    }
   ],
   "source": [
    "type(test1())"
   ]
  },
  {
   "cell_type": "code",
   "execution_count": 14,
   "id": "3419911a-d3ea-4711-a8a8-89d8bf4ab52f",
   "metadata": {},
   "outputs": [],
   "source": [
    "def test2():\n",
    "    return \"hello from test2\""
   ]
  },
  {
   "cell_type": "code",
   "execution_count": 15,
   "id": "473911f2-a189-4eaa-8f84-946cc1915769",
   "metadata": {},
   "outputs": [
    {
     "data": {
      "text/plain": [
       "'hello from test2'"
      ]
     },
     "execution_count": 15,
     "metadata": {},
     "output_type": "execute_result"
    }
   ],
   "source": [
    "test2()"
   ]
  },
  {
   "cell_type": "code",
   "execution_count": 16,
   "id": "35114ee2-3346-4580-b387-c0e13837b15f",
   "metadata": {},
   "outputs": [
    {
     "data": {
      "text/plain": [
       "'hello from test2amish kumar singh'"
      ]
     },
     "execution_count": 16,
     "metadata": {},
     "output_type": "execute_result"
    }
   ],
   "source": [
    "test2() + \"amish kumar singh\""
   ]
  },
  {
   "cell_type": "code",
   "execution_count": 17,
   "id": "f2b505c0-0d36-4255-b2e0-1ab146225b78",
   "metadata": {},
   "outputs": [],
   "source": [
    "def test3():\n",
    "    return \"amish\",23,544,25.44,[1,2,3,4]"
   ]
  },
  {
   "cell_type": "code",
   "execution_count": 18,
   "id": "7c71664f-da80-4fba-ab23-bbc58fca4ac9",
   "metadata": {},
   "outputs": [
    {
     "data": {
      "text/plain": [
       "('amish', 23, 544, 25.44, [1, 2, 3, 4])"
      ]
     },
     "execution_count": 18,
     "metadata": {},
     "output_type": "execute_result"
    }
   ],
   "source": [
    "test3()"
   ]
  },
  {
   "cell_type": "code",
   "execution_count": 19,
   "id": "d7adc4a6-a67b-4a98-8fe7-81e9df3042f6",
   "metadata": {},
   "outputs": [],
   "source": [
    "a,b,c,d,e=test3()"
   ]
  },
  {
   "cell_type": "code",
   "execution_count": 20,
   "id": "347b4d46-b2d8-4ea6-b23b-601d7874e872",
   "metadata": {},
   "outputs": [
    {
     "data": {
      "text/plain": [
       "'amish'"
      ]
     },
     "execution_count": 20,
     "metadata": {},
     "output_type": "execute_result"
    }
   ],
   "source": [
    "a"
   ]
  },
  {
   "cell_type": "code",
   "execution_count": 21,
   "id": "302257d3-60bb-44a2-8592-ac2e112c9942",
   "metadata": {},
   "outputs": [
    {
     "data": {
      "text/plain": [
       "23"
      ]
     },
     "execution_count": 21,
     "metadata": {},
     "output_type": "execute_result"
    }
   ],
   "source": [
    "b"
   ]
  },
  {
   "cell_type": "code",
   "execution_count": 22,
   "id": "7646cf5b-778d-4042-8d61-21be2e2a73c5",
   "metadata": {},
   "outputs": [
    {
     "data": {
      "text/plain": [
       "544"
      ]
     },
     "execution_count": 22,
     "metadata": {},
     "output_type": "execute_result"
    }
   ],
   "source": [
    "c"
   ]
  },
  {
   "cell_type": "code",
   "execution_count": 23,
   "id": "b6b1b4d5-2436-4400-9ab1-9c66a2a171ef",
   "metadata": {},
   "outputs": [
    {
     "data": {
      "text/plain": [
       "25.44"
      ]
     },
     "execution_count": 23,
     "metadata": {},
     "output_type": "execute_result"
    }
   ],
   "source": [
    "d"
   ]
  },
  {
   "cell_type": "code",
   "execution_count": 24,
   "id": "2e83071f-a5ca-4c3c-8642-acc1379c2355",
   "metadata": {},
   "outputs": [
    {
     "data": {
      "text/plain": [
       "[1, 2, 3, 4]"
      ]
     },
     "execution_count": 24,
     "metadata": {},
     "output_type": "execute_result"
    }
   ],
   "source": [
    "e"
   ]
  },
  {
   "cell_type": "code",
   "execution_count": 25,
   "id": "a4f0b800-9a60-498f-a2c2-4de6621c6ae3",
   "metadata": {},
   "outputs": [
    {
     "ename": "NameError",
     "evalue": "name 'f' is not defined",
     "output_type": "error",
     "traceback": [
      "\u001b[0;31m---------------------------------------------------------------------------\u001b[0m",
      "\u001b[0;31mNameError\u001b[0m                                 Traceback (most recent call last)",
      "\u001b[0;32m/tmp/ipykernel_9049/4058002314.py\u001b[0m in \u001b[0;36m<module>\u001b[0;34m\u001b[0m\n\u001b[0;32m----> 1\u001b[0;31m \u001b[0mf\u001b[0m\u001b[0;34m\u001b[0m\u001b[0;34m\u001b[0m\u001b[0m\n\u001b[0m",
      "\u001b[0;31mNameError\u001b[0m: name 'f' is not defined"
     ]
    }
   ],
   "source": [
    "f"
   ]
  },
  {
   "cell_type": "code",
   "execution_count": 26,
   "id": "b80c1a29-75be-4f55-b2d1-2a4aa8de39e1",
   "metadata": {},
   "outputs": [
    {
     "data": {
      "text/plain": [
       "5.857142857142857"
      ]
     },
     "execution_count": 26,
     "metadata": {},
     "output_type": "execute_result"
    }
   ],
   "source": [
    "def test4():\n",
    "    a=5+6/7\n",
    "    return a\n",
    "\n",
    "test4()"
   ]
  },
  {
   "cell_type": "code",
   "execution_count": 27,
   "id": "e4e70030-e798-47c4-ad8f-0db442776fe3",
   "metadata": {},
   "outputs": [
    {
     "data": {
      "text/plain": [
       "1.0204081632653061"
      ]
     },
     "execution_count": 27,
     "metadata": {},
     "output_type": "execute_result"
    }
   ],
   "source": [
    "def test5(a,b,c=98):\n",
    "    d=a+b/c\n",
    "    return d\n",
    "\n",
    "test5(1,2)"
   ]
  },
  {
   "cell_type": "code",
   "execution_count": 28,
   "id": "ec991f2f-502f-41f5-9552-b49fbd7d5ebe",
   "metadata": {},
   "outputs": [],
   "source": [
    "def test6(a,b):\n",
    "    return a+b\n",
    "\n"
   ]
  },
  {
   "cell_type": "code",
   "execution_count": 29,
   "id": "7d263012-33df-41e9-bb1c-fd13f652ebdf",
   "metadata": {},
   "outputs": [
    {
     "data": {
      "text/plain": [
       "7"
      ]
     },
     "execution_count": 29,
     "metadata": {},
     "output_type": "execute_result"
    }
   ],
   "source": [
    "test6(3,4)"
   ]
  },
  {
   "cell_type": "code",
   "execution_count": null,
   "id": "40f69188-2719-46cd-b9fe-7ee86ec53bd7",
   "metadata": {},
   "outputs": [],
   "source": [
    "test6('amish','kumar')"
   ]
  },
  {
   "cell_type": "code",
   "execution_count": null,
   "id": "49ed0445-c73d-4805-a22f-b4a3148f18bc",
   "metadata": {},
   "outputs": [],
   "source": [
    "test6([1,2,3,4],[12,34,56,65])"
   ]
  },
  {
   "cell_type": "code",
   "execution_count": null,
   "id": "0f0aaa42-efce-4f9e-9730-1018ba73c975",
   "metadata": {},
   "outputs": [],
   "source": [
    "l=[1,3,4,3,33,44,33,'amish','kumar',[1,2,3,3,3,3,3],(1222,444,554),{1,2,3,4,3,3}]"
   ]
  },
  {
   "cell_type": "code",
   "execution_count": null,
   "id": "f78cb6dc-4d68-49f9-9667-89982c3da0c4",
   "metadata": {},
   "outputs": [],
   "source": [
    "def findInteger(l):\n",
    "    \"\"\"This is a funciton to extract numeric data from any type\"\"\"\n",
    "    res=[]\n",
    "    for i in l:\n",
    "        if type(i) == int:\n",
    "            res.append(i)\n",
    "        elif type(i) == list or type(i) == set or type(i) == tuple:\n",
    "            temp=findInteger(i)\n",
    "            res.extend(temp)\n",
    "    return res"
   ]
  },
  {
   "cell_type": "code",
   "execution_count": null,
   "id": "45068f8c-85d8-4a54-b697-738aac6ac96b",
   "metadata": {},
   "outputs": [],
   "source": [
    "findInteger(l)"
   ]
  },
  {
   "cell_type": "code",
   "execution_count": null,
   "id": "69b5b941-7b23-402c-b18c-de583f63617c",
   "metadata": {},
   "outputs": [],
   "source": [
    "findInteger(l)"
   ]
  },
  {
   "cell_type": "code",
   "execution_count": null,
   "id": "6cd9d08c-f430-4399-80ad-15e2938213dd",
   "metadata": {},
   "outputs": [],
   "source": [
    "## concept of dynamic argument"
   ]
  },
  {
   "cell_type": "code",
   "execution_count": null,
   "id": "c6c79e19-76f2-4c84-939a-561f70672347",
   "metadata": {},
   "outputs": [],
   "source": [
    "## here we have confined our self to passing only two data value\n",
    "## but it may so happen that user may pass more than two values\n",
    "## so to handle such a situation we use dynamic argument\n",
    "\n",
    "def test10(a,b):\n",
    "    return a+b"
   ]
  },
  {
   "cell_type": "code",
   "execution_count": null,
   "id": "8a6fc88d-efeb-4e66-839f-3e0fa9d0b68e",
   "metadata": {},
   "outputs": [],
   "source": [
    "## done with the help of *args\n",
    "\n",
    "def test11(*args):\n",
    "    addition=0\n",
    "    for i in args:\n",
    "        addition+=i\n",
    "    return addition"
   ]
  },
  {
   "cell_type": "code",
   "execution_count": null,
   "id": "49665420-c4f2-4767-bc39-104fe2dca58d",
   "metadata": {},
   "outputs": [],
   "source": [
    "test11(l)"
   ]
  },
  {
   "cell_type": "code",
   "execution_count": null,
   "id": "dd2b6afc-e808-4e2f-9c66-710bae7687ea",
   "metadata": {},
   "outputs": [],
   "source": [
    "test11(1,2,3,4,5)"
   ]
  },
  {
   "cell_type": "code",
   "execution_count": null,
   "id": "1a4152c8-3b5c-4ebd-a358-b4e0b68f0469",
   "metadata": {},
   "outputs": [],
   "source": [
    "l1=[1,2,3,4,5,6]"
   ]
  },
  {
   "cell_type": "code",
   "execution_count": null,
   "id": "23bb5f53-2180-4d6f-8f83-409ceb92e2c0",
   "metadata": {},
   "outputs": [],
   "source": [
    "test11(1,2,3,4,5)"
   ]
  },
  {
   "cell_type": "code",
   "execution_count": null,
   "id": "7e3c6e15-f135-43dd-b4b2-5215ff524f30",
   "metadata": {},
   "outputs": [],
   "source": [
    "def test12(a,*args):\n",
    "    return args,a"
   ]
  },
  {
   "cell_type": "code",
   "execution_count": null,
   "id": "c9d17976-8e1f-4ef2-9b2f-475d77bf06d3",
   "metadata": {},
   "outputs": [],
   "source": [
    "test12(a=11,1,2,3,4,4,4)"
   ]
  },
  {
   "cell_type": "code",
   "execution_count": null,
   "id": "fee97090-e7e0-4b35-9eee-083a400f92ee",
   "metadata": {},
   "outputs": [],
   "source": []
  }
 ],
 "metadata": {
  "kernelspec": {
   "display_name": "Python 3 (ipykernel)",
   "language": "python",
   "name": "python3"
  },
  "language_info": {
   "codemirror_mode": {
    "name": "ipython",
    "version": 3
   },
   "file_extension": ".py",
   "mimetype": "text/x-python",
   "name": "python",
   "nbconvert_exporter": "python",
   "pygments_lexer": "ipython3",
   "version": "3.9.13"
  }
 },
 "nbformat": 4,
 "nbformat_minor": 5
}
