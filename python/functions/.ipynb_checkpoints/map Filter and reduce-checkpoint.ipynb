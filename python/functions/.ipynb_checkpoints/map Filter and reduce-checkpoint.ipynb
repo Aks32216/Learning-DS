{
 "cells": [
  {
   "cell_type": "code",
   "execution_count": 1,
   "id": "2bca3e6f-96cd-46df-8adb-c60d5dabe2b3",
   "metadata": {},
   "outputs": [],
   "source": [
    "## map reduce and filter"
   ]
  },
  {
   "cell_type": "code",
   "execution_count": 19,
   "id": "2911af63-51ea-4e03-834f-f5fd11934ac0",
   "metadata": {},
   "outputs": [],
   "source": [
    "## map function takes two arguments\n",
    "## 1. function -> the operation which is to be performed to each item of the iterable\n",
    "## 2. *args of iterables on which you want to perform operation\n",
    "\n",
    "## map iterates untill one of the iterator is exhausted\n",
    "## it can take function as normal function or lambda function\n",
    "## return value in map type which can be iterated"
   ]
  },
  {
   "cell_type": "code",
   "execution_count": 2,
   "id": "3c2dd6ec-5e0a-42fb-b1a7-aad62855a6ba",
   "metadata": {},
   "outputs": [],
   "source": [
    "l=[3,4,5,6]"
   ]
  },
  {
   "cell_type": "code",
   "execution_count": 3,
   "id": "4e3a3681-93a5-43f2-9fdb-c8c7294bb751",
   "metadata": {},
   "outputs": [
    {
     "data": {
      "text/plain": [
       "[3, 4, 5, 6]"
      ]
     },
     "execution_count": 3,
     "metadata": {},
     "output_type": "execute_result"
    }
   ],
   "source": [
    "l"
   ]
  },
  {
   "cell_type": "code",
   "execution_count": 4,
   "id": "4042135f-dfb6-4abb-855d-3ed27c950f27",
   "metadata": {},
   "outputs": [
    {
     "data": {
      "text/plain": [
       "[9, 16, 25, 36]"
      ]
     },
     "execution_count": 4,
     "metadata": {},
     "output_type": "execute_result"
    }
   ],
   "source": [
    "def test(l):\n",
    "    l1=[]\n",
    "    for i in l:\n",
    "        l1.append(i**2)\n",
    "    return l1\n",
    "\n",
    "test(l)"
   ]
  },
  {
   "cell_type": "code",
   "execution_count": 5,
   "id": "9c274a64-b2d6-49d2-992c-58579942fc3a",
   "metadata": {},
   "outputs": [
    {
     "ename": "NameError",
     "evalue": "name 'l1' is not defined",
     "output_type": "error",
     "traceback": [
      "\u001b[0;31m---------------------------------------------------------------------------\u001b[0m",
      "\u001b[0;31mNameError\u001b[0m                                 Traceback (most recent call last)",
      "Cell \u001b[0;32mIn[5], line 1\u001b[0m\n\u001b[0;32m----> 1\u001b[0m \u001b[43ml1\u001b[49m\n",
      "\u001b[0;31mNameError\u001b[0m: name 'l1' is not defined"
     ]
    }
   ],
   "source": [
    "l1"
   ]
  },
  {
   "cell_type": "code",
   "execution_count": 9,
   "id": "3a18e6ba-1f03-4cc6-b6f0-796347187d8a",
   "metadata": {},
   "outputs": [
    {
     "name": "stdout",
     "output_type": "stream",
     "text": [
      "<class 'map'>\n",
      "9\n",
      "16\n",
      "25\n",
      "36\n"
     ]
    }
   ],
   "source": [
    "def sq(x):\n",
    "    return x**2\n",
    "\n",
    "l1=map(sq,l)\n",
    "\n",
    "print(type(l1))\n",
    "\n",
    "for i in l1:\n",
    "    print(i)"
   ]
  },
  {
   "cell_type": "code",
   "execution_count": 10,
   "id": "0410d7de-5b5e-4c6e-95ab-9d506adba4d5",
   "metadata": {},
   "outputs": [
    {
     "name": "stdout",
     "output_type": "stream",
     "text": [
      "[9, 16, 25, 36]\n"
     ]
    }
   ],
   "source": [
    "l1=list(map(lambda x: x**2,l))\n",
    "print(l1)"
   ]
  },
  {
   "cell_type": "code",
   "execution_count": 11,
   "id": "9dcf7569-27a8-4df7-bc90-81b59008938f",
   "metadata": {},
   "outputs": [
    {
     "name": "stdout",
     "output_type": "stream",
     "text": [
      "[5, 6, 7, 8]\n"
     ]
    }
   ],
   "source": [
    "l1=list(map(lambda x:x+2,l))\n",
    "print(l1)"
   ]
  },
  {
   "cell_type": "code",
   "execution_count": 16,
   "id": "dd8b80fa-da54-4b74-b19c-a2c2e5295a3b",
   "metadata": {},
   "outputs": [
    {
     "name": "stdout",
     "output_type": "stream",
     "text": [
      "[12, 15, 18]\n"
     ]
    }
   ],
   "source": [
    "l1=[1,2,3,4,5]\n",
    "l2=[6,7,8]\n",
    "l4=[5,6,7,8,8,8,8]\n",
    "\n",
    "l3=list(map(lambda x,y,z:x+y+z,l1,l2,l4))\n",
    "print(l3)"
   ]
  },
  {
   "cell_type": "code",
   "execution_count": 14,
   "id": "5458b413-349c-4df0-b90e-861603a78384",
   "metadata": {},
   "outputs": [
    {
     "name": "stdout",
     "output_type": "stream",
     "text": [
      "[7, 9, 11]\n"
     ]
    }
   ],
   "source": [
    "def addition(x,y):\n",
    "    return x+y\n",
    "\n",
    "l3=list(map(addition,l1,l2))\n",
    "\n",
    "print(l3)"
   ]
  },
  {
   "cell_type": "code",
   "execution_count": 17,
   "id": "d79f0bb4-47f9-4251-9c71-19130358f0dd",
   "metadata": {},
   "outputs": [
    {
     "name": "stdout",
     "output_type": "stream",
     "text": [
      "A\n",
      "M\n",
      "I\n",
      "S\n",
      "H\n",
      "K\n",
      "R\n",
      "S\n",
      "I\n",
      "N\n",
      "G\n",
      "H\n"
     ]
    }
   ],
   "source": [
    "s=\"amishkrsingh\"\n",
    "\n",
    "s1=map(lambda x:x.upper(),s)\n",
    "\n",
    "for i in s1:\n",
    "    print(i)"
   ]
  },
  {
   "cell_type": "code",
   "execution_count": 18,
   "id": "125ecdf3-2384-4e82-a72d-01fb5290c4f1",
   "metadata": {},
   "outputs": [],
   "source": [
    "## reduce"
   ]
  },
  {
   "cell_type": "code",
   "execution_count": 35,
   "id": "b25f7e05-f464-4d00-af8c-68a40988a4ed",
   "metadata": {},
   "outputs": [],
   "source": [
    "## this takes two argument and return a single value after performing the operation\n",
    "## 1. function which is used to perform operation\n",
    "## 2. iterable on which you want to perform the operation\n",
    "\n",
    "## reduce function argument takes two parameter and it has to be only two parameters\n",
    "## and the iterable must have atleast one value\n",
    "## it is not availabe directly\n",
    "## it is to be imported from functools"
   ]
  },
  {
   "cell_type": "code",
   "execution_count": 20,
   "id": "472286b0-3e55-406a-9a82-a9583a128a13",
   "metadata": {},
   "outputs": [],
   "source": [
    "from functools import reduce"
   ]
  },
  {
   "cell_type": "code",
   "execution_count": 21,
   "id": "7c66fbee-8c1f-4984-9bb0-764eb6bf565f",
   "metadata": {},
   "outputs": [],
   "source": [
    "l=[1,2,3,3,4,5,5,6]"
   ]
  },
  {
   "cell_type": "code",
   "execution_count": 22,
   "id": "30bc3b20-c08f-4cec-921e-70f38a43ff16",
   "metadata": {},
   "outputs": [
    {
     "data": {
      "text/plain": [
       "29"
      ]
     },
     "execution_count": 22,
     "metadata": {},
     "output_type": "execute_result"
    }
   ],
   "source": [
    "reduce(lambda x,y:x+y,l)"
   ]
  },
  {
   "cell_type": "code",
   "execution_count": 23,
   "id": "830fe25f-c03c-4668-a058-f67f37198d49",
   "metadata": {},
   "outputs": [
    {
     "ename": "TypeError",
     "evalue": "<lambda>() missing 1 required positional argument: 'z'",
     "output_type": "error",
     "traceback": [
      "\u001b[0;31m---------------------------------------------------------------------------\u001b[0m",
      "\u001b[0;31mTypeError\u001b[0m                                 Traceback (most recent call last)",
      "Cell \u001b[0;32mIn[23], line 1\u001b[0m\n\u001b[0;32m----> 1\u001b[0m \u001b[43mreduce\u001b[49m\u001b[43m(\u001b[49m\u001b[38;5;28;43;01mlambda\u001b[39;49;00m\u001b[43m \u001b[49m\u001b[43mx\u001b[49m\u001b[43m,\u001b[49m\u001b[43my\u001b[49m\u001b[43m,\u001b[49m\u001b[43mz\u001b[49m\u001b[43m:\u001b[49m\u001b[43mx\u001b[49m\u001b[38;5;241;43m+\u001b[39;49m\u001b[43my\u001b[49m\u001b[38;5;241;43m+\u001b[39;49m\u001b[43mz\u001b[49m\u001b[43m,\u001b[49m\u001b[43ml\u001b[49m\u001b[43m)\u001b[49m\n",
      "\u001b[0;31mTypeError\u001b[0m: <lambda>() missing 1 required positional argument: 'z'"
     ]
    }
   ],
   "source": [
    "reduce(lambda x,y,z:x+y+z,l)"
   ]
  },
  {
   "cell_type": "code",
   "execution_count": 24,
   "id": "5cae44e4-99e3-4706-a0d4-f5f7186acf0a",
   "metadata": {},
   "outputs": [
    {
     "ename": "TypeError",
     "evalue": "reduce() of empty iterable with no initial value",
     "output_type": "error",
     "traceback": [
      "\u001b[0;31m---------------------------------------------------------------------------\u001b[0m",
      "\u001b[0;31mTypeError\u001b[0m                                 Traceback (most recent call last)",
      "Cell \u001b[0;32mIn[24], line 1\u001b[0m\n\u001b[0;32m----> 1\u001b[0m \u001b[43mreduce\u001b[49m\u001b[43m(\u001b[49m\u001b[38;5;28;43;01mlambda\u001b[39;49;00m\u001b[43m \u001b[49m\u001b[43mx\u001b[49m\u001b[43m,\u001b[49m\u001b[43my\u001b[49m\u001b[43m:\u001b[49m\u001b[43mx\u001b[49m\u001b[38;5;241;43m+\u001b[39;49m\u001b[43my\u001b[49m\u001b[43m,\u001b[49m\u001b[43m[\u001b[49m\u001b[43m]\u001b[49m\u001b[43m)\u001b[49m\n",
      "\u001b[0;31mTypeError\u001b[0m: reduce() of empty iterable with no initial value"
     ]
    }
   ],
   "source": [
    "reduce(lambda x,y:x+y,[])"
   ]
  },
  {
   "cell_type": "code",
   "execution_count": 25,
   "id": "2f576135-330e-4a88-ada8-033d0e348f26",
   "metadata": {},
   "outputs": [
    {
     "data": {
      "text/plain": [
       "1"
      ]
     },
     "execution_count": 25,
     "metadata": {},
     "output_type": "execute_result"
    }
   ],
   "source": [
    "reduce(lambda x,y:x+y,[1])"
   ]
  },
  {
   "cell_type": "code",
   "execution_count": 26,
   "id": "c74ff88b-05c1-442d-927c-ca11feb7316a",
   "metadata": {},
   "outputs": [
    {
     "data": {
      "text/plain": [
       "10800"
      ]
     },
     "execution_count": 26,
     "metadata": {},
     "output_type": "execute_result"
    }
   ],
   "source": [
    "reduce(lambda x,y:x*y,l)"
   ]
  },
  {
   "cell_type": "code",
   "execution_count": 27,
   "id": "2d7c2d81-a2a4-4335-9638-cd7120ef174a",
   "metadata": {},
   "outputs": [
    {
     "data": {
      "text/plain": [
       "[1, 2, 3, 3, 4, 5, 5, 6]"
      ]
     },
     "execution_count": 27,
     "metadata": {},
     "output_type": "execute_result"
    }
   ],
   "source": [
    "l"
   ]
  },
  {
   "cell_type": "code",
   "execution_count": 28,
   "id": "d736ae6e-7205-48f4-94ec-763e3ab82bd4",
   "metadata": {},
   "outputs": [
    {
     "data": {
      "text/plain": [
       "6"
      ]
     },
     "execution_count": 28,
     "metadata": {},
     "output_type": "execute_result"
    }
   ],
   "source": [
    "reduce(lambda x,y: x if x>y else y,l)"
   ]
  },
  {
   "cell_type": "code",
   "execution_count": 32,
   "id": "63bd1f45-894a-4717-9cfb-72c709c0d816",
   "metadata": {},
   "outputs": [
    {
     "data": {
      "text/plain": [
       "54"
      ]
     },
     "execution_count": 32,
     "metadata": {},
     "output_type": "execute_result"
    }
   ],
   "source": [
    "reduce(lambda x,y:x if x<y else y,[54])"
   ]
  },
  {
   "cell_type": "code",
   "execution_count": 30,
   "id": "cd18aead-ecb0-4903-bba0-95497eeba0cf",
   "metadata": {},
   "outputs": [
    {
     "data": {
      "text/plain": [
       "[1, 2, 3, 3, 4, 5, 5, 6]"
      ]
     },
     "execution_count": 30,
     "metadata": {},
     "output_type": "execute_result"
    }
   ],
   "source": [
    "l"
   ]
  },
  {
   "cell_type": "code",
   "execution_count": 34,
   "id": "14fc1ae9-3701-4465-a707-83c3b40fe8dc",
   "metadata": {},
   "outputs": [],
   "source": [
    "## filter"
   ]
  },
  {
   "cell_type": "code",
   "execution_count": null,
   "id": "183b7509-6e50-4c51-9357-ec66f3b20268",
   "metadata": {},
   "outputs": [],
   "source": [
    "## filter is used to filter out elements from an iterable\n",
    "## it takes in input as a funciton/None and an iterable\n",
    "## if function is provided then filtering happens on the basis of logic of function\n",
    "## if None is provided then all the elements which are true are returned from the iterable\n",
    "\n",
    "## filter returns an object of filter class which can be iterated"
   ]
  },
  {
   "cell_type": "code",
   "execution_count": 36,
   "id": "ddf3d0d8-37d1-436b-9f51-537b66a32419",
   "metadata": {},
   "outputs": [
    {
     "data": {
      "text/plain": [
       "[1, 2, 3, 3, 4, 5, 5, 6]"
      ]
     },
     "execution_count": 36,
     "metadata": {},
     "output_type": "execute_result"
    }
   ],
   "source": [
    "l"
   ]
  },
  {
   "cell_type": "code",
   "execution_count": 40,
   "id": "4475a15a-650e-4544-b0c8-5f1d42232771",
   "metadata": {},
   "outputs": [
    {
     "name": "stdout",
     "output_type": "stream",
     "text": [
      "<class 'filter'>\n",
      "2\n",
      "4\n",
      "6\n"
     ]
    }
   ],
   "source": [
    "l1=filter(lambda x:x%2==0,l)\n",
    "\n",
    "print(type(l1))\n",
    "for i in l1:\n",
    "    print(i)"
   ]
  },
  {
   "cell_type": "code",
   "execution_count": 42,
   "id": "8681fde6-4333-4185-acdd-3e3d36c204c9",
   "metadata": {},
   "outputs": [
    {
     "data": {
      "text/plain": [
       "[1, 2, 3, 3, 4, 5, 5, 6]"
      ]
     },
     "execution_count": 42,
     "metadata": {},
     "output_type": "execute_result"
    }
   ],
   "source": [
    "list(filter(None,l))"
   ]
  },
  {
   "cell_type": "code",
   "execution_count": 43,
   "id": "0c2310f4-cde5-4f6c-a8e9-97dab16bf6ca",
   "metadata": {},
   "outputs": [
    {
     "name": "stdout",
     "output_type": "stream",
     "text": [
      "[-1, -55, -33, -43, -1]\n"
     ]
    }
   ],
   "source": [
    "l1=[-1,4,-55,-33,9,9,-43,98,-1]\n",
    "\n",
    "l2=list(filter(lambda x:x<0,l1))\n",
    "print(l2)"
   ]
  },
  {
   "cell_type": "code",
   "execution_count": 45,
   "id": "c79db74f-4944-45ac-9cd1-630d7d5d83a4",
   "metadata": {},
   "outputs": [],
   "source": [
    "l1=[\"amish\",\"kumar\",\"singh\",\"ashish\",\"ritesh\",\"suraj\"]"
   ]
  },
  {
   "cell_type": "code",
   "execution_count": 46,
   "id": "082ac128-8bc3-4291-9195-0c583a08d92c",
   "metadata": {},
   "outputs": [
    {
     "name": "stdout",
     "output_type": "stream",
     "text": [
      "['amish', 'kumar', 'singh', 'suraj']\n"
     ]
    }
   ],
   "source": [
    "l2=list(filter(lambda x:len(x)<6,l1))\n",
    "print(l2)"
   ]
  },
  {
   "cell_type": "code",
   "execution_count": null,
   "id": "0d3e15bc-eb3e-47ee-9ecf-df19f1e23a57",
   "metadata": {},
   "outputs": [],
   "source": []
  }
 ],
 "metadata": {
  "kernelspec": {
   "display_name": "Python 3 (ipykernel)",
   "language": "python",
   "name": "python3"
  },
  "language_info": {
   "codemirror_mode": {
    "name": "ipython",
    "version": 3
   },
   "file_extension": ".py",
   "mimetype": "text/x-python",
   "name": "python",
   "nbconvert_exporter": "python",
   "pygments_lexer": "ipython3",
   "version": "3.9.13"
  }
 },
 "nbformat": 4,
 "nbformat_minor": 5
}
