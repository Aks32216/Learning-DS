{
 "cells": [
  {
   "cell_type": "code",
   "execution_count": 1,
   "id": "7da02a54-d9c5-4e9e-abeb-4058e4614526",
   "metadata": {},
   "outputs": [],
   "source": [
    "## lambda functions or one liner function or anonymous function"
   ]
  },
  {
   "cell_type": "code",
   "execution_count": 2,
   "id": "750441e8-3ae3-4c88-b8f4-f15f8d07b1fc",
   "metadata": {},
   "outputs": [],
   "source": [
    "n=3"
   ]
  },
  {
   "cell_type": "code",
   "execution_count": 3,
   "id": "c9e1ed1b-10c4-45d7-b4f3-9a6a9e599600",
   "metadata": {},
   "outputs": [],
   "source": [
    "p=2"
   ]
  },
  {
   "cell_type": "code",
   "execution_count": 4,
   "id": "191437c0-056b-4411-b865-4ac6dbeb3f66",
   "metadata": {},
   "outputs": [
    {
     "data": {
      "text/plain": [
       "9"
      ]
     },
     "execution_count": 4,
     "metadata": {},
     "output_type": "execute_result"
    }
   ],
   "source": [
    "def cal_pow(n,p):\n",
    "    return n**p\n",
    "\n",
    "\n",
    "cal_pow(n,p)"
   ]
  },
  {
   "cell_type": "code",
   "execution_count": 6,
   "id": "02a1d1c0-008f-4f8e-a910-b5e8da2fb051",
   "metadata": {},
   "outputs": [],
   "source": [
    "a=lambda n,p: n**p"
   ]
  },
  {
   "cell_type": "code",
   "execution_count": 7,
   "id": "a9a289da-dc44-470b-9a7a-1327bc49b42f",
   "metadata": {},
   "outputs": [
    {
     "data": {
      "text/plain": [
       "<function __main__.<lambda>(n, p)>"
      ]
     },
     "execution_count": 7,
     "metadata": {},
     "output_type": "execute_result"
    }
   ],
   "source": [
    "a\n"
   ]
  },
  {
   "cell_type": "code",
   "execution_count": 8,
   "id": "4a811c66-4102-42e2-9adc-1d38fb78e996",
   "metadata": {},
   "outputs": [
    {
     "data": {
      "text/plain": [
       "function"
      ]
     },
     "execution_count": 8,
     "metadata": {},
     "output_type": "execute_result"
    }
   ],
   "source": [
    "type(a)"
   ]
  },
  {
   "cell_type": "code",
   "execution_count": 9,
   "id": "72fb0453-0c3a-4e86-b8c4-66339e90ae5a",
   "metadata": {},
   "outputs": [
    {
     "data": {
      "text/plain": [
       "9"
      ]
     },
     "execution_count": 9,
     "metadata": {},
     "output_type": "execute_result"
    }
   ],
   "source": [
    "a(n,p)"
   ]
  },
  {
   "cell_type": "code",
   "execution_count": 10,
   "id": "a4158e20-e001-48e2-b5e9-f4e9981c3c70",
   "metadata": {},
   "outputs": [],
   "source": [
    "add=lambda x,y: x+y"
   ]
  },
  {
   "cell_type": "code",
   "execution_count": 11,
   "id": "a7412f2e-65e9-4202-b5ff-e1b8b81e8836",
   "metadata": {},
   "outputs": [
    {
     "data": {
      "text/plain": [
       "9"
      ]
     },
     "execution_count": 11,
     "metadata": {},
     "output_type": "execute_result"
    }
   ],
   "source": [
    "add(4,5)"
   ]
  },
  {
   "cell_type": "code",
   "execution_count": 12,
   "id": "d658c485-08a1-40cd-88ec-39e73d5c5a34",
   "metadata": {},
   "outputs": [],
   "source": [
    "c_to_f=lambda c:((9/5)*c+32)"
   ]
  },
  {
   "cell_type": "code",
   "execution_count": 13,
   "id": "57e83301-72c2-4ad9-9842-0b02df9b8a9d",
   "metadata": {},
   "outputs": [
    {
     "data": {
      "text/plain": [
       "100.4"
      ]
     },
     "execution_count": 13,
     "metadata": {},
     "output_type": "execute_result"
    }
   ],
   "source": [
    "c_to_f(38)"
   ]
  },
  {
   "cell_type": "code",
   "execution_count": 14,
   "id": "4fd33cc3-b16d-44cb-9f25-043d36164d08",
   "metadata": {},
   "outputs": [
    {
     "data": {
      "text/plain": [
       "102.2"
      ]
     },
     "execution_count": 14,
     "metadata": {},
     "output_type": "execute_result"
    }
   ],
   "source": [
    "c_to_f(39)"
   ]
  },
  {
   "cell_type": "code",
   "execution_count": 15,
   "id": "9160b6df-53dc-4b21-a487-867f7506818d",
   "metadata": {},
   "outputs": [],
   "source": [
    "max_two=lambda x,y:max(x,y)"
   ]
  },
  {
   "cell_type": "code",
   "execution_count": 16,
   "id": "c62bdc2b-25e3-4358-bb16-0b981b046ca1",
   "metadata": {},
   "outputs": [
    {
     "data": {
      "text/plain": [
       "5"
      ]
     },
     "execution_count": 16,
     "metadata": {},
     "output_type": "execute_result"
    }
   ],
   "source": [
    "max_two(5,4)"
   ]
  },
  {
   "cell_type": "code",
   "execution_count": 17,
   "id": "672e2547-e619-4350-82be-f00c87dcf9bb",
   "metadata": {},
   "outputs": [
    {
     "data": {
      "text/plain": [
       "666"
      ]
     },
     "execution_count": 17,
     "metadata": {},
     "output_type": "execute_result"
    }
   ],
   "source": [
    "max_two(55,666)"
   ]
  },
  {
   "cell_type": "code",
   "execution_count": 18,
   "id": "c1b4b4e1-a927-4d63-91ab-79a7e135a7b4",
   "metadata": {},
   "outputs": [],
   "source": [
    "max_two=lambda x,y: x if x>y else y"
   ]
  },
  {
   "cell_type": "code",
   "execution_count": 19,
   "id": "5e7e6a3b-dbea-4947-a519-1ca23031d210",
   "metadata": {},
   "outputs": [
    {
     "data": {
      "text/plain": [
       "333"
      ]
     },
     "execution_count": 19,
     "metadata": {},
     "output_type": "execute_result"
    }
   ],
   "source": [
    "max_two(44,333)"
   ]
  },
  {
   "cell_type": "code",
   "execution_count": 20,
   "id": "00bcd94d-c55d-4888-86ad-d8c2d1408cc9",
   "metadata": {},
   "outputs": [],
   "source": [
    "s=\"amish kumar singh\"\n",
    "\n"
   ]
  },
  {
   "cell_type": "code",
   "execution_count": 21,
   "id": "3b5b83ad-197b-455f-81a7-e001464e6f9d",
   "metadata": {},
   "outputs": [],
   "source": [
    "l=lambda s: len(s)"
   ]
  },
  {
   "cell_type": "code",
   "execution_count": 22,
   "id": "1f857120-0fce-496f-a2ce-1d464da5e92d",
   "metadata": {},
   "outputs": [
    {
     "data": {
      "text/plain": [
       "17"
      ]
     },
     "execution_count": 22,
     "metadata": {},
     "output_type": "execute_result"
    }
   ],
   "source": [
    "l(s)"
   ]
  },
  {
   "cell_type": "code",
   "execution_count": null,
   "id": "b3f72480-4cb5-4152-b078-7d4daedf6602",
   "metadata": {},
   "outputs": [],
   "source": []
  }
 ],
 "metadata": {
  "kernelspec": {
   "display_name": "Python 3 (ipykernel)",
   "language": "python",
   "name": "python3"
  },
  "language_info": {
   "codemirror_mode": {
    "name": "ipython",
    "version": 3
   },
   "file_extension": ".py",
   "mimetype": "text/x-python",
   "name": "python",
   "nbconvert_exporter": "python",
   "pygments_lexer": "ipython3",
   "version": "3.10.8"
  }
 },
 "nbformat": 4,
 "nbformat_minor": 5
}
