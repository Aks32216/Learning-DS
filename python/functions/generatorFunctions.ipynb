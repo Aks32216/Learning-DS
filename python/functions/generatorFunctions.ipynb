{
 "cells": [
  {
   "cell_type": "code",
   "execution_count": 1,
   "id": "71cc8926-1147-4f21-b7d2-aa032d097f76",
   "metadata": {},
   "outputs": [],
   "source": [
    "l1=[1,2,3,4,5,6]\n"
   ]
  },
  {
   "cell_type": "code",
   "execution_count": 2,
   "id": "39e57144-926e-4e0f-880c-d48279a767e0",
   "metadata": {},
   "outputs": [
    {
     "data": {
      "text/plain": [
       "[1, 2, 3, 4, 5, 6]"
      ]
     },
     "execution_count": 2,
     "metadata": {},
     "output_type": "execute_result"
    }
   ],
   "source": [
    "l1"
   ]
  },
  {
   "cell_type": "code",
   "execution_count": 6,
   "id": "1969f93a-685e-4b2a-acf3-d45af7e26b17",
   "metadata": {},
   "outputs": [
    {
     "name": "stdout",
     "output_type": "stream",
     "text": [
      "[1, 2, 65, 4, 5, 6]\n",
      "[1, 2, 67, 4, 5, 6]\n"
     ]
    }
   ],
   "source": [
    "## if lists are modified inside function then their global value also changes\n",
    "\n",
    "def test1(l):\n",
    "    l[2]=67\n",
    "    \n",
    "print(l1)\n",
    "\n",
    "test1(l1)\n",
    "\n",
    "print(l1)"
   ]
  },
  {
   "cell_type": "code",
   "execution_count": 13,
   "id": "b66c17fb-c9ff-4930-a49f-c5604be915e3",
   "metadata": {},
   "outputs": [
    {
     "name": "stdout",
     "output_type": "stream",
     "text": [
      "[1, 2, 67, 4, 5, 6]\n",
      "139824139477952\n",
      "139824139477952\n",
      "[1, 2, 443455, 4, 5, 6]\n",
      "139824139477952\n"
     ]
    }
   ],
   "source": [
    "def test2(l):\n",
    "    print(id(l))\n",
    "    l[2]=443455\n",
    "    \n",
    "print(l1)\n",
    "print(id(l1))\n",
    "\n",
    "test2(l1)\n",
    "\n",
    "print(l1)\n",
    "print(id(l1))"
   ]
  },
  {
   "cell_type": "code",
   "execution_count": 14,
   "id": "3be021ed-93d4-4fd3-b21d-a2dd8feb8d1c",
   "metadata": {},
   "outputs": [
    {
     "name": "stdout",
     "output_type": "stream",
     "text": [
      "139824257155600\n",
      "10\n",
      "139824257155600\n"
     ]
    }
   ],
   "source": [
    "a=10\n",
    "\n",
    "def test3(a):\n",
    "    print(id(a))\n",
    "    a=14\n",
    "\n",
    "test3(a)\n",
    "\n",
    "print(a)\n",
    "print(id(a))"
   ]
  },
  {
   "cell_type": "code",
   "execution_count": 18,
   "id": "58b68154-91ec-438e-8559-ad3fad11b709",
   "metadata": {},
   "outputs": [
    {
     "name": "stdout",
     "output_type": "stream",
     "text": [
      "139824257155440\n",
      "139824257156880\n",
      "150\n",
      "139824257155440\n",
      "5\n",
      "10\n"
     ]
    }
   ],
   "source": [
    "## variable are local to functions and hence they change them locally and once function\n",
    "## goes out of scope, changed value is also removed\n",
    "\n",
    "num1=5\n",
    "num2=10\n",
    "\n",
    "def mulAndAdd(num1,num2):\n",
    "    print(id(num1)) ## earlier it was storing in same location\n",
    "    num1=num1*10\n",
    "    num2=num2*10\n",
    "    print(id(num1)) ## as soon as we changed the value it is storing at different location\n",
    "    return num1+num2\n",
    "\n",
    "val=mulAndAdd(num1,num2)\n",
    "print(val)\n",
    "print(id(num1)) ## but value at 440 is still the same which is 5\n",
    "print(num1)\n",
    "print(num2)"
   ]
  },
  {
   "cell_type": "code",
   "execution_count": 19,
   "id": "b6a43fec-580f-4e28-bd84-6c6df7fa5faa",
   "metadata": {},
   "outputs": [
    {
     "name": "stdout",
     "output_type": "stream",
     "text": [
      "4.5\n"
     ]
    }
   ],
   "source": [
    "num3=4.5\n",
    "\n",
    "def check(num3):\n",
    "    num3=54.44\n",
    "    \n",
    "check(num3)\n",
    "\n",
    "print(num3)"
   ]
  },
  {
   "cell_type": "code",
   "execution_count": 20,
   "id": "2104763d-572f-452a-83af-19582cc066b8",
   "metadata": {},
   "outputs": [],
   "source": [
    "content_ratings={\"4+\":4433,\"9+\":987,\"12+\":1155,\"17+\":622}"
   ]
  },
  {
   "cell_type": "code",
   "execution_count": 21,
   "id": "f58ba1d4-67d5-4a5f-98b6-4bb34a1b3523",
   "metadata": {},
   "outputs": [
    {
     "data": {
      "text/plain": [
       "{'4+': 4433, '9+': 987, '12+': 1155, '17+': 622}"
      ]
     },
     "execution_count": 21,
     "metadata": {},
     "output_type": "execute_result"
    }
   ],
   "source": [
    "content_ratings"
   ]
  },
  {
   "cell_type": "code",
   "execution_count": 25,
   "id": "9cfc0ab8-b0fb-4634-9470-f72839e43006",
   "metadata": {},
   "outputs": [
    {
     "name": "stdout",
     "output_type": "stream",
     "text": [
      "{'4+': 61.595109073224954, '9+': 13.714047519799916, '12+': 16.04835348061692, '17+': 8.642489926358204}\n",
      "{'4+': 61.595109073224954, '9+': 13.714047519799916, '12+': 16.04835348061692, '17+': 8.642489926358204}\n"
     ]
    }
   ],
   "source": [
    "## dictionary changed inside functions are also visible outside the functions\n",
    "## this happens because list and dictionary are mutable in nature and hence they change\n",
    "## while all the basic datatypes, string, set and tuple are immutable\n",
    "\n",
    "def make_percentage(dictionary):\n",
    "    total=0\n",
    "    for k in dictionary:\n",
    "        total=total+dictionary[k]\n",
    "    \n",
    "    for k in dictionary:\n",
    "        dictionary[k]=(dictionary[k]/total)*100\n",
    "    return dictionary\n",
    "\n",
    "newRatings=make_percentage(content_ratings)\n",
    "\n",
    "print(content_ratings)\n",
    "print(newRatings)"
   ]
  },
  {
   "cell_type": "code",
   "execution_count": 1,
   "id": "867112cf-9e7c-4f22-a724-4fb1eedbf391",
   "metadata": {},
   "outputs": [],
   "source": [
    "## Generator Functions"
   ]
  },
  {
   "cell_type": "code",
   "execution_count": 2,
   "id": "3a0291ec-fe7f-4490-9a13-1380f0ae6aba",
   "metadata": {},
   "outputs": [
    {
     "data": {
      "text/plain": [
       "range(0, 10)"
      ]
     },
     "execution_count": 2,
     "metadata": {},
     "output_type": "execute_result"
    }
   ],
   "source": [
    "range(10)"
   ]
  },
  {
   "cell_type": "code",
   "execution_count": 3,
   "id": "36720198-64f7-4278-ace6-0868f8f3594c",
   "metadata": {},
   "outputs": [
    {
     "name": "stdout",
     "output_type": "stream",
     "text": [
      "0 1 2 3 4 5 6 7 8 9 "
     ]
    }
   ],
   "source": [
    "for i in range(10):\n",
    "    print(i,end=\" \")"
   ]
  },
  {
   "cell_type": "code",
   "execution_count": 4,
   "id": "c6fec4fb-f679-48b3-91a4-a566b7caf6fc",
   "metadata": {},
   "outputs": [],
   "source": [
    "## Normal functions first calculate the value put them is some datastructure like list or tuple and then return them\n",
    "## for eg: if a function job is to return first 10000 fibbonacci numbers\n",
    "## then normal funciton will first calculate the all the 10000 numbers put them in a list and then return them\n",
    "## but gererator functions are those which give value one by one and not at once\n",
    "## this helps to reduce the memory consumption\n",
    "## for eg: range function does not return the sequence of number at once but gives number one by one\n",
    "\n"
   ]
  },
  {
   "cell_type": "code",
   "execution_count": 7,
   "id": "bca5cdbd-9322-4dc5-b225-22cf272680c8",
   "metadata": {},
   "outputs": [
    {
     "data": {
      "text/plain": [
       "<generator object test_fib at 0x7f12aa29da10>"
      ]
     },
     "execution_count": 7,
     "metadata": {},
     "output_type": "execute_result"
    }
   ],
   "source": [
    "def test_fib(n):\n",
    "    a,b=0,1\n",
    "    for i in range(n):\n",
    "        yield a\n",
    "        a,b=b,a+b\n",
    "        \n",
    "test_fib(10)\n",
    "    "
   ]
  },
  {
   "cell_type": "code",
   "execution_count": 8,
   "id": "60aeac2f-d4a6-47d7-9532-bf758f446924",
   "metadata": {},
   "outputs": [
    {
     "name": "stdout",
     "output_type": "stream",
     "text": [
      "0\n",
      "1\n",
      "1\n",
      "2\n",
      "3\n",
      "5\n",
      "8\n",
      "13\n",
      "21\n",
      "34\n"
     ]
    }
   ],
   "source": [
    "for i in test_fib(10):\n",
    "    print(i)"
   ]
  },
  {
   "cell_type": "code",
   "execution_count": 9,
   "id": "ec9cd1ed-acb6-4ab9-b4ba-c9db4931929a",
   "metadata": {},
   "outputs": [],
   "source": [
    "## yield is a keyword that acts like return but with slight difference\n",
    "## as soon as it is encountered function call is stopped and it returns a generator object\n",
    "## this generator object can be accessed only when it is iterated\n",
    "## yield saves the context of the local variables and when again next value is to be taken out function continues from where it stopped\n"
   ]
  },
  {
   "cell_type": "code",
   "execution_count": 10,
   "id": "97799c62-97b8-440d-8fc3-fb4c50937dbb",
   "metadata": {},
   "outputs": [
    {
     "name": "stdout",
     "output_type": "stream",
     "text": [
      "a\n",
      "m\n",
      "i\n",
      "s\n",
      "h\n"
     ]
    }
   ],
   "source": [
    "s=\"amish\"\n",
    "\n",
    "for i in s:\n",
    "    print(i)"
   ]
  },
  {
   "cell_type": "code",
   "execution_count": 11,
   "id": "ae0b7a54-b4f4-490f-a62a-84c48ee964ae",
   "metadata": {},
   "outputs": [
    {
     "data": {
      "text/plain": [
       "'amish'"
      ]
     },
     "execution_count": 11,
     "metadata": {},
     "output_type": "execute_result"
    }
   ],
   "source": [
    "s"
   ]
  },
  {
   "cell_type": "code",
   "execution_count": 12,
   "id": "d9de2325-d2e8-4000-97b4-07bf4c89b566",
   "metadata": {},
   "outputs": [
    {
     "ename": "TypeError",
     "evalue": "'str' object is not an iterator",
     "output_type": "error",
     "traceback": [
      "\u001b[0;31m---------------------------------------------------------------------------\u001b[0m",
      "\u001b[0;31mTypeError\u001b[0m                                 Traceback (most recent call last)",
      "Cell \u001b[0;32mIn[12], line 1\u001b[0m\n\u001b[0;32m----> 1\u001b[0m \u001b[38;5;28;43mnext\u001b[39;49m\u001b[43m(\u001b[49m\u001b[43ms\u001b[49m\u001b[43m)\u001b[49m\n",
      "\u001b[0;31mTypeError\u001b[0m: 'str' object is not an iterator"
     ]
    }
   ],
   "source": [
    "next(s)"
   ]
  },
  {
   "cell_type": "code",
   "execution_count": 13,
   "id": "04ee6344-ea42-4f23-8dd2-5b5df69cb813",
   "metadata": {},
   "outputs": [],
   "source": [
    "s1=iter(s)"
   ]
  },
  {
   "cell_type": "code",
   "execution_count": 14,
   "id": "22920b6a-144a-46b8-a6f2-d7ca001d21ca",
   "metadata": {},
   "outputs": [
    {
     "data": {
      "text/plain": [
       "'a'"
      ]
     },
     "execution_count": 14,
     "metadata": {},
     "output_type": "execute_result"
    }
   ],
   "source": [
    "next(s1)"
   ]
  },
  {
   "cell_type": "code",
   "execution_count": 15,
   "id": "2be1a6b9-0949-4ad0-8e7e-66437ea7b2cf",
   "metadata": {},
   "outputs": [
    {
     "data": {
      "text/plain": [
       "'m'"
      ]
     },
     "execution_count": 15,
     "metadata": {},
     "output_type": "execute_result"
    }
   ],
   "source": [
    "next(s1)"
   ]
  },
  {
   "cell_type": "code",
   "execution_count": 16,
   "id": "7f4710a6-f4a4-476a-a506-97e87b25d967",
   "metadata": {},
   "outputs": [
    {
     "data": {
      "text/plain": [
       "'i'"
      ]
     },
     "execution_count": 16,
     "metadata": {},
     "output_type": "execute_result"
    }
   ],
   "source": [
    "next(s1)"
   ]
  },
  {
   "cell_type": "code",
   "execution_count": 17,
   "id": "b6014cb5-5247-4bc6-91fb-2bd00bce4984",
   "metadata": {},
   "outputs": [
    {
     "data": {
      "text/plain": [
       "'s'"
      ]
     },
     "execution_count": 17,
     "metadata": {},
     "output_type": "execute_result"
    }
   ],
   "source": [
    "next(s1)"
   ]
  },
  {
   "cell_type": "code",
   "execution_count": 18,
   "id": "dfa9b2a3-c60d-4d35-b8a5-053c0999b83a",
   "metadata": {},
   "outputs": [
    {
     "data": {
      "text/plain": [
       "'h'"
      ]
     },
     "execution_count": 18,
     "metadata": {},
     "output_type": "execute_result"
    }
   ],
   "source": [
    "next(s1)"
   ]
  },
  {
   "cell_type": "code",
   "execution_count": 19,
   "id": "31336705-6bad-45e0-8388-e0ee54a9699d",
   "metadata": {},
   "outputs": [
    {
     "ename": "StopIteration",
     "evalue": "",
     "output_type": "error",
     "traceback": [
      "\u001b[0;31m---------------------------------------------------------------------------\u001b[0m",
      "\u001b[0;31mStopIteration\u001b[0m                             Traceback (most recent call last)",
      "Cell \u001b[0;32mIn[19], line 1\u001b[0m\n\u001b[0;32m----> 1\u001b[0m \u001b[38;5;28;43mnext\u001b[39;49m\u001b[43m(\u001b[49m\u001b[43ms1\u001b[49m\u001b[43m)\u001b[49m\n",
      "\u001b[0;31mStopIteration\u001b[0m: "
     ]
    }
   ],
   "source": [
    "next(s1)"
   ]
  },
  {
   "cell_type": "code",
   "execution_count": 20,
   "id": "50fa5d1c-cc8d-4ce8-a3f5-0485274de06b",
   "metadata": {},
   "outputs": [],
   "source": [
    "l=[1,2,3,4,5]"
   ]
  },
  {
   "cell_type": "code",
   "execution_count": 21,
   "id": "6a638641-5b7f-4d68-b654-35a16ffd91c3",
   "metadata": {},
   "outputs": [
    {
     "ename": "TypeError",
     "evalue": "'list' object is not an iterator",
     "output_type": "error",
     "traceback": [
      "\u001b[0;31m---------------------------------------------------------------------------\u001b[0m",
      "\u001b[0;31mTypeError\u001b[0m                                 Traceback (most recent call last)",
      "Cell \u001b[0;32mIn[21], line 1\u001b[0m\n\u001b[0;32m----> 1\u001b[0m \u001b[38;5;28;43mnext\u001b[39;49m\u001b[43m(\u001b[49m\u001b[43ml\u001b[49m\u001b[43m)\u001b[49m\n",
      "\u001b[0;31mTypeError\u001b[0m: 'list' object is not an iterator"
     ]
    }
   ],
   "source": [
    "next(l)"
   ]
  },
  {
   "cell_type": "code",
   "execution_count": 22,
   "id": "11a08f6a-3174-4c21-92d1-f7e9efb37e07",
   "metadata": {},
   "outputs": [],
   "source": [
    "a=45"
   ]
  },
  {
   "cell_type": "code",
   "execution_count": 23,
   "id": "bc6155d6-35d7-4e40-a70b-bc1df93d0c1d",
   "metadata": {},
   "outputs": [
    {
     "ename": "TypeError",
     "evalue": "'int' object is not an iterator",
     "output_type": "error",
     "traceback": [
      "\u001b[0;31m---------------------------------------------------------------------------\u001b[0m",
      "\u001b[0;31mTypeError\u001b[0m                                 Traceback (most recent call last)",
      "Cell \u001b[0;32mIn[23], line 1\u001b[0m\n\u001b[0;32m----> 1\u001b[0m \u001b[38;5;28;43mnext\u001b[39;49m\u001b[43m(\u001b[49m\u001b[43ma\u001b[49m\u001b[43m)\u001b[49m\n",
      "\u001b[0;31mTypeError\u001b[0m: 'int' object is not an iterator"
     ]
    }
   ],
   "source": [
    "next(a)"
   ]
  },
  {
   "cell_type": "code",
   "execution_count": 24,
   "id": "fddd7ddf-d310-4636-8337-d4499f1ac272",
   "metadata": {},
   "outputs": [
    {
     "ename": "TypeError",
     "evalue": "'int' object is not iterable",
     "output_type": "error",
     "traceback": [
      "\u001b[0;31m---------------------------------------------------------------------------\u001b[0m",
      "\u001b[0;31mTypeError\u001b[0m                                 Traceback (most recent call last)",
      "Cell \u001b[0;32mIn[24], line 1\u001b[0m\n\u001b[0;32m----> 1\u001b[0m \u001b[38;5;28;43miter\u001b[39;49m\u001b[43m(\u001b[49m\u001b[43ma\u001b[49m\u001b[43m)\u001b[49m\n",
      "\u001b[0;31mTypeError\u001b[0m: 'int' object is not iterable"
     ]
    }
   ],
   "source": [
    "iter(a)"
   ]
  },
  {
   "cell_type": "code",
   "execution_count": 25,
   "id": "f7b07161-1cd8-4b20-a54a-2dbc2c05e66e",
   "metadata": {},
   "outputs": [],
   "source": [
    "## so only those data which are iterable can be converted to iterator"
   ]
  },
  {
   "cell_type": "code",
   "execution_count": 26,
   "id": "d502e8d7-b093-40c9-801f-92c8ea62c645",
   "metadata": {},
   "outputs": [],
   "source": [
    "def test_fib_while():\n",
    "    a,b=0,1\n",
    "    while True:\n",
    "        yield a\n",
    "        a,b=b,a+b\n"
   ]
  },
  {
   "cell_type": "code",
   "execution_count": 27,
   "id": "4e55a37d-467b-4d51-9b8a-56832c8658f1",
   "metadata": {},
   "outputs": [],
   "source": [
    "fib=test_fib_while()"
   ]
  },
  {
   "cell_type": "code",
   "execution_count": 28,
   "id": "79635a8f-b681-475b-9792-f2c6ac856056",
   "metadata": {},
   "outputs": [
    {
     "data": {
      "text/plain": [
       "generator"
      ]
     },
     "execution_count": 28,
     "metadata": {},
     "output_type": "execute_result"
    }
   ],
   "source": [
    "type(fib)"
   ]
  },
  {
   "cell_type": "code",
   "execution_count": 29,
   "id": "6337ad1a-cd59-40fc-92c9-ad2693fccb33",
   "metadata": {},
   "outputs": [
    {
     "data": {
      "text/plain": [
       "<generator object test_fib_while at 0x7f1298530900>"
      ]
     },
     "execution_count": 29,
     "metadata": {},
     "output_type": "execute_result"
    }
   ],
   "source": [
    "fib"
   ]
  },
  {
   "cell_type": "code",
   "execution_count": 36,
   "id": "0d1238fa-cd7d-49e1-9977-c558b9a20cf3",
   "metadata": {},
   "outputs": [
    {
     "data": {
      "text/plain": [
       "46368"
      ]
     },
     "execution_count": 36,
     "metadata": {},
     "output_type": "execute_result"
    }
   ],
   "source": [
    "next(fib)"
   ]
  },
  {
   "cell_type": "code",
   "execution_count": 37,
   "id": "06578a10-b87d-4a9b-bab4-89758b71f783",
   "metadata": {},
   "outputs": [
    {
     "name": "stdout",
     "output_type": "stream",
     "text": [
      "75025\n",
      "121393\n",
      "196418\n",
      "317811\n",
      "514229\n",
      "832040\n",
      "1346269\n",
      "2178309\n",
      "3524578\n",
      "5702887\n"
     ]
    }
   ],
   "source": [
    "for i in range(10):\n",
    "    print(next(fib))"
   ]
  },
  {
   "cell_type": "code",
   "execution_count": 38,
   "id": "182f0a06-34fd-4d0d-8547-44169efa01ca",
   "metadata": {},
   "outputs": [
    {
     "data": {
      "text/plain": [
       "9227465"
      ]
     },
     "execution_count": 38,
     "metadata": {},
     "output_type": "execute_result"
    }
   ],
   "source": [
    "next(fib)"
   ]
  },
  {
   "cell_type": "code",
   "execution_count": 39,
   "id": "01722cf3-ef57-4082-ab34-e27c1b2db697",
   "metadata": {},
   "outputs": [],
   "source": [
    "## generator functions are iterator object"
   ]
  },
  {
   "cell_type": "code",
   "execution_count": 44,
   "id": "63f5121d-9f22-469a-8d6f-91265e5ab579",
   "metadata": {},
   "outputs": [],
   "source": [
    "def count_test(n):\n",
    "    count=1\n",
    "    while count<n:\n",
    "        yield count\n",
    "        count=count+1\n",
    "        \n",
    "c=count_test(5)\n"
   ]
  },
  {
   "cell_type": "code",
   "execution_count": 45,
   "id": "207fac18-c191-4ecb-adc9-f2baaa39e1c5",
   "metadata": {},
   "outputs": [
    {
     "data": {
      "text/plain": [
       "1"
      ]
     },
     "execution_count": 45,
     "metadata": {},
     "output_type": "execute_result"
    }
   ],
   "source": [
    "next(c)"
   ]
  },
  {
   "cell_type": "code",
   "execution_count": 46,
   "id": "50cf72ca-0b20-4156-bf5c-c35e7d25f339",
   "metadata": {},
   "outputs": [
    {
     "data": {
      "text/plain": [
       "2"
      ]
     },
     "execution_count": 46,
     "metadata": {},
     "output_type": "execute_result"
    }
   ],
   "source": [
    "next(c)"
   ]
  },
  {
   "cell_type": "code",
   "execution_count": 47,
   "id": "1b821a4a-8b42-4a99-b999-a48b20134016",
   "metadata": {},
   "outputs": [
    {
     "data": {
      "text/plain": [
       "3"
      ]
     },
     "execution_count": 47,
     "metadata": {},
     "output_type": "execute_result"
    }
   ],
   "source": [
    "next(c)"
   ]
  },
  {
   "cell_type": "code",
   "execution_count": 48,
   "id": "b5dd5c8b-458a-4a5e-9a79-844b91b0ac24",
   "metadata": {},
   "outputs": [
    {
     "data": {
      "text/plain": [
       "4"
      ]
     },
     "execution_count": 48,
     "metadata": {},
     "output_type": "execute_result"
    }
   ],
   "source": [
    "next(c)"
   ]
  },
  {
   "cell_type": "code",
   "execution_count": 49,
   "id": "5bc5215d-da95-46fc-9080-5018b0e7a516",
   "metadata": {},
   "outputs": [
    {
     "ename": "StopIteration",
     "evalue": "",
     "output_type": "error",
     "traceback": [
      "\u001b[0;31m---------------------------------------------------------------------------\u001b[0m",
      "\u001b[0;31mStopIteration\u001b[0m                             Traceback (most recent call last)",
      "Cell \u001b[0;32mIn[49], line 1\u001b[0m\n\u001b[0;32m----> 1\u001b[0m \u001b[38;5;28;43mnext\u001b[39;49m\u001b[43m(\u001b[49m\u001b[43mc\u001b[49m\u001b[43m)\u001b[49m\n",
      "\u001b[0;31mStopIteration\u001b[0m: "
     ]
    }
   ],
   "source": [
    "next(c)"
   ]
  },
  {
   "cell_type": "code",
   "execution_count": 50,
   "id": "feecde91-1cbe-4c1f-82b5-054f25cd754b",
   "metadata": {},
   "outputs": [],
   "source": [
    "## iter function\n"
   ]
  },
  {
   "cell_type": "code",
   "execution_count": 51,
   "id": "953c247f-11c6-4904-8751-e62730252870",
   "metadata": {},
   "outputs": [],
   "source": [
    "phones=['apple','motorola','samsung','jio','vivo']"
   ]
  },
  {
   "cell_type": "code",
   "execution_count": 52,
   "id": "a890a05c-a069-475b-9086-cedff1564e7e",
   "metadata": {},
   "outputs": [
    {
     "data": {
      "text/plain": [
       "['apple', 'motorola', 'samsung', 'jio', 'vivo']"
      ]
     },
     "execution_count": 52,
     "metadata": {},
     "output_type": "execute_result"
    }
   ],
   "source": [
    "phones\n"
   ]
  },
  {
   "cell_type": "code",
   "execution_count": 53,
   "id": "76115898-dddf-4cbe-ade6-59a65ea13ce4",
   "metadata": {},
   "outputs": [
    {
     "ename": "TypeError",
     "evalue": "'list' object is not an iterator",
     "output_type": "error",
     "traceback": [
      "\u001b[0;31m---------------------------------------------------------------------------\u001b[0m",
      "\u001b[0;31mTypeError\u001b[0m                                 Traceback (most recent call last)",
      "Cell \u001b[0;32mIn[53], line 1\u001b[0m\n\u001b[0;32m----> 1\u001b[0m \u001b[38;5;28;43mnext\u001b[39;49m\u001b[43m(\u001b[49m\u001b[43mphones\u001b[49m\u001b[43m)\u001b[49m\n",
      "\u001b[0;31mTypeError\u001b[0m: 'list' object is not an iterator"
     ]
    }
   ],
   "source": [
    "next(phones)"
   ]
  },
  {
   "cell_type": "code",
   "execution_count": 54,
   "id": "68f5d217-5d6d-4be1-97b3-6318902b7aa3",
   "metadata": {},
   "outputs": [
    {
     "ename": "NameError",
     "evalue": "name 'phone' is not defined",
     "output_type": "error",
     "traceback": [
      "\u001b[0;31m---------------------------------------------------------------------------\u001b[0m",
      "\u001b[0;31mNameError\u001b[0m                                 Traceback (most recent call last)",
      "Cell \u001b[0;32mIn[54], line 1\u001b[0m\n\u001b[0;32m----> 1\u001b[0m \u001b[38;5;28mtype\u001b[39m(\u001b[43mphone\u001b[49m)\n",
      "\u001b[0;31mNameError\u001b[0m: name 'phone' is not defined"
     ]
    }
   ],
   "source": [
    "type(phone)"
   ]
  },
  {
   "cell_type": "code",
   "execution_count": 55,
   "id": "39725f8e-33be-4b9d-9540-3639655514ad",
   "metadata": {},
   "outputs": [
    {
     "data": {
      "text/plain": [
       "list"
      ]
     },
     "execution_count": 55,
     "metadata": {},
     "output_type": "execute_result"
    }
   ],
   "source": [
    "type(phones)"
   ]
  },
  {
   "cell_type": "code",
   "execution_count": 62,
   "id": "cd0a7547-1aa5-4680-af4f-2e86b60bb86f",
   "metadata": {},
   "outputs": [],
   "source": [
    "phone_iter=iter(phones)"
   ]
  },
  {
   "cell_type": "code",
   "execution_count": 57,
   "id": "baa80fd1-e221-4ec0-9dac-8f85287a7dac",
   "metadata": {},
   "outputs": [
    {
     "data": {
      "text/plain": [
       "<list_iterator at 0x7f12987cf040>"
      ]
     },
     "execution_count": 57,
     "metadata": {},
     "output_type": "execute_result"
    }
   ],
   "source": [
    "phone_iter"
   ]
  },
  {
   "cell_type": "code",
   "execution_count": 58,
   "id": "15ed3daa-63a0-4e1c-8993-93f183a513a2",
   "metadata": {},
   "outputs": [
    {
     "data": {
      "text/plain": [
       "list_iterator"
      ]
     },
     "execution_count": 58,
     "metadata": {},
     "output_type": "execute_result"
    }
   ],
   "source": [
    "type(phone_iter)"
   ]
  },
  {
   "cell_type": "code",
   "execution_count": 59,
   "id": "05e11c24-9a52-4a45-81f2-0e187a83805a",
   "metadata": {},
   "outputs": [
    {
     "ename": "TypeError",
     "evalue": "object of type 'list_iterator' has no len()",
     "output_type": "error",
     "traceback": [
      "\u001b[0;31m---------------------------------------------------------------------------\u001b[0m",
      "\u001b[0;31mTypeError\u001b[0m                                 Traceback (most recent call last)",
      "Cell \u001b[0;32mIn[59], line 1\u001b[0m\n\u001b[0;32m----> 1\u001b[0m \u001b[38;5;28;43mlen\u001b[39;49m\u001b[43m(\u001b[49m\u001b[43mphone_iter\u001b[49m\u001b[43m)\u001b[49m\n",
      "\u001b[0;31mTypeError\u001b[0m: object of type 'list_iterator' has no len()"
     ]
    }
   ],
   "source": [
    "len(phone_iter)"
   ]
  },
  {
   "cell_type": "code",
   "execution_count": 63,
   "id": "ffbe3a06-e625-4185-8307-237ca6b1e599",
   "metadata": {},
   "outputs": [
    {
     "name": "stdout",
     "output_type": "stream",
     "text": [
      "apple\n",
      "motorola\n",
      "samsung\n",
      "jio\n",
      "vivo\n"
     ]
    }
   ],
   "source": [
    "for i in range(len(phones)):\n",
    "    print(next(phone_iter))"
   ]
  },
  {
   "cell_type": "code",
   "execution_count": 64,
   "id": "5bdbf023-3295-4134-8928-850317ff0c56",
   "metadata": {},
   "outputs": [],
   "source": [
    "marks=[1,2,3,4,5]"
   ]
  },
  {
   "cell_type": "code",
   "execution_count": 65,
   "id": "1e123e58-f557-4698-9c28-97f37befd98d",
   "metadata": {},
   "outputs": [],
   "source": [
    "marks_iterator=iter(marks)"
   ]
  },
  {
   "cell_type": "code",
   "execution_count": 67,
   "id": "43a673bf-273e-449f-a52d-2cb0456a81a0",
   "metadata": {},
   "outputs": [
    {
     "name": "stdout",
     "output_type": "stream",
     "text": [
      "1\n",
      "2\n",
      "3\n",
      "4\n",
      "5\n",
      "95\n",
      "95\n",
      "95\n",
      "95\n",
      "95\n"
     ]
    }
   ],
   "source": [
    "for i in range(len(marks)+5):\n",
    "    print(next(marks_iterator,95))"
   ]
  },
  {
   "cell_type": "code",
   "execution_count": 70,
   "id": "583ac0e2-f0d1-471e-bd27-c8888cdffd2d",
   "metadata": {},
   "outputs": [],
   "source": [
    "seq_iter=iter(range(10))"
   ]
  },
  {
   "cell_type": "code",
   "execution_count": 71,
   "id": "0f9ec5c9-59ea-49f4-a342-411a3f25403e",
   "metadata": {},
   "outputs": [
    {
     "name": "stdout",
     "output_type": "stream",
     "text": [
      "0\n",
      "1\n",
      "2\n",
      "3\n",
      "4\n",
      "5\n",
      "6\n",
      "7\n",
      "8\n",
      "9\n"
     ]
    }
   ],
   "source": [
    "i=0\n",
    "while i < 10:\n",
    "    print(next(seq_iter))\n",
    "    i=i+1"
   ]
  },
  {
   "cell_type": "code",
   "execution_count": null,
   "id": "264d2826-fe0b-4d45-b824-8387a60dccd1",
   "metadata": {},
   "outputs": [],
   "source": []
  }
 ],
 "metadata": {
  "kernelspec": {
   "display_name": "Python 3 (ipykernel)",
   "language": "python",
   "name": "python3"
  },
  "language_info": {
   "codemirror_mode": {
    "name": "ipython",
    "version": 3
   },
   "file_extension": ".py",
   "mimetype": "text/x-python",
   "name": "python",
   "nbconvert_exporter": "python",
   "pygments_lexer": "ipython3",
   "version": "3.10.8"
  }
 },
 "nbformat": 4,
 "nbformat_minor": 5
}
