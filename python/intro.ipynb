{
 "cells": [
  {
   "cell_type": "code",
   "execution_count": 4,
   "id": "fbc3aaaf-499c-4984-9abb-af98d794e970",
   "metadata": {},
   "outputs": [
    {
     "data": {
      "text/plain": [
       "17"
      ]
     },
     "execution_count": 4,
     "metadata": {},
     "output_type": "execute_result"
    }
   ],
   "source": [
    "9+8"
   ]
  },
  {
   "cell_type": "code",
   "execution_count": null,
   "id": "ddc49e33-b791-4de6-b6e7-fccaf019bae0",
   "metadata": {},
   "outputs": [],
   "source": [
    "6+"
   ]
  },
  {
   "cell_type": "code",
   "execution_count": 5,
   "id": "1eef755e-bc87-4adb-85d1-e58dbd9c50c1",
   "metadata": {},
   "outputs": [
    {
     "data": {
      "text/plain": [
       "13"
      ]
     },
     "execution_count": 5,
     "metadata": {},
     "output_type": "execute_result"
    }
   ],
   "source": [
    "8+5"
   ]
  },
  {
   "cell_type": "code",
   "execution_count": 1,
   "id": "a496a72e-c029-4def-85bf-f32921c98e61",
   "metadata": {},
   "outputs": [
    {
     "data": {
      "text/plain": [
       "30"
      ]
     },
     "execution_count": 1,
     "metadata": {},
     "output_type": "execute_result"
    }
   ],
   "source": [
    "5*6"
   ]
  },
  {
   "cell_type": "code",
   "execution_count": 2,
   "id": "7075de4d-7ff8-4c27-93ca-e8d0eaa6dca1",
   "metadata": {},
   "outputs": [],
   "source": [
    "a=10"
   ]
  },
  {
   "cell_type": "code",
   "execution_count": 3,
   "id": "048bde2a-c70a-4780-ac7b-24debb2f9530",
   "metadata": {},
   "outputs": [
    {
     "data": {
      "text/plain": [
       "10"
      ]
     },
     "execution_count": 3,
     "metadata": {},
     "output_type": "execute_result"
    }
   ],
   "source": [
    "a"
   ]
  },
  {
   "cell_type": "code",
   "execution_count": 4,
   "id": "96f3fd0a-d1ec-4972-9aab-21e7a910eddd",
   "metadata": {},
   "outputs": [
    {
     "data": {
      "text/plain": [
       "int"
      ]
     },
     "execution_count": 4,
     "metadata": {},
     "output_type": "execute_result"
    }
   ],
   "source": [
    "type(a)"
   ]
  },
  {
   "cell_type": "code",
   "execution_count": 5,
   "id": "3b70ce1a-a1c5-458b-95fd-e37009c1e227",
   "metadata": {},
   "outputs": [],
   "source": [
    "a=\"amish\"\n"
   ]
  },
  {
   "cell_type": "code",
   "execution_count": 6,
   "id": "c03da7d5-42e1-4c9e-8144-bbd205870983",
   "metadata": {},
   "outputs": [
    {
     "data": {
      "text/plain": [
       "str"
      ]
     },
     "execution_count": 6,
     "metadata": {},
     "output_type": "execute_result"
    }
   ],
   "source": [
    "type(a)\n"
   ]
  },
  {
   "cell_type": "code",
   "execution_count": 7,
   "id": "3ac04b5f-3862-4d54-9cfe-bd73abbe5890",
   "metadata": {},
   "outputs": [],
   "source": [
    "a=9.8"
   ]
  },
  {
   "cell_type": "code",
   "execution_count": 8,
   "id": "a9f4da95-ea47-476f-8597-fdcde785c8f1",
   "metadata": {},
   "outputs": [
    {
     "data": {
      "text/plain": [
       "float"
      ]
     },
     "execution_count": 8,
     "metadata": {},
     "output_type": "execute_result"
    }
   ],
   "source": [
    "type(a)"
   ]
  },
  {
   "cell_type": "code",
   "execution_count": 9,
   "id": "b8d25504-d0f7-4e66-ac6f-f3f9cc8d957d",
   "metadata": {},
   "outputs": [
    {
     "ename": "NameError",
     "evalue": "name 'true' is not defined",
     "output_type": "error",
     "traceback": [
      "\u001b[0;31m---------------------------------------------------------------------------\u001b[0m",
      "\u001b[0;31mNameError\u001b[0m                                 Traceback (most recent call last)",
      "Cell \u001b[0;32mIn[9], line 1\u001b[0m\n\u001b[0;32m----> 1\u001b[0m a\u001b[38;5;241m=\u001b[39m\u001b[43mtrue\u001b[49m\n",
      "\u001b[0;31mNameError\u001b[0m: name 'true' is not defined"
     ]
    }
   ],
   "source": [
    "a=true"
   ]
  },
  {
   "cell_type": "code",
   "execution_count": 10,
   "id": "444e477f-6abe-4016-87eb-02ad779b97c6",
   "metadata": {},
   "outputs": [],
   "source": [
    "a=1"
   ]
  },
  {
   "cell_type": "code",
   "execution_count": 11,
   "id": "17b4dc1e-3fce-446b-8be4-2b61b1503288",
   "metadata": {},
   "outputs": [
    {
     "data": {
      "text/plain": [
       "int"
      ]
     },
     "execution_count": 11,
     "metadata": {},
     "output_type": "execute_result"
    }
   ],
   "source": [
    "type(a)\n"
   ]
  },
  {
   "cell_type": "code",
   "execution_count": 12,
   "id": "ebf656dc-f12a-43e6-8977-0db5318c2677",
   "metadata": {},
   "outputs": [
    {
     "ename": "NameError",
     "evalue": "name 'b' is not defined",
     "output_type": "error",
     "traceback": [
      "\u001b[0;31m---------------------------------------------------------------------------\u001b[0m",
      "\u001b[0;31mNameError\u001b[0m                                 Traceback (most recent call last)",
      "Cell \u001b[0;32mIn[12], line 1\u001b[0m\n\u001b[0;32m----> 1\u001b[0m \u001b[38;5;28mprint\u001b[39m(\u001b[43mb\u001b[49m)\n",
      "\u001b[0;31mNameError\u001b[0m: name 'b' is not defined"
     ]
    }
   ],
   "source": [
    "print(b)"
   ]
  },
  {
   "cell_type": "code",
   "execution_count": 13,
   "id": "fdee605d-f0e8-44f4-84d5-d3efc3e27009",
   "metadata": {},
   "outputs": [],
   "source": [
    "b='a'"
   ]
  },
  {
   "cell_type": "code",
   "execution_count": 14,
   "id": "39c4f9f1-3120-475c-9854-6d5eceed5834",
   "metadata": {},
   "outputs": [
    {
     "data": {
      "text/plain": [
       "str"
      ]
     },
     "execution_count": 14,
     "metadata": {},
     "output_type": "execute_result"
    }
   ],
   "source": [
    "type(b)\n"
   ]
  },
  {
   "cell_type": "code",
   "execution_count": 15,
   "id": "1f75b049-319d-4754-a810-9d744b2552cd",
   "metadata": {},
   "outputs": [],
   "source": [
    "a=True"
   ]
  },
  {
   "cell_type": "code",
   "execution_count": 16,
   "id": "99950c10-3c6d-472a-b343-fab16cb12f8d",
   "metadata": {},
   "outputs": [
    {
     "data": {
      "text/plain": [
       "bool"
      ]
     },
     "execution_count": 16,
     "metadata": {},
     "output_type": "execute_result"
    }
   ],
   "source": [
    "type(a)"
   ]
  },
  {
   "cell_type": "code",
   "execution_count": 17,
   "id": "6defcccd-a95c-4ce0-8e08-c7fd0663a331",
   "metadata": {},
   "outputs": [
    {
     "ename": "NameError",
     "evalue": "name 'false' is not defined",
     "output_type": "error",
     "traceback": [
      "\u001b[0;31m---------------------------------------------------------------------------\u001b[0m",
      "\u001b[0;31mNameError\u001b[0m                                 Traceback (most recent call last)",
      "Cell \u001b[0;32mIn[17], line 1\u001b[0m\n\u001b[0;32m----> 1\u001b[0m a\u001b[38;5;241m=\u001b[39m\u001b[43mfalse\u001b[49m\n",
      "\u001b[0;31mNameError\u001b[0m: name 'false' is not defined"
     ]
    }
   ],
   "source": [
    "a=false"
   ]
  },
  {
   "cell_type": "code",
   "execution_count": 18,
   "id": "68ee49c9-233d-4017-9bc7-f7fdb4ea9a63",
   "metadata": {},
   "outputs": [],
   "source": [
    "a=False"
   ]
  },
  {
   "cell_type": "code",
   "execution_count": 19,
   "id": "5df50016-3a59-402c-84af-ce5f9b40a2a5",
   "metadata": {},
   "outputs": [
    {
     "data": {
      "text/plain": [
       "bool"
      ]
     },
     "execution_count": 19,
     "metadata": {},
     "output_type": "execute_result"
    }
   ],
   "source": [
    "type(a)\n"
   ]
  },
  {
   "cell_type": "code",
   "execution_count": 20,
   "id": "e8eac422-f302-47ac-865d-a75cd64522e4",
   "metadata": {},
   "outputs": [
    {
     "ename": "TypeError",
     "evalue": "unsupported operand type(s) for +: 'bool' and 'str'",
     "output_type": "error",
     "traceback": [
      "\u001b[0;31m---------------------------------------------------------------------------\u001b[0m",
      "\u001b[0;31mTypeError\u001b[0m                                 Traceback (most recent call last)",
      "Cell \u001b[0;32mIn[20], line 1\u001b[0m\n\u001b[0;32m----> 1\u001b[0m \u001b[43ma\u001b[49m\u001b[38;5;241;43m+\u001b[39;49m\u001b[43mb\u001b[49m\n",
      "\u001b[0;31mTypeError\u001b[0m: unsupported operand type(s) for +: 'bool' and 'str'"
     ]
    }
   ],
   "source": [
    "a+b"
   ]
  },
  {
   "cell_type": "code",
   "execution_count": 21,
   "id": "4aa9243e-81af-4600-9404-fde3863ace0e",
   "metadata": {},
   "outputs": [],
   "source": [
    "b=43"
   ]
  },
  {
   "cell_type": "code",
   "execution_count": 22,
   "id": "701491ec-48a4-4afe-b734-2eaa9fc178f4",
   "metadata": {},
   "outputs": [
    {
     "data": {
      "text/plain": [
       "43"
      ]
     },
     "execution_count": 22,
     "metadata": {},
     "output_type": "execute_result"
    }
   ],
   "source": [
    "a+b"
   ]
  },
  {
   "cell_type": "code",
   "execution_count": 23,
   "id": "5f0c0df0-1f86-4286-a211-3e84aef722d6",
   "metadata": {},
   "outputs": [],
   "source": [
    "a=True"
   ]
  },
  {
   "cell_type": "code",
   "execution_count": 24,
   "id": "d1f47316-7d5c-4663-84bd-6dc978e90a9a",
   "metadata": {},
   "outputs": [
    {
     "data": {
      "text/plain": [
       "44"
      ]
     },
     "execution_count": 24,
     "metadata": {},
     "output_type": "execute_result"
    }
   ],
   "source": [
    "a+b"
   ]
  },
  {
   "cell_type": "code",
   "execution_count": 25,
   "id": "b5045cb7-d4aa-4a6e-b2d5-e02d2869e6d6",
   "metadata": {},
   "outputs": [],
   "source": [
    "c=6+8j"
   ]
  },
  {
   "cell_type": "code",
   "execution_count": 26,
   "id": "4a3a9197-9826-4ce3-8299-1e924684e53c",
   "metadata": {},
   "outputs": [
    {
     "data": {
      "text/plain": [
       "complex"
      ]
     },
     "execution_count": 26,
     "metadata": {},
     "output_type": "execute_result"
    }
   ],
   "source": [
    "type(c)\n"
   ]
  },
  {
   "cell_type": "code",
   "execution_count": 27,
   "id": "e4a7a680-afe6-472b-b8b4-9efb7e9e8901",
   "metadata": {},
   "outputs": [],
   "source": [
    "c=5+65j+54j+44"
   ]
  },
  {
   "cell_type": "code",
   "execution_count": 28,
   "id": "45cb4427-f2bc-49fb-aa2a-ab0a87a6c8f0",
   "metadata": {},
   "outputs": [
    {
     "data": {
      "text/plain": [
       "(49+119j)"
      ]
     },
     "execution_count": 28,
     "metadata": {},
     "output_type": "execute_result"
    }
   ],
   "source": [
    "c"
   ]
  },
  {
   "cell_type": "code",
   "execution_count": 29,
   "id": "ab0f5325-45f7-48d0-a9ee-f08f7ab2f2df",
   "metadata": {},
   "outputs": [
    {
     "ename": "NameError",
     "evalue": "name 'v' is not defined",
     "output_type": "error",
     "traceback": [
      "\u001b[0;31m---------------------------------------------------------------------------\u001b[0m",
      "\u001b[0;31mNameError\u001b[0m                                 Traceback (most recent call last)",
      "Cell \u001b[0;32mIn[29], line 1\u001b[0m\n\u001b[0;32m----> 1\u001b[0m \u001b[43mv\u001b[49m\u001b[38;5;241m.\u001b[39mreal\n",
      "\u001b[0;31mNameError\u001b[0m: name 'v' is not defined"
     ]
    }
   ],
   "source": [
    "v.real"
   ]
  },
  {
   "cell_type": "code",
   "execution_count": 30,
   "id": "7c9b3654-2408-4182-ad04-ea05ec167be8",
   "metadata": {},
   "outputs": [
    {
     "data": {
      "text/plain": [
       "49.0"
      ]
     },
     "execution_count": 30,
     "metadata": {},
     "output_type": "execute_result"
    }
   ],
   "source": [
    "c.real"
   ]
  },
  {
   "cell_type": "code",
   "execution_count": 31,
   "id": "e04cd4cd-149f-4b8c-b18d-c0d8a2cc2566",
   "metadata": {},
   "outputs": [
    {
     "data": {
      "text/plain": [
       "119.0"
      ]
     },
     "execution_count": 31,
     "metadata": {},
     "output_type": "execute_result"
    }
   ],
   "source": [
    "c.imag"
   ]
  },
  {
   "cell_type": "code",
   "execution_count": 32,
   "id": "ef14927e-1365-4877-b858-29392fa173a0",
   "metadata": {},
   "outputs": [
    {
     "data": {
      "text/plain": [
       "49.0"
      ]
     },
     "execution_count": 32,
     "metadata": {},
     "output_type": "execute_result"
    }
   ],
   "source": [
    "c.real"
   ]
  },
  {
   "cell_type": "code",
   "execution_count": 33,
   "id": "fd78c7fb-3e74-46a6-823c-70ddc4809538",
   "metadata": {},
   "outputs": [
    {
     "data": {
      "text/plain": [
       "119.0"
      ]
     },
     "execution_count": 33,
     "metadata": {},
     "output_type": "execute_result"
    }
   ],
   "source": [
    "c.imag"
   ]
  },
  {
   "cell_type": "code",
   "execution_count": 34,
   "id": "d1883c60-ddad-4b43-bb66-c67291c0e4df",
   "metadata": {},
   "outputs": [
    {
     "data": {
      "text/plain": [
       "float"
      ]
     },
     "execution_count": 34,
     "metadata": {},
     "output_type": "execute_result"
    }
   ],
   "source": [
    "type(c.real)"
   ]
  },
  {
   "cell_type": "code",
   "execution_count": 35,
   "id": "49b19a1d-86db-46ad-a055-0995e70cfc12",
   "metadata": {},
   "outputs": [
    {
     "data": {
      "text/plain": [
       "float"
      ]
     },
     "execution_count": 35,
     "metadata": {},
     "output_type": "execute_result"
    }
   ],
   "source": [
    "type(c.imag)"
   ]
  },
  {
   "cell_type": "code",
   "execution_count": 36,
   "id": "33ccad23-bde9-43d9-8ddb-8d57d8665f97",
   "metadata": {},
   "outputs": [
    {
     "name": "stdout",
     "output_type": "stream",
     "text": [
      "hello\n"
     ]
    }
   ],
   "source": [
    "print(\"hello\")"
   ]
  },
  {
   "cell_type": "code",
   "execution_count": 37,
   "id": "458598f5-527f-4e80-aaa7-bf86bf633c99",
   "metadata": {},
   "outputs": [
    {
     "name": "stdout",
     "output_type": "stream",
     "text": [
      "hello (49+119j)\n"
     ]
    }
   ],
   "source": [
    "print(\"hello\",c)"
   ]
  },
  {
   "cell_type": "code",
   "execution_count": 38,
   "id": "51f36f5e-e74d-47e1-86ce-5eee3fc76489",
   "metadata": {},
   "outputs": [
    {
     "name": "stdout",
     "output_type": "stream",
     "text": [
      "hello True 43 (49+119j)\n"
     ]
    }
   ],
   "source": [
    "print(\"hello\",a,b,c)"
   ]
  },
  {
   "cell_type": "code",
   "execution_count": 39,
   "id": "0f66af72-69cc-4f0d-81b2-e25f85aa1865",
   "metadata": {},
   "outputs": [
    {
     "name": "stdout",
     "output_type": "stream",
     "text": [
      "119.0\n"
     ]
    }
   ],
   "source": [
    "print(c.imag)"
   ]
  },
  {
   "cell_type": "code",
   "execution_count": 40,
   "id": "596ffae2-cc54-4ec5-98de-392218eaba95",
   "metadata": {},
   "outputs": [
    {
     "name": "stdout",
     "output_type": "stream",
     "text": [
      "hello\n"
     ]
    },
    {
     "data": {
      "text/plain": [
       "NoneType"
      ]
     },
     "execution_count": 40,
     "metadata": {},
     "output_type": "execute_result"
    }
   ],
   "source": [
    "type(print(\"hello\"))"
   ]
  },
  {
   "cell_type": "code",
   "execution_count": 41,
   "id": "20e5b377-cfba-4237-8cb0-67c21dc135aa",
   "metadata": {},
   "outputs": [],
   "source": [
    "a=\"amishkrsingh\""
   ]
  },
  {
   "cell_type": "code",
   "execution_count": 42,
   "id": "4a851bed-05d8-4093-b409-82ff5cddc57b",
   "metadata": {},
   "outputs": [
    {
     "data": {
      "text/plain": [
       "'a'"
      ]
     },
     "execution_count": 42,
     "metadata": {},
     "output_type": "execute_result"
    }
   ],
   "source": [
    "a[0]"
   ]
  },
  {
   "cell_type": "code",
   "execution_count": 43,
   "id": "378d15a7-1592-4f27-818c-fa56626b886e",
   "metadata": {},
   "outputs": [],
   "source": [
    "b=\"amishkrsingh\"\n"
   ]
  },
  {
   "cell_type": "code",
   "execution_count": 44,
   "id": "320ac4ae-92b8-40ca-970f-69a6365f4000",
   "metadata": {},
   "outputs": [
    {
     "data": {
      "text/plain": [
       "True"
      ]
     },
     "execution_count": 44,
     "metadata": {},
     "output_type": "execute_result"
    }
   ],
   "source": [
    "a==b"
   ]
  },
  {
   "cell_type": "code",
   "execution_count": 45,
   "id": "55497aaf-5eb3-48f8-9c93-f2ef77ee98a2",
   "metadata": {},
   "outputs": [
    {
     "ename": "SyntaxError",
     "evalue": "invalid syntax (20832421.py, line 1)",
     "output_type": "error",
     "traceback": [
      "\u001b[0;36m  Cell \u001b[0;32mIn[45], line 1\u001b[0;36m\u001b[0m\n\u001b[0;31m    a===b\u001b[0m\n\u001b[0m       ^\u001b[0m\n\u001b[0;31mSyntaxError\u001b[0m\u001b[0;31m:\u001b[0m invalid syntax\n"
     ]
    }
   ],
   "source": [
    "a===b"
   ]
  },
  {
   "cell_type": "code",
   "execution_count": 46,
   "id": "b5e1f36c-df23-45ff-a448-7f3651211555",
   "metadata": {},
   "outputs": [
    {
     "data": {
      "text/plain": [
       "'g'"
      ]
     },
     "execution_count": 46,
     "metadata": {},
     "output_type": "execute_result"
    }
   ],
   "source": [
    "a[10]"
   ]
  },
  {
   "cell_type": "code",
   "execution_count": 47,
   "id": "8c0a4a86-659d-467d-a97b-240af021e693",
   "metadata": {},
   "outputs": [
    {
     "ename": "IndexError",
     "evalue": "string index out of range",
     "output_type": "error",
     "traceback": [
      "\u001b[0;31m---------------------------------------------------------------------------\u001b[0m",
      "\u001b[0;31mIndexError\u001b[0m                                Traceback (most recent call last)",
      "Cell \u001b[0;32mIn[47], line 1\u001b[0m\n\u001b[0;32m----> 1\u001b[0m \u001b[43ma\u001b[49m\u001b[43m[\u001b[49m\u001b[38;5;241;43m55\u001b[39;49m\u001b[43m]\u001b[49m\n",
      "\u001b[0;31mIndexError\u001b[0m: string index out of range"
     ]
    }
   ],
   "source": [
    "a[55]"
   ]
  },
  {
   "cell_type": "code",
   "execution_count": 48,
   "id": "fbabab1d-a027-487a-a964-09a39486b1c3",
   "metadata": {},
   "outputs": [
    {
     "data": {
      "text/plain": [
       "'h'"
      ]
     },
     "execution_count": 48,
     "metadata": {},
     "output_type": "execute_result"
    }
   ],
   "source": [
    "a[11]"
   ]
  },
  {
   "cell_type": "code",
   "execution_count": 49,
   "id": "d9c31639-0b9f-4fb9-bee4-9c84c5cdae18",
   "metadata": {},
   "outputs": [
    {
     "data": {
      "text/plain": [
       "str"
      ]
     },
     "execution_count": 49,
     "metadata": {},
     "output_type": "execute_result"
    }
   ],
   "source": [
    "type(a[11])"
   ]
  },
  {
   "cell_type": "code",
   "execution_count": 50,
   "id": "3efa81e8-93cb-4783-af57-4daf3ff9a18f",
   "metadata": {},
   "outputs": [
    {
     "data": {
      "text/plain": [
       "'m'"
      ]
     },
     "execution_count": 50,
     "metadata": {},
     "output_type": "execute_result"
    }
   ],
   "source": [
    "a[-11]"
   ]
  },
  {
   "cell_type": "code",
   "execution_count": 51,
   "id": "a9f07852-d942-4ffb-a037-84882b2b5a74",
   "metadata": {},
   "outputs": [
    {
     "data": {
      "text/plain": [
       "'h'"
      ]
     },
     "execution_count": 51,
     "metadata": {},
     "output_type": "execute_result"
    }
   ],
   "source": [
    "a[-1]"
   ]
  },
  {
   "cell_type": "code",
   "execution_count": 52,
   "id": "0ee96fe5-9ac4-4d98-a89d-7c0c46ef6afc",
   "metadata": {},
   "outputs": [
    {
     "data": {
      "text/plain": [
       "'a'"
      ]
     },
     "execution_count": 52,
     "metadata": {},
     "output_type": "execute_result"
    }
   ],
   "source": [
    "a[-12]"
   ]
  },
  {
   "cell_type": "code",
   "execution_count": 53,
   "id": "5310c8a7-545f-4c9e-8912-42ccbe694b89",
   "metadata": {},
   "outputs": [
    {
     "data": {
      "text/plain": [
       "'am'"
      ]
     },
     "execution_count": 53,
     "metadata": {},
     "output_type": "execute_result"
    }
   ],
   "source": [
    "a[0:2]"
   ]
  },
  {
   "cell_type": "code",
   "execution_count": 54,
   "id": "143b7ecc-c9fe-49e0-84e5-5698a570097e",
   "metadata": {},
   "outputs": [
    {
     "data": {
      "text/plain": [
       "'ami'"
      ]
     },
     "execution_count": 54,
     "metadata": {},
     "output_type": "execute_result"
    }
   ],
   "source": [
    "a[0:3]"
   ]
  },
  {
   "cell_type": "code",
   "execution_count": 55,
   "id": "5dac1599-a6ec-41cc-8578-ab611df620be",
   "metadata": {},
   "outputs": [
    {
     "data": {
      "text/plain": [
       "''"
      ]
     },
     "execution_count": 55,
     "metadata": {},
     "output_type": "execute_result"
    }
   ],
   "source": [
    "a[-1:-4]"
   ]
  },
  {
   "cell_type": "code",
   "execution_count": 56,
   "id": "fe75ab8c-6318-4ba8-8293-4aac5f1bc9c0",
   "metadata": {},
   "outputs": [
    {
     "data": {
      "text/plain": [
       "''"
      ]
     },
     "execution_count": 56,
     "metadata": {},
     "output_type": "execute_result"
    }
   ],
   "source": [
    "a[-1:4]"
   ]
  },
  {
   "cell_type": "code",
   "execution_count": 57,
   "id": "e965afbb-b33e-4be5-b860-7047d3f77565",
   "metadata": {},
   "outputs": [
    {
     "data": {
      "text/plain": [
       "'amishkrsingh'"
      ]
     },
     "execution_count": 57,
     "metadata": {},
     "output_type": "execute_result"
    }
   ],
   "source": [
    "a"
   ]
  },
  {
   "cell_type": "code",
   "execution_count": 58,
   "id": "2fef018b-4c02-4bc9-96de-f02cd3850893",
   "metadata": {},
   "outputs": [
    {
     "data": {
      "text/plain": [
       "'amishkrsingh'"
      ]
     },
     "execution_count": 58,
     "metadata": {},
     "output_type": "execute_result"
    }
   ],
   "source": [
    "a[0:12]"
   ]
  },
  {
   "cell_type": "code",
   "execution_count": 59,
   "id": "6d748d2b-e1e1-4c0e-8c3c-823a2d2b3d8f",
   "metadata": {},
   "outputs": [
    {
     "ename": "SyntaxError",
     "evalue": "invalid syntax (4140310962.py, line 1)",
     "output_type": "error",
     "traceback": [
      "\u001b[0;36m  Cell \u001b[0;32mIn[59], line 1\u001b[0;36m\u001b[0m\n\u001b[0;31m    a[0;15]\u001b[0m\n\u001b[0m       ^\u001b[0m\n\u001b[0;31mSyntaxError\u001b[0m\u001b[0;31m:\u001b[0m invalid syntax\n"
     ]
    }
   ],
   "source": [
    "a[0;15]"
   ]
  },
  {
   "cell_type": "code",
   "execution_count": 60,
   "id": "72051e80-1730-4268-861a-5c9da91c4a20",
   "metadata": {},
   "outputs": [
    {
     "data": {
      "text/plain": [
       "'amishkrsingh'"
      ]
     },
     "execution_count": 60,
     "metadata": {},
     "output_type": "execute_result"
    }
   ],
   "source": [
    "a[0:15]"
   ]
  },
  {
   "cell_type": "code",
   "execution_count": 61,
   "id": "741e3725-973f-415f-9517-cbc1941c57b3",
   "metadata": {},
   "outputs": [
    {
     "data": {
      "text/plain": [
       "'amishkrsingh'"
      ]
     },
     "execution_count": 61,
     "metadata": {},
     "output_type": "execute_result"
    }
   ],
   "source": [
    "a[0:1000]"
   ]
  },
  {
   "cell_type": "code",
   "execution_count": 62,
   "id": "44c764ab-e7e6-42e1-b2fa-4089a3266cd4",
   "metadata": {},
   "outputs": [
    {
     "data": {
      "text/plain": [
       "'ish'"
      ]
     },
     "execution_count": 62,
     "metadata": {},
     "output_type": "execute_result"
    }
   ],
   "source": [
    "a[2:5]"
   ]
  },
  {
   "cell_type": "code",
   "execution_count": 63,
   "id": "88120f6b-f66d-431f-84b2-cef8cc581624",
   "metadata": {},
   "outputs": [
    {
     "data": {
      "text/plain": [
       "'amishkrsingh'"
      ]
     },
     "execution_count": 63,
     "metadata": {},
     "output_type": "execute_result"
    }
   ],
   "source": [
    "a[0:12|1]"
   ]
  },
  {
   "cell_type": "code",
   "execution_count": 64,
   "id": "1bcedeac-8ba7-4f54-bcf1-7ec94ac9b348",
   "metadata": {},
   "outputs": [
    {
     "data": {
      "text/plain": [
       "'amishkrsingh'"
      ]
     },
     "execution_count": 64,
     "metadata": {},
     "output_type": "execute_result"
    }
   ],
   "source": [
    "a[0:12:1]"
   ]
  },
  {
   "cell_type": "code",
   "execution_count": 66,
   "id": "c49feefa-33d7-44c9-a2e0-cc4ee6730476",
   "metadata": {},
   "outputs": [
    {
     "data": {
      "text/plain": [
       "'aihrig'"
      ]
     },
     "execution_count": 66,
     "metadata": {},
     "output_type": "execute_result"
    }
   ],
   "source": [
    "a[0:12:2]"
   ]
  },
  {
   "cell_type": "code",
   "execution_count": 67,
   "id": "96d0a658-ee18-498f-a21b-9ed38a9459d1",
   "metadata": {},
   "outputs": [
    {
     "data": {
      "text/plain": [
       "'hnsksm'"
      ]
     },
     "execution_count": 67,
     "metadata": {},
     "output_type": "execute_result"
    }
   ],
   "source": [
    "a[-1:-13:-2]"
   ]
  },
  {
   "cell_type": "code",
   "execution_count": 68,
   "id": "ec655226-30af-4bbb-aa57-ea05d0a9ea6a",
   "metadata": {},
   "outputs": [
    {
     "data": {
      "text/plain": [
       "'hgnisrkhsima'"
      ]
     },
     "execution_count": 68,
     "metadata": {},
     "output_type": "execute_result"
    }
   ],
   "source": [
    "a[-1:-13:-1]"
   ]
  },
  {
   "cell_type": "code",
   "execution_count": 69,
   "id": "6fe778e6-afc6-4216-b3c6-2c43e7f6aee1",
   "metadata": {},
   "outputs": [
    {
     "data": {
      "text/plain": [
       "''"
      ]
     },
     "execution_count": 69,
     "metadata": {},
     "output_type": "execute_result"
    }
   ],
   "source": [
    "a[0:12:-1]"
   ]
  },
  {
   "cell_type": "code",
   "execution_count": 71,
   "id": "e83ebeac-a2ab-4754-a520-75fc872e801a",
   "metadata": {},
   "outputs": [
    {
     "data": {
      "text/plain": [
       "'nisrkh'"
      ]
     },
     "execution_count": 71,
     "metadata": {},
     "output_type": "execute_result"
    }
   ],
   "source": [
    "a[-3:3:-1]"
   ]
  },
  {
   "cell_type": "code",
   "execution_count": 74,
   "id": "aa673e2e-a0de-4641-bc04-01325c224164",
   "metadata": {},
   "outputs": [
    {
     "data": {
      "text/plain": [
       "''"
      ]
     },
     "execution_count": 74,
     "metadata": {},
     "output_type": "execute_result"
    }
   ],
   "source": [
    "a[2:7:-1]"
   ]
  },
  {
   "cell_type": "code",
   "execution_count": 79,
   "id": "82180ba2-226a-47b4-b7f6-d862b5f94b47",
   "metadata": {},
   "outputs": [
    {
     "data": {
      "text/plain": [
       "'ia'"
      ]
     },
     "execution_count": 79,
     "metadata": {},
     "output_type": "execute_result"
    }
   ],
   "source": [
    "a[2:-13:-2]"
   ]
  },
  {
   "cell_type": "code",
   "execution_count": 80,
   "id": "c856e901-411c-4a27-8cbf-125c49270040",
   "metadata": {},
   "outputs": [],
   "source": [
    "c=200"
   ]
  },
  {
   "cell_type": "code",
   "execution_count": 81,
   "id": "03a18373-ff16-4c22-9966-6796e621c06c",
   "metadata": {},
   "outputs": [
    {
     "ename": "TypeError",
     "evalue": "'int' object is not subscriptable",
     "output_type": "error",
     "traceback": [
      "\u001b[0;31m---------------------------------------------------------------------------\u001b[0m",
      "\u001b[0;31mTypeError\u001b[0m                                 Traceback (most recent call last)",
      "Cell \u001b[0;32mIn[81], line 1\u001b[0m\n\u001b[0;32m----> 1\u001b[0m \u001b[43mc\u001b[49m\u001b[43m[\u001b[49m\u001b[38;5;241;43m0\u001b[39;49m\u001b[43m]\u001b[49m\n",
      "\u001b[0;31mTypeError\u001b[0m: 'int' object is not subscriptable"
     ]
    }
   ],
   "source": [
    "c[0]"
   ]
  },
  {
   "cell_type": "code",
   "execution_count": 82,
   "id": "b7f1c613-e84a-4bf3-bec1-d2963a390c56",
   "metadata": {},
   "outputs": [
    {
     "name": "stdout",
     "output_type": "stream",
     "text": [
      "200\n"
     ]
    }
   ],
   "source": [
    "print(c)"
   ]
  },
  {
   "cell_type": "code",
   "execution_count": 83,
   "id": "2d5e7480-6b48-4857-9eec-7c2f1612870d",
   "metadata": {},
   "outputs": [
    {
     "name": "stdout",
     "output_type": "stream",
     "text": [
      "amishkrsingh\n"
     ]
    }
   ],
   "source": [
    "print(a)"
   ]
  },
  {
   "cell_type": "code",
   "execution_count": 84,
   "id": "bea4696f-1c43-4fe3-b41c-b92066c72196",
   "metadata": {},
   "outputs": [
    {
     "ename": "SyntaxError",
     "evalue": "leading zeros in decimal integer literals are not permitted; use an 0o prefix for octal integers (3153257178.py, line 1)",
     "output_type": "error",
     "traceback": [
      "\u001b[0;36m  Cell \u001b[0;32mIn[84], line 1\u001b[0;36m\u001b[0m\n\u001b[0;31m    print(a[00:012:1]\u001b[0m\n\u001b[0m               ^\u001b[0m\n\u001b[0;31mSyntaxError\u001b[0m\u001b[0;31m:\u001b[0m leading zeros in decimal integer literals are not permitted; use an 0o prefix for octal integers\n"
     ]
    }
   ],
   "source": [
    "print(a[00:012:1]"
   ]
  },
  {
   "cell_type": "code",
   "execution_count": 85,
   "id": "921f5258-c85a-48b9-bfd0-b76187c690b9",
   "metadata": {},
   "outputs": [],
   "source": [
    "s=\"this is my first python class\""
   ]
  },
  {
   "cell_type": "code",
   "execution_count": 86,
   "id": "bf8d9641-3649-4ca3-9f16-81afefa3b4e1",
   "metadata": {},
   "outputs": [
    {
     "data": {
      "text/plain": [
       "'this is my first python class'"
      ]
     },
     "execution_count": 86,
     "metadata": {},
     "output_type": "execute_result"
    }
   ],
   "source": [
    "s\n"
   ]
  },
  {
   "cell_type": "code",
   "execution_count": 87,
   "id": "5d5e4cb7-930a-4c14-b549-98715838b193",
   "metadata": {},
   "outputs": [
    {
     "data": {
      "text/plain": [
       "'amishkrsingh'"
      ]
     },
     "execution_count": 87,
     "metadata": {},
     "output_type": "execute_result"
    }
   ],
   "source": [
    "a\n"
   ]
  },
  {
   "cell_type": "code",
   "execution_count": 88,
   "id": "319ab47d-eeae-4122-bb86-43e13497c2a5",
   "metadata": {},
   "outputs": [
    {
     "data": {
      "text/plain": [
       "'amishkrsingh'"
      ]
     },
     "execution_count": 88,
     "metadata": {},
     "output_type": "execute_result"
    }
   ],
   "source": [
    "b\n"
   ]
  },
  {
   "cell_type": "code",
   "execution_count": 89,
   "id": "b9e540eb-5c22-4151-a617-a02314cec3fe",
   "metadata": {},
   "outputs": [
    {
     "data": {
      "text/plain": [
       "200"
      ]
     },
     "execution_count": 89,
     "metadata": {},
     "output_type": "execute_result"
    }
   ],
   "source": [
    "c"
   ]
  },
  {
   "cell_type": "code",
   "execution_count": 90,
   "id": "3166198c-2b38-4a0f-93cf-03a5be99093c",
   "metadata": {},
   "outputs": [
    {
     "ename": "NameError",
     "evalue": "name 'd' is not defined",
     "output_type": "error",
     "traceback": [
      "\u001b[0;31m---------------------------------------------------------------------------\u001b[0m",
      "\u001b[0;31mNameError\u001b[0m                                 Traceback (most recent call last)",
      "Cell \u001b[0;32mIn[90], line 1\u001b[0m\n\u001b[0;32m----> 1\u001b[0m \u001b[43md\u001b[49m\n",
      "\u001b[0;31mNameError\u001b[0m: name 'd' is not defined"
     ]
    }
   ],
   "source": [
    "d"
   ]
  },
  {
   "cell_type": "code",
   "execution_count": 91,
   "id": "3a8e9685-1e28-4efd-87fe-521a9802f420",
   "metadata": {},
   "outputs": [
    {
     "ename": "NameError",
     "evalue": "name 's1' is not defined",
     "output_type": "error",
     "traceback": [
      "\u001b[0;31m---------------------------------------------------------------------------\u001b[0m",
      "\u001b[0;31mNameError\u001b[0m                                 Traceback (most recent call last)",
      "Cell \u001b[0;32mIn[91], line 1\u001b[0m\n\u001b[0;32m----> 1\u001b[0m \u001b[43ms1\u001b[49m\u001b[38;5;241m.\u001b[39mlength\n",
      "\u001b[0;31mNameError\u001b[0m: name 's1' is not defined"
     ]
    }
   ],
   "source": [
    "s1.length"
   ]
  },
  {
   "cell_type": "code",
   "execution_count": 92,
   "id": "2cb9f273-ec65-430c-9240-ca083870e050",
   "metadata": {},
   "outputs": [
    {
     "data": {
      "text/plain": [
       "29"
      ]
     },
     "execution_count": 92,
     "metadata": {},
     "output_type": "execute_result"
    }
   ],
   "source": [
    "len(s)"
   ]
  },
  {
   "cell_type": "code",
   "execution_count": 93,
   "id": "185bf5a9-74ff-4a7d-8197-e81b7afad799",
   "metadata": {},
   "outputs": [
    {
     "data": {
      "text/plain": [
       "12"
      ]
     },
     "execution_count": 93,
     "metadata": {},
     "output_type": "execute_result"
    }
   ],
   "source": [
    "len(a)"
   ]
  },
  {
   "cell_type": "code",
   "execution_count": 94,
   "id": "5f62eb3b-39d5-4269-8a15-776665d24aee",
   "metadata": {},
   "outputs": [
    {
     "data": {
      "text/plain": [
       "12"
      ]
     },
     "execution_count": 94,
     "metadata": {},
     "output_type": "execute_result"
    }
   ],
   "source": [
    "len(b)"
   ]
  },
  {
   "cell_type": "code",
   "execution_count": 95,
   "id": "ab87a4cc-d43c-4eaf-8db2-e814448abd5e",
   "metadata": {},
   "outputs": [
    {
     "ename": "TypeError",
     "evalue": "object of type 'int' has no len()",
     "output_type": "error",
     "traceback": [
      "\u001b[0;31m---------------------------------------------------------------------------\u001b[0m",
      "\u001b[0;31mTypeError\u001b[0m                                 Traceback (most recent call last)",
      "Cell \u001b[0;32mIn[95], line 1\u001b[0m\n\u001b[0;32m----> 1\u001b[0m \u001b[38;5;28;43mlen\u001b[39;49m\u001b[43m(\u001b[49m\u001b[43mc\u001b[49m\u001b[43m)\u001b[49m\n",
      "\u001b[0;31mTypeError\u001b[0m: object of type 'int' has no len()"
     ]
    }
   ],
   "source": [
    "len(c)"
   ]
  },
  {
   "cell_type": "code",
   "execution_count": 96,
   "id": "14e1541f-9006-41ce-b193-c1eaa36bd31c",
   "metadata": {},
   "outputs": [
    {
     "data": {
      "text/plain": [
       "3"
      ]
     },
     "execution_count": 96,
     "metadata": {},
     "output_type": "execute_result"
    }
   ],
   "source": [
    "len(a[1:4])"
   ]
  },
  {
   "cell_type": "code",
   "execution_count": 97,
   "id": "1c43555b-3077-48e4-afd4-dba98025cfa8",
   "metadata": {},
   "outputs": [
    {
     "data": {
      "text/plain": [
       "3"
      ]
     },
     "execution_count": 97,
     "metadata": {},
     "output_type": "execute_result"
    }
   ],
   "source": [
    "s.find('s')"
   ]
  },
  {
   "cell_type": "code",
   "execution_count": 98,
   "id": "e58aebe0-99cd-4912-a2fa-217b18740268",
   "metadata": {},
   "outputs": [
    {
     "data": {
      "text/plain": [
       "17"
      ]
     },
     "execution_count": 98,
     "metadata": {},
     "output_type": "execute_result"
    }
   ],
   "source": [
    "s.find(\"python\")"
   ]
  },
  {
   "cell_type": "code",
   "execution_count": 99,
   "id": "8cd7efd6-f39c-483d-a288-7116086fe686",
   "metadata": {},
   "outputs": [
    {
     "data": {
      "text/plain": [
       "5"
      ]
     },
     "execution_count": 99,
     "metadata": {},
     "output_type": "execute_result"
    }
   ],
   "source": [
    "s.count('s')"
   ]
  },
  {
   "cell_type": "code",
   "execution_count": 100,
   "id": "737d54ed-0102-47db-812d-3bb60e6405a4",
   "metadata": {},
   "outputs": [
    {
     "data": {
      "text/plain": [
       "0"
      ]
     },
     "execution_count": 100,
     "metadata": {},
     "output_type": "execute_result"
    }
   ],
   "source": [
    "s.count('1')"
   ]
  },
  {
   "cell_type": "code",
   "execution_count": 101,
   "id": "c27bc628-0d84-4e85-8550-76fc01ad8958",
   "metadata": {},
   "outputs": [
    {
     "data": {
      "text/plain": [
       "1"
      ]
     },
     "execution_count": 101,
     "metadata": {},
     "output_type": "execute_result"
    }
   ],
   "source": [
    "s.count('m')"
   ]
  },
  {
   "cell_type": "code",
   "execution_count": 102,
   "id": "85eadb33-a795-4731-9e0b-13e571fc9d9b",
   "metadata": {},
   "outputs": [
    {
     "data": {
      "text/plain": [
       "1"
      ]
     },
     "execution_count": 102,
     "metadata": {},
     "output_type": "execute_result"
    }
   ],
   "source": [
    "s.count('p')"
   ]
  },
  {
   "cell_type": "code",
   "execution_count": 103,
   "id": "a9796a84-77c9-4026-8ce6-b6eb16b627b6",
   "metadata": {},
   "outputs": [
    {
     "data": {
      "text/plain": [
       "1"
      ]
     },
     "execution_count": 103,
     "metadata": {},
     "output_type": "execute_result"
    }
   ],
   "source": [
    "s.count('py')"
   ]
  },
  {
   "cell_type": "code",
   "execution_count": 104,
   "id": "21ae9a51-3126-4560-8cba-4104e45bb13d",
   "metadata": {},
   "outputs": [
    {
     "data": {
      "text/plain": [
       "0"
      ]
     },
     "execution_count": 104,
     "metadata": {},
     "output_type": "execute_result"
    }
   ],
   "source": [
    "s.count('pt')"
   ]
  },
  {
   "cell_type": "code",
   "execution_count": 105,
   "id": "d9532eca-bc36-48da-86f7-d264005c60b2",
   "metadata": {},
   "outputs": [
    {
     "data": {
      "text/plain": [
       "'THIS IS MY FIRST PYTHON CLASS'"
      ]
     },
     "execution_count": 105,
     "metadata": {},
     "output_type": "execute_result"
    }
   ],
   "source": [
    "s.upper()"
   ]
  },
  {
   "cell_type": "code",
   "execution_count": 106,
   "id": "cf9546fe-0b5c-48d5-8d78-9174898aefeb",
   "metadata": {},
   "outputs": [
    {
     "data": {
      "text/plain": [
       "'this is my first python class'"
      ]
     },
     "execution_count": 106,
     "metadata": {},
     "output_type": "execute_result"
    }
   ],
   "source": [
    "s.lower()"
   ]
  },
  {
   "cell_type": "code",
   "execution_count": 107,
   "id": "8c88a570-cb50-4be0-a6ff-796bf03f6845",
   "metadata": {},
   "outputs": [
    {
     "ename": "SyntaxError",
     "evalue": "invalid syntax (1608218502.py, line 1)",
     "output_type": "error",
     "traceback": [
      "\u001b[0;36m  Cell \u001b[0;32mIn[107], line 1\u001b[0;36m\u001b[0m\n\u001b[0;31m    s.lower(1:3)\u001b[0m\n\u001b[0m             ^\u001b[0m\n\u001b[0;31mSyntaxError\u001b[0m\u001b[0;31m:\u001b[0m invalid syntax\n"
     ]
    }
   ],
   "source": [
    "s.lower(1:3)"
   ]
  },
  {
   "cell_type": "code",
   "execution_count": 108,
   "id": "a0a5bac0-78ac-4c4e-afdf-5430534f69c8",
   "metadata": {},
   "outputs": [
    {
     "ename": "TypeError",
     "evalue": "str.lower() takes no arguments (1 given)",
     "output_type": "error",
     "traceback": [
      "\u001b[0;31m---------------------------------------------------------------------------\u001b[0m",
      "\u001b[0;31mTypeError\u001b[0m                                 Traceback (most recent call last)",
      "Cell \u001b[0;32mIn[108], line 1\u001b[0m\n\u001b[0;32m----> 1\u001b[0m \u001b[43ms\u001b[49m\u001b[38;5;241;43m.\u001b[39;49m\u001b[43mlower\u001b[49m\u001b[43m(\u001b[49m\u001b[43ms\u001b[49m\u001b[38;5;241;43m.\u001b[39;49m\u001b[43mupper\u001b[49m\u001b[43m(\u001b[49m\u001b[43m)\u001b[49m\u001b[43m)\u001b[49m\n",
      "\u001b[0;31mTypeError\u001b[0m: str.lower() takes no arguments (1 given)"
     ]
    }
   ],
   "source": [
    "s.lower(s.upper())"
   ]
  },
  {
   "cell_type": "code",
   "execution_count": 109,
   "id": "c9e53bd7-2f11-473b-9eb7-d33ba55d419b",
   "metadata": {},
   "outputs": [
    {
     "data": {
      "text/plain": [
       "'This Is My First Python Class'"
      ]
     },
     "execution_count": 109,
     "metadata": {},
     "output_type": "execute_result"
    }
   ],
   "source": [
    "s.title()"
   ]
  },
  {
   "cell_type": "code",
   "execution_count": 110,
   "id": "bb3515d2-bfad-407e-9177-057f660883bf",
   "metadata": {},
   "outputs": [
    {
     "data": {
      "text/plain": [
       "'This is my first python class'"
      ]
     },
     "execution_count": 110,
     "metadata": {},
     "output_type": "execute_result"
    }
   ],
   "source": [
    "s.capitalize()"
   ]
  },
  {
   "cell_type": "code",
   "execution_count": 111,
   "id": "899c942b-3af0-4658-8900-cc73f24bac9d",
   "metadata": {},
   "outputs": [
    {
     "data": {
      "text/plain": [
       "'this is my first python class'"
      ]
     },
     "execution_count": 111,
     "metadata": {},
     "output_type": "execute_result"
    }
   ],
   "source": [
    "s"
   ]
  },
  {
   "cell_type": "code",
   "execution_count": 112,
   "id": "f34d029c-e859-4c1d-b416-f425822496c9",
   "metadata": {},
   "outputs": [
    {
     "ename": "TypeError",
     "evalue": "can only concatenate str (not \"int\") to str",
     "output_type": "error",
     "traceback": [
      "\u001b[0;31m---------------------------------------------------------------------------\u001b[0m",
      "\u001b[0;31mTypeError\u001b[0m                                 Traceback (most recent call last)",
      "Cell \u001b[0;32mIn[112], line 1\u001b[0m\n\u001b[0;32m----> 1\u001b[0m \u001b[43ms\u001b[49m\u001b[38;5;241;43m+\u001b[39;49m\u001b[38;5;241;43m1\u001b[39;49m\n",
      "\u001b[0;31mTypeError\u001b[0m: can only concatenate str (not \"int\") to str"
     ]
    }
   ],
   "source": [
    "s+1"
   ]
  },
  {
   "cell_type": "code",
   "execution_count": 113,
   "id": "a22cfe60-3624-41a9-835f-1624ea4b2aa7",
   "metadata": {},
   "outputs": [
    {
     "data": {
      "text/plain": [
       "'this is my first python classamishkrsingh'"
      ]
     },
     "execution_count": 113,
     "metadata": {},
     "output_type": "execute_result"
    }
   ],
   "source": [
    "s+a"
   ]
  },
  {
   "cell_type": "code",
   "execution_count": 114,
   "id": "3b80092f-07ea-482e-82f9-c416e60e7b08",
   "metadata": {},
   "outputs": [
    {
     "data": {
      "text/plain": [
       "'this is my first python class amishkrsingh'"
      ]
     },
     "execution_count": 114,
     "metadata": {},
     "output_type": "execute_result"
    }
   ],
   "source": [
    "s+\" \"+a"
   ]
  },
  {
   "cell_type": "code",
   "execution_count": 115,
   "id": "7c582781-0d4e-4fd5-aac4-9d825f92e7e8",
   "metadata": {},
   "outputs": [
    {
     "data": {
      "text/plain": [
       "'this is my first python class amishk rs ingh'"
      ]
     },
     "execution_count": 115,
     "metadata": {},
     "output_type": "execute_result"
    }
   ],
   "source": [
    "s+\" \"+a[0:6]+\" \"+a[6:8]+\" \"+a[8:]"
   ]
  },
  {
   "cell_type": "code",
   "execution_count": 116,
   "id": "baa6e7d7-94f6-4950-83e7-85a5e28dec84",
   "metadata": {},
   "outputs": [
    {
     "data": {
      "text/plain": [
       "'amishkrsinghamishkrsingh'"
      ]
     },
     "execution_count": 116,
     "metadata": {},
     "output_type": "execute_result"
    }
   ],
   "source": [
    "a+b"
   ]
  },
  {
   "cell_type": "code",
   "execution_count": 117,
   "id": "d7270a01-cf15-4a58-9906-0ea7c7f959ca",
   "metadata": {},
   "outputs": [
    {
     "data": {
      "text/plain": [
       "'amishkrsingh'"
      ]
     },
     "execution_count": 117,
     "metadata": {},
     "output_type": "execute_result"
    }
   ],
   "source": [
    "a+b[4:2]"
   ]
  },
  {
   "cell_type": "code",
   "execution_count": 118,
   "id": "90cd6ddf-856d-4e08-ba13-c3e7acc636dc",
   "metadata": {},
   "outputs": [
    {
     "ename": "SyntaxError",
     "evalue": "unterminated string literal (detected at line 1) (4290935.py, line 1)",
     "output_type": "error",
     "traceback": [
      "\u001b[0;36m  Cell \u001b[0;32mIn[118], line 1\u001b[0;36m\u001b[0m\n\u001b[0;31m    s+'1\"\u001b[0m\n\u001b[0m      ^\u001b[0m\n\u001b[0;31mSyntaxError\u001b[0m\u001b[0;31m:\u001b[0m unterminated string literal (detected at line 1)\n"
     ]
    }
   ],
   "source": [
    "s+'1\""
   ]
  },
  {
   "cell_type": "code",
   "execution_count": 119,
   "id": "0a8acfbf-af8f-4c94-b2df-1ef756283b40",
   "metadata": {},
   "outputs": [
    {
     "ename": "ValueError",
     "evalue": "invalid literal for int() with base 10: 'this is my first python class'",
     "output_type": "error",
     "traceback": [
      "\u001b[0;31m---------------------------------------------------------------------------\u001b[0m",
      "\u001b[0;31mValueError\u001b[0m                                Traceback (most recent call last)",
      "Cell \u001b[0;32mIn[119], line 1\u001b[0m\n\u001b[0;32m----> 1\u001b[0m \u001b[38;5;28;43mint\u001b[39;49m\u001b[43m(\u001b[49m\u001b[43ms\u001b[49m\u001b[43m)\u001b[49m\n",
      "\u001b[0;31mValueError\u001b[0m: invalid literal for int() with base 10: 'this is my first python class'"
     ]
    }
   ],
   "source": [
    "int(s)"
   ]
  },
  {
   "cell_type": "code",
   "execution_count": 120,
   "id": "5029ac6a-0f2a-4c66-86c5-1573bded8df8",
   "metadata": {},
   "outputs": [
    {
     "data": {
      "text/plain": [
       "'this is my first python class432'"
      ]
     },
     "execution_count": 120,
     "metadata": {},
     "output_type": "execute_result"
    }
   ],
   "source": [
    "s+str(432)"
   ]
  },
  {
   "cell_type": "code",
   "execution_count": 121,
   "id": "0741472a-50e2-417c-a8b1-bb7f865df3a7",
   "metadata": {},
   "outputs": [
    {
     "data": {
      "text/plain": [
       "'this is my first python classthis is my first python classthis is my first python class'"
      ]
     },
     "execution_count": 121,
     "metadata": {},
     "output_type": "execute_result"
    }
   ],
   "source": [
    "s*3"
   ]
  },
  {
   "cell_type": "code",
   "execution_count": 122,
   "id": "285f572c-5f54-4dde-a793-96a6383e1ee3",
   "metadata": {},
   "outputs": [
    {
     "ename": "TypeError",
     "evalue": "can't multiply sequence by non-int of type 'str'",
     "output_type": "error",
     "traceback": [
      "\u001b[0;31m---------------------------------------------------------------------------\u001b[0m",
      "\u001b[0;31mTypeError\u001b[0m                                 Traceback (most recent call last)",
      "Cell \u001b[0;32mIn[122], line 1\u001b[0m\n\u001b[0;32m----> 1\u001b[0m \u001b[43ms\u001b[49m\u001b[38;5;241;43m*\u001b[39;49m\u001b[38;5;124;43m\"\u001b[39;49m\u001b[38;5;124;43m \u001b[39;49m\u001b[38;5;124;43m\"\u001b[39;49m\n",
      "\u001b[0;31mTypeError\u001b[0m: can't multiply sequence by non-int of type 'str'"
     ]
    }
   ],
   "source": [
    "s*\" \""
   ]
  },
  {
   "cell_type": "code",
   "execution_count": 123,
   "id": "212df172-4e8e-46ef-b9e7-7b5260f6f940",
   "metadata": {},
   "outputs": [
    {
     "ename": "TypeError",
     "evalue": "can't multiply sequence by non-int of type 'str'",
     "output_type": "error",
     "traceback": [
      "\u001b[0;31m---------------------------------------------------------------------------\u001b[0m",
      "\u001b[0;31mTypeError\u001b[0m                                 Traceback (most recent call last)",
      "Cell \u001b[0;32mIn[123], line 1\u001b[0m\n\u001b[0;32m----> 1\u001b[0m \u001b[43ms\u001b[49m\u001b[38;5;241;43m*\u001b[39;49m\u001b[38;5;241;43m3\u001b[39;49m\u001b[38;5;241;43m*\u001b[39;49m\u001b[38;5;124;43m\"\u001b[39;49m\u001b[38;5;124;43m \u001b[39;49m\u001b[38;5;124;43m\"\u001b[39;49m\n",
      "\u001b[0;31mTypeError\u001b[0m: can't multiply sequence by non-int of type 'str'"
     ]
    }
   ],
   "source": [
    "s*3*\" \""
   ]
  },
  {
   "cell_type": "code",
   "execution_count": 124,
   "id": "454a481e-b76f-4d1c-9d16-e31db5ce0938",
   "metadata": {},
   "outputs": [
    {
     "ename": "NameError",
     "evalue": "name 'hello' is not defined",
     "output_type": "error",
     "traceback": [
      "\u001b[0;31m---------------------------------------------------------------------------\u001b[0m",
      "\u001b[0;31mNameError\u001b[0m                                 Traceback (most recent call last)",
      "Cell \u001b[0;32mIn[124], line 1\u001b[0m\n\u001b[0;32m----> 1\u001b[0m \u001b[43mhello\u001b[49m\u001b[38;5;241m*\u001b[39m\u001b[38;5;241m5\u001b[39m\n",
      "\u001b[0;31mNameError\u001b[0m: name 'hello' is not defined"
     ]
    }
   ],
   "source": [
    "hello*5"
   ]
  },
  {
   "cell_type": "code",
   "execution_count": 125,
   "id": "de5ebc79-85e4-4a3c-a3ba-84ff6d7c41fe",
   "metadata": {},
   "outputs": [
    {
     "data": {
      "text/plain": [
       "'hellohellohellohellohello'"
      ]
     },
     "execution_count": 125,
     "metadata": {},
     "output_type": "execute_result"
    }
   ],
   "source": [
    "\"hello\"*5"
   ]
  },
  {
   "cell_type": "code",
   "execution_count": 126,
   "id": "6fce477f-d944-4090-8667-6a1ca3a37488",
   "metadata": {},
   "outputs": [
    {
     "data": {
      "text/plain": [
       "'hello there is a python class going on'"
      ]
     },
     "execution_count": 126,
     "metadata": {},
     "output_type": "execute_result"
    }
   ],
   "source": [
    "\"hello there is a python class going on\""
   ]
  },
  {
   "cell_type": "code",
   "execution_count": 127,
   "id": "051ba1f1-1df8-4b4f-8d67-f7fcd816cb8e",
   "metadata": {},
   "outputs": [
    {
     "data": {
      "text/plain": [
       "\"hello dont't be here\""
      ]
     },
     "execution_count": 127,
     "metadata": {},
     "output_type": "execute_result"
    }
   ],
   "source": [
    "\"hello dont't be here\""
   ]
  },
  {
   "cell_type": "code",
   "execution_count": 129,
   "id": "294fe8c4-e300-4f6e-8161-81d7c10db0f5",
   "metadata": {},
   "outputs": [
    {
     "data": {
      "text/plain": [
       "\"hello dont't be hrer\""
      ]
     },
     "execution_count": 129,
     "metadata": {},
     "output_type": "execute_result"
    }
   ],
   "source": [
    "'hello dont\\'t be hrer'"
   ]
  },
  {
   "cell_type": "code",
   "execution_count": 130,
   "id": "a645181c-b74a-4978-9b4c-4a78ab2df934",
   "metadata": {},
   "outputs": [
    {
     "ename": "SyntaxError",
     "evalue": "invalid syntax (3365596314.py, line 1)",
     "output_type": "error",
     "traceback": [
      "\u001b[0;36m  Cell \u001b[0;32mIn[130], line 1\u001b[0;36m\u001b[0m\n\u001b[0;31m    // this is a code to find a sum\u001b[0m\n\u001b[0m    ^\u001b[0m\n\u001b[0;31mSyntaxError\u001b[0m\u001b[0;31m:\u001b[0m invalid syntax\n"
     ]
    }
   ],
   "source": [
    "// this is a code to find a sum"
   ]
  },
  {
   "cell_type": "code",
   "execution_count": 131,
   "id": "a7d39a8f-9d40-4df2-b16e-4ab3ef37dea8",
   "metadata": {},
   "outputs": [],
   "source": [
    "## this is a code line which is comment"
   ]
  },
  {
   "cell_type": "code",
   "execution_count": 132,
   "id": "b532a2af-43be-4193-b591-8baba30294e1",
   "metadata": {},
   "outputs": [
    {
     "name": "stdout",
     "output_type": "stream",
     "text": [
      "amishkrsingh\n"
     ]
    }
   ],
   "source": [
    "# this is a multiline code\n",
    "# hello this still continues\n",
    "# and again it continues\n",
    "print(a)"
   ]
  },
  {
   "cell_type": "code",
   "execution_count": 1,
   "id": "4ea420fe-ba8e-46ba-84e2-6acfe02a8b20",
   "metadata": {},
   "outputs": [
    {
     "ename": "NameError",
     "evalue": "name 'a' is not defined",
     "output_type": "error",
     "traceback": [
      "\u001b[0;31m---------------------------------------------------------------------------\u001b[0m",
      "\u001b[0;31mNameError\u001b[0m                                 Traceback (most recent call last)",
      "Cell \u001b[0;32mIn[1], line 1\u001b[0m\n\u001b[0;32m----> 1\u001b[0m \u001b[43ma\u001b[49m\n",
      "\u001b[0;31mNameError\u001b[0m: name 'a' is not defined"
     ]
    }
   ],
   "source": [
    "a\n"
   ]
  },
  {
   "cell_type": "code",
   "execution_count": 2,
   "id": "4017d6f0-95e5-4ce3-bebb-84d17e9c984e",
   "metadata": {},
   "outputs": [
    {
     "ename": "NameError",
     "evalue": "name 's' is not defined",
     "output_type": "error",
     "traceback": [
      "\u001b[0;31m---------------------------------------------------------------------------\u001b[0m",
      "\u001b[0;31mNameError\u001b[0m                                 Traceback (most recent call last)",
      "Cell \u001b[0;32mIn[2], line 1\u001b[0m\n\u001b[0;32m----> 1\u001b[0m \u001b[43ms\u001b[49m\n",
      "\u001b[0;31mNameError\u001b[0m: name 's' is not defined"
     ]
    }
   ],
   "source": [
    "s"
   ]
  },
  {
   "cell_type": "code",
   "execution_count": 3,
   "id": "a33d44bb-8076-432d-97cc-cc5df99c54ce",
   "metadata": {},
   "outputs": [],
   "source": [
    "a=\"amish kr singh\"\n"
   ]
  },
  {
   "cell_type": "code",
   "execution_count": 4,
   "id": "4c6e377f-4c79-4cce-b48e-d22d488ad416",
   "metadata": {},
   "outputs": [],
   "source": [
    "s=\"this is my first python class\""
   ]
  },
  {
   "cell_type": "code",
   "execution_count": 5,
   "id": "13a3d708-9cc3-417e-9079-c16cdee8bab5",
   "metadata": {},
   "outputs": [
    {
     "data": {
      "text/plain": [
       "'amish kr singh'"
      ]
     },
     "execution_count": 5,
     "metadata": {},
     "output_type": "execute_result"
    }
   ],
   "source": [
    "a"
   ]
  },
  {
   "cell_type": "code",
   "execution_count": 6,
   "id": "9a3392e7-8998-4c83-894e-dd177bcdcd14",
   "metadata": {},
   "outputs": [
    {
     "data": {
      "text/plain": [
       "'this is my first python class'"
      ]
     },
     "execution_count": 6,
     "metadata": {},
     "output_type": "execute_result"
    }
   ],
   "source": [
    "s"
   ]
  },
  {
   "cell_type": "code",
   "execution_count": null,
   "id": "f4c13687-5efd-423c-bf37-eaf41ffff3c5",
   "metadata": {},
   "outputs": [],
   "source": []
  }
 ],
 "metadata": {
  "kernelspec": {
   "display_name": "Python 3 (ipykernel)",
   "language": "python",
   "name": "python3"
  },
  "language_info": {
   "codemirror_mode": {
    "name": "ipython",
    "version": 3
   },
   "file_extension": ".py",
   "mimetype": "text/x-python",
   "name": "python",
   "nbconvert_exporter": "python",
   "pygments_lexer": "ipython3",
   "version": "3.10.8"
  }
 },
 "nbformat": 4,
 "nbformat_minor": 5
}
