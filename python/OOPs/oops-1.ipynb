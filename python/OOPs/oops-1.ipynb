{
 "cells": [
  {
   "cell_type": "code",
   "execution_count": 1,
   "id": "68effd74-8db5-42c4-9221-cd42068d1017",
   "metadata": {},
   "outputs": [],
   "source": [
    "a=1\n"
   ]
  },
  {
   "cell_type": "code",
   "execution_count": 2,
   "id": "be587f5c-5cb4-46e5-87e3-d22d4951c48d",
   "metadata": {},
   "outputs": [
    {
     "name": "stdout",
     "output_type": "stream",
     "text": [
      "<class 'int'>\n"
     ]
    }
   ],
   "source": [
    "print(type(a))"
   ]
  },
  {
   "cell_type": "code",
   "execution_count": 3,
   "id": "fcf95156-e03c-453f-a4c6-9b7581bc7967",
   "metadata": {},
   "outputs": [
    {
     "name": "stdout",
     "output_type": "stream",
     "text": [
      "<class 'str'>\n"
     ]
    }
   ],
   "source": [
    "print(type(\"amish\"))"
   ]
  },
  {
   "cell_type": "code",
   "execution_count": 4,
   "id": "36885a5e-5e86-423c-9d48-52ad9ad30664",
   "metadata": {},
   "outputs": [],
   "source": [
    "## class is used to represent a real world entity\n",
    "## it has properties and functionalities associated with them\n",
    "\n",
    "## object are instance of classes that actually represent the real world entity\n",
    "## helps to structure code "
   ]
  },
  {
   "cell_type": "code",
   "execution_count": 5,
   "id": "3426cd4b-42bf-4f69-9dbe-58d8429a35ff",
   "metadata": {},
   "outputs": [
    {
     "ename": "SyntaxError",
     "evalue": "incomplete input (3527747674.py, line 1)",
     "output_type": "error",
     "traceback": [
      "\u001b[0;36m  Cell \u001b[0;32mIn[5], line 1\u001b[0;36m\u001b[0m\n\u001b[0;31m    class test:\u001b[0m\n\u001b[0m               ^\u001b[0m\n\u001b[0;31mSyntaxError\u001b[0m\u001b[0;31m:\u001b[0m incomplete input\n"
     ]
    }
   ],
   "source": [
    "class test:"
   ]
  },
  {
   "cell_type": "code",
   "execution_count": 6,
   "id": "8da60362-6dbc-4261-831b-6ae65a2b2f3f",
   "metadata": {},
   "outputs": [],
   "source": [
    "class test:\n",
    "    pass"
   ]
  },
  {
   "cell_type": "code",
   "execution_count": 7,
   "id": "cb468097-009e-4a9e-80ea-c9badadb9665",
   "metadata": {},
   "outputs": [
    {
     "data": {
      "text/plain": [
       "<__main__.test at 0x7f83531273a0>"
      ]
     },
     "execution_count": 7,
     "metadata": {},
     "output_type": "execute_result"
    }
   ],
   "source": [
    "test()"
   ]
  },
  {
   "cell_type": "code",
   "execution_count": 8,
   "id": "2b9a7526-240c-4451-8a9a-7e88e3cb9cee",
   "metadata": {},
   "outputs": [
    {
     "data": {
      "text/plain": [
       "__main__.test"
      ]
     },
     "execution_count": 8,
     "metadata": {},
     "output_type": "execute_result"
    }
   ],
   "source": [
    "test\n"
   ]
  },
  {
   "cell_type": "code",
   "execution_count": 9,
   "id": "6dffff3d-0119-4a08-9b13-3b93ae48f4cb",
   "metadata": {},
   "outputs": [
    {
     "ename": "SyntaxError",
     "evalue": "invalid syntax (687889180.py, line 1)",
     "output_type": "error",
     "traceback": [
      "\u001b[0;36m  Cell \u001b[0;32mIn[9], line 1\u001b[0;36m\u001b[0m\n\u001b[0;31m    test t1\u001b[0m\n\u001b[0m         ^\u001b[0m\n\u001b[0;31mSyntaxError\u001b[0m\u001b[0;31m:\u001b[0m invalid syntax\n"
     ]
    }
   ],
   "source": [
    "test t1"
   ]
  },
  {
   "cell_type": "code",
   "execution_count": 10,
   "id": "c5a893e6-9262-4382-beaf-faf069cb678e",
   "metadata": {},
   "outputs": [
    {
     "ename": "SyntaxError",
     "evalue": "invalid syntax (859333816.py, line 1)",
     "output_type": "error",
     "traceback": [
      "\u001b[0;36m  Cell \u001b[0;32mIn[10], line 1\u001b[0;36m\u001b[0m\n\u001b[0;31m    test t\u001b[0m\n\u001b[0m         ^\u001b[0m\n\u001b[0;31mSyntaxError\u001b[0m\u001b[0;31m:\u001b[0m invalid syntax\n"
     ]
    }
   ],
   "source": [
    "test t"
   ]
  },
  {
   "cell_type": "code",
   "execution_count": 11,
   "id": "3707f3e5-84af-4a67-aa84-cbcf987ee765",
   "metadata": {},
   "outputs": [],
   "source": [
    "a=test()"
   ]
  },
  {
   "cell_type": "code",
   "execution_count": 12,
   "id": "782cc841-783e-47e8-b042-ef201105d3ab",
   "metadata": {},
   "outputs": [
    {
     "data": {
      "text/plain": [
       "__main__.test"
      ]
     },
     "execution_count": 12,
     "metadata": {},
     "output_type": "execute_result"
    }
   ],
   "source": [
    "type(a)"
   ]
  },
  {
   "cell_type": "code",
   "execution_count": 13,
   "id": "6f6f0e92-9740-405b-9b84-2b455bf07675",
   "metadata": {},
   "outputs": [
    {
     "name": "stdout",
     "output_type": "stream",
     "text": [
      "<class 'type'>\n"
     ]
    }
   ],
   "source": [
    "print(type(test))"
   ]
  },
  {
   "cell_type": "code",
   "execution_count": 27,
   "id": "4f950fe0-0a54-48d8-b033-6e07c37cac41",
   "metadata": {},
   "outputs": [],
   "source": [
    "class pwskills:\n",
    "    \n",
    "    ## any function defined must be linked to the class otherwise it wont be used outside the class\n",
    "    def welcome_message(self):\n",
    "        print(\"welcome to pwskills\")\n",
    "    "
   ]
  },
  {
   "cell_type": "code",
   "execution_count": 28,
   "id": "3c1f75da-3066-4b98-9e9b-cb79d3755908",
   "metadata": {},
   "outputs": [],
   "source": [
    "rohan=pwskills()"
   ]
  },
  {
   "cell_type": "code",
   "execution_count": 29,
   "id": "d5a0df0f-a5a4-44df-8bc1-9219cc322f15",
   "metadata": {},
   "outputs": [
    {
     "name": "stdout",
     "output_type": "stream",
     "text": [
      "welcome to pwskills\n"
     ]
    }
   ],
   "source": [
    "rohan.welcome_message()"
   ]
  },
  {
   "cell_type": "code",
   "execution_count": 17,
   "id": "6091ba07-c697-4277-adf7-c580e8c18961",
   "metadata": {},
   "outputs": [
    {
     "data": {
      "text/plain": [
       "<bound method pwskills.welcome_message of <__main__.pwskills object at 0x7f8353125660>>"
      ]
     },
     "execution_count": 17,
     "metadata": {},
     "output_type": "execute_result"
    }
   ],
   "source": [
    "rohan.welcome_message"
   ]
  },
  {
   "cell_type": "code",
   "execution_count": 18,
   "id": "a295b780-911d-4746-8d84-dec63ab25a2a",
   "metadata": {},
   "outputs": [
    {
     "name": "stdout",
     "output_type": "stream",
     "text": [
      "<class '__main__.pwskills'>\n"
     ]
    }
   ],
   "source": [
    "print(type(rohan))"
   ]
  },
  {
   "cell_type": "code",
   "execution_count": 19,
   "id": "24eb4058-3bf3-4f8b-835f-fcffbdf07916",
   "metadata": {},
   "outputs": [
    {
     "ename": "TypeError",
     "evalue": "pwskills.welcome_message() takes 0 positional arguments but 1 was given",
     "output_type": "error",
     "traceback": [
      "\u001b[0;31m---------------------------------------------------------------------------\u001b[0m",
      "\u001b[0;31mTypeError\u001b[0m                                 Traceback (most recent call last)",
      "Cell \u001b[0;32mIn[19], line 1\u001b[0m\n\u001b[0;32m----> 1\u001b[0m \u001b[43mrohan\u001b[49m\u001b[38;5;241;43m.\u001b[39;49m\u001b[43mwelcome_message\u001b[49m\u001b[43m(\u001b[49m\u001b[43m)\u001b[49m\n",
      "\u001b[0;31mTypeError\u001b[0m: pwskills.welcome_message() takes 0 positional arguments but 1 was given"
     ]
    }
   ],
   "source": [
    "rohan.welcome_message()"
   ]
  },
  {
   "cell_type": "code",
   "execution_count": 24,
   "id": "d8c31167-5e67-4e00-930e-1fc93e8b3fcc",
   "metadata": {},
   "outputs": [
    {
     "data": {
      "text/plain": [
       "<__main__.pwskills at 0x7f834147e860>"
      ]
     },
     "execution_count": 24,
     "metadata": {},
     "output_type": "execute_result"
    }
   ],
   "source": [
    "rohan"
   ]
  },
  {
   "cell_type": "code",
   "execution_count": 30,
   "id": "11d76ff4-4cb5-4554-9ad9-9fe97b69878f",
   "metadata": {},
   "outputs": [],
   "source": [
    "gaurav=pwskills()"
   ]
  },
  {
   "cell_type": "code",
   "execution_count": 31,
   "id": "bc50dcf2-973f-4dbf-897e-0bec4cec2b3c",
   "metadata": {},
   "outputs": [
    {
     "name": "stdout",
     "output_type": "stream",
     "text": [
      "welcome to pwskills\n"
     ]
    }
   ],
   "source": [
    "gaurav.welcome_message()"
   ]
  },
  {
   "cell_type": "code",
   "execution_count": 2,
   "id": "06de1653-3868-4ac9-8730-13986c093413",
   "metadata": {},
   "outputs": [],
   "source": [
    "class student1:\n",
    "    ## constructor\n",
    "    def __init__(self,phone_number,email,student_id):\n",
    "        print(\"constructor called\")\n",
    "        self.phone_number=phone_number\n",
    "        self.email=email\n",
    "        self.student_id=student_id\n",
    "    \n",
    "    \n",
    "    def student_details(self):\n",
    "        return self.student_id,self.email,self.phone_number"
   ]
  },
  {
   "cell_type": "code",
   "execution_count": 33,
   "id": "225d9c2d-53f3-4086-a340-4b18e59af55d",
   "metadata": {},
   "outputs": [
    {
     "ename": "NameError",
     "evalue": "name 'gmail' is not defined",
     "output_type": "error",
     "traceback": [
      "\u001b[0;31m---------------------------------------------------------------------------\u001b[0m",
      "\u001b[0;31mNameError\u001b[0m                                 Traceback (most recent call last)",
      "Cell \u001b[0;32mIn[33], line 1\u001b[0m\n\u001b[0;32m----> 1\u001b[0m rohan\u001b[38;5;241m=\u001b[39mstudent1(\u001b[38;5;241m544345\u001b[39m,rohan\u001b[38;5;129m@gmail\u001b[39m\u001b[38;5;241m.\u001b[39mcom,\u001b[38;5;241m2\u001b[39m)\n",
      "\u001b[0;31mNameError\u001b[0m: name 'gmail' is not defined"
     ]
    }
   ],
   "source": [
    "rohan=student1(544345,rohan@gmail.com,2)"
   ]
  },
  {
   "cell_type": "code",
   "execution_count": 34,
   "id": "2296fc40-014d-41cf-af18-7f9dc0c573f6",
   "metadata": {},
   "outputs": [
    {
     "ename": "TypeError",
     "evalue": "student1.__init__() missing 3 required positional arguments: 'phone_number', 'email', and 'student_id'",
     "output_type": "error",
     "traceback": [
      "\u001b[0;31m---------------------------------------------------------------------------\u001b[0m",
      "\u001b[0;31mTypeError\u001b[0m                                 Traceback (most recent call last)",
      "Cell \u001b[0;32mIn[34], line 1\u001b[0m\n\u001b[0;32m----> 1\u001b[0m rohan\u001b[38;5;241m=\u001b[39m\u001b[43mstudent1\u001b[49m\u001b[43m(\u001b[49m\u001b[43m)\u001b[49m\n",
      "\u001b[0;31mTypeError\u001b[0m: student1.__init__() missing 3 required positional arguments: 'phone_number', 'email', and 'student_id'"
     ]
    }
   ],
   "source": [
    "rohan=student1()"
   ]
  },
  {
   "cell_type": "code",
   "execution_count": 4,
   "id": "dc3705cd-1513-4b78-9528-30b5574ac959",
   "metadata": {},
   "outputs": [
    {
     "name": "stdout",
     "output_type": "stream",
     "text": [
      "constructor called\n"
     ]
    }
   ],
   "source": [
    "rohan=student1(12333,\"rohan@gmail.com\",101)"
   ]
  },
  {
   "cell_type": "code",
   "execution_count": 5,
   "id": "3114003f-26be-4094-8477-418a3647d9d3",
   "metadata": {},
   "outputs": [
    {
     "data": {
      "text/plain": [
       "(101, 'rohan@gmail.com', 12333)"
      ]
     },
     "execution_count": 5,
     "metadata": {},
     "output_type": "execute_result"
    }
   ],
   "source": [
    "rohan.student_details()"
   ]
  },
  {
   "cell_type": "code",
   "execution_count": 6,
   "id": "8ed171a7-9f2e-4a46-baac-e143cc754cdd",
   "metadata": {},
   "outputs": [
    {
     "name": "stdout",
     "output_type": "stream",
     "text": [
      "constructor called\n"
     ]
    }
   ],
   "source": [
    "gaurav=student1(14333322,\"gaurav@gmail.com\",102)"
   ]
  },
  {
   "cell_type": "code",
   "execution_count": 7,
   "id": "1a9d3faa-a5c8-498b-befe-840d8dd17088",
   "metadata": {},
   "outputs": [
    {
     "data": {
      "text/plain": [
       "(102, 'gaurav@gmail.com', 14333322)"
      ]
     },
     "execution_count": 7,
     "metadata": {},
     "output_type": "execute_result"
    }
   ],
   "source": [
    "gaurav.student_details()"
   ]
  },
  {
   "cell_type": "code",
   "execution_count": 8,
   "id": "39ff01ab-e608-4bac-b490-80a1041de7c1",
   "metadata": {},
   "outputs": [
    {
     "ename": "NameError",
     "evalue": "name 'gaurab' is not defined",
     "output_type": "error",
     "traceback": [
      "\u001b[0;31m---------------------------------------------------------------------------\u001b[0m",
      "\u001b[0;31mNameError\u001b[0m                                 Traceback (most recent call last)",
      "Cell \u001b[0;32mIn[8], line 1\u001b[0m\n\u001b[0;32m----> 1\u001b[0m \u001b[43mgaurab\u001b[49m\u001b[38;5;241m.\u001b[39memail\n",
      "\u001b[0;31mNameError\u001b[0m: name 'gaurab' is not defined"
     ]
    }
   ],
   "source": [
    "gaurab.email"
   ]
  },
  {
   "cell_type": "code",
   "execution_count": 9,
   "id": "57e5b6a1-47b8-4b81-bd7b-fa0f72eb6c7b",
   "metadata": {},
   "outputs": [
    {
     "data": {
      "text/plain": [
       "'gaurav@gmail.com'"
      ]
     },
     "execution_count": 9,
     "metadata": {},
     "output_type": "execute_result"
    }
   ],
   "source": [
    "gaurav.email"
   ]
  },
  {
   "cell_type": "code",
   "execution_count": 10,
   "id": "eadc3e41-3a0e-4074-8235-fbd106b93653",
   "metadata": {},
   "outputs": [
    {
     "data": {
      "text/plain": [
       "14333322"
      ]
     },
     "execution_count": 10,
     "metadata": {},
     "output_type": "execute_result"
    }
   ],
   "source": [
    "gaurav.phone_number"
   ]
  },
  {
   "cell_type": "code",
   "execution_count": 11,
   "id": "e2a0ad76-59e8-4bdd-80e4-c29d51357ba6",
   "metadata": {},
   "outputs": [
    {
     "data": {
      "text/plain": [
       "102"
      ]
     },
     "execution_count": 11,
     "metadata": {},
     "output_type": "execute_result"
    }
   ],
   "source": [
    "gaurav.student_id\n"
   ]
  },
  {
   "cell_type": "code",
   "execution_count": 19,
   "id": "53dbdede-c01a-4427-a93f-88a2a9409deb",
   "metadata": {},
   "outputs": [],
   "source": [
    "class student2:\n",
    "    ## constructor\n",
    "    def __init__(self,phone_number,email,student_id):\n",
    "        print(\"constructor called\")\n",
    "        self.phone_number1=phone_number\n",
    "        self.email1=email\n",
    "        self.student_id1=student_id\n",
    "    \n",
    "    \n",
    "    def student_details(self):\n",
    "        print(self)\n",
    "        return self.student_id1,self.email1,self.phone_number1"
   ]
  },
  {
   "cell_type": "code",
   "execution_count": 21,
   "id": "75aa103f-5d6c-4262-a06e-57db838df3a1",
   "metadata": {},
   "outputs": [
    {
     "name": "stdout",
     "output_type": "stream",
     "text": [
      "constructor called\n"
     ]
    }
   ],
   "source": [
    "satish=student2(1433333,\"satish@gmail.com\",149)"
   ]
  },
  {
   "cell_type": "code",
   "execution_count": 23,
   "id": "c5283c6c-d81f-45ed-a446-202a70818c50",
   "metadata": {},
   "outputs": [
    {
     "data": {
      "text/plain": [
       "1433333"
      ]
     },
     "execution_count": 23,
     "metadata": {},
     "output_type": "execute_result"
    }
   ],
   "source": [
    "satish.phone_number1"
   ]
  },
  {
   "cell_type": "code",
   "execution_count": 24,
   "id": "89fbcaa7-a5d4-43bd-b684-572ee1ab86f4",
   "metadata": {},
   "outputs": [
    {
     "data": {
      "text/plain": [
       "1433333"
      ]
     },
     "execution_count": 24,
     "metadata": {},
     "output_type": "execute_result"
    }
   ],
   "source": [
    "satish.phone_number1"
   ]
  },
  {
   "cell_type": "code",
   "execution_count": 25,
   "id": "935173f6-94e5-4360-ab67-0f984978b81b",
   "metadata": {},
   "outputs": [
    {
     "name": "stdout",
     "output_type": "stream",
     "text": [
      "<__main__.student2 object at 0x7fd3dc70ab60>\n"
     ]
    },
    {
     "data": {
      "text/plain": [
       "(149, 'satish@gmail.com', 1433333)"
      ]
     },
     "execution_count": 25,
     "metadata": {},
     "output_type": "execute_result"
    }
   ],
   "source": [
    "satish.student_details()"
   ]
  },
  {
   "cell_type": "code",
   "execution_count": 26,
   "id": "e9b63ce5-f23b-4818-85ba-1ec6ce3215d7",
   "metadata": {},
   "outputs": [
    {
     "data": {
      "text/plain": [
       "<__main__.student2 at 0x7fd3dc70ab60>"
      ]
     },
     "execution_count": 26,
     "metadata": {},
     "output_type": "execute_result"
    }
   ],
   "source": [
    "satish"
   ]
  },
  {
   "cell_type": "code",
   "execution_count": null,
   "id": "c8bb7c98-2a4e-40fe-b431-ea4244fbc1c1",
   "metadata": {},
   "outputs": [],
   "source": []
  }
 ],
 "metadata": {
  "kernelspec": {
   "display_name": "Python 3 (ipykernel)",
   "language": "python",
   "name": "python3"
  },
  "language_info": {
   "codemirror_mode": {
    "name": "ipython",
    "version": 3
   },
   "file_extension": ".py",
   "mimetype": "text/x-python",
   "name": "python",
   "nbconvert_exporter": "python",
   "pygments_lexer": "ipython3",
   "version": "3.10.8"
  }
 },
 "nbformat": 4,
 "nbformat_minor": 5
}
