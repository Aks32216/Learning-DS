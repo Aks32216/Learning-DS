{
 "cells": [
  {
   "cell_type": "code",
   "execution_count": 24,
   "id": "a2ffdb04",
   "metadata": {},
   "outputs": [],
   "source": [
    "## instance variable and methods\n",
    "\n",
    "## instance variables are variables associated with particular object\n",
    "## they have different value for different object and each object has separate copy of them\n",
    "## instance variable are not shared\n",
    "## if any change is made to a instance variable then that is localised to that particular object and any other object instance variable are not affected by it\n",
    "\n",
    "\n",
    "## instance methods are the one which act on the instance variables of the object\n",
    "## it takes self as one of the argument so that it can work upon instance variable easily"
   ]
  },
  {
   "cell_type": "code",
   "execution_count": 26,
   "id": "0c6ebc6d",
   "metadata": {},
   "outputs": [],
   "source": [
    "class Student:\n",
    "    def __init__(self,name,marks):\n",
    "        self.name=name\n",
    "        self.marks=marks\n",
    "    \n",
    "    def display(self):\n",
    "        print(f\"{self.name} and {self.marks}\")\n",
    "        \n",
    "    def change():\n",
    "        pass"
   ]
  },
  {
   "cell_type": "code",
   "execution_count": 27,
   "id": "618c7c23",
   "metadata": {},
   "outputs": [],
   "source": [
    "std1=Student(\"Akshay\",89)"
   ]
  },
  {
   "cell_type": "code",
   "execution_count": 28,
   "id": "ad04d737",
   "metadata": {},
   "outputs": [],
   "source": [
    "std2=Student(\"Jay\",94)"
   ]
  },
  {
   "cell_type": "code",
   "execution_count": 29,
   "id": "83a9a253",
   "metadata": {},
   "outputs": [],
   "source": [
    "std3=Student(\"Ram\",91)"
   ]
  },
  {
   "cell_type": "code",
   "execution_count": 7,
   "id": "14655fda",
   "metadata": {},
   "outputs": [],
   "source": [
    "setattr(std1,\"phone\",98958)"
   ]
  },
  {
   "cell_type": "code",
   "execution_count": 8,
   "id": "6ba6b3a4",
   "metadata": {},
   "outputs": [
    {
     "data": {
      "text/plain": [
       "{'name': 'Akshay', 'marks': 89, 'phone': 98958}"
      ]
     },
     "execution_count": 8,
     "metadata": {},
     "output_type": "execute_result"
    }
   ],
   "source": [
    "std1.__dict__"
   ]
  },
  {
   "cell_type": "code",
   "execution_count": 9,
   "id": "8c2f7b94",
   "metadata": {},
   "outputs": [
    {
     "data": {
      "text/plain": [
       "{'name': 'Jay', 'marks': 94}"
      ]
     },
     "execution_count": 9,
     "metadata": {},
     "output_type": "execute_result"
    }
   ],
   "source": [
    "std2.__dict__"
   ]
  },
  {
   "cell_type": "code",
   "execution_count": 10,
   "id": "aa295967",
   "metadata": {},
   "outputs": [
    {
     "data": {
      "text/plain": [
       "__main__.Student"
      ]
     },
     "execution_count": 10,
     "metadata": {},
     "output_type": "execute_result"
    }
   ],
   "source": [
    "type(std1)"
   ]
  },
  {
   "cell_type": "code",
   "execution_count": 11,
   "id": "bdede6e7",
   "metadata": {},
   "outputs": [],
   "source": [
    "std1.sec=4"
   ]
  },
  {
   "cell_type": "code",
   "execution_count": 12,
   "id": "2ee2e111",
   "metadata": {},
   "outputs": [
    {
     "data": {
      "text/plain": [
       "{'name': 'Akshay', 'marks': 89, 'phone': 98958, 'sec': 4}"
      ]
     },
     "execution_count": 12,
     "metadata": {},
     "output_type": "execute_result"
    }
   ],
   "source": [
    "std1.__dict__"
   ]
  },
  {
   "cell_type": "code",
   "execution_count": 13,
   "id": "f3744726",
   "metadata": {},
   "outputs": [],
   "source": [
    "del std1.phone"
   ]
  },
  {
   "cell_type": "code",
   "execution_count": 14,
   "id": "ca2b1d8a",
   "metadata": {},
   "outputs": [
    {
     "data": {
      "text/plain": [
       "{'name': 'Akshay', 'marks': 89, 'sec': 4}"
      ]
     },
     "execution_count": 14,
     "metadata": {},
     "output_type": "execute_result"
    }
   ],
   "source": [
    "std1.__dict__"
   ]
  },
  {
   "cell_type": "code",
   "execution_count": 21,
   "id": "1796e8d9",
   "metadata": {},
   "outputs": [
    {
     "name": "stdout",
     "output_type": "stream",
     "text": [
      "Akshay and 89\n"
     ]
    }
   ],
   "source": [
    "std1.display()"
   ]
  },
  {
   "cell_type": "code",
   "execution_count": 22,
   "id": "e412af67",
   "metadata": {},
   "outputs": [
    {
     "name": "stdout",
     "output_type": "stream",
     "text": [
      "Jay and 94\n"
     ]
    }
   ],
   "source": [
    "std2.display()"
   ]
  },
  {
   "cell_type": "code",
   "execution_count": 23,
   "id": "89f2605a",
   "metadata": {},
   "outputs": [
    {
     "name": "stdout",
     "output_type": "stream",
     "text": [
      "Ram and 91\n"
     ]
    }
   ],
   "source": [
    "std3.display()"
   ]
  },
  {
   "cell_type": "code",
   "execution_count": 30,
   "id": "f98ac3ec",
   "metadata": {},
   "outputs": [
    {
     "data": {
      "text/plain": [
       "method"
      ]
     },
     "execution_count": 30,
     "metadata": {},
     "output_type": "execute_result"
    }
   ],
   "source": [
    "type(std1.display)"
   ]
  },
  {
   "cell_type": "code",
   "execution_count": 31,
   "id": "a5b50c44",
   "metadata": {},
   "outputs": [
    {
     "data": {
      "text/plain": [
       "method"
      ]
     },
     "execution_count": 31,
     "metadata": {},
     "output_type": "execute_result"
    }
   ],
   "source": [
    "type(std1.change)"
   ]
  },
  {
   "cell_type": "code",
   "execution_count": 47,
   "id": "9231a1b8",
   "metadata": {},
   "outputs": [],
   "source": [
    "## class variables and class methods\n",
    "\n",
    "## class varialbe are the ones which are meant for entire class\n",
    "## only one copy is made and each object shares the variable\n",
    "## to acess it only class name is used \n",
    "## if varible name is accessed using object then an instance variable would be created\n",
    "## to change it only class name.variable name can be used to change it\n",
    "\n",
    "## class methods work only on class variable\n",
    "## its first argument is class reference \"cls\" variable is used to pass class reference\n",
    "## to denote that it is a class method @classmethod decorator needs to be used"
   ]
  },
  {
   "cell_type": "code",
   "execution_count": 62,
   "id": "8728df59",
   "metadata": {},
   "outputs": [],
   "source": [
    "class Employee:\n",
    "    company=\"Toyota\"\n",
    "    \n",
    "    def __init__(self,name,salary):\n",
    "        self.name=name\n",
    "        self.salary=salary\n",
    "        \n",
    "    @classmethod\n",
    "    def getCompanyName(cls):\n",
    "        cls.company=\"microsoft\"\n",
    "        print(cls.company)\n",
    "        \n",
    "    def display(self):\n",
    "        print(f\"{self.name} works for {company} with a {self.salary}\")"
   ]
  },
  {
   "cell_type": "code",
   "execution_count": 63,
   "id": "65c31f89",
   "metadata": {},
   "outputs": [],
   "source": [
    "e1=Employee(\"jay\",22000)\n",
    "e2=Employee(\"vijay\",15000)"
   ]
  },
  {
   "cell_type": "code",
   "execution_count": 36,
   "id": "b343352a",
   "metadata": {},
   "outputs": [
    {
     "data": {
      "text/plain": [
       "'Toyota'"
      ]
     },
     "execution_count": 36,
     "metadata": {},
     "output_type": "execute_result"
    }
   ],
   "source": [
    "Employee.company ## class variable"
   ]
  },
  {
   "cell_type": "code",
   "execution_count": 37,
   "id": "80d030ce",
   "metadata": {},
   "outputs": [
    {
     "data": {
      "text/plain": [
       "'Toyota'"
      ]
     },
     "execution_count": 37,
     "metadata": {},
     "output_type": "execute_result"
    }
   ],
   "source": [
    "e1.company "
   ]
  },
  {
   "cell_type": "code",
   "execution_count": 38,
   "id": "eefb3f4c",
   "metadata": {},
   "outputs": [
    {
     "data": {
      "text/plain": [
       "{'name': 'jay', 'salary': 22000}"
      ]
     },
     "execution_count": 38,
     "metadata": {},
     "output_type": "execute_result"
    }
   ],
   "source": [
    "e1.__dict__"
   ]
  },
  {
   "cell_type": "code",
   "execution_count": 39,
   "id": "f5047c31",
   "metadata": {},
   "outputs": [],
   "source": [
    "Employee.company=\"microsoft\""
   ]
  },
  {
   "cell_type": "code",
   "execution_count": 40,
   "id": "2281043f",
   "metadata": {},
   "outputs": [
    {
     "data": {
      "text/plain": [
       "'microsoft'"
      ]
     },
     "execution_count": 40,
     "metadata": {},
     "output_type": "execute_result"
    }
   ],
   "source": [
    "Employee.company"
   ]
  },
  {
   "cell_type": "code",
   "execution_count": 41,
   "id": "3cf2aa7c",
   "metadata": {},
   "outputs": [
    {
     "data": {
      "text/plain": [
       "'microsoft'"
      ]
     },
     "execution_count": 41,
     "metadata": {},
     "output_type": "execute_result"
    }
   ],
   "source": [
    "e1.company"
   ]
  },
  {
   "cell_type": "code",
   "execution_count": 42,
   "id": "361d8b47",
   "metadata": {},
   "outputs": [],
   "source": [
    "e1.company=\"amazon\""
   ]
  },
  {
   "cell_type": "code",
   "execution_count": 43,
   "id": "ab666c1d",
   "metadata": {},
   "outputs": [
    {
     "data": {
      "text/plain": [
       "{'name': 'jay', 'salary': 22000, 'company': 'amazon'}"
      ]
     },
     "execution_count": 43,
     "metadata": {},
     "output_type": "execute_result"
    }
   ],
   "source": [
    "e1.__dict__"
   ]
  },
  {
   "cell_type": "code",
   "execution_count": 44,
   "id": "0709256d",
   "metadata": {},
   "outputs": [
    {
     "data": {
      "text/plain": [
       "'microsoft'"
      ]
     },
     "execution_count": 44,
     "metadata": {},
     "output_type": "execute_result"
    }
   ],
   "source": [
    "Employee.company"
   ]
  },
  {
   "cell_type": "code",
   "execution_count": 45,
   "id": "03d31e55",
   "metadata": {},
   "outputs": [
    {
     "data": {
      "text/plain": [
       "'amazon'"
      ]
     },
     "execution_count": 45,
     "metadata": {},
     "output_type": "execute_result"
    }
   ],
   "source": [
    "e1.company"
   ]
  },
  {
   "cell_type": "code",
   "execution_count": 46,
   "id": "1ee1bb54",
   "metadata": {},
   "outputs": [
    {
     "data": {
      "text/plain": [
       "'microsoft'"
      ]
     },
     "execution_count": 46,
     "metadata": {},
     "output_type": "execute_result"
    }
   ],
   "source": [
    "e2.company"
   ]
  },
  {
   "cell_type": "code",
   "execution_count": 50,
   "id": "86a53b4d",
   "metadata": {},
   "outputs": [],
   "source": [
    "del e1.company"
   ]
  },
  {
   "cell_type": "code",
   "execution_count": 49,
   "id": "88da1684",
   "metadata": {},
   "outputs": [
    {
     "ename": "AttributeError",
     "evalue": "company",
     "output_type": "error",
     "traceback": [
      "\u001b[0;31m---------------------------------------------------------------------------\u001b[0m",
      "\u001b[0;31mAttributeError\u001b[0m                            Traceback (most recent call last)",
      "\u001b[0;32m/tmp/ipykernel_47340/3045245255.py\u001b[0m in \u001b[0;36m<module>\u001b[0;34m\u001b[0m\n\u001b[0;32m----> 1\u001b[0;31m \u001b[0mdelattr\u001b[0m\u001b[0;34m(\u001b[0m\u001b[0me2\u001b[0m\u001b[0;34m,\u001b[0m\u001b[0;34m\"company\"\u001b[0m\u001b[0;34m)\u001b[0m\u001b[0;34m\u001b[0m\u001b[0;34m\u001b[0m\u001b[0m\n\u001b[0m",
      "\u001b[0;31mAttributeError\u001b[0m: company"
     ]
    }
   ],
   "source": [
    "delattr(e2,\"company\")"
   ]
  },
  {
   "cell_type": "code",
   "execution_count": 51,
   "id": "5f803545",
   "metadata": {},
   "outputs": [
    {
     "data": {
      "text/plain": [
       "True"
      ]
     },
     "execution_count": 51,
     "metadata": {},
     "output_type": "execute_result"
    }
   ],
   "source": [
    "hasattr(e1,\"company\")"
   ]
  },
  {
   "cell_type": "code",
   "execution_count": 52,
   "id": "fe447d5c",
   "metadata": {},
   "outputs": [
    {
     "data": {
      "text/plain": [
       "'microsoft'"
      ]
     },
     "execution_count": 52,
     "metadata": {},
     "output_type": "execute_result"
    }
   ],
   "source": [
    "e1.company"
   ]
  },
  {
   "cell_type": "code",
   "execution_count": 56,
   "id": "1d7eb25c",
   "metadata": {},
   "outputs": [
    {
     "ename": "TypeError",
     "evalue": "getCompanyName() takes 0 positional arguments but 1 was given",
     "output_type": "error",
     "traceback": [
      "\u001b[0;31m---------------------------------------------------------------------------\u001b[0m",
      "\u001b[0;31mTypeError\u001b[0m                                 Traceback (most recent call last)",
      "\u001b[0;32m/tmp/ipykernel_47340/282362417.py\u001b[0m in \u001b[0;36m<module>\u001b[0;34m\u001b[0m\n\u001b[0;32m----> 1\u001b[0;31m \u001b[0me1\u001b[0m\u001b[0;34m.\u001b[0m\u001b[0mgetCompanyName\u001b[0m\u001b[0;34m(\u001b[0m\u001b[0;34m)\u001b[0m\u001b[0;34m\u001b[0m\u001b[0;34m\u001b[0m\u001b[0m\n\u001b[0m",
      "\u001b[0;31mTypeError\u001b[0m: getCompanyName() takes 0 positional arguments but 1 was given"
     ]
    }
   ],
   "source": [
    "e1.getCompanyName()"
   ]
  },
  {
   "cell_type": "code",
   "execution_count": 65,
   "id": "ed1cfa55",
   "metadata": {},
   "outputs": [
    {
     "name": "stdout",
     "output_type": "stream",
     "text": [
      "microsoft\n"
     ]
    }
   ],
   "source": [
    "e1.getCompanyName()"
   ]
  },
  {
   "cell_type": "code",
   "execution_count": 66,
   "id": "885db0d9",
   "metadata": {},
   "outputs": [
    {
     "name": "stdout",
     "output_type": "stream",
     "text": [
      "microsoft\n"
     ]
    }
   ],
   "source": [
    "Employee.getCompanyName()"
   ]
  },
  {
   "cell_type": "code",
   "execution_count": 67,
   "id": "9c25c814",
   "metadata": {},
   "outputs": [
    {
     "data": {
      "text/plain": [
       "method"
      ]
     },
     "execution_count": 67,
     "metadata": {},
     "output_type": "execute_result"
    }
   ],
   "source": [
    "type(Employee.getCompanyName)"
   ]
  },
  {
   "cell_type": "code",
   "execution_count": 68,
   "id": "c4f648be",
   "metadata": {},
   "outputs": [
    {
     "data": {
      "text/plain": [
       "{'name': 'jay', 'salary': 22000}"
      ]
     },
     "execution_count": 68,
     "metadata": {},
     "output_type": "execute_result"
    }
   ],
   "source": [
    "e1.__dict__\n"
   ]
  },
  {
   "cell_type": "code",
   "execution_count": null,
   "id": "ff0e1199",
   "metadata": {},
   "outputs": [],
   "source": []
  }
 ],
 "metadata": {
  "kernelspec": {
   "display_name": "Python 3 (ipykernel)",
   "language": "python",
   "name": "python3"
  },
  "language_info": {
   "codemirror_mode": {
    "name": "ipython",
    "version": 3
   },
   "file_extension": ".py",
   "mimetype": "text/x-python",
   "name": "python",
   "nbconvert_exporter": "python",
   "pygments_lexer": "ipython3",
   "version": "3.9.13"
  }
 },
 "nbformat": 4,
 "nbformat_minor": 5
}
