{
 "cells": [
  {
   "cell_type": "code",
   "execution_count": 24,
   "id": "a2ffdb04",
   "metadata": {},
   "outputs": [],
   "source": [
    "## instance variable and methods\n",
    "\n",
    "## instance variables are variables associated with particular object\n",
    "## they have different value for different object and each object has separate copy of them\n",
    "## instance variable are not shared\n",
    "## if any change is made to a instance variable then that is localised to that particular object and any other object instance variable are not affected by it\n",
    "\n",
    "\n",
    "## instance methods are the one which act on the instance variables of the object\n",
    "## it takes self as one of the argument so that it can work upon instance variable easily"
   ]
  },
  {
   "cell_type": "code",
   "execution_count": 26,
   "id": "0c6ebc6d",
   "metadata": {},
   "outputs": [],
   "source": [
    "class Student:\n",
    "    def __init__(self,name,marks):\n",
    "        self.name=name\n",
    "        self.marks=marks\n",
    "    \n",
    "    def display(self):\n",
    "        print(f\"{self.name} and {self.marks}\")\n",
    "        \n",
    "    def change():\n",
    "        pass"
   ]
  },
  {
   "cell_type": "code",
   "execution_count": 27,
   "id": "618c7c23",
   "metadata": {},
   "outputs": [],
   "source": [
    "std1=Student(\"Akshay\",89)"
   ]
  },
  {
   "cell_type": "code",
   "execution_count": 28,
   "id": "ad04d737",
   "metadata": {},
   "outputs": [],
   "source": [
    "std2=Student(\"Jay\",94)"
   ]
  },
  {
   "cell_type": "code",
   "execution_count": 29,
   "id": "83a9a253",
   "metadata": {},
   "outputs": [],
   "source": [
    "std3=Student(\"Ram\",91)"
   ]
  },
  {
   "cell_type": "code",
   "execution_count": 7,
   "id": "14655fda",
   "metadata": {},
   "outputs": [],
   "source": [
    "setattr(std1,\"phone\",98958)"
   ]
  },
  {
   "cell_type": "code",
   "execution_count": 8,
   "id": "6ba6b3a4",
   "metadata": {},
   "outputs": [
    {
     "data": {
      "text/plain": [
       "{'name': 'Akshay', 'marks': 89, 'phone': 98958}"
      ]
     },
     "execution_count": 8,
     "metadata": {},
     "output_type": "execute_result"
    }
   ],
   "source": [
    "std1.__dict__"
   ]
  },
  {
   "cell_type": "code",
   "execution_count": 9,
   "id": "8c2f7b94",
   "metadata": {},
   "outputs": [
    {
     "data": {
      "text/plain": [
       "{'name': 'Jay', 'marks': 94}"
      ]
     },
     "execution_count": 9,
     "metadata": {},
     "output_type": "execute_result"
    }
   ],
   "source": [
    "std2.__dict__"
   ]
  },
  {
   "cell_type": "code",
   "execution_count": 10,
   "id": "aa295967",
   "metadata": {},
   "outputs": [
    {
     "data": {
      "text/plain": [
       "__main__.Student"
      ]
     },
     "execution_count": 10,
     "metadata": {},
     "output_type": "execute_result"
    }
   ],
   "source": [
    "type(std1)"
   ]
  },
  {
   "cell_type": "code",
   "execution_count": 11,
   "id": "bdede6e7",
   "metadata": {},
   "outputs": [],
   "source": [
    "std1.sec=4"
   ]
  },
  {
   "cell_type": "code",
   "execution_count": 12,
   "id": "2ee2e111",
   "metadata": {},
   "outputs": [
    {
     "data": {
      "text/plain": [
       "{'name': 'Akshay', 'marks': 89, 'phone': 98958, 'sec': 4}"
      ]
     },
     "execution_count": 12,
     "metadata": {},
     "output_type": "execute_result"
    }
   ],
   "source": [
    "std1.__dict__"
   ]
  },
  {
   "cell_type": "code",
   "execution_count": 13,
   "id": "f3744726",
   "metadata": {},
   "outputs": [],
   "source": [
    "del std1.phone"
   ]
  },
  {
   "cell_type": "code",
   "execution_count": 14,
   "id": "ca2b1d8a",
   "metadata": {},
   "outputs": [
    {
     "data": {
      "text/plain": [
       "{'name': 'Akshay', 'marks': 89, 'sec': 4}"
      ]
     },
     "execution_count": 14,
     "metadata": {},
     "output_type": "execute_result"
    }
   ],
   "source": [
    "std1.__dict__"
   ]
  },
  {
   "cell_type": "code",
   "execution_count": 21,
   "id": "1796e8d9",
   "metadata": {},
   "outputs": [
    {
     "name": "stdout",
     "output_type": "stream",
     "text": [
      "Akshay and 89\n"
     ]
    }
   ],
   "source": [
    "std1.display()"
   ]
  },
  {
   "cell_type": "code",
   "execution_count": 22,
   "id": "e412af67",
   "metadata": {},
   "outputs": [
    {
     "name": "stdout",
     "output_type": "stream",
     "text": [
      "Jay and 94\n"
     ]
    }
   ],
   "source": [
    "std2.display()"
   ]
  },
  {
   "cell_type": "code",
   "execution_count": 23,
   "id": "89f2605a",
   "metadata": {},
   "outputs": [
    {
     "name": "stdout",
     "output_type": "stream",
     "text": [
      "Ram and 91\n"
     ]
    }
   ],
   "source": [
    "std3.display()"
   ]
  },
  {
   "cell_type": "code",
   "execution_count": 30,
   "id": "f98ac3ec",
   "metadata": {},
   "outputs": [
    {
     "data": {
      "text/plain": [
       "method"
      ]
     },
     "execution_count": 30,
     "metadata": {},
     "output_type": "execute_result"
    }
   ],
   "source": [
    "type(std1.display)"
   ]
  },
  {
   "cell_type": "code",
   "execution_count": 31,
   "id": "a5b50c44",
   "metadata": {},
   "outputs": [
    {
     "data": {
      "text/plain": [
       "method"
      ]
     },
     "execution_count": 31,
     "metadata": {},
     "output_type": "execute_result"
    }
   ],
   "source": [
    "type(std1.change)"
   ]
  },
  {
   "cell_type": "code",
   "execution_count": 47,
   "id": "9231a1b8",
   "metadata": {},
   "outputs": [],
   "source": [
    "## class variables and class methods\n",
    "\n",
    "## class varialbe are the ones which are meant for entire class\n",
    "## only one copy is made and each object shares the variable\n",
    "## to acess it only class name is used \n",
    "## if varible name is accessed using object then an instance variable would be created\n",
    "## to change it only class name.variable name can be used to change it\n",
    "\n",
    "## class methods work only on class variable\n",
    "## its first argument is class reference \"cls\" variable is used to pass class reference\n",
    "## to denote that it is a class method @classmethod decorator needs to be used"
   ]
  },
  {
   "cell_type": "code",
   "execution_count": 62,
   "id": "8728df59",
   "metadata": {},
   "outputs": [],
   "source": [
    "class Employee:\n",
    "    company=\"Toyota\"\n",
    "    \n",
    "    def __init__(self,name,salary):\n",
    "        self.name=name\n",
    "        self.salary=salary\n",
    "        \n",
    "    @classmethod\n",
    "    def getCompanyName(cls):\n",
    "        cls.company=\"microsoft\"\n",
    "        print(cls.company)\n",
    "        \n",
    "    def display(self):\n",
    "        print(f\"{self.name} works for {company} with a {self.salary}\")"
   ]
  },
  {
   "cell_type": "code",
   "execution_count": 63,
   "id": "65c31f89",
   "metadata": {},
   "outputs": [],
   "source": [
    "e1=Employee(\"jay\",22000)\n",
    "e2=Employee(\"vijay\",15000)"
   ]
  },
  {
   "cell_type": "code",
   "execution_count": 36,
   "id": "b343352a",
   "metadata": {},
   "outputs": [
    {
     "data": {
      "text/plain": [
       "'Toyota'"
      ]
     },
     "execution_count": 36,
     "metadata": {},
     "output_type": "execute_result"
    }
   ],
   "source": [
    "Employee.company ## class variable"
   ]
  },
  {
   "cell_type": "code",
   "execution_count": 37,
   "id": "80d030ce",
   "metadata": {},
   "outputs": [
    {
     "data": {
      "text/plain": [
       "'Toyota'"
      ]
     },
     "execution_count": 37,
     "metadata": {},
     "output_type": "execute_result"
    }
   ],
   "source": [
    "e1.company "
   ]
  },
  {
   "cell_type": "code",
   "execution_count": 38,
   "id": "eefb3f4c",
   "metadata": {},
   "outputs": [
    {
     "data": {
      "text/plain": [
       "{'name': 'jay', 'salary': 22000}"
      ]
     },
     "execution_count": 38,
     "metadata": {},
     "output_type": "execute_result"
    }
   ],
   "source": [
    "e1.__dict__"
   ]
  },
  {
   "cell_type": "code",
   "execution_count": 39,
   "id": "f5047c31",
   "metadata": {},
   "outputs": [],
   "source": [
    "Employee.company=\"microsoft\""
   ]
  },
  {
   "cell_type": "code",
   "execution_count": 40,
   "id": "2281043f",
   "metadata": {},
   "outputs": [
    {
     "data": {
      "text/plain": [
       "'microsoft'"
      ]
     },
     "execution_count": 40,
     "metadata": {},
     "output_type": "execute_result"
    }
   ],
   "source": [
    "Employee.company"
   ]
  },
  {
   "cell_type": "code",
   "execution_count": 41,
   "id": "3cf2aa7c",
   "metadata": {},
   "outputs": [
    {
     "data": {
      "text/plain": [
       "'microsoft'"
      ]
     },
     "execution_count": 41,
     "metadata": {},
     "output_type": "execute_result"
    }
   ],
   "source": [
    "e1.company"
   ]
  },
  {
   "cell_type": "code",
   "execution_count": 42,
   "id": "361d8b47",
   "metadata": {},
   "outputs": [],
   "source": [
    "e1.company=\"amazon\""
   ]
  },
  {
   "cell_type": "code",
   "execution_count": 43,
   "id": "ab666c1d",
   "metadata": {},
   "outputs": [
    {
     "data": {
      "text/plain": [
       "{'name': 'jay', 'salary': 22000, 'company': 'amazon'}"
      ]
     },
     "execution_count": 43,
     "metadata": {},
     "output_type": "execute_result"
    }
   ],
   "source": [
    "e1.__dict__"
   ]
  },
  {
   "cell_type": "code",
   "execution_count": 44,
   "id": "0709256d",
   "metadata": {},
   "outputs": [
    {
     "data": {
      "text/plain": [
       "'microsoft'"
      ]
     },
     "execution_count": 44,
     "metadata": {},
     "output_type": "execute_result"
    }
   ],
   "source": [
    "Employee.company"
   ]
  },
  {
   "cell_type": "code",
   "execution_count": 45,
   "id": "03d31e55",
   "metadata": {},
   "outputs": [
    {
     "data": {
      "text/plain": [
       "'amazon'"
      ]
     },
     "execution_count": 45,
     "metadata": {},
     "output_type": "execute_result"
    }
   ],
   "source": [
    "e1.company"
   ]
  },
  {
   "cell_type": "code",
   "execution_count": 46,
   "id": "1ee1bb54",
   "metadata": {},
   "outputs": [
    {
     "data": {
      "text/plain": [
       "'microsoft'"
      ]
     },
     "execution_count": 46,
     "metadata": {},
     "output_type": "execute_result"
    }
   ],
   "source": [
    "e2.company"
   ]
  },
  {
   "cell_type": "code",
   "execution_count": 50,
   "id": "86a53b4d",
   "metadata": {},
   "outputs": [],
   "source": [
    "del e1.company"
   ]
  },
  {
   "cell_type": "code",
   "execution_count": 49,
   "id": "88da1684",
   "metadata": {},
   "outputs": [
    {
     "ename": "AttributeError",
     "evalue": "company",
     "output_type": "error",
     "traceback": [
      "\u001b[0;31m---------------------------------------------------------------------------\u001b[0m",
      "\u001b[0;31mAttributeError\u001b[0m                            Traceback (most recent call last)",
      "\u001b[0;32m/tmp/ipykernel_47340/3045245255.py\u001b[0m in \u001b[0;36m<module>\u001b[0;34m\u001b[0m\n\u001b[0;32m----> 1\u001b[0;31m \u001b[0mdelattr\u001b[0m\u001b[0;34m(\u001b[0m\u001b[0me2\u001b[0m\u001b[0;34m,\u001b[0m\u001b[0;34m\"company\"\u001b[0m\u001b[0;34m)\u001b[0m\u001b[0;34m\u001b[0m\u001b[0;34m\u001b[0m\u001b[0m\n\u001b[0m",
      "\u001b[0;31mAttributeError\u001b[0m: company"
     ]
    }
   ],
   "source": [
    "delattr(e2,\"company\")"
   ]
  },
  {
   "cell_type": "code",
   "execution_count": 51,
   "id": "5f803545",
   "metadata": {},
   "outputs": [
    {
     "data": {
      "text/plain": [
       "True"
      ]
     },
     "execution_count": 51,
     "metadata": {},
     "output_type": "execute_result"
    }
   ],
   "source": [
    "hasattr(e1,\"company\")"
   ]
  },
  {
   "cell_type": "code",
   "execution_count": 52,
   "id": "fe447d5c",
   "metadata": {},
   "outputs": [
    {
     "data": {
      "text/plain": [
       "'microsoft'"
      ]
     },
     "execution_count": 52,
     "metadata": {},
     "output_type": "execute_result"
    }
   ],
   "source": [
    "e1.company"
   ]
  },
  {
   "cell_type": "code",
   "execution_count": 56,
   "id": "1d7eb25c",
   "metadata": {},
   "outputs": [
    {
     "ename": "TypeError",
     "evalue": "getCompanyName() takes 0 positional arguments but 1 was given",
     "output_type": "error",
     "traceback": [
      "\u001b[0;31m---------------------------------------------------------------------------\u001b[0m",
      "\u001b[0;31mTypeError\u001b[0m                                 Traceback (most recent call last)",
      "\u001b[0;32m/tmp/ipykernel_47340/282362417.py\u001b[0m in \u001b[0;36m<module>\u001b[0;34m\u001b[0m\n\u001b[0;32m----> 1\u001b[0;31m \u001b[0me1\u001b[0m\u001b[0;34m.\u001b[0m\u001b[0mgetCompanyName\u001b[0m\u001b[0;34m(\u001b[0m\u001b[0;34m)\u001b[0m\u001b[0;34m\u001b[0m\u001b[0;34m\u001b[0m\u001b[0m\n\u001b[0m",
      "\u001b[0;31mTypeError\u001b[0m: getCompanyName() takes 0 positional arguments but 1 was given"
     ]
    }
   ],
   "source": [
    "e1.getCompanyName()"
   ]
  },
  {
   "cell_type": "code",
   "execution_count": 65,
   "id": "ed1cfa55",
   "metadata": {},
   "outputs": [
    {
     "name": "stdout",
     "output_type": "stream",
     "text": [
      "microsoft\n"
     ]
    }
   ],
   "source": [
    "e1.getCompanyName()"
   ]
  },
  {
   "cell_type": "code",
   "execution_count": 66,
   "id": "885db0d9",
   "metadata": {},
   "outputs": [
    {
     "name": "stdout",
     "output_type": "stream",
     "text": [
      "microsoft\n"
     ]
    }
   ],
   "source": [
    "Employee.getCompanyName()"
   ]
  },
  {
   "cell_type": "code",
   "execution_count": 67,
   "id": "9c25c814",
   "metadata": {},
   "outputs": [
    {
     "data": {
      "text/plain": [
       "method"
      ]
     },
     "execution_count": 67,
     "metadata": {},
     "output_type": "execute_result"
    }
   ],
   "source": [
    "type(Employee.getCompanyName)"
   ]
  },
  {
   "cell_type": "code",
   "execution_count": 68,
   "id": "c4f648be",
   "metadata": {},
   "outputs": [
    {
     "data": {
      "text/plain": [
       "{'name': 'jay', 'salary': 22000}"
      ]
     },
     "execution_count": 68,
     "metadata": {},
     "output_type": "execute_result"
    }
   ],
   "source": [
    "e1.__dict__\n"
   ]
  },
  {
   "cell_type": "code",
   "execution_count": 1,
   "id": "ff0e1199",
   "metadata": {},
   "outputs": [],
   "source": [
    "class Employee:\n",
    "    company=\"microsoft\"\n",
    "    \n",
    "    def __init__(self,name,salary):\n",
    "        self.name=name\n",
    "        self.salary=salary\n",
    "        \n",
    "    @classmethod\n",
    "    def change(cls):\n",
    "        cls.name=\"amish\"\n",
    "        cls.company=\"toyota\"\n",
    "        \n",
    "e1=Employee(\"Amish\",190000)\n"
   ]
  },
  {
   "cell_type": "code",
   "execution_count": 3,
   "id": "02b52769",
   "metadata": {},
   "outputs": [],
   "source": [
    "## static method\n",
    "\n",
    "## these method are used to perform operation on external data and class data\n",
    "## created without passing any reference to class or object\n",
    "## @staticmethod decorator is used to denote it"
   ]
  },
  {
   "cell_type": "code",
   "execution_count": 11,
   "id": "8bb68220",
   "metadata": {},
   "outputs": [
    {
     "name": "stdout",
     "output_type": "stream",
     "text": [
      "Enter the principal amount : 100000\n",
      "Enter the number of year : 5\n",
      "61250.0\n",
      "61250.0\n"
     ]
    }
   ],
   "source": [
    "class Bank:\n",
    "    bank_name='BOI'\n",
    "    rate_of_interest=12.25\n",
    "    \n",
    "    def __init__(self,name,age):\n",
    "        self.name=name\n",
    "        self.age=age\n",
    "    \n",
    "    @staticmethod\n",
    "    def simple_interest(prin,n):\n",
    "        si=(prin*n*Bank.rate_of_interest)/100\n",
    "        print(si)\n",
    "\n",
    "        \n",
    "    \n",
    "prin=float(input(\"Enter the principal amount : \"))\n",
    "year=int(input(\"Enter the number of year : \"))\n",
    "\n",
    "b1=Bank(\"amish\",23)\n",
    "\n",
    "b1.simple_interest(prin,year)\n"
   ]
  },
  {
   "cell_type": "code",
   "execution_count": 2,
   "id": "70fbb5a7",
   "metadata": {},
   "outputs": [],
   "source": [
    "class pwskills:\n",
    "    def __init__(self,name,email):\n",
    "        self.name=name\n",
    "        self.email=email\n",
    "        \n",
    "    def students_details(self):\n",
    "        print(f\"{self.name } {self.email}\")"
   ]
  },
  {
   "cell_type": "code",
   "execution_count": 3,
   "id": "ded2250a",
   "metadata": {},
   "outputs": [],
   "source": [
    "p1=pwskills(\"Amish\",\"amish@gmail.com\")\n"
   ]
  },
  {
   "cell_type": "code",
   "execution_count": 4,
   "id": "8db6aee4",
   "metadata": {},
   "outputs": [
    {
     "name": "stdout",
     "output_type": "stream",
     "text": [
      "Amish amish@gmail.com\n"
     ]
    }
   ],
   "source": [
    "p1.students_details()"
   ]
  },
  {
   "cell_type": "code",
   "execution_count": 5,
   "id": "8fce1b40",
   "metadata": {},
   "outputs": [
    {
     "ename": "NameError",
     "evalue": "name 'pw' is not defined",
     "output_type": "error",
     "traceback": [
      "\u001b[0;31m---------------------------------------------------------------------------\u001b[0m",
      "\u001b[0;31mNameError\u001b[0m                                 Traceback (most recent call last)",
      "\u001b[0;32m/tmp/ipykernel_6065/1856725267.py\u001b[0m in \u001b[0;36m<module>\u001b[0;34m\u001b[0m\n\u001b[0;32m----> 1\u001b[0;31m \u001b[0mpw\u001b[0m\u001b[0;34m.\u001b[0m\u001b[0memail\u001b[0m\u001b[0;34m\u001b[0m\u001b[0;34m\u001b[0m\u001b[0m\n\u001b[0m",
      "\u001b[0;31mNameError\u001b[0m: name 'pw' is not defined"
     ]
    }
   ],
   "source": [
    "pw.email\n"
   ]
  },
  {
   "cell_type": "code",
   "execution_count": 6,
   "id": "ee935a6f",
   "metadata": {},
   "outputs": [
    {
     "data": {
      "text/plain": [
       "'amish@gmail.com'"
      ]
     },
     "execution_count": 6,
     "metadata": {},
     "output_type": "execute_result"
    }
   ],
   "source": [
    "p1.email"
   ]
  },
  {
   "cell_type": "code",
   "execution_count": 7,
   "id": "bfe58bac",
   "metadata": {},
   "outputs": [
    {
     "data": {
      "text/plain": [
       "'Amish'"
      ]
     },
     "execution_count": 7,
     "metadata": {},
     "output_type": "execute_result"
    }
   ],
   "source": [
    "p1.name"
   ]
  },
  {
   "cell_type": "code",
   "execution_count": 8,
   "id": "910aa9bc",
   "metadata": {},
   "outputs": [
    {
     "data": {
      "text/plain": [
       "{'name': 'Amish', 'email': 'amish@gmail.com'}"
      ]
     },
     "execution_count": 8,
     "metadata": {},
     "output_type": "execute_result"
    }
   ],
   "source": [
    "p1.__dict__"
   ]
  },
  {
   "cell_type": "code",
   "execution_count": 9,
   "id": "f9cd9154",
   "metadata": {},
   "outputs": [
    {
     "data": {
      "text/plain": [
       "True"
      ]
     },
     "execution_count": 9,
     "metadata": {},
     "output_type": "execute_result"
    }
   ],
   "source": [
    "hasattr(p1,\"name\")"
   ]
  },
  {
   "cell_type": "code",
   "execution_count": 10,
   "id": "8ae7556c",
   "metadata": {},
   "outputs": [],
   "source": [
    "class pwskills1:\n",
    "    def __init__(self,name,email):\n",
    "        self.name=name\n",
    "        self.email=email\n",
    "        \n",
    "    @classmethod\n",
    "    def details(cls,name,email):\n",
    "        return cls(name,email)\n",
    "        \n",
    "    def students_details(self):\n",
    "        print(f\"{self.name } {self.email}\")"
   ]
  },
  {
   "cell_type": "code",
   "execution_count": 12,
   "id": "2af83dca",
   "metadata": {},
   "outputs": [],
   "source": [
    "pw1=pwskills1.details(\"Amish\",\"amishsingh@gmail.com\")"
   ]
  },
  {
   "cell_type": "code",
   "execution_count": 13,
   "id": "4680134a",
   "metadata": {},
   "outputs": [
    {
     "data": {
      "text/plain": [
       "'Amish'"
      ]
     },
     "execution_count": 13,
     "metadata": {},
     "output_type": "execute_result"
    }
   ],
   "source": [
    "pw1.name"
   ]
  },
  {
   "cell_type": "code",
   "execution_count": 14,
   "id": "af950489",
   "metadata": {},
   "outputs": [
    {
     "data": {
      "text/plain": [
       "{'name': 'Amish', 'email': 'amishsingh@gmail.com'}"
      ]
     },
     "execution_count": 14,
     "metadata": {},
     "output_type": "execute_result"
    }
   ],
   "source": [
    "pw1.__dict__"
   ]
  },
  {
   "cell_type": "code",
   "execution_count": 17,
   "id": "54c6058d",
   "metadata": {},
   "outputs": [
    {
     "data": {
      "text/plain": [
       "True"
      ]
     },
     "execution_count": 17,
     "metadata": {},
     "output_type": "execute_result"
    }
   ],
   "source": [
    "isinstance(pw1,pwskills1)"
   ]
  },
  {
   "cell_type": "code",
   "execution_count": 18,
   "id": "197efe27",
   "metadata": {},
   "outputs": [
    {
     "name": "stdout",
     "output_type": "stream",
     "text": [
      "Amish amishsingh@gmail.com\n"
     ]
    }
   ],
   "source": [
    "pw1.students_details()"
   ]
  },
  {
   "cell_type": "code",
   "execution_count": 34,
   "id": "59d27196",
   "metadata": {},
   "outputs": [],
   "source": [
    "class pwskills2:\n",
    "    \n",
    "    mob_num=34544433\n",
    "    \n",
    "    def __init__(self,name,email):\n",
    "        self.name=name\n",
    "        self.email=email\n",
    "        \n",
    "    @classmethod\n",
    "    def details(cls,name,email):\n",
    "        return cls(name,email)\n",
    "    \n",
    "    @classmethod\n",
    "    def change_number(cls,mob_num):\n",
    "        cls.mob_num=mob_num\n",
    "        \n",
    "    def students_details(self):\n",
    "        print(f\"{self.name } {self.email} {pwskills2.mob_num}\")"
   ]
  },
  {
   "cell_type": "code",
   "execution_count": 27,
   "id": "98e1c17b",
   "metadata": {},
   "outputs": [
    {
     "data": {
      "text/plain": [
       "34544433"
      ]
     },
     "execution_count": 27,
     "metadata": {},
     "output_type": "execute_result"
    }
   ],
   "source": [
    "pwskills2.mob_num"
   ]
  },
  {
   "cell_type": "code",
   "execution_count": 35,
   "id": "05721a36",
   "metadata": {},
   "outputs": [],
   "source": [
    "p1=pwskills2(\"amish\",\"amish@gmail.com\")"
   ]
  },
  {
   "cell_type": "code",
   "execution_count": 22,
   "id": "ea6f1971",
   "metadata": {},
   "outputs": [
    {
     "data": {
      "text/plain": [
       "34544433"
      ]
     },
     "execution_count": 22,
     "metadata": {},
     "output_type": "execute_result"
    }
   ],
   "source": [
    "p1.mob_num"
   ]
  },
  {
   "cell_type": "code",
   "execution_count": 37,
   "id": "0cba98eb",
   "metadata": {},
   "outputs": [],
   "source": [
    "pwskills2.change_number(544444454)"
   ]
  },
  {
   "cell_type": "code",
   "execution_count": 29,
   "id": "3ec4f21f",
   "metadata": {},
   "outputs": [
    {
     "data": {
      "text/plain": [
       "544444454"
      ]
     },
     "execution_count": 29,
     "metadata": {},
     "output_type": "execute_result"
    }
   ],
   "source": [
    "pwskills2.mob_num"
   ]
  },
  {
   "cell_type": "code",
   "execution_count": 38,
   "id": "31d484a2",
   "metadata": {},
   "outputs": [
    {
     "name": "stdout",
     "output_type": "stream",
     "text": [
      "amish amish@gmail.com 544444454\n"
     ]
    }
   ],
   "source": [
    "p1.students_details()"
   ]
  },
  {
   "cell_type": "code",
   "execution_count": 39,
   "id": "5e0f41ba",
   "metadata": {},
   "outputs": [],
   "source": [
    "p2=pwskills2.details(\"rohan\",\"rohan@gmail.com\")"
   ]
  },
  {
   "cell_type": "code",
   "execution_count": 40,
   "id": "2bf39099",
   "metadata": {},
   "outputs": [
    {
     "data": {
      "text/plain": [
       "{'name': 'rohan', 'email': 'rohan@gmail.com'}"
      ]
     },
     "execution_count": 40,
     "metadata": {},
     "output_type": "execute_result"
    }
   ],
   "source": [
    "p2.__dict__"
   ]
  },
  {
   "cell_type": "code",
   "execution_count": 41,
   "id": "a4efb802",
   "metadata": {},
   "outputs": [],
   "source": [
    "class pwskills3:\n",
    "    \n",
    "    mob_num=34544433\n",
    "    \n",
    "    def __init__(self,name,email):\n",
    "        self.name=name\n",
    "        self.email=email\n",
    "        \n",
    "    @classmethod\n",
    "    def details(cls,name,email):\n",
    "        return cls(name,email)\n",
    "    \n",
    "    @classmethod\n",
    "    def change_number(cls,mob_num):\n",
    "        cls.mob_num=mob_num\n",
    "        \n",
    "    \n",
    "        \n",
    "    def students_details(self):\n",
    "        print(f\"{self.name } {self.email} {pwskills2.mob_num}\")"
   ]
  },
  {
   "cell_type": "code",
   "execution_count": 42,
   "id": "386fb9d4",
   "metadata": {},
   "outputs": [],
   "source": [
    "def course_details(cls,course_name):\n",
    "    print(\"course name is \",course_name)\n",
    "    "
   ]
  },
  {
   "cell_type": "code",
   "execution_count": 47,
   "id": "4da62aaf",
   "metadata": {},
   "outputs": [],
   "source": [
    "pwskills3.course_details=classmethod(course_details)"
   ]
  },
  {
   "cell_type": "code",
   "execution_count": 48,
   "id": "723b209f",
   "metadata": {},
   "outputs": [
    {
     "name": "stdout",
     "output_type": "stream",
     "text": [
      "course name is  ds master\n"
     ]
    }
   ],
   "source": [
    "pwskills3.course_details(\"ds master\")"
   ]
  },
  {
   "cell_type": "code",
   "execution_count": 45,
   "id": "686e1256",
   "metadata": {},
   "outputs": [],
   "source": [
    "p1=pwskills3(\"amish\",\"amishsingh@gmail.com\")"
   ]
  },
  {
   "cell_type": "code",
   "execution_count": 49,
   "id": "4702e675",
   "metadata": {},
   "outputs": [
    {
     "data": {
      "text/plain": [
       "{'name': 'amish', 'email': 'amishsingh@gmail.com'}"
      ]
     },
     "execution_count": 49,
     "metadata": {},
     "output_type": "execute_result"
    }
   ],
   "source": [
    "p1.__dict__"
   ]
  },
  {
   "cell_type": "code",
   "execution_count": 50,
   "id": "f8302502",
   "metadata": {},
   "outputs": [],
   "source": [
    "class pwskills4:\n",
    "    \n",
    "    mob_num=34544433\n",
    "    \n",
    "    def __init__(self,name,email):\n",
    "        self.name=name\n",
    "        self.email=email\n",
    "        \n",
    "    @classmethod\n",
    "    def details(cls,name,email):\n",
    "        return cls(name,email)\n",
    "    \n",
    "    @classmethod\n",
    "    def change_number(cls,mob_num):\n",
    "        cls.mob_num=mob_num\n",
    "        \n",
    "    \n",
    "        \n",
    "    def students_details(self):\n",
    "        print(f\"{self.name } {self.email} {pwskills2.mob_num}\")"
   ]
  },
  {
   "cell_type": "code",
   "execution_count": 51,
   "id": "e7262fe3",
   "metadata": {},
   "outputs": [],
   "source": [
    "del pwskills4.change_number"
   ]
  },
  {
   "cell_type": "code",
   "execution_count": 52,
   "id": "396a4af1",
   "metadata": {},
   "outputs": [
    {
     "data": {
      "text/plain": [
       "mappingproxy({'__module__': '__main__',\n",
       "              'mob_num': 34544433,\n",
       "              '__init__': <function __main__.pwskills4.__init__(self, name, email)>,\n",
       "              'details': <classmethod at 0x7fb716e40df0>,\n",
       "              'students_details': <function __main__.pwskills4.students_details(self)>,\n",
       "              '__dict__': <attribute '__dict__' of 'pwskills4' objects>,\n",
       "              '__weakref__': <attribute '__weakref__' of 'pwskills4' objects>,\n",
       "              '__doc__': None})"
      ]
     },
     "execution_count": 52,
     "metadata": {},
     "output_type": "execute_result"
    }
   ],
   "source": [
    "pwskills4.__dict__"
   ]
  },
  {
   "cell_type": "code",
   "execution_count": 53,
   "id": "98a9a072",
   "metadata": {},
   "outputs": [],
   "source": [
    "del pwskills4.students_details"
   ]
  },
  {
   "cell_type": "code",
   "execution_count": 54,
   "id": "b41d0f1b",
   "metadata": {},
   "outputs": [],
   "source": [
    "p1=pwskills4(\"amish\",\"amish@gmail.com\")"
   ]
  },
  {
   "cell_type": "code",
   "execution_count": 55,
   "id": "b92d70d3",
   "metadata": {},
   "outputs": [
    {
     "ename": "AttributeError",
     "evalue": "'pwskills4' object has no attribute 'students_details'",
     "output_type": "error",
     "traceback": [
      "\u001b[0;31m---------------------------------------------------------------------------\u001b[0m",
      "\u001b[0;31mAttributeError\u001b[0m                            Traceback (most recent call last)",
      "\u001b[0;32m/tmp/ipykernel_6065/3295932625.py\u001b[0m in \u001b[0;36m<module>\u001b[0;34m\u001b[0m\n\u001b[0;32m----> 1\u001b[0;31m \u001b[0mp1\u001b[0m\u001b[0;34m.\u001b[0m\u001b[0mstudents_details\u001b[0m\u001b[0;34m(\u001b[0m\u001b[0;34m)\u001b[0m\u001b[0;34m\u001b[0m\u001b[0;34m\u001b[0m\u001b[0m\n\u001b[0m",
      "\u001b[0;31mAttributeError\u001b[0m: 'pwskills4' object has no attribute 'students_details'"
     ]
    }
   ],
   "source": [
    "p1.students_details()"
   ]
  },
  {
   "cell_type": "code",
   "execution_count": 56,
   "id": "109c412b",
   "metadata": {},
   "outputs": [
    {
     "ename": "AttributeError",
     "evalue": "details",
     "output_type": "error",
     "traceback": [
      "\u001b[0;31m---------------------------------------------------------------------------\u001b[0m",
      "\u001b[0;31mAttributeError\u001b[0m                            Traceback (most recent call last)",
      "\u001b[0;32m/tmp/ipykernel_6065/3508707265.py\u001b[0m in \u001b[0;36m<module>\u001b[0;34m\u001b[0m\n\u001b[0;32m----> 1\u001b[0;31m \u001b[0mdelattr\u001b[0m\u001b[0;34m(\u001b[0m\u001b[0mp1\u001b[0m\u001b[0;34m,\u001b[0m\u001b[0;34m\"details\"\u001b[0m\u001b[0;34m)\u001b[0m\u001b[0;34m\u001b[0m\u001b[0;34m\u001b[0m\u001b[0m\n\u001b[0m",
      "\u001b[0;31mAttributeError\u001b[0m: details"
     ]
    }
   ],
   "source": [
    "delattr(p1,\"details\")"
   ]
  },
  {
   "cell_type": "code",
   "execution_count": 1,
   "id": "fbb7c711",
   "metadata": {},
   "outputs": [
    {
     "ename": "TypeError",
     "evalue": "delattr expected 2 arguments, got 0",
     "output_type": "error",
     "traceback": [
      "\u001b[0;31m---------------------------------------------------------------------------\u001b[0m",
      "\u001b[0;31mTypeError\u001b[0m                                 Traceback (most recent call last)",
      "\u001b[0;32m/tmp/ipykernel_15248/874064713.py\u001b[0m in \u001b[0;36m<module>\u001b[0;34m\u001b[0m\n\u001b[0;32m----> 1\u001b[0;31m \u001b[0mdelattr\u001b[0m\u001b[0;34m(\u001b[0m\u001b[0;34m)\u001b[0m\u001b[0;34m\u001b[0m\u001b[0;34m\u001b[0m\u001b[0m\n\u001b[0m",
      "\u001b[0;31mTypeError\u001b[0m: delattr expected 2 arguments, got 0"
     ]
    }
   ],
   "source": [
    "delattr()"
   ]
  },
  {
   "cell_type": "code",
   "execution_count": 2,
   "id": "1f5ba7aa",
   "metadata": {},
   "outputs": [],
   "source": [
    "class pwskills:\n",
    "    \n",
    "    def student_details(self,name,mail_id,number):\n",
    "        print(name,mail_id,number)"
   ]
  },
  {
   "cell_type": "code",
   "execution_count": 3,
   "id": "7412c521",
   "metadata": {},
   "outputs": [],
   "source": [
    "p1=pwskills()"
   ]
  },
  {
   "cell_type": "code",
   "execution_count": 5,
   "id": "ce560dbd",
   "metadata": {},
   "outputs": [
    {
     "name": "stdout",
     "output_type": "stream",
     "text": [
      "amish amish@gmail.com 9876789\n"
     ]
    }
   ],
   "source": [
    "p1.student_details(\"amish\",\"amish@gmail.com\",9876789)"
   ]
  },
  {
   "cell_type": "code",
   "execution_count": 17,
   "id": "f73c89c0",
   "metadata": {},
   "outputs": [],
   "source": [
    "class pwskills1:\n",
    "    \n",
    "    def student_details(self,name,mail_id,number):\n",
    "        print(name,mail_id,number)\n",
    "    \n",
    "    @staticmethod\n",
    "    def mentor_list(list_mentor):\n",
    "        print(list_mentor)\n",
    "        \n",
    "    def mentor(self,mentor_list):\n",
    "        print(mentor_list)\n",
    "        \n"
   ]
  },
  {
   "cell_type": "code",
   "execution_count": 9,
   "id": "29f1c61b",
   "metadata": {},
   "outputs": [],
   "source": [
    "p1=pwskills1()"
   ]
  },
  {
   "cell_type": "code",
   "execution_count": 10,
   "id": "8c420388",
   "metadata": {},
   "outputs": [
    {
     "name": "stdout",
     "output_type": "stream",
     "text": [
      "['amish', 'ashish', 'ritest']\n"
     ]
    }
   ],
   "source": [
    "pwskills1.mentor_list([\"amish\",\"ashish\",\"ritest\"])"
   ]
  },
  {
   "cell_type": "code",
   "execution_count": 11,
   "id": "c19db77b",
   "metadata": {},
   "outputs": [
    {
     "ename": "TypeError",
     "evalue": "student_details() missing 1 required positional argument: 'number'",
     "output_type": "error",
     "traceback": [
      "\u001b[0;31m---------------------------------------------------------------------------\u001b[0m",
      "\u001b[0;31mTypeError\u001b[0m                                 Traceback (most recent call last)",
      "\u001b[0;32m/tmp/ipykernel_15248/2345572776.py\u001b[0m in \u001b[0;36m<module>\u001b[0;34m\u001b[0m\n\u001b[0;32m----> 1\u001b[0;31m \u001b[0mpwskills1\u001b[0m\u001b[0;34m.\u001b[0m\u001b[0mstudent_details\u001b[0m\u001b[0;34m(\u001b[0m\u001b[0;34m\"amish\"\u001b[0m\u001b[0;34m,\u001b[0m\u001b[0;34m\"amish@gmail.com\"\u001b[0m\u001b[0;34m,\u001b[0m\u001b[0;36m876987\u001b[0m\u001b[0;34m)\u001b[0m\u001b[0;34m\u001b[0m\u001b[0;34m\u001b[0m\u001b[0m\n\u001b[0m",
      "\u001b[0;31mTypeError\u001b[0m: student_details() missing 1 required positional argument: 'number'"
     ]
    }
   ],
   "source": [
    "pwskills1.student_details(\"amish\",\"amish@gmail.com\",876987)"
   ]
  },
  {
   "cell_type": "code",
   "execution_count": 12,
   "id": "7053f2ea",
   "metadata": {},
   "outputs": [],
   "source": [
    "st1=pwskills1()"
   ]
  },
  {
   "cell_type": "code",
   "execution_count": 14,
   "id": "21d6a698",
   "metadata": {},
   "outputs": [],
   "source": [
    "st2=pwskills1()"
   ]
  },
  {
   "cell_type": "code",
   "execution_count": 15,
   "id": "b25113fb",
   "metadata": {},
   "outputs": [],
   "source": [
    "st3=pwskills1()"
   ]
  },
  {
   "cell_type": "code",
   "execution_count": 16,
   "id": "20646a23",
   "metadata": {},
   "outputs": [
    {
     "name": "stdout",
     "output_type": "stream",
     "text": [
      "['amish']\n"
     ]
    }
   ],
   "source": [
    "st3.mentor_list([\"amish\"])"
   ]
  },
  {
   "cell_type": "code",
   "execution_count": 4,
   "id": "c179304c",
   "metadata": {},
   "outputs": [],
   "source": [
    "class pwskills2:\n",
    "    \n",
    "    def student_details(self,name,mail_id,number):\n",
    "        print(name,mail_id,number)\n",
    "        \n",
    "    @staticmethod\n",
    "    def mentor_mail_id(mail_id_mentor):\n",
    "        print(mail_id_mentor)\n",
    "    \n",
    "    @staticmethod\n",
    "    def mentor_list(list_mentor):\n",
    "        print(list_mentor)\n",
    "        pwskills2.mentor_mail_id(\"amish@gmail.com\")\n",
    "        \n",
    "    @classmethod\n",
    "    def class_name(cls):\n",
    "        cls.mentor_list([\"amish\"])\n",
    "        \n",
    "    def mentor(self,mentor_list):\n",
    "        print(mentor_list)\n",
    "        \n",
    "        \n"
   ]
  },
  {
   "cell_type": "code",
   "execution_count": 5,
   "id": "86dd8df0",
   "metadata": {},
   "outputs": [
    {
     "name": "stdout",
     "output_type": "stream",
     "text": [
      "['amish']\n",
      "amish@gmail.com\n"
     ]
    }
   ],
   "source": [
    "pwskills2.class_name()"
   ]
  },
  {
   "cell_type": "code",
   "execution_count": 6,
   "id": "b520a7f3",
   "metadata": {},
   "outputs": [
    {
     "name": "stdout",
     "output_type": "stream",
     "text": [
      "{'amish'}\n",
      "amish@gmail.com\n"
     ]
    }
   ],
   "source": [
    "pwskills2.mentor_list({\"amish\"})"
   ]
  },
  {
   "cell_type": "code",
   "execution_count": null,
   "id": "4893105b",
   "metadata": {},
   "outputs": [],
   "source": []
  }
 ],
 "metadata": {
  "kernelspec": {
   "display_name": "Python 3 (ipykernel)",
   "language": "python",
   "name": "python3"
  },
  "language_info": {
   "codemirror_mode": {
    "name": "ipython",
    "version": 3
   },
   "file_extension": ".py",
   "mimetype": "text/x-python",
   "name": "python",
   "nbconvert_exporter": "python",
   "pygments_lexer": "ipython3",
   "version": "3.9.13"
  }
 },
 "nbformat": 4,
 "nbformat_minor": 5
}
