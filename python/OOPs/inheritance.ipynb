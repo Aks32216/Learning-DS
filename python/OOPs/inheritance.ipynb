{
 "cells": [
  {
   "cell_type": "code",
   "execution_count": 2,
   "id": "f76f65ae-6828-4530-97d3-7f08c35f4ade",
   "metadata": {},
   "outputs": [],
   "source": [
    "## inheritance\n",
    "## it helps in reusability of classes"
   ]
  },
  {
   "cell_type": "code",
   "execution_count": 3,
   "id": "a23fd16c-936b-4c65-b80b-8ba4533a4d3a",
   "metadata": {},
   "outputs": [],
   "source": [
    "class test:\n",
    "    \n",
    "    def test_meth(self):\n",
    "        return \"this is my first class\""
   ]
  },
  {
   "cell_type": "code",
   "execution_count": 4,
   "id": "fbccea5b-9af3-41ce-be6a-b0b627ba26df",
   "metadata": {},
   "outputs": [],
   "source": [
    "class child_test(test):\n",
    "    pass"
   ]
  },
  {
   "cell_type": "code",
   "execution_count": 5,
   "id": "424e464d-574e-43fd-8db5-2eff62b7c6e6",
   "metadata": {},
   "outputs": [],
   "source": [
    "child=child_test()"
   ]
  },
  {
   "cell_type": "code",
   "execution_count": 6,
   "id": "aac60a50-ce22-465e-89ed-d4938e90fbdb",
   "metadata": {},
   "outputs": [
    {
     "data": {
      "text/plain": [
       "'this is my first class'"
      ]
     },
     "execution_count": 6,
     "metadata": {},
     "output_type": "execute_result"
    }
   ],
   "source": [
    "child.test_meth()"
   ]
  },
  {
   "cell_type": "code",
   "execution_count": 7,
   "id": "b8392da2-5602-4de2-a336-5421352397a1",
   "metadata": {},
   "outputs": [],
   "source": [
    "class class1:\n",
    "    def test_class1(self):\n",
    "        return \"this is a metho from class1\"\n",
    "    "
   ]
  },
  {
   "cell_type": "code",
   "execution_count": 19,
   "id": "e26b5ae5-85d2-466f-b418-02f9ba3b0aae",
   "metadata": {},
   "outputs": [],
   "source": [
    "class class2(class1):\n",
    "    def test_class2(self):\n",
    "        return \"this is a metho from class2\""
   ]
  },
  {
   "cell_type": "code",
   "execution_count": 20,
   "id": "5b0b2560-0833-4b71-86ca-49b94bd8b403",
   "metadata": {},
   "outputs": [],
   "source": [
    "class class3(class2):\n",
    "    pass"
   ]
  },
  {
   "cell_type": "code",
   "execution_count": 21,
   "id": "b2b916c6-8140-4fe7-b81d-7b7cd90f8f3f",
   "metadata": {},
   "outputs": [],
   "source": [
    "c=class3()"
   ]
  },
  {
   "cell_type": "code",
   "execution_count": 23,
   "id": "7985dceb-6236-447a-9120-8af8cb06ba0f",
   "metadata": {},
   "outputs": [
    {
     "data": {
      "text/plain": [
       "'this is a metho from class1'"
      ]
     },
     "execution_count": 23,
     "metadata": {},
     "output_type": "execute_result"
    }
   ],
   "source": [
    "c.test_class1()"
   ]
  },
  {
   "cell_type": "code",
   "execution_count": 18,
   "id": "adef7521-61fb-436e-bb17-63b7bfcded5b",
   "metadata": {},
   "outputs": [
    {
     "data": {
      "text/plain": [
       "'this is a metho from class1'"
      ]
     },
     "execution_count": 18,
     "metadata": {},
     "output_type": "execute_result"
    }
   ],
   "source": [
    "c.test_class1()"
   ]
  },
  {
   "cell_type": "code",
   "execution_count": 24,
   "id": "8c574730-18b4-453a-8cef-1d38b8d1ab58",
   "metadata": {},
   "outputs": [],
   "source": [
    "class myClass:\n",
    "    def hello(self):\n",
    "        return \"hello from my class\""
   ]
  },
  {
   "cell_type": "code",
   "execution_count": 25,
   "id": "c2160b08-71f3-42a4-9f03-ac82edacaab1",
   "metadata": {},
   "outputs": [],
   "source": [
    "class yourClass:\n",
    "    def hello(self):\n",
    "        return \"hello from your class\""
   ]
  },
  {
   "cell_type": "code",
   "execution_count": 34,
   "id": "96cfdcaf-b2b7-43f5-9b5f-f51ea36d3f20",
   "metadata": {},
   "outputs": [],
   "source": [
    "class ourClass(myClass,yourClass):\n",
    "    pass"
   ]
  },
  {
   "cell_type": "code",
   "execution_count": 32,
   "id": "edeca382-76a0-40ab-b932-e5c5231b90c4",
   "metadata": {},
   "outputs": [],
   "source": [
    "c=ourClass()"
   ]
  },
  {
   "cell_type": "code",
   "execution_count": 33,
   "id": "6b43bad9-6bb8-4272-b8e5-03b332437784",
   "metadata": {},
   "outputs": [
    {
     "data": {
      "text/plain": [
       "'hello from my class'"
      ]
     },
     "execution_count": 33,
     "metadata": {},
     "output_type": "execute_result"
    }
   ],
   "source": [
    "c.hello()"
   ]
  },
  {
   "cell_type": "code",
   "execution_count": 35,
   "id": "1f674661-053a-42b3-aa29-d80edfcd3b32",
   "metadata": {},
   "outputs": [],
   "source": [
    "class class1:\n",
    "    def test_class1(self):\n",
    "        return \"this is class1\""
   ]
  },
  {
   "cell_type": "code",
   "execution_count": 36,
   "id": "47d01d8a-3a3c-4058-866a-92762ea87c33",
   "metadata": {},
   "outputs": [],
   "source": [
    "class class2:\n",
    "    def test_class2(self):\n",
    "        return \"this is class2\""
   ]
  },
  {
   "cell_type": "code",
   "execution_count": 37,
   "id": "477c46bb-a748-4c9e-83c1-08039bdb59b0",
   "metadata": {},
   "outputs": [],
   "source": [
    "class class3(class1,class2):\n",
    "    pass\n"
   ]
  },
  {
   "cell_type": "code",
   "execution_count": 38,
   "id": "1634eec8-450c-4f4c-a29b-8a887a0098b3",
   "metadata": {},
   "outputs": [],
   "source": [
    "class3_obj=class3()"
   ]
  },
  {
   "cell_type": "code",
   "execution_count": 39,
   "id": "5d7dad74-fe6f-4c54-9916-22542ac2ef23",
   "metadata": {},
   "outputs": [
    {
     "data": {
      "text/plain": [
       "'this is class2'"
      ]
     },
     "execution_count": 39,
     "metadata": {},
     "output_type": "execute_result"
    }
   ],
   "source": [
    "class3_obj.test_class2()"
   ]
  },
  {
   "cell_type": "code",
   "execution_count": 40,
   "id": "1bba27f0-d2a3-4fa4-8413-c4c71c848f6d",
   "metadata": {},
   "outputs": [
    {
     "data": {
      "text/plain": [
       "'this is class1'"
      ]
     },
     "execution_count": 40,
     "metadata": {},
     "output_type": "execute_result"
    }
   ],
   "source": [
    "class3_obj.test_class1()"
   ]
  },
  {
   "cell_type": "code",
   "execution_count": 7,
   "id": "ce19f783-386f-4801-8b63-2f5f45e2a686",
   "metadata": {},
   "outputs": [
    {
     "name": "stdout",
     "output_type": "stream",
     "text": [
      "2000\n",
      "5000\n",
      "This is employee class method\n",
      "This is manager class method\n",
      "2000\n",
      "This is employee class method\n",
      "{}\n",
      "{'__module__': '__main__', 'bonus1': 5000, 'show': <function Manager.show at 0x7f2a4c237160>, '__doc__': None}\n"
     ]
    }
   ],
   "source": [
    "class Employee:\n",
    "    bonus=2000\n",
    "    \n",
    "    def display(self):\n",
    "        print(\"This is employee class method\")\n",
    "        \n",
    "class Manager(Employee):\n",
    "    bonus1=5000\n",
    "    \n",
    "    def show(self):\n",
    "        print(\"This is manager class method\")\n",
    "        \n",
    "e1=Employee()\n",
    "m1=Manager()\n",
    "\n",
    "print(e1.bonus)\n",
    "print(m1.bonus1)\n",
    "\n",
    "e1.display()\n",
    "m1.show()\n",
    "print(m1.bonus)\n",
    "m1.display()\n",
    "\n"
   ]
  },
  {
   "cell_type": "code",
   "execution_count": 8,
   "id": "0ea70817",
   "metadata": {},
   "outputs": [
    {
     "ename": "AttributeError",
     "evalue": "'Employee' object has no attribute 'bonus1'",
     "output_type": "error",
     "traceback": [
      "\u001b[0;31m---------------------------------------------------------------------------\u001b[0m",
      "\u001b[0;31mAttributeError\u001b[0m                            Traceback (most recent call last)",
      "\u001b[0;32m/tmp/ipykernel_14922/985189700.py\u001b[0m in \u001b[0;36m<module>\u001b[0;34m\u001b[0m\n\u001b[0;32m----> 1\u001b[0;31m \u001b[0me1\u001b[0m\u001b[0;34m.\u001b[0m\u001b[0mbonus1\u001b[0m\u001b[0;34m\u001b[0m\u001b[0;34m\u001b[0m\u001b[0m\n\u001b[0m",
      "\u001b[0;31mAttributeError\u001b[0m: 'Employee' object has no attribute 'bonus1'"
     ]
    }
   ],
   "source": [
    "e1.bonus1"
   ]
  },
  {
   "cell_type": "code",
   "execution_count": 9,
   "id": "7e5ed6ec",
   "metadata": {},
   "outputs": [],
   "source": [
    "## parent class constructor is available inside child class\n",
    "## if child class does not have constructor then parent constructor is called for child constructor\n",
    "## if child class has its constructor then only son constructor is called "
   ]
  },
  {
   "cell_type": "code",
   "execution_count": 20,
   "id": "8a3b4e81",
   "metadata": {},
   "outputs": [
    {
     "name": "stdout",
     "output_type": "stream",
     "text": [
      "Son constructor called\n",
      "{'vehicle': 'BMW'}\n"
     ]
    }
   ],
   "source": [
    "class Father:\n",
    "    def __init__(self,name,age):\n",
    "        print(\"Father constructor called\")\n",
    "        self.name=name\n",
    "        self.age=age\n",
    "\n",
    "class Son(Father):\n",
    "    def __init__(self):\n",
    "        print(\"Son constructor called\")\n",
    "        self.vehicle=\"BMW\"\n",
    "\n",
    "s1=Son()\n",
    "\n",
    "print(s1.__dict__)\n"
   ]
  },
  {
   "cell_type": "code",
   "execution_count": 25,
   "id": "3d848bec",
   "metadata": {},
   "outputs": [
    {
     "name": "stdout",
     "output_type": "stream",
     "text": [
      "Computer constructor called\n",
      "Mobile constructor called\n",
      "{'ram': '4gb', 'storage': '512gb', 'model': 'iphone'}\n",
      "4gb\n"
     ]
    }
   ],
   "source": [
    "class Computer:\n",
    "    def __init__(self):\n",
    "        self.ram='4gb'\n",
    "        self.storage='512gb'\n",
    "        print(\"Computer constructor called\")\n",
    "        \n",
    "class Mobile(Computer):\n",
    "    def __init__(self):\n",
    "        super().__init__()\n",
    "        self.model=\"iphone\"\n",
    "        print(\"Mobile constructor called\")\n",
    "        \n",
    "apple=Mobile()\n",
    "print(apple.__dict__)\n",
    "print(apple.ram)"
   ]
  },
  {
   "cell_type": "code",
   "execution_count": null,
   "id": "2ff0ff71",
   "metadata": {},
   "outputs": [],
   "source": []
  }
 ],
 "metadata": {
  "kernelspec": {
   "display_name": "Python 3 (ipykernel)",
   "language": "python",
   "name": "python3"
  },
  "language_info": {
   "codemirror_mode": {
    "name": "ipython",
    "version": 3
   },
   "file_extension": ".py",
   "mimetype": "text/x-python",
   "name": "python",
   "nbconvert_exporter": "python",
   "pygments_lexer": "ipython3",
   "version": "3.9.13"
  }
 },
 "nbformat": 4,
 "nbformat_minor": 5
}
