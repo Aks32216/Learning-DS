{
 "cells": [
  {
   "cell_type": "code",
   "execution_count": 1,
   "id": "b2d64dbe-eddf-4f12-bb56-bca30d0d4a86",
   "metadata": {},
   "outputs": [],
   "source": [
    "import abc\n",
    "\n",
    "class pwskills:\n",
    "    @abc.abstractmethod\n",
    "    def student_details(self):\n",
    "        pass\n",
    "    @abc.abstractmethod\n",
    "    def student_assignment(self):\n",
    "        pass\n",
    "    @abc.abstractmethod\n",
    "    def student_marks(self):\n",
    "        pass\n",
    "    "
   ]
  },
  {
   "cell_type": "code",
   "execution_count": 3,
   "id": "0fc85c18-c984-4dc8-90e2-243728e97120",
   "metadata": {},
   "outputs": [],
   "source": [
    "class student_details(pwskills):\n",
    "    def student_details(self):\n",
    "        return \"this is a method for taking student details\"\n",
    "    \n",
    "    def student_assignment(self):\n",
    "        return \"this is a method for assignment student\""
   ]
  },
  {
   "cell_type": "code",
   "execution_count": 4,
   "id": "9b22095c-928e-4fff-948b-f759f7227d4d",
   "metadata": {},
   "outputs": [],
   "source": [
    "class data_science_masters(pwskills):\n",
    "    def student_details(self):\n",
    "        return \"this is for data science details\"\n",
    "    def student_assignment(self):\n",
    "        return \"this is assignment for data science\""
   ]
  },
  {
   "cell_type": "code",
   "execution_count": 5,
   "id": "d81abe90-2117-416a-9ded-d2fda93e0b79",
   "metadata": {},
   "outputs": [],
   "source": [
    "p=pwskills()"
   ]
  },
  {
   "cell_type": "code",
   "execution_count": 6,
   "id": "d6eba9dd-5061-40fe-84b1-5a1272c3f2b8",
   "metadata": {},
   "outputs": [],
   "source": [
    "p.student_assignment()"
   ]
  },
  {
   "cell_type": "code",
   "execution_count": 8,
   "id": "3f796e6e-3598-4377-b0d0-9e1fa2da512a",
   "metadata": {},
   "outputs": [],
   "source": [
    "sd=student_details()\n"
   ]
  },
  {
   "cell_type": "code",
   "execution_count": 9,
   "id": "036a9002-4bd3-4442-be34-3148cbab456a",
   "metadata": {},
   "outputs": [
    {
     "data": {
      "text/plain": [
       "'this is a method for assignment student'"
      ]
     },
     "execution_count": 9,
     "metadata": {},
     "output_type": "execute_result"
    }
   ],
   "source": [
    "sd.student_assignment()"
   ]
  },
  {
   "cell_type": "code",
   "execution_count": 10,
   "id": "7eccdfaa-cd11-4959-817d-12d5d4057a14",
   "metadata": {},
   "outputs": [],
   "source": [
    "sd.student_marks()"
   ]
  },
  {
   "cell_type": "code",
   "execution_count": 11,
   "id": "f44edb06-c590-4dcf-b310-ee3526f1c337",
   "metadata": {},
   "outputs": [],
   "source": [
    "dsm=data_science_masters()"
   ]
  },
  {
   "cell_type": "code",
   "execution_count": 12,
   "id": "8e18b8fa-de89-4de9-9d7a-82e997eb489a",
   "metadata": {},
   "outputs": [
    {
     "data": {
      "text/plain": [
       "'this is for data science details'"
      ]
     },
     "execution_count": 12,
     "metadata": {},
     "output_type": "execute_result"
    }
   ],
   "source": [
    "dsm.student_details()"
   ]
  },
  {
   "cell_type": "code",
   "execution_count": 13,
   "id": "37b1cb5d-20d2-4e3b-85fe-af7b8eac20ca",
   "metadata": {},
   "outputs": [],
   "source": [
    "dsm.student_marks()"
   ]
  },
  {
   "cell_type": "code",
   "execution_count": 14,
   "id": "b1e5ffa0-f9e6-4e1d-95b7-43404b646a65",
   "metadata": {},
   "outputs": [
    {
     "data": {
      "text/plain": [
       "'this is assignment for data science'"
      ]
     },
     "execution_count": 14,
     "metadata": {},
     "output_type": "execute_result"
    }
   ],
   "source": [
    "dsm.student_assignment()"
   ]
  },
  {
   "cell_type": "code",
   "execution_count": 15,
   "id": "1fad2470-fb3e-40f8-9b7f-0af8b7b5517a",
   "metadata": {},
   "outputs": [
    {
     "data": {
      "text/plain": [
       "'this is a method for assignment student'"
      ]
     },
     "execution_count": 15,
     "metadata": {},
     "output_type": "execute_result"
    }
   ],
   "source": [
    "sd.student_assignment()"
   ]
  },
  {
   "cell_type": "code",
   "execution_count": null,
   "id": "0e1398dd-7662-45f8-a06c-4155e3e5d113",
   "metadata": {},
   "outputs": [],
   "source": []
  }
 ],
 "metadata": {
  "kernelspec": {
   "display_name": "Python 3 (ipykernel)",
   "language": "python",
   "name": "python3"
  },
  "language_info": {
   "codemirror_mode": {
    "name": "ipython",
    "version": 3
   },
   "file_extension": ".py",
   "mimetype": "text/x-python",
   "name": "python",
   "nbconvert_exporter": "python",
   "pygments_lexer": "ipython3",
   "version": "3.10.8"
  }
 },
 "nbformat": 4,
 "nbformat_minor": 5
}
