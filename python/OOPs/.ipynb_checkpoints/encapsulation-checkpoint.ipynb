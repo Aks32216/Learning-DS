{
 "cells": [
  {
   "cell_type": "code",
   "execution_count": 1,
   "id": "c78c53b5-a6c9-4158-b226-85fcbb59fad2",
   "metadata": {},
   "outputs": [],
   "source": [
    "## encapsulation"
   ]
  },
  {
   "cell_type": "code",
   "execution_count": 2,
   "id": "4c936aab-5b22-4ac8-a156-0e3ec7435bfb",
   "metadata": {},
   "outputs": [],
   "source": [
    "class test :\n",
    "    def __init__(self,a,b):\n",
    "        self.a=a\n",
    "        self.b=b\n",
    "    \n",
    "    \n",
    "t=test(23,32)\n"
   ]
  },
  {
   "cell_type": "code",
   "execution_count": 3,
   "id": "afdba559-bebf-4ede-bd00-061135341636",
   "metadata": {},
   "outputs": [],
   "source": [
    "t.a=544"
   ]
  },
  {
   "cell_type": "code",
   "execution_count": 4,
   "id": "6e2d190d-4700-46e9-8d38-7535b5a37469",
   "metadata": {},
   "outputs": [
    {
     "data": {
      "text/plain": [
       "544"
      ]
     },
     "execution_count": 4,
     "metadata": {},
     "output_type": "execute_result"
    }
   ],
   "source": [
    "t.a"
   ]
  },
  {
   "cell_type": "code",
   "execution_count": 5,
   "id": "4ee9f925-014a-4ccd-a24d-0b034ee19c5d",
   "metadata": {},
   "outputs": [
    {
     "data": {
      "text/plain": [
       "32"
      ]
     },
     "execution_count": 5,
     "metadata": {},
     "output_type": "execute_result"
    }
   ],
   "source": [
    "t.b"
   ]
  },
  {
   "cell_type": "code",
   "execution_count": 6,
   "id": "8a33df59-7986-47b4-aafa-0a1d2b104ed1",
   "metadata": {},
   "outputs": [],
   "source": [
    "t.b=4333223"
   ]
  },
  {
   "cell_type": "code",
   "execution_count": 7,
   "id": "a578f00e-8a5a-4087-befc-04b9aa0de30f",
   "metadata": {},
   "outputs": [
    {
     "data": {
      "text/plain": [
       "4333223"
      ]
     },
     "execution_count": 7,
     "metadata": {},
     "output_type": "execute_result"
    }
   ],
   "source": [
    "t.b"
   ]
  },
  {
   "cell_type": "code",
   "execution_count": 8,
   "id": "b54d6aba-1aa4-4e78-96c7-764a5edc1f67",
   "metadata": {},
   "outputs": [
    {
     "data": {
      "text/plain": [
       "544"
      ]
     },
     "execution_count": 8,
     "metadata": {},
     "output_type": "execute_result"
    }
   ],
   "source": [
    "t.a"
   ]
  },
  {
   "cell_type": "code",
   "execution_count": 40,
   "id": "f049604b-30ed-409d-8e02-a0d21eff7349",
   "metadata": {},
   "outputs": [],
   "source": [
    "__year=5433\n",
    "\n",
    "class car:\n",
    "    def __init__(self,year,make,model,speed):\n",
    "        self.__year=year\n",
    "        self.__make=make\n",
    "        self.__model=model\n",
    "        self.__speed=speed\n",
    "\n",
    "    def provideDetails(self):\n",
    "        print(self.__year,self.__make,self.__model,self.__speed)\n",
    "        \n",
    "    def changeSpeed(self,speed):\n",
    "        self.__speed=0 if speed < 0 else speed"
   ]
  },
  {
   "cell_type": "code",
   "execution_count": 41,
   "id": "0e912521-641a-449c-a1e5-53f9447c5811",
   "metadata": {},
   "outputs": [],
   "source": [
    "c=car(1974,\"ford\",\"vista\",55)"
   ]
  },
  {
   "cell_type": "code",
   "execution_count": 26,
   "id": "c2266305-d809-4615-a7ea-a1711781d615",
   "metadata": {},
   "outputs": [],
   "source": [
    "c.__year=433"
   ]
  },
  {
   "cell_type": "code",
   "execution_count": 42,
   "id": "d23468d8-b03a-4b21-bfbf-8e9f67fd9bb1",
   "metadata": {},
   "outputs": [
    {
     "name": "stdout",
     "output_type": "stream",
     "text": [
      "1974 ford vista 55\n"
     ]
    }
   ],
   "source": [
    "c.provideDetails()"
   ]
  },
  {
   "cell_type": "code",
   "execution_count": 28,
   "id": "55bc4777-6e0a-4e51-bfb0-3eab7f5a5fea",
   "metadata": {},
   "outputs": [],
   "source": [
    "c.__model=\"toyota\"\n"
   ]
  },
  {
   "cell_type": "code",
   "execution_count": 38,
   "id": "6f6497c0-d13c-449e-a27a-5ff460859c8e",
   "metadata": {},
   "outputs": [
    {
     "name": "stdout",
     "output_type": "stream",
     "text": [
      "1974 ford vista 55\n"
     ]
    }
   ],
   "source": [
    "c.provideDetails()"
   ]
  },
  {
   "cell_type": "code",
   "execution_count": 31,
   "id": "edf96dc7-8127-46d1-b788-bceabbdf968b",
   "metadata": {},
   "outputs": [
    {
     "data": {
      "text/plain": [
       "5433"
      ]
     },
     "execution_count": 31,
     "metadata": {},
     "output_type": "execute_result"
    }
   ],
   "source": [
    "__year"
   ]
  },
  {
   "cell_type": "code",
   "execution_count": 43,
   "id": "337e321b-f271-4c58-80c5-2634a25a9415",
   "metadata": {},
   "outputs": [],
   "source": [
    "c.changeSpeed(567)"
   ]
  },
  {
   "cell_type": "code",
   "execution_count": 44,
   "id": "8ce76a88-789f-40da-9dd5-79cbbbb870e9",
   "metadata": {},
   "outputs": [
    {
     "name": "stdout",
     "output_type": "stream",
     "text": [
      "1974 ford vista 567\n"
     ]
    }
   ],
   "source": [
    "c.provideDetails()"
   ]
  },
  {
   "cell_type": "code",
   "execution_count": 57,
   "id": "76e4666b-9714-4252-8561-0b88bf72159b",
   "metadata": {},
   "outputs": [],
   "source": [
    "class bank_account:\n",
    "    def __init__(self,balance):\n",
    "        self.__balance=balance\n",
    "        \n",
    "    def deposit(self,amount):\n",
    "        self.__balance+=amount if amount > 0 else 0\n",
    "        return f\"Your current balance is {self.get_balance()}\"\n",
    "    \n",
    "    def withdraw(self,amount):\n",
    "        if amount>self.__balance:\n",
    "            return \"cannot withdraw\"\n",
    "        self.__balance-=amount\n",
    "        return f\"Your current balance is {self.get_balance()}\"\n",
    "        \n",
    "        \n",
    "    def get_balance(self):\n",
    "        return self.__balance"
   ]
  },
  {
   "cell_type": "code",
   "execution_count": 58,
   "id": "bf24cade-a910-413b-b25b-87bbd579015e",
   "metadata": {},
   "outputs": [],
   "source": [
    "amish=bank_account(0)"
   ]
  },
  {
   "cell_type": "code",
   "execution_count": 59,
   "id": "7c42113d-8e2b-407f-8ef9-4fdf4c949ae0",
   "metadata": {},
   "outputs": [
    {
     "data": {
      "text/plain": [
       "'Your current balance is 5000'"
      ]
     },
     "execution_count": 59,
     "metadata": {},
     "output_type": "execute_result"
    }
   ],
   "source": [
    "amish.deposit(5000)"
   ]
  },
  {
   "cell_type": "code",
   "execution_count": 60,
   "id": "99167693-6555-40ed-9669-5d8281e5d937",
   "metadata": {},
   "outputs": [
    {
     "data": {
      "text/plain": [
       "'Your current balance is 4800'"
      ]
     },
     "execution_count": 60,
     "metadata": {},
     "output_type": "execute_result"
    }
   ],
   "source": [
    "amish.withdraw(200)"
   ]
  },
  {
   "cell_type": "code",
   "execution_count": 61,
   "id": "6eac0354-21fa-4a5b-a1ea-adab83bc8e2e",
   "metadata": {},
   "outputs": [
    {
     "data": {
      "text/plain": [
       "'Your current balance is 4200'"
      ]
     },
     "execution_count": 61,
     "metadata": {},
     "output_type": "execute_result"
    }
   ],
   "source": [
    "amish.withdraw(600)"
   ]
  },
  {
   "cell_type": "code",
   "execution_count": 62,
   "id": "65264649-0f39-4828-865c-4ca8ebd672a7",
   "metadata": {},
   "outputs": [
    {
     "data": {
      "text/plain": [
       "'cannot withdraw'"
      ]
     },
     "execution_count": 62,
     "metadata": {},
     "output_type": "execute_result"
    }
   ],
   "source": [
    "amish.withdraw(5000)"
   ]
  },
  {
   "cell_type": "code",
   "execution_count": 63,
   "id": "080b219c-9891-4c26-b2f9-440306bceec0",
   "metadata": {},
   "outputs": [
    {
     "data": {
      "text/plain": [
       "4200"
      ]
     },
     "execution_count": 63,
     "metadata": {},
     "output_type": "execute_result"
    }
   ],
   "source": [
    "amish.get_balance()"
   ]
  },
  {
   "cell_type": "code",
   "execution_count": null,
   "id": "7cad65f4-6ff2-4db3-b6b9-ef1d8c225ca5",
   "metadata": {},
   "outputs": [],
   "source": []
  }
 ],
 "metadata": {
  "kernelspec": {
   "display_name": "Python 3 (ipykernel)",
   "language": "python",
   "name": "python3"
  },
  "language_info": {
   "codemirror_mode": {
    "name": "ipython",
    "version": 3
   },
   "file_extension": ".py",
   "mimetype": "text/x-python",
   "name": "python",
   "nbconvert_exporter": "python",
   "pygments_lexer": "ipython3",
   "version": "3.9.13"
  }
 },
 "nbformat": 4,
 "nbformat_minor": 5
}
