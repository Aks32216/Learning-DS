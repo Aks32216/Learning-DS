{
 "cells": [
  {
   "cell_type": "code",
   "execution_count": 2,
   "id": "f76f65ae-6828-4530-97d3-7f08c35f4ade",
   "metadata": {},
   "outputs": [],
   "source": [
    "## inheritance\n",
    "## it helps in reusability of classes"
   ]
  },
  {
   "cell_type": "code",
   "execution_count": 3,
   "id": "a23fd16c-936b-4c65-b80b-8ba4533a4d3a",
   "metadata": {},
   "outputs": [],
   "source": [
    "class test:\n",
    "    \n",
    "    def test_meth(self):\n",
    "        return \"this is my first class\""
   ]
  },
  {
   "cell_type": "code",
   "execution_count": 4,
   "id": "fbccea5b-9af3-41ce-be6a-b0b627ba26df",
   "metadata": {},
   "outputs": [],
   "source": [
    "class child_test(test):\n",
    "    pass"
   ]
  },
  {
   "cell_type": "code",
   "execution_count": 5,
   "id": "424e464d-574e-43fd-8db5-2eff62b7c6e6",
   "metadata": {},
   "outputs": [],
   "source": [
    "child=child_test()"
   ]
  },
  {
   "cell_type": "code",
   "execution_count": 6,
   "id": "aac60a50-ce22-465e-89ed-d4938e90fbdb",
   "metadata": {},
   "outputs": [
    {
     "data": {
      "text/plain": [
       "'this is my first class'"
      ]
     },
     "execution_count": 6,
     "metadata": {},
     "output_type": "execute_result"
    }
   ],
   "source": [
    "child.test_meth()"
   ]
  },
  {
   "cell_type": "code",
   "execution_count": 7,
   "id": "b8392da2-5602-4de2-a336-5421352397a1",
   "metadata": {},
   "outputs": [],
   "source": [
    "class class1:\n",
    "    def test_class1(self):\n",
    "        return \"this is a metho from class1\"\n",
    "    "
   ]
  },
  {
   "cell_type": "code",
   "execution_count": 19,
   "id": "e26b5ae5-85d2-466f-b418-02f9ba3b0aae",
   "metadata": {},
   "outputs": [],
   "source": [
    "class class2(class1):\n",
    "    def test_class2(self):\n",
    "        return \"this is a metho from class2\""
   ]
  },
  {
   "cell_type": "code",
   "execution_count": 20,
   "id": "5b0b2560-0833-4b71-86ca-49b94bd8b403",
   "metadata": {},
   "outputs": [],
   "source": [
    "class class3(class2):\n",
    "    pass"
   ]
  },
  {
   "cell_type": "code",
   "execution_count": 21,
   "id": "b2b916c6-8140-4fe7-b81d-7b7cd90f8f3f",
   "metadata": {},
   "outputs": [],
   "source": [
    "c=class3()"
   ]
  },
  {
   "cell_type": "code",
   "execution_count": 23,
   "id": "7985dceb-6236-447a-9120-8af8cb06ba0f",
   "metadata": {},
   "outputs": [
    {
     "data": {
      "text/plain": [
       "'this is a metho from class1'"
      ]
     },
     "execution_count": 23,
     "metadata": {},
     "output_type": "execute_result"
    }
   ],
   "source": [
    "c.test_class1()"
   ]
  },
  {
   "cell_type": "code",
   "execution_count": 18,
   "id": "adef7521-61fb-436e-bb17-63b7bfcded5b",
   "metadata": {},
   "outputs": [
    {
     "data": {
      "text/plain": [
       "'this is a metho from class1'"
      ]
     },
     "execution_count": 18,
     "metadata": {},
     "output_type": "execute_result"
    }
   ],
   "source": [
    "c.test_class1()"
   ]
  },
  {
   "cell_type": "code",
   "execution_count": 24,
   "id": "8c574730-18b4-453a-8cef-1d38b8d1ab58",
   "metadata": {},
   "outputs": [],
   "source": [
    "class myClass:\n",
    "    def hello(self):\n",
    "        return \"hello from my class\""
   ]
  },
  {
   "cell_type": "code",
   "execution_count": 25,
   "id": "c2160b08-71f3-42a4-9f03-ac82edacaab1",
   "metadata": {},
   "outputs": [],
   "source": [
    "class yourClass:\n",
    "    def hello(self):\n",
    "        return \"hello from your class\""
   ]
  },
  {
   "cell_type": "code",
   "execution_count": 34,
   "id": "96cfdcaf-b2b7-43f5-9b5f-f51ea36d3f20",
   "metadata": {},
   "outputs": [],
   "source": [
    "class ourClass(myClass,yourClass):\n",
    "    pass"
   ]
  },
  {
   "cell_type": "code",
   "execution_count": 32,
   "id": "edeca382-76a0-40ab-b932-e5c5231b90c4",
   "metadata": {},
   "outputs": [],
   "source": [
    "c=ourClass()"
   ]
  },
  {
   "cell_type": "code",
   "execution_count": 33,
   "id": "6b43bad9-6bb8-4272-b8e5-03b332437784",
   "metadata": {},
   "outputs": [
    {
     "data": {
      "text/plain": [
       "'hello from my class'"
      ]
     },
     "execution_count": 33,
     "metadata": {},
     "output_type": "execute_result"
    }
   ],
   "source": [
    "c.hello()"
   ]
  },
  {
   "cell_type": "code",
   "execution_count": 35,
   "id": "1f674661-053a-42b3-aa29-d80edfcd3b32",
   "metadata": {},
   "outputs": [],
   "source": [
    "class class1:\n",
    "    def test_class1(self):\n",
    "        return \"this is class1\""
   ]
  },
  {
   "cell_type": "code",
   "execution_count": 36,
   "id": "47d01d8a-3a3c-4058-866a-92762ea87c33",
   "metadata": {},
   "outputs": [],
   "source": [
    "class class2:\n",
    "    def test_class2(self):\n",
    "        return \"this is class2\""
   ]
  },
  {
   "cell_type": "code",
   "execution_count": 37,
   "id": "477c46bb-a748-4c9e-83c1-08039bdb59b0",
   "metadata": {},
   "outputs": [],
   "source": [
    "class class3(class1,class2):\n",
    "    pass\n"
   ]
  },
  {
   "cell_type": "code",
   "execution_count": 38,
   "id": "1634eec8-450c-4f4c-a29b-8a887a0098b3",
   "metadata": {},
   "outputs": [],
   "source": [
    "class3_obj=class3()"
   ]
  },
  {
   "cell_type": "code",
   "execution_count": 39,
   "id": "5d7dad74-fe6f-4c54-9916-22542ac2ef23",
   "metadata": {},
   "outputs": [
    {
     "data": {
      "text/plain": [
       "'this is class2'"
      ]
     },
     "execution_count": 39,
     "metadata": {},
     "output_type": "execute_result"
    }
   ],
   "source": [
    "class3_obj.test_class2()"
   ]
  },
  {
   "cell_type": "code",
   "execution_count": 40,
   "id": "1bba27f0-d2a3-4fa4-8413-c4c71c848f6d",
   "metadata": {},
   "outputs": [
    {
     "data": {
      "text/plain": [
       "'this is class1'"
      ]
     },
     "execution_count": 40,
     "metadata": {},
     "output_type": "execute_result"
    }
   ],
   "source": [
    "class3_obj.test_class1()"
   ]
  },
  {
   "cell_type": "code",
   "execution_count": null,
   "id": "ce19f783-386f-4801-8b63-2f5f45e2a686",
   "metadata": {},
   "outputs": [],
   "source": []
  }
 ],
 "metadata": {
  "kernelspec": {
   "display_name": "Python 3 (ipykernel)",
   "language": "python",
   "name": "python3"
  },
  "language_info": {
   "codemirror_mode": {
    "name": "ipython",
    "version": 3
   },
   "file_extension": ".py",
   "mimetype": "text/x-python",
   "name": "python",
   "nbconvert_exporter": "python",
   "pygments_lexer": "ipython3",
   "version": "3.9.13"
  }
 },
 "nbformat": 4,
 "nbformat_minor": 5
}
