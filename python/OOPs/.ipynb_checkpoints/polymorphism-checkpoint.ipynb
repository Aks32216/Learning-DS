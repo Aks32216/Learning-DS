{
 "cells": [
  {
   "cell_type": "code",
   "execution_count": 2,
   "id": "3a4f1acf-2cdf-4577-9b05-5567fc4757dc",
   "metadata": {},
   "outputs": [],
   "source": [
    "## polymorphism\n",
    "## multiple behaviour of a entity in different situation is polymorphism"
   ]
  },
  {
   "cell_type": "code",
   "execution_count": 3,
   "id": "1dc4eb59-07f5-4aa1-9e3f-fc2fc1a969fb",
   "metadata": {},
   "outputs": [],
   "source": [
    "def test(a,b):\n",
    "    return a+b\n"
   ]
  },
  {
   "cell_type": "code",
   "execution_count": 4,
   "id": "db3a01b8-69e6-40d7-bd03-90f810e6d849",
   "metadata": {},
   "outputs": [
    {
     "ename": "TypeError",
     "evalue": "can only concatenate str (not \"int\") to str",
     "output_type": "error",
     "traceback": [
      "\u001b[0;31m---------------------------------------------------------------------------\u001b[0m",
      "\u001b[0;31mTypeError\u001b[0m                                 Traceback (most recent call last)",
      "Cell \u001b[0;32mIn[4], line 1\u001b[0m\n\u001b[0;32m----> 1\u001b[0m \u001b[43mtest\u001b[49m\u001b[43m(\u001b[49m\u001b[38;5;124;43m\"\u001b[39;49m\u001b[38;5;124;43mamish\u001b[39;49m\u001b[38;5;124;43m\"\u001b[39;49m\u001b[43m,\u001b[49m\u001b[38;5;241;43m5\u001b[39;49m\u001b[43m)\u001b[49m\n",
      "Cell \u001b[0;32mIn[3], line 2\u001b[0m, in \u001b[0;36mtest\u001b[0;34m(a, b)\u001b[0m\n\u001b[1;32m      1\u001b[0m \u001b[38;5;28;01mdef\u001b[39;00m \u001b[38;5;21mtest\u001b[39m(a,b):\n\u001b[0;32m----> 2\u001b[0m     \u001b[38;5;28;01mreturn\u001b[39;00m \u001b[43ma\u001b[49m\u001b[38;5;241;43m+\u001b[39;49m\u001b[43mb\u001b[49m\n",
      "\u001b[0;31mTypeError\u001b[0m: can only concatenate str (not \"int\") to str"
     ]
    }
   ],
   "source": [
    "test(\"amish\",5)"
   ]
  },
  {
   "cell_type": "code",
   "execution_count": 5,
   "id": "03d75b04-552a-4f62-a4fa-204716c96093",
   "metadata": {},
   "outputs": [
    {
     "data": {
      "text/plain": [
       "11"
      ]
     },
     "execution_count": 5,
     "metadata": {},
     "output_type": "execute_result"
    }
   ],
   "source": [
    "test(5,6)"
   ]
  },
  {
   "cell_type": "code",
   "execution_count": 6,
   "id": "70ba31ff-e01a-4e12-b47a-fced69cc0831",
   "metadata": {},
   "outputs": [
    {
     "data": {
      "text/plain": [
       "'amishkumar'"
      ]
     },
     "execution_count": 6,
     "metadata": {},
     "output_type": "execute_result"
    }
   ],
   "source": [
    "test(\"amish\",\"kumar\")"
   ]
  },
  {
   "cell_type": "code",
   "execution_count": 7,
   "id": "2f79c10d-f9d3-4fa9-b814-e797e0c2b4c5",
   "metadata": {},
   "outputs": [
    {
     "data": {
      "text/plain": [
       "10.666"
      ]
     },
     "execution_count": 7,
     "metadata": {},
     "output_type": "execute_result"
    }
   ],
   "source": [
    "test(5,5.666)"
   ]
  },
  {
   "cell_type": "code",
   "execution_count": 8,
   "id": "d20ec79d-7dec-4d65-b748-b70e3e2ad00a",
   "metadata": {},
   "outputs": [
    {
     "data": {
      "text/plain": [
       "(10+6j)"
      ]
     },
     "execution_count": 8,
     "metadata": {},
     "output_type": "execute_result"
    }
   ],
   "source": [
    "test(5,5+6j)"
   ]
  },
  {
   "cell_type": "code",
   "execution_count": 9,
   "id": "53556aa6-b137-46f9-b7b3-c77da389e4e1",
   "metadata": {},
   "outputs": [],
   "source": [
    "class dataScience:\n",
    "    \n",
    "    def syllabus(self):\n",
    "        print(\"This is my syllabus for DS masters\")"
   ]
  },
  {
   "cell_type": "code",
   "execution_count": 10,
   "id": "812fe5c2-a4d0-4094-ab6f-4e2bcb472797",
   "metadata": {},
   "outputs": [],
   "source": [
    "class webDev:\n",
    "    \n",
    "    def syllabus(self):\n",
    "        print(\"This is my syllabus for web dev\")"
   ]
  },
  {
   "cell_type": "code",
   "execution_count": 11,
   "id": "4053851e-368a-4a6f-9d63-aa8a65816f22",
   "metadata": {},
   "outputs": [],
   "source": [
    "def class_percer(class_obj):\n",
    "    for i in class_obj:\n",
    "        i.syllabus()"
   ]
  },
  {
   "cell_type": "code",
   "execution_count": 12,
   "id": "9b08767f-5a2c-4b97-bf1d-a59f90c13041",
   "metadata": {},
   "outputs": [],
   "source": [
    "data_science=dataScience()"
   ]
  },
  {
   "cell_type": "code",
   "execution_count": 14,
   "id": "8b260c9e-ba05-4595-992f-41e7ef4be451",
   "metadata": {},
   "outputs": [],
   "source": [
    "web_dev=webDev()"
   ]
  },
  {
   "cell_type": "code",
   "execution_count": 15,
   "id": "bfc91503-96d0-49f5-9d57-e8970df48198",
   "metadata": {},
   "outputs": [],
   "source": [
    "class_obj=[data_science,web_dev]"
   ]
  },
  {
   "cell_type": "code",
   "execution_count": 16,
   "id": "ebd6d879-ae8e-4030-b95b-a5340353a92a",
   "metadata": {},
   "outputs": [
    {
     "name": "stdout",
     "output_type": "stream",
     "text": [
      "This is my syllabus for DS masters\n",
      "This is my syllabus for web dev\n"
     ]
    }
   ],
   "source": [
    "class_percer(class_obj)"
   ]
  },
  {
   "cell_type": "code",
   "execution_count": 1,
   "id": "5f30959b-6300-47e9-8818-e66db24780ff",
   "metadata": {},
   "outputs": [
    {
     "data": {
      "text/plain": [
       "30"
      ]
     },
     "execution_count": 1,
     "metadata": {},
     "output_type": "execute_result"
    }
   ],
   "source": [
    " 10+20"
   ]
  },
  {
   "cell_type": "code",
   "execution_count": 2,
   "id": "291d7ce7",
   "metadata": {},
   "outputs": [
    {
     "data": {
      "text/plain": [
       "'amishsingh'"
      ]
     },
     "execution_count": 2,
     "metadata": {},
     "output_type": "execute_result"
    }
   ],
   "source": [
    "\"amish\"+\"singh\""
   ]
  },
  {
   "cell_type": "code",
   "execution_count": 3,
   "id": "0aa8ad33",
   "metadata": {},
   "outputs": [
    {
     "ename": "TypeError",
     "evalue": "can only concatenate str (not \"int\") to str",
     "output_type": "error",
     "traceback": [
      "\u001b[0;31m---------------------------------------------------------------------------\u001b[0m",
      "\u001b[0;31mTypeError\u001b[0m                                 Traceback (most recent call last)",
      "\u001b[0;32m/tmp/ipykernel_48684/3994329870.py\u001b[0m in \u001b[0;36m<module>\u001b[0;34m\u001b[0m\n\u001b[0;32m----> 1\u001b[0;31m \u001b[0;34m\"amish\"\u001b[0m\u001b[0;34m+\u001b[0m\u001b[0;36m5\u001b[0m\u001b[0;34m\u001b[0m\u001b[0;34m\u001b[0m\u001b[0m\n\u001b[0m",
      "\u001b[0;31mTypeError\u001b[0m: can only concatenate str (not \"int\") to str"
     ]
    }
   ],
   "source": [
    "\"amish\"+5"
   ]
  },
  {
   "cell_type": "code",
   "execution_count": 4,
   "id": "f05c7ad1",
   "metadata": {},
   "outputs": [
    {
     "name": "stdout",
     "output_type": "stream",
     "text": [
      "5\n",
      "7\n",
      "10\n",
      "5\n"
     ]
    }
   ],
   "source": [
    "st=\"amish\"\n",
    "l1=[1,2,3,4,5,6,7]\n",
    "t1=(1,2,3,4,5,6,6,6,6,6)\n",
    "s1={1,2,3,4,4,4,3,3,3,4,4,5,5,5}\n",
    "\n",
    "print(len(st))\n",
    "print(len(l1))\n",
    "print(len(t1))\n",
    "print(len(s1))"
   ]
  },
  {
   "cell_type": "code",
   "execution_count": 5,
   "id": "ca140505",
   "metadata": {},
   "outputs": [
    {
     "data": {
      "text/plain": [
       "<reversed at 0x7fe365762be0>"
      ]
     },
     "execution_count": 5,
     "metadata": {},
     "output_type": "execute_result"
    }
   ],
   "source": [
    "reversed(st)"
   ]
  },
  {
   "cell_type": "code",
   "execution_count": 6,
   "id": "fc9b8a0a",
   "metadata": {},
   "outputs": [
    {
     "name": "stdout",
     "output_type": "stream",
     "text": [
      "h\n",
      "s\n",
      "i\n",
      "m\n",
      "a\n"
     ]
    }
   ],
   "source": [
    "for i in reversed(st):\n",
    "    print(i)"
   ]
  },
  {
   "cell_type": "code",
   "execution_count": 7,
   "id": "094c9e4a",
   "metadata": {},
   "outputs": [
    {
     "name": "stdout",
     "output_type": "stream",
     "text": [
      "7\n",
      "6\n",
      "5\n",
      "4\n",
      "3\n",
      "2\n",
      "1\n"
     ]
    }
   ],
   "source": [
    "for i in reversed(l1):\n",
    "    print(i)"
   ]
  },
  {
   "cell_type": "code",
   "execution_count": 10,
   "id": "1f7707ab",
   "metadata": {},
   "outputs": [
    {
     "name": "stdout",
     "output_type": "stream",
     "text": [
      "name is Truce\n",
      "color is red\n",
      "price is 1500000\n",
      "name is BMW\n",
      "color is green\n",
      "price is 1900000000\n",
      "Maximum speed limit is 100\n",
      "Maximum speed limit is 140\n",
      "Gear changes is 6\n",
      "Gear changes is 7\n"
     ]
    }
   ],
   "source": [
    "class Vehicle:\n",
    "    def __init__(self,name,color,price):\n",
    "        self.name=name\n",
    "        self.color=color\n",
    "        self.price=price\n",
    "        \n",
    "    def getDetails(self):\n",
    "        print(f\"name is {self.name}\")\n",
    "        print(f\"color is {self.color}\")\n",
    "        print(f\"price is {self.price}\")\n",
    "        \n",
    "    def maxSpeed(self):\n",
    "        print(\"Maximum speed limit is 100\")\n",
    "    \n",
    "    def gear(self):\n",
    "        print(\"Gear changes is 6\")\n",
    "\n",
    "\n",
    "class Car(Vehicle):\n",
    "    def maxSpeed(self):\n",
    "        print(\"Maximum speed limit is 140\")\n",
    "        \n",
    "    def gear(self):\n",
    "        print(\"Gear changes is 7\")\n",
    "        \n",
    "        \n",
    "v1=Vehicle(\"Truce\",\"red\",1500000)\n",
    "c1=Car(\"BMW\",\"green\",1900000000)\n",
    "\n",
    "v1.getDetails()\n",
    "c1.getDetails()\n",
    "\n",
    "v1.maxSpeed()\n",
    "c1.maxSpeed()\n",
    "\n",
    "v1.gear()\n",
    "c1.gear()"
   ]
  },
  {
   "cell_type": "code",
   "execution_count": 1,
   "id": "6ec92b66",
   "metadata": {},
   "outputs": [
    {
     "name": "stdout",
     "output_type": "stream",
     "text": [
      "This is a clart class object at 140714411548576\n"
     ]
    }
   ],
   "source": [
    "class Cart:\n",
    "    def __str__(self):\n",
    "        return f\"This is a clart class object at {id(self)}\"\n",
    "\n",
    "c1=Cart()\n",
    "\n",
    "print(c1)"
   ]
  },
  {
   "cell_type": "code",
   "execution_count": 7,
   "id": "01701cd8",
   "metadata": {},
   "outputs": [],
   "source": [
    "class Cart:\n",
    "    def __init__(self,b1,b2,b3):\n",
    "        self.clothes=b1\n",
    "        self.electronics=b2\n",
    "        self.other=b3\n",
    "    \n",
    "    def __len__(self):\n",
    "        print(\"Total items in cart = \")\n",
    "        total=len(self.clothes)+len(self.electronics)+len(self.other)\n",
    "        return total\n",
    "        \n",
    "shanti=Cart([\"pant\",\"shirt\",\"tshirt\"],[\"mobile\",\"earphone\"],[\"chair\"])"
   ]
  },
  {
   "cell_type": "code",
   "execution_count": 8,
   "id": "6af5434d",
   "metadata": {},
   "outputs": [
    {
     "name": "stdout",
     "output_type": "stream",
     "text": [
      "Total items in cart = \n",
      "6\n"
     ]
    }
   ],
   "source": [
    "print(len(shanti)) ## want the number of items"
   ]
  },
  {
   "cell_type": "code",
   "execution_count": null,
   "id": "aa0b3ff7",
   "metadata": {},
   "outputs": [],
   "source": []
  }
 ],
 "metadata": {
  "kernelspec": {
   "display_name": "Python 3 (ipykernel)",
   "language": "python",
   "name": "python3"
  },
  "language_info": {
   "codemirror_mode": {
    "name": "ipython",
    "version": 3
   },
   "file_extension": ".py",
   "mimetype": "text/x-python",
   "name": "python",
   "nbconvert_exporter": "python",
   "pygments_lexer": "ipython3",
   "version": "3.9.13"
  }
 },
 "nbformat": 4,
 "nbformat_minor": 5
}
