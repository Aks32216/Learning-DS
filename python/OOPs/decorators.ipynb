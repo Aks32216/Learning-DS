{
 "cells": [
  {
   "cell_type": "code",
   "execution_count": 17,
   "id": "49536abc-cad4-4741-8824-264335f72770",
   "metadata": {},
   "outputs": [],
   "source": [
    "def test(func):\n",
    "    print(\"This is the start of my function\")\n",
    "    print(\"This is my function to test\")\n",
    "    print(4+5)\n",
    "    func()\n",
    "    print(\"This is the end of my function\")"
   ]
  },
  {
   "cell_type": "code",
   "execution_count": 6,
   "id": "4486dce9-3fba-4092-b2fb-c55ce8c1f7d4",
   "metadata": {},
   "outputs": [
    {
     "name": "stdout",
     "output_type": "stream",
     "text": [
      "This is the start of my function\n",
      "This is my function to test\n",
      "9\n",
      "This is the end of my function\n"
     ]
    }
   ],
   "source": [
    "test()"
   ]
  },
  {
   "cell_type": "code",
   "execution_count": 7,
   "id": "9a7decef-9c53-44c8-9453-3ebe0afa6517",
   "metadata": {},
   "outputs": [],
   "source": [
    "def decorate(func):\n",
    "    def inner_dec():\n",
    "        print(\"this is my start of function\")\n",
    "        func()\n",
    "        print(\"thisis the end of my function\")\n",
    "    return inner_dec\n",
    "\n"
   ]
  },
  {
   "cell_type": "code",
   "execution_count": 13,
   "id": "4ffecfec-83bf-48f0-9def-78737ec15416",
   "metadata": {},
   "outputs": [],
   "source": [
    "@decorate\n",
    "def test1():\n",
    "    print(6+7)"
   ]
  },
  {
   "cell_type": "code",
   "execution_count": 14,
   "id": "e9987b6c-dd1f-4f4b-9df6-fbb0a0e1224f",
   "metadata": {},
   "outputs": [
    {
     "name": "stdout",
     "output_type": "stream",
     "text": [
      "this is my start of function\n",
      "13\n",
      "thisis the end of my function\n"
     ]
    }
   ],
   "source": [
    "test1()"
   ]
  },
  {
   "cell_type": "code",
   "execution_count": 11,
   "id": "c72eeb53-4aa2-4163-90c7-ece07251002c",
   "metadata": {},
   "outputs": [
    {
     "name": "stdout",
     "output_type": "stream",
     "text": [
      "this is my start of function\n",
      "13\n",
      "thisis the end of my function\n"
     ]
    }
   ],
   "source": [
    "decorate(test1)()"
   ]
  },
  {
   "cell_type": "code",
   "execution_count": 18,
   "id": "19f47222-62ad-4c01-9b04-7d7e96799f51",
   "metadata": {},
   "outputs": [
    {
     "name": "stdout",
     "output_type": "stream",
     "text": [
      "This is the start of my function\n",
      "This is my function to test\n",
      "9\n",
      "18\n",
      "This is the end of my function\n"
     ]
    }
   ],
   "source": [
    "@test\n",
    "def test1():\n",
    "    print(9+9)"
   ]
  },
  {
   "cell_type": "code",
   "execution_count": 19,
   "id": "565103ae-aeda-4f33-a56a-db9a533df4bb",
   "metadata": {},
   "outputs": [],
   "source": [
    "import time\n",
    "\n",
    "def timer_test(func):\n",
    "    def timer_test_inner():\n",
    "        start=time.time()\n",
    "        func()\n",
    "        end=time.time()\n",
    "        print(end-start)\n",
    "    return timer_test_inner\n",
    "\n"
   ]
  },
  {
   "cell_type": "code",
   "execution_count": 20,
   "id": "8f313ce3-fc1b-41e0-aded-bfd2bfc56d40",
   "metadata": {},
   "outputs": [],
   "source": [
    "@timer_test\n",
    "def test2():\n",
    "    print(544323+533)"
   ]
  },
  {
   "cell_type": "code",
   "execution_count": 21,
   "id": "2d2d01fd-c10d-4d42-9152-e5a0957b9801",
   "metadata": {},
   "outputs": [
    {
     "name": "stdout",
     "output_type": "stream",
     "text": [
      "544856\n",
      "5.269050598144531e-05\n"
     ]
    }
   ],
   "source": [
    "test2()"
   ]
  },
  {
   "cell_type": "code",
   "execution_count": null,
   "id": "0709c02b-ff3b-41bc-a06d-c1c8821e0e88",
   "metadata": {},
   "outputs": [],
   "source": [
    "@timer_test\n",
    "def test3():\n",
    "    for i in range(10000000000):\n",
    "        pass"
   ]
  },
  {
   "cell_type": "code",
   "execution_count": null,
   "id": "cd6c09d4-ed14-455b-838a-853809de0f70",
   "metadata": {},
   "outputs": [],
   "source": [
    "test3()"
   ]
  },
  {
   "cell_type": "code",
   "execution_count": null,
   "id": "1bfe7390-ce29-450c-984d-85f5e31b6747",
   "metadata": {},
   "outputs": [],
   "source": []
  }
 ],
 "metadata": {
  "kernelspec": {
   "display_name": "Python 3 (ipykernel)",
   "language": "python",
   "name": "python3"
  },
  "language_info": {
   "codemirror_mode": {
    "name": "ipython",
    "version": 3
   },
   "file_extension": ".py",
   "mimetype": "text/x-python",
   "name": "python",
   "nbconvert_exporter": "python",
   "pygments_lexer": "ipython3",
   "version": "3.10.8"
  }
 },
 "nbformat": 4,
 "nbformat_minor": 5
}
