{
 "cells": [
  {
   "cell_type": "code",
   "execution_count": 1,
   "id": "87df77b8-1dcb-4ba6-b754-2ab575e221c1",
   "metadata": {},
   "outputs": [
    {
     "name": "stdout",
     "output_type": "stream",
     "text": [
      "1\n",
      "2\n",
      "3\n",
      "4\n",
      "5\n",
      "6\n",
      "7\n",
      "8\n",
      "9\n"
     ]
    }
   ],
   "source": [
    "for i in range(1,10):\n",
    "    print(i)"
   ]
  },
  {
   "cell_type": "code",
   "execution_count": 2,
   "id": "19ac41d7-9099-4ab6-b401-048fd7a0f21b",
   "metadata": {},
   "outputs": [],
   "source": [
    "l=[1,2,3,4,5,6]"
   ]
  },
  {
   "cell_type": "code",
   "execution_count": 3,
   "id": "fdcbe273-ffb4-4409-aaee-73c8aacc97b6",
   "metadata": {},
   "outputs": [
    {
     "data": {
      "text/plain": [
       "[2, 3, 4, 5, 6, 7]"
      ]
     },
     "execution_count": 3,
     "metadata": {},
     "output_type": "execute_result"
    }
   ],
   "source": [
    "for i in range(len(l)):\n",
    "    l[i]+=1\n",
    "l"
   ]
  },
  {
   "cell_type": "code",
   "execution_count": 4,
   "id": "b5ad3604-1042-4a42-9a69-5b19bfc297c1",
   "metadata": {},
   "outputs": [
    {
     "name": "stdout",
     "output_type": "stream",
     "text": [
      "2\n",
      "3\n",
      "4\n",
      "5\n",
      "6\n",
      "7\n"
     ]
    }
   ],
   "source": [
    "for i in l:\n",
    "    print(i)"
   ]
  },
  {
   "cell_type": "code",
   "execution_count": 5,
   "id": "ef21119c-6b7d-4aaf-8dc3-1c718572b109",
   "metadata": {},
   "outputs": [
    {
     "ename": "TypeError",
     "evalue": "cannot unpack non-iterable int object",
     "output_type": "error",
     "traceback": [
      "\u001b[0;31m---------------------------------------------------------------------------\u001b[0m",
      "\u001b[0;31mTypeError\u001b[0m                                 Traceback (most recent call last)",
      "Cell \u001b[0;32mIn[5], line 1\u001b[0m\n\u001b[0;32m----> 1\u001b[0m \u001b[38;5;28;01mfor\u001b[39;00m (index,value) \u001b[38;5;129;01min\u001b[39;00m l:\n\u001b[1;32m      2\u001b[0m     l[index]\u001b[38;5;241m=\u001b[39mvalue\u001b[38;5;241m+\u001b[39m\u001b[38;5;241m1\u001b[39m\n",
      "\u001b[0;31mTypeError\u001b[0m: cannot unpack non-iterable int object"
     ]
    }
   ],
   "source": [
    "for (index,value) in l:\n",
    "    l[index]=value+1"
   ]
  },
  {
   "cell_type": "code",
   "execution_count": 6,
   "id": "f204bda5-c5c7-434f-8b0e-0bf31717a5f9",
   "metadata": {},
   "outputs": [],
   "source": [
    "l1=['amish','kumar','singh','ashish']"
   ]
  },
  {
   "cell_type": "code",
   "execution_count": 9,
   "id": "1b32e3e5-6ad8-4eea-a1a3-d36453b73044",
   "metadata": {},
   "outputs": [
    {
     "name": "stdout",
     "output_type": "stream",
     "text": [
      "amish kumar singh ashish "
     ]
    }
   ],
   "source": [
    "for i in l1:\n",
    "    print(i,end=' ')"
   ]
  },
  {
   "cell_type": "code",
   "execution_count": 10,
   "id": "ab83e66f-b00a-4576-8e2a-f52817eac98f",
   "metadata": {},
   "outputs": [
    {
     "name": "stdout",
     "output_type": "stream",
     "text": [
      "* \n",
      "* * \n",
      "* * * \n",
      "* * * * \n",
      "* * * * * \n"
     ]
    }
   ],
   "source": [
    "for i in range(1,6):\n",
    "    for j in range(0,i):\n",
    "        print('*',end=' ')\n",
    "    print()"
   ]
  },
  {
   "cell_type": "code",
   "execution_count": 11,
   "id": "0b942cfe-1b93-4a3e-9b9b-40a522692b36",
   "metadata": {},
   "outputs": [
    {
     "name": "stdout",
     "output_type": "stream",
     "text": [
      "amish\n",
      "kumar\n",
      "singh\n",
      "ashish\n",
      "if for loop is executed completely then only else will execute itself\n"
     ]
    }
   ],
   "source": [
    "for i in l1:\n",
    "    print(i)\n",
    "else:\n",
    "    print('if for loop is executed completely then only else will execute itself')"
   ]
  },
  {
   "cell_type": "code",
   "execution_count": 13,
   "id": "2ada7665-3839-4d30-aec1-2d4ab6231d22",
   "metadata": {},
   "outputs": [],
   "source": [
    "## for else loop in python"
   ]
  },
  {
   "cell_type": "code",
   "execution_count": 12,
   "id": "9990d376-f540-4a05-9f03-ab4030b8a2f9",
   "metadata": {},
   "outputs": [
    {
     "name": "stdout",
     "output_type": "stream",
     "text": [
      "encountered kumar\n"
     ]
    }
   ],
   "source": [
    "for i in l1:\n",
    "    if i=='kumar':\n",
    "        print('encountered kumar')\n",
    "        break\n",
    "else:\n",
    "    print('else not executed')"
   ]
  },
  {
   "cell_type": "code",
   "execution_count": 14,
   "id": "69388b54-3e56-4639-a593-8fe01019e795",
   "metadata": {},
   "outputs": [
    {
     "name": "stdout",
     "output_type": "stream",
     "text": [
      "am\n",
      "ku\n",
      "si\n",
      "as\n"
     ]
    }
   ],
   "source": [
    "for i in l1:\n",
    "    print(i[0:2])"
   ]
  },
  {
   "cell_type": "code",
   "execution_count": 15,
   "id": "53e12737-6b53-46ca-970e-3bc521fc46e3",
   "metadata": {},
   "outputs": [
    {
     "data": {
      "text/plain": [
       "['amish', 'kumar', 'singh', 'ashish']"
      ]
     },
     "execution_count": 15,
     "metadata": {},
     "output_type": "execute_result"
    }
   ],
   "source": [
    "l1"
   ]
  },
  {
   "cell_type": "code",
   "execution_count": 16,
   "id": "8d0bde8d-51cf-46a3-8e6b-15e8e57f77ef",
   "metadata": {},
   "outputs": [
    {
     "name": "stdout",
     "output_type": "stream",
     "text": [
      "amish\n",
      "singh\n",
      "ashish\n"
     ]
    }
   ],
   "source": [
    "for i in l1:\n",
    "    if i=='kumar':\n",
    "        continue\n",
    "    print(i)"
   ]
  },
  {
   "cell_type": "code",
   "execution_count": 17,
   "id": "9bf39607-3e5e-4387-871e-99e6eb9e6a78",
   "metadata": {},
   "outputs": [],
   "source": [
    "for i in l1:\n",
    "    if i=='kumar':\n",
    "        break\n",
    "    elif i=='amish':\n",
    "        continue\n",
    "    else:\n",
    "        print(i)"
   ]
  },
  {
   "cell_type": "code",
   "execution_count": 19,
   "id": "0247b801-e3f0-4434-9bdc-580e489ed2b2",
   "metadata": {},
   "outputs": [
    {
     "name": "stdout",
     "output_type": "stream",
     "text": [
      "1\n",
      "2\n",
      "fizz\n",
      "4\n",
      "buzz\n",
      "fizz\n",
      "7\n",
      "8\n",
      "fizz\n",
      "buzz\n",
      "11\n",
      "fizz\n",
      "13\n",
      "14\n",
      "fizz buzz\n",
      "16\n",
      "17\n",
      "fizz\n",
      "19\n"
     ]
    }
   ],
   "source": [
    "for i in range(1,20):\n",
    "    if i%3==0 and i%5==0:\n",
    "        print('fizz buzz')\n",
    "    elif i%3==0:\n",
    "        print('fizz')\n",
    "    elif i%5==0:\n",
    "        print('buzz')\n",
    "    else:\n",
    "        print(i)"
   ]
  },
  {
   "cell_type": "code",
   "execution_count": 20,
   "id": "839a281a-7ce8-4ca6-b300-93e9c769b311",
   "metadata": {},
   "outputs": [
    {
     "name": "stdout",
     "output_type": "stream",
     "text": [
      "encountered kumar\n",
      "else not executed\n"
     ]
    }
   ],
   "source": [
    "for i in l1:\n",
    "    if i=='kumar':\n",
    "        print('encountered kumar')\n",
    "        continue\n",
    "else:\n",
    "    print('else not executed')"
   ]
  },
  {
   "cell_type": "code",
   "execution_count": 21,
   "id": "4a3d5c0b-0a0b-4314-b708-e07d63c35299",
   "metadata": {},
   "outputs": [
    {
     "data": {
      "text/plain": [
       "range(0, 5)"
      ]
     },
     "execution_count": 21,
     "metadata": {},
     "output_type": "execute_result"
    }
   ],
   "source": [
    "range(5)"
   ]
  },
  {
   "cell_type": "code",
   "execution_count": 22,
   "id": "75dd2561-cb81-463f-a1e9-c882c5885413",
   "metadata": {},
   "outputs": [
    {
     "data": {
      "text/plain": [
       "range(1, 5)"
      ]
     },
     "execution_count": 22,
     "metadata": {},
     "output_type": "execute_result"
    }
   ],
   "source": [
    "range(1,5)"
   ]
  },
  {
   "cell_type": "code",
   "execution_count": 23,
   "id": "2d5b930f-0013-4ddb-b53a-85943fefd453",
   "metadata": {},
   "outputs": [
    {
     "data": {
      "text/plain": [
       "range(5, 2)"
      ]
     },
     "execution_count": 23,
     "metadata": {},
     "output_type": "execute_result"
    }
   ],
   "source": [
    "range(5,2)"
   ]
  },
  {
   "cell_type": "code",
   "execution_count": 24,
   "id": "4b5d790e-3d0f-416c-9ee5-21c325f6992d",
   "metadata": {},
   "outputs": [
    {
     "data": {
      "text/plain": [
       "[0, 1, 2, 3, 4]"
      ]
     },
     "execution_count": 24,
     "metadata": {},
     "output_type": "execute_result"
    }
   ],
   "source": [
    "list(range(5))"
   ]
  },
  {
   "cell_type": "code",
   "execution_count": 25,
   "id": "081e1aae-17b7-4f20-8473-aa25d00f8469",
   "metadata": {},
   "outputs": [
    {
     "data": {
      "text/plain": [
       "[1, 3]"
      ]
     },
     "execution_count": 25,
     "metadata": {},
     "output_type": "execute_result"
    }
   ],
   "source": [
    "list(range(1,5,2))"
   ]
  },
  {
   "cell_type": "code",
   "execution_count": 26,
   "id": "4dd7a4c1-cf1d-412c-8091-ea75e9a409a8",
   "metadata": {},
   "outputs": [
    {
     "data": {
      "text/plain": [
       "[15, 14, 13, 12, 11, 10, 9, 8, 7, 6, 5, 4, 3, 2, 1]"
      ]
     },
     "execution_count": 26,
     "metadata": {},
     "output_type": "execute_result"
    }
   ],
   "source": [
    "list(range(15,0,-1))"
   ]
  },
  {
   "cell_type": "code",
   "execution_count": 29,
   "id": "abe6be25-efac-4abd-8f9c-5f40b56798bc",
   "metadata": {},
   "outputs": [
    {
     "data": {
      "text/plain": [
       "[6, 5, 4, 3, 2, 1, 0]"
      ]
     },
     "execution_count": 29,
     "metadata": {},
     "output_type": "execute_result"
    }
   ],
   "source": [
    "list(range(len(l),-1,-1))"
   ]
  },
  {
   "cell_type": "code",
   "execution_count": 30,
   "id": "835f15b0-dd5c-48c2-874a-245d79f02484",
   "metadata": {},
   "outputs": [
    {
     "data": {
      "text/plain": [
       "['amish', 'kumar', 'singh', 'ashish']"
      ]
     },
     "execution_count": 30,
     "metadata": {},
     "output_type": "execute_result"
    }
   ],
   "source": [
    "l1"
   ]
  },
  {
   "cell_type": "code",
   "execution_count": 34,
   "id": "e4cd72ed-b4ed-4af6-8f24-11f02d96b225",
   "metadata": {},
   "outputs": [],
   "source": [
    "for i in range(len(l1)-1,-1):\n",
    "    print(l1[i])"
   ]
  },
  {
   "cell_type": "code",
   "execution_count": 41,
   "id": "0f8cda37-8150-42a2-a4ca-16215a0ecff5",
   "metadata": {},
   "outputs": [
    {
     "data": {
      "text/plain": [
       "[3, 2, 1, 0]"
      ]
     },
     "execution_count": 41,
     "metadata": {},
     "output_type": "execute_result"
    }
   ],
   "source": [
    "list(range(len(l1)-1,-1,-1))"
   ]
  },
  {
   "cell_type": "code",
   "execution_count": 38,
   "id": "7e0051e3-7208-4b4b-9f92-9e922f40fdd8",
   "metadata": {},
   "outputs": [
    {
     "data": {
      "text/plain": [
       "4"
      ]
     },
     "execution_count": 38,
     "metadata": {},
     "output_type": "execute_result"
    }
   ],
   "source": [
    "len(l1)"
   ]
  },
  {
   "cell_type": "code",
   "execution_count": 39,
   "id": "20e710d6-ef2a-4823-b25c-dd53c0cedbb4",
   "metadata": {},
   "outputs": [
    {
     "data": {
      "text/plain": [
       "3"
      ]
     },
     "execution_count": 39,
     "metadata": {},
     "output_type": "execute_result"
    }
   ],
   "source": [
    "len(l1)-1"
   ]
  },
  {
   "cell_type": "code",
   "execution_count": 40,
   "id": "ff39ec2d-48b2-49a1-a751-32ea111568ae",
   "metadata": {},
   "outputs": [
    {
     "data": {
      "text/plain": [
       "range(3, -1)"
      ]
     },
     "execution_count": 40,
     "metadata": {},
     "output_type": "execute_result"
    }
   ],
   "source": [
    "range(len(l1)-1,-1)"
   ]
  },
  {
   "cell_type": "code",
   "execution_count": 42,
   "id": "7cc5ea86-976c-4787-8d2c-5310ee923a60",
   "metadata": {},
   "outputs": [
    {
     "name": "stdout",
     "output_type": "stream",
     "text": [
      "ashish\n",
      "singh\n",
      "kumar\n",
      "amish\n"
     ]
    }
   ],
   "source": [
    "for i in range(len(l1)-1,-1,-1):\n",
    "    print(l1[i])"
   ]
  },
  {
   "cell_type": "code",
   "execution_count": 43,
   "id": "1a16638d-73aa-4b35-8418-80a4e24d445d",
   "metadata": {},
   "outputs": [],
   "source": [
    "l2=[2,35,44,33,34,34,34,3,3555,33,334,344,34543,33,33]"
   ]
  },
  {
   "cell_type": "code",
   "execution_count": 45,
   "id": "ec489902-38f5-4540-91fc-5ab504544d6c",
   "metadata": {},
   "outputs": [
    {
     "name": "stdout",
     "output_type": "stream",
     "text": [
      "2\n",
      "44\n",
      "34\n",
      "34\n",
      "3555\n",
      "334\n",
      "34543\n",
      "33\n"
     ]
    }
   ],
   "source": [
    "for i in range(0,len(l2),2):\n",
    "    print(l2[i])"
   ]
  },
  {
   "cell_type": "code",
   "execution_count": 46,
   "id": "dd8250ee-552f-4f7f-aac7-2ee159df040e",
   "metadata": {},
   "outputs": [
    {
     "data": {
      "text/plain": [
       "[2, 35, 44, 33, 34, 34, 34, 3, 3555, 33, 334, 344, 34543, 33, 33]"
      ]
     },
     "execution_count": 46,
     "metadata": {},
     "output_type": "execute_result"
    }
   ],
   "source": [
    "l2"
   ]
  },
  {
   "cell_type": "code",
   "execution_count": 48,
   "id": "7647c96c-67fd-4de9-bc11-4d18a52a52ac",
   "metadata": {},
   "outputs": [
    {
     "name": "stdout",
     "output_type": "stream",
     "text": [
      "39094\n"
     ]
    }
   ],
   "source": [
    "sum=0\n",
    "for i in l2:\n",
    "    sum+=i\n",
    "print(sum)"
   ]
  },
  {
   "cell_type": "code",
   "execution_count": 49,
   "id": "3fb1a3f4-32d3-419d-8123-3870605ebc03",
   "metadata": {},
   "outputs": [
    {
     "data": {
      "text/plain": [
       "[2, 3, 4, 5, 6, 7]"
      ]
     },
     "execution_count": 49,
     "metadata": {},
     "output_type": "execute_result"
    }
   ],
   "source": [
    "l\n"
   ]
  },
  {
   "cell_type": "code",
   "execution_count": 50,
   "id": "a2ffd9ed-f48a-4fa1-b29c-8a573b427080",
   "metadata": {},
   "outputs": [
    {
     "name": "stdout",
     "output_type": "stream",
     "text": [
      "27\n"
     ]
    }
   ],
   "source": [
    "sum=0\n",
    "for i in l:\n",
    "    sum+=i\n",
    "print(sum)"
   ]
  },
  {
   "cell_type": "code",
   "execution_count": 51,
   "id": "a1909721-4fcd-4241-bba4-5988edca1d00",
   "metadata": {},
   "outputs": [
    {
     "ename": "TypeError",
     "evalue": "'int' object is not callable",
     "output_type": "error",
     "traceback": [
      "\u001b[0;31m---------------------------------------------------------------------------\u001b[0m",
      "\u001b[0;31mTypeError\u001b[0m                                 Traceback (most recent call last)",
      "Cell \u001b[0;32mIn[51], line 1\u001b[0m\n\u001b[0;32m----> 1\u001b[0m \u001b[38;5;28;43msum\u001b[39;49m\u001b[43m(\u001b[49m\u001b[43ml\u001b[49m\u001b[43m)\u001b[49m\n",
      "\u001b[0;31mTypeError\u001b[0m: 'int' object is not callable"
     ]
    }
   ],
   "source": [
    "sum(l)"
   ]
  },
  {
   "cell_type": "code",
   "execution_count": 52,
   "id": "f58b8c04-e409-444a-a635-11f68775c2d9",
   "metadata": {},
   "outputs": [
    {
     "ename": "TypeError",
     "evalue": "'int' object is not callable",
     "output_type": "error",
     "traceback": [
      "\u001b[0;31m---------------------------------------------------------------------------\u001b[0m",
      "\u001b[0;31mTypeError\u001b[0m                                 Traceback (most recent call last)",
      "Cell \u001b[0;32mIn[52], line 1\u001b[0m\n\u001b[0;32m----> 1\u001b[0m \u001b[38;5;28;43msum\u001b[39;49m\u001b[43m(\u001b[49m\u001b[43ml2\u001b[49m\u001b[43m)\u001b[49m\n",
      "\u001b[0;31mTypeError\u001b[0m: 'int' object is not callable"
     ]
    }
   ],
   "source": [
    "sum(l2)"
   ]
  },
  {
   "cell_type": "code",
   "execution_count": 53,
   "id": "eae7f89b-1a9f-49d5-b74c-c76e86aa3a6a",
   "metadata": {},
   "outputs": [
    {
     "data": {
      "text/plain": [
       "[2, 3, 4, 5, 6, 7]"
      ]
     },
     "execution_count": 53,
     "metadata": {},
     "output_type": "execute_result"
    }
   ],
   "source": [
    "l"
   ]
  },
  {
   "cell_type": "code",
   "execution_count": 54,
   "id": "bc72f40c-39e8-4506-905b-bbf997cc417f",
   "metadata": {},
   "outputs": [],
   "source": [
    "t=(1,2,3,4,5,6)"
   ]
  },
  {
   "cell_type": "code",
   "execution_count": 55,
   "id": "4701ea3f-0134-4ea3-8496-bc096ed24521",
   "metadata": {},
   "outputs": [
    {
     "name": "stdout",
     "output_type": "stream",
     "text": [
      "1\n",
      "2\n",
      "3\n",
      "4\n",
      "5\n",
      "6\n"
     ]
    }
   ],
   "source": [
    "for i in t:\n",
    "    print(i)"
   ]
  },
  {
   "cell_type": "code",
   "execution_count": 56,
   "id": "bfcf6777-577b-43b5-ba71-dc264f4c26e0",
   "metadata": {},
   "outputs": [],
   "source": [
    "s={1,2,3,4,56}"
   ]
  },
  {
   "cell_type": "code",
   "execution_count": 57,
   "id": "fa5d0131-a7fb-4af8-9241-b7725f331e42",
   "metadata": {},
   "outputs": [
    {
     "name": "stdout",
     "output_type": "stream",
     "text": [
      "1\n",
      "2\n",
      "3\n",
      "4\n",
      "56\n"
     ]
    }
   ],
   "source": [
    "for i in s:\n",
    "    print(i)"
   ]
  },
  {
   "cell_type": "code",
   "execution_count": 58,
   "id": "21c46d35-4471-489f-8702-58f48b5d05a0",
   "metadata": {},
   "outputs": [],
   "source": [
    "s1='amish'"
   ]
  },
  {
   "cell_type": "code",
   "execution_count": 59,
   "id": "8f4f9d45-f8f7-4b55-849b-d1946a127601",
   "metadata": {},
   "outputs": [
    {
     "name": "stdout",
     "output_type": "stream",
     "text": [
      "a\n",
      "m\n",
      "i\n",
      "s\n",
      "h\n"
     ]
    }
   ],
   "source": [
    "for i in s1:\n",
    "    print(i)"
   ]
  },
  {
   "cell_type": "code",
   "execution_count": 60,
   "id": "d64bb414-9c56-42de-ae06-aa91324936ca",
   "metadata": {},
   "outputs": [],
   "source": [
    "d={'name':'amish','email':'amishsingh','topic':['python','ml','nlp','dl','cv']}"
   ]
  },
  {
   "cell_type": "code",
   "execution_count": 61,
   "id": "fdd9bd32-6b60-40c8-a1ce-c4007639126b",
   "metadata": {},
   "outputs": [
    {
     "data": {
      "text/plain": [
       "{'name': 'amish',\n",
       " 'email': 'amishsingh',\n",
       " 'topic': ['python', 'ml', 'nlp', 'dl', 'cv']}"
      ]
     },
     "execution_count": 61,
     "metadata": {},
     "output_type": "execute_result"
    }
   ],
   "source": [
    "d"
   ]
  },
  {
   "cell_type": "code",
   "execution_count": 62,
   "id": "1beb0a09-021d-4b34-b0a2-f1b843e478f5",
   "metadata": {},
   "outputs": [
    {
     "data": {
      "text/plain": [
       "dict_keys(['name', 'email', 'topic'])"
      ]
     },
     "execution_count": 62,
     "metadata": {},
     "output_type": "execute_result"
    }
   ],
   "source": [
    "d.keys()"
   ]
  },
  {
   "cell_type": "code",
   "execution_count": 63,
   "id": "31a7ed9e-a5af-4471-9cce-7a2a5588cc9a",
   "metadata": {},
   "outputs": [
    {
     "name": "stdout",
     "output_type": "stream",
     "text": [
      "amish\n",
      "amishsingh\n",
      "['python', 'ml', 'nlp', 'dl', 'cv']\n"
     ]
    }
   ],
   "source": [
    "for key in d.keys():\n",
    "    print(d[key])"
   ]
  },
  {
   "cell_type": "code",
   "execution_count": 64,
   "id": "321b3888-2017-4af0-a493-24c43d5c79d3",
   "metadata": {},
   "outputs": [
    {
     "name": "stdout",
     "output_type": "stream",
     "text": [
      "amish\n",
      "amishsingh\n",
      "['python', 'ml', 'nlp', 'dl', 'cv']\n"
     ]
    }
   ],
   "source": [
    "for value in d.values():\n",
    "    print(value)"
   ]
  },
  {
   "cell_type": "code",
   "execution_count": 65,
   "id": "b57c81d9-a5cb-4e04-97cc-51004f8e54b1",
   "metadata": {},
   "outputs": [
    {
     "name": "stdout",
     "output_type": "stream",
     "text": [
      "name   amish\n",
      "email   amishsingh\n",
      "topic   ['python', 'ml', 'nlp', 'dl', 'cv']\n"
     ]
    }
   ],
   "source": [
    "for i in d.items():\n",
    "    print(i[0],\" \",i[1])"
   ]
  },
  {
   "cell_type": "code",
   "execution_count": null,
   "id": "f8bded06-fd37-43d0-a30d-a3f442724d83",
   "metadata": {},
   "outputs": [],
   "source": [
    "a=1\n",
    "\n",
    "while a<=10:\n",
    "    print(a)\n",
    "    a=a+1"
   ]
  },
  {
   "cell_type": "code",
   "execution_count": 1,
   "id": "22143db2-c95c-4054-b007-7fb15f37d796",
   "metadata": {},
   "outputs": [
    {
     "name": "stdout",
     "output_type": "stream",
     "text": [
      "1\n",
      "2\n",
      "3\n",
      "4\n",
      "5\n",
      "6\n",
      "7\n",
      "8\n",
      "9\n",
      "10\n"
     ]
    }
   ],
   "source": [
    "a=1\n",
    "\n",
    "while a<=10:\n",
    "    print(a)\n",
    "    a=a+1"
   ]
  },
  {
   "cell_type": "code",
   "execution_count": 2,
   "id": "713cfb31-0eaa-4a2a-9df3-0bcca7bdd36a",
   "metadata": {},
   "outputs": [
    {
     "name": "stdout",
     "output_type": "stream",
     "text": [
      "hello world\n"
     ]
    }
   ],
   "source": [
    "print('hello world')"
   ]
  },
  {
   "cell_type": "code",
   "execution_count": 3,
   "id": "1d9da1bd-e1c9-483d-8fb3-0b962e2d0b40",
   "metadata": {},
   "outputs": [
    {
     "ename": "NameError",
     "evalue": "name 'l' is not defined",
     "output_type": "error",
     "traceback": [
      "\u001b[0;31m---------------------------------------------------------------------------\u001b[0m",
      "\u001b[0;31mNameError\u001b[0m                                 Traceback (most recent call last)",
      "Cell \u001b[0;32mIn[3], line 1\u001b[0m\n\u001b[0;32m----> 1\u001b[0m \u001b[43ml\u001b[49m\n",
      "\u001b[0;31mNameError\u001b[0m: name 'l' is not defined"
     ]
    }
   ],
   "source": [
    "l"
   ]
  },
  {
   "cell_type": "code",
   "execution_count": 3,
   "id": "8ac03f93-c4ef-4e08-9f5b-d4f74bffcbf6",
   "metadata": {},
   "outputs": [],
   "source": [
    "l=[1,2,3,4,5,6]"
   ]
  },
  {
   "cell_type": "code",
   "execution_count": 6,
   "id": "d7e22761-9449-4e28-96b7-003739b9b916",
   "metadata": {},
   "outputs": [
    {
     "name": "stdout",
     "output_type": "stream",
     "text": [
      "1\n",
      "2\n",
      "3\n",
      "4\n",
      "5\n",
      "6\n"
     ]
    }
   ],
   "source": [
    "i=0\n",
    "\n",
    "while i<len(l):\n",
    "    print(l[i])\n",
    "    i+=1"
   ]
  },
  {
   "cell_type": "code",
   "execution_count": 10,
   "id": "3dc2f6b8-4870-4d7c-9605-adf49f970b39",
   "metadata": {},
   "outputs": [
    {
     "name": "stdin",
     "output_type": "stream",
     "text": [
      "enter the value 5\n"
     ]
    },
    {
     "name": "stdout",
     "output_type": "stream",
     "text": [
      "value of sum is 15\n"
     ]
    }
   ],
   "source": [
    "sumPoint=int(input('enter the value'))\n",
    "\n",
    "sum=0\n",
    "i=0\n",
    "while i<=sumPoint:\n",
    "    sum+=i\n",
    "    i+=1\n",
    "    \n",
    "print(f'value of sum is {sum}')"
   ]
  },
  {
   "cell_type": "code",
   "execution_count": 13,
   "id": "eb0b0e3f-e0d8-4fb2-a68c-63c84fa86428",
   "metadata": {},
   "outputs": [
    {
     "name": "stdin",
     "output_type": "stream",
     "text": [
      "enter the value 15\n"
     ]
    },
    {
     "name": "stdout",
     "output_type": "stream",
     "text": [
      "Factorial of 15 is 1307674368000\n"
     ]
    }
   ],
   "source": [
    "num=int(input('enter the value'))\n",
    "i=1\n",
    "fact=1\n",
    "\n",
    "while i<=num:\n",
    "    fact=fact*i\n",
    "    i+=1\n",
    "    \n",
    "print(f'Factorial of {num} is {fact}')"
   ]
  },
  {
   "cell_type": "code",
   "execution_count": 21,
   "id": "c6d9fa1f-c76e-47a2-8a3a-cbc403b68558",
   "metadata": {},
   "outputs": [
    {
     "name": "stdin",
     "output_type": "stream",
     "text": [
      "Enter the term 5\n"
     ]
    },
    {
     "name": "stdout",
     "output_type": "stream",
     "text": [
      "0 1 1 2 3 "
     ]
    }
   ],
   "source": [
    "first=0\n",
    "second=1\n",
    "third=0\n",
    "term=int(input('Enter the term'))\n",
    "\n",
    "i=1\n",
    "\n",
    "while i<=term:\n",
    "    print(first,end=' ')\n",
    "    third=first+second\n",
    "    first=second\n",
    "    second=third\n",
    "    i+=1"
   ]
  },
  {
   "cell_type": "code",
   "execution_count": 3,
   "id": "1413be55-8f3a-405b-ac45-883584664ec4",
   "metadata": {},
   "outputs": [
    {
     "name": "stdin",
     "output_type": "stream",
     "text": [
      "enter your string amish kumar singh\n"
     ]
    },
    {
     "name": "stdout",
     "output_type": "stream",
     "text": [
      "hgnis ramuk hsima"
     ]
    }
   ],
   "source": [
    "s=input('enter your string')\n",
    "i=len(s)-1\n",
    "\n",
    "while i>=0:\n",
    "    print(s[i],end='')\n",
    "    i-=1"
   ]
  },
  {
   "cell_type": "code",
   "execution_count": 2,
   "id": "32062853-c237-4fba-9d2b-328e3fdade01",
   "metadata": {},
   "outputs": [
    {
     "name": "stdin",
     "output_type": "stream",
     "text": [
      "enter the number 5\n"
     ]
    },
    {
     "name": "stdout",
     "output_type": "stream",
     "text": [
      "5 * 1 = 5\n",
      "5 * 2 = 10\n",
      "5 * 3 = 15\n",
      "5 * 4 = 20\n",
      "5 * 5 = 25\n",
      "5 * 6 = 30\n",
      "5 * 7 = 35\n",
      "5 * 8 = 40\n",
      "5 * 9 = 45\n",
      "5 * 10 = 50\n"
     ]
    }
   ],
   "source": [
    "num=int(input('enter the number'))\n",
    "\n",
    "i=1\n",
    "\n",
    "while i<=10:\n",
    "    print(f'{num} * {i} = {num*i}')\n",
    "    i+=1"
   ]
  },
  {
   "cell_type": "code",
   "execution_count": null,
   "id": "c1ab3e96-3d9a-48a3-adee-d14792dc3071",
   "metadata": {},
   "outputs": [],
   "source": []
  }
 ],
 "metadata": {
  "kernelspec": {
   "display_name": "Python 3 (ipykernel)",
   "language": "python",
   "name": "python3"
  },
  "language_info": {
   "codemirror_mode": {
    "name": "ipython",
    "version": 3
   },
   "file_extension": ".py",
   "mimetype": "text/x-python",
   "name": "python",
   "nbconvert_exporter": "python",
   "pygments_lexer": "ipython3",
   "version": "3.10.8"
  }
 },
 "nbformat": 4,
 "nbformat_minor": 5
}
